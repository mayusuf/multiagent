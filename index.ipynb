{
 "cells": [
  {
   "cell_type": "markdown",
   "id": "389ea68a-898e-42b5-8daa-5768e9b236b1",
   "metadata": {},
   "source": [
    "The reception is approaching! With your help, Alfred is now nearly finished with the preparations.\n",
    "\n",
    "But now there's a problem: the Batmobile has disappeared. Alfred needs to find a replacement, and find it quickly.\n",
    "\n",
    "Fortunately, a few biopics have been done on Bruce Wayne's life, so maybe Alfred could get a car left behind on one of the movie set, and re-engineer it up to modern standards, which certainly would include a full self-driving option.\n",
    "\n",
    "But this could be anywhere in the filming locations around the world - which could be numerous.\n",
    "\n",
    "So Alfred wants your help. Could you build an agent able to solve this task?\n",
    "\n",
    "> 👉 Find all Batman filming locations in the world, calculate the time to transfer via boat to there, and represent them on a map, with a color varying by boat transfer time. Also represent some supercar factories with the same boat transfer time.\n",
    "\n",
    "Let's build this!"
   ]
  },
  {
   "cell_type": "code",
   "execution_count": 9,
   "id": "8385c7ba-9612-4d32-a1d3-8fd03dc88754",
   "metadata": {},
   "outputs": [
    {
     "name": "stdout",
     "output_type": "stream",
     "text": [
      "Requirement already satisfied: python-dotenv in /opt/anaconda3/envs/myagent/lib/python3.12/site-packages (1.0.1)\n"
     ]
    }
   ],
   "source": [
    "# !pip install 'smolagents[litellm]' matplotlib geopandas shapely kaleido -q\n",
    "# !pip install python-dotenv"
   ]
  },
  {
   "cell_type": "code",
   "execution_count": 80,
   "id": "2e088463-8450-436d-b04a-fe5c65300ef1",
   "metadata": {},
   "outputs": [
    {
     "data": {
      "application/vnd.jupyter.widget-view+json": {
       "model_id": "96f90c0aad2745c691a5d3406c229c70",
       "version_major": 2,
       "version_minor": 0
      },
      "text/plain": [
       "VBox(children=(HTML(value='<center> <img\\nsrc=https://huggingface.co/front/assets/huggingface_logo-noborder.sv…"
      ]
     },
     "metadata": {},
     "output_type": "display_data"
    }
   ],
   "source": [
    "from huggingface_hub import notebook_login\n",
    "notebook_login()"
   ]
  },
  {
   "cell_type": "code",
   "execution_count": 81,
   "id": "485170f2-047d-4908-b673-faa19715f26a",
   "metadata": {},
   "outputs": [
    {
     "data": {
      "text/plain": [
       "True"
      ]
     },
     "execution_count": 81,
     "metadata": {},
     "output_type": "execute_result"
    }
   ],
   "source": [
    "import os\n",
    "from dotenv import load_dotenv\n",
    "load_dotenv()"
   ]
  },
  {
   "cell_type": "code",
   "execution_count": 82,
   "id": "4b986de4-82c2-47b1-9160-481e50807d78",
   "metadata": {},
   "outputs": [
    {
     "name": "stdout",
     "output_type": "stream",
     "text": [
      "22.82\n"
     ]
    }
   ],
   "source": [
    "# We first make a tool to get the cargo plane transfer time.\n",
    "import math\n",
    "from typing import Optional, Tuple\n",
    "from smolagents import tool\n",
    "\n",
    "\n",
    "@tool\n",
    "def calculate_cargo_travel_time(\n",
    "    origin_coords: Tuple[float, float],\n",
    "    destination_coords: Tuple[float, float],\n",
    "    cruising_speed_kmh: Optional[float] = 750.0,  # Average speed for cargo planes\n",
    ") -> float:\n",
    "    \"\"\"\n",
    "    Calculate the travel time for a cargo plane between two points on Earth using great-circle distance.\n",
    "\n",
    "    Args:\n",
    "        origin_coords: Tuple of (latitude, longitude) for the starting point\n",
    "        destination_coords: Tuple of (latitude, longitude) for the destination\n",
    "        cruising_speed_kmh: Optional cruising speed in km/h (defaults to 750 km/h for typical cargo planes)\n",
    "\n",
    "    Returns:\n",
    "        float: The estimated travel time in hours\n",
    "\n",
    "    Example:\n",
    "        >>> # Chicago (41.8781° N, 87.6298° W) to Sydney (33.8688° S, 151.2093° E)\n",
    "        >>> result = calculate_cargo_travel_time((41.8781, -87.6298), (-33.8688, 151.2093))\n",
    "    \"\"\"\n",
    "\n",
    "    def to_radians(degrees: float) -> float:\n",
    "        return degrees * (math.pi / 180)\n",
    "\n",
    "    # Extract coordinates\n",
    "    lat1, lon1 = map(to_radians, origin_coords)\n",
    "    lat2, lon2 = map(to_radians, destination_coords)\n",
    "\n",
    "    # Earth's radius in kilometers\n",
    "    EARTH_RADIUS_KM = 6371.0\n",
    "\n",
    "    # Calculate great-circle distance using the haversine formula\n",
    "    dlon = lon2 - lon1\n",
    "    dlat = lat2 - lat1\n",
    "\n",
    "    a = (\n",
    "        math.sin(dlat / 2) ** 2\n",
    "        + math.cos(lat1) * math.cos(lat2) * math.sin(dlon / 2) ** 2\n",
    "    )\n",
    "    c = 2 * math.asin(math.sqrt(a))\n",
    "    distance = EARTH_RADIUS_KM * c\n",
    "\n",
    "    # Add 10% to account for non-direct routes and air traffic controls\n",
    "    actual_distance = distance * 1.1\n",
    "\n",
    "    # Calculate flight time\n",
    "    # Add 1 hour for takeoff and landing procedures\n",
    "    flight_time = (actual_distance / cruising_speed_kmh) + 1.0\n",
    "\n",
    "    # Format the results\n",
    "    return round(flight_time, 2)\n",
    "\n",
    "\n",
    "print(calculate_cargo_travel_time((41.8781, -87.6298), (-33.8688, 151.2093)))"
   ]
  },
  {
   "cell_type": "markdown",
   "id": "1060d070-9c31-4b4e-aa43-fef26a07d8ce",
   "metadata": {},
   "source": [
    "For the model provider, we use Together AI, one of the new [inference providers on the Hub](https://huggingface.co/blog/inference-providers)!\n",
    "\n",
    "Regarding the GoogleSearchTool: this requires either having setup env variable `SERPAPI_API_KEY` and passing `provider=\"serpapi\"` or having `SERPER_API_KEY` and passing `provider=serper`.\n",
    "\n",
    "If you don't have any Serp API provider setup, you can use `DuckDuckGoSearchTool` but beware that it has a rate limit."
   ]
  },
  {
   "cell_type": "code",
   "execution_count": 83,
   "id": "aaaadc15-28ae-4795-84ec-6d62549cc6db",
   "metadata": {},
   "outputs": [],
   "source": [
    "from PIL import Image\n",
    "from smolagents import CodeAgent, GoogleSearchTool, HfApiModel, VisitWebpageTool\n",
    "\n",
    "model = HfApiModel(model_id=\"Qwen/Qwen2.5-Coder-32B-Instruct\", provider=\"together\")"
   ]
  },
  {
   "cell_type": "markdown",
   "id": "98883e35-ad73-4a98-b6b9-a8652792ff0d",
   "metadata": {},
   "source": [
    "We can start with creating a baseline, simple agent to give us a simple report."
   ]
  },
  {
   "cell_type": "code",
   "execution_count": 84,
   "id": "fc40fff1-b65a-461c-b25b-94a5feca1469",
   "metadata": {},
   "outputs": [],
   "source": [
    "task = \"\"\"Find all Batman filming locations in the world, calculate the time to transfer via cargo plane to here (we're in Gotham, 40.7128° N, 74.0060° W), and return them to me as a pandas dataframe.\n",
    "Also give me some supercar factories with the same cargo plane transfer time.\"\"\""
   ]
  },
  {
   "cell_type": "code",
   "execution_count": 85,
   "id": "0e265712-72eb-48a1-8369-7bf31540a9e0",
   "metadata": {},
   "outputs": [],
   "source": [
    "os.environ[\"SERPER_API_KEY\"] = os.getenv(\"SERPAPI_API_KEY\")"
   ]
  },
  {
   "cell_type": "code",
   "execution_count": 86,
   "id": "39f36ece-f200-483e-a4c0-fbf6278dda32",
   "metadata": {},
   "outputs": [],
   "source": [
    "agent = CodeAgent(\n",
    "    model=model,\n",
    "    tools=[GoogleSearchTool(), VisitWebpageTool(), calculate_cargo_travel_time],\n",
    "    additional_authorized_imports=[\"pandas\"],\n",
    "    max_steps=20,\n",
    ")"
   ]
  },
  {
   "cell_type": "code",
   "execution_count": 88,
   "id": "2865accf-d915-4c4d-ba42-18f6757ba177",
   "metadata": {},
   "outputs": [
    {
     "data": {
      "text/html": [
       "<pre style=\"white-space:pre;overflow-x:auto;line-height:normal;font-family:Menlo,'DejaVu Sans Mono',consolas,'Courier New',monospace\"><span style=\"color: #d4b702; text-decoration-color: #d4b702\">╭──────────────────────────────────────────────────── </span><span style=\"color: #d4b702; text-decoration-color: #d4b702; font-weight: bold\">New run</span><span style=\"color: #d4b702; text-decoration-color: #d4b702\"> ────────────────────────────────────────────────────╮</span>\n",
       "<span style=\"color: #d4b702; text-decoration-color: #d4b702\">│</span>                                                                                                                 <span style=\"color: #d4b702; text-decoration-color: #d4b702\">│</span>\n",
       "<span style=\"color: #d4b702; text-decoration-color: #d4b702\">│</span> <span style=\"font-weight: bold\">Find Batman filming locations worldwide aand return them to me as a pandas dataframe</span>                            <span style=\"color: #d4b702; text-decoration-color: #d4b702\">│</span>\n",
       "<span style=\"color: #d4b702; text-decoration-color: #d4b702\">│</span>                                                                                                                 <span style=\"color: #d4b702; text-decoration-color: #d4b702\">│</span>\n",
       "<span style=\"color: #d4b702; text-decoration-color: #d4b702\">╰─ HfApiModel - Qwen/Qwen2.5-Coder-32B-Instruct ──────────────────────────────────────────────────────────────────╯</span>\n",
       "</pre>\n"
      ],
      "text/plain": [
       "\u001b[38;2;212;183;2m╭─\u001b[0m\u001b[38;2;212;183;2m───────────────────────────────────────────────────\u001b[0m\u001b[38;2;212;183;2m \u001b[0m\u001b[1;38;2;212;183;2mNew run\u001b[0m\u001b[38;2;212;183;2m \u001b[0m\u001b[38;2;212;183;2m───────────────────────────────────────────────────\u001b[0m\u001b[38;2;212;183;2m─╮\u001b[0m\n",
       "\u001b[38;2;212;183;2m│\u001b[0m                                                                                                                 \u001b[38;2;212;183;2m│\u001b[0m\n",
       "\u001b[38;2;212;183;2m│\u001b[0m \u001b[1mFind Batman filming locations worldwide aand return them to me as a pandas dataframe\u001b[0m                            \u001b[38;2;212;183;2m│\u001b[0m\n",
       "\u001b[38;2;212;183;2m│\u001b[0m                                                                                                                 \u001b[38;2;212;183;2m│\u001b[0m\n",
       "\u001b[38;2;212;183;2m╰─\u001b[0m\u001b[38;2;212;183;2m HfApiModel - Qwen/Qwen2.5-Coder-32B-Instruct \u001b[0m\u001b[38;2;212;183;2m─────────────────────────────────────────────────────────────────\u001b[0m\u001b[38;2;212;183;2m─╯\u001b[0m\n"
      ]
     },
     "metadata": {},
     "output_type": "display_data"
    },
    {
     "data": {
      "text/html": [
       "<pre style=\"white-space:pre;overflow-x:auto;line-height:normal;font-family:Menlo,'DejaVu Sans Mono',consolas,'Courier New',monospace\"><span style=\"color: #d4b702; text-decoration-color: #d4b702\">━━━━━━━━━━━━━━━━━━━━━━━━━━━━━━━━━━━━━━━━━━━━━━━━━━━━━ </span><span style=\"font-weight: bold\">Step </span><span style=\"color: #008080; text-decoration-color: #008080; font-weight: bold\">1</span><span style=\"color: #d4b702; text-decoration-color: #d4b702\"> ━━━━━━━━━━━━━━━━━━━━━━━━━━━━━━━━━━━━━━━━━━━━━━━━━━━━━━</span>\n",
       "</pre>\n"
      ],
      "text/plain": [
       "\u001b[38;2;212;183;2m━━━━━━━━━━━━━━━━━━━━━━━━━━━━━━━━━━━━━━━━━━━━━━━━━━━━━ \u001b[0m\u001b[1mStep \u001b[0m\u001b[1;36m1\u001b[0m\u001b[38;2;212;183;2m ━━━━━━━━━━━━━━━━━━━━━━━━━━━━━━━━━━━━━━━━━━━━━━━━━━━━━━\u001b[0m\n"
      ]
     },
     "metadata": {},
     "output_type": "display_data"
    },
    {
     "data": {
      "text/html": [
       "<pre style=\"white-space:pre;overflow-x:auto;line-height:normal;font-family:Menlo,'DejaVu Sans Mono',consolas,'Courier New',monospace\"><span style=\"color: #800000; text-decoration-color: #800000; font-weight: bold\">Error in generating model output:</span>\n",
       "<span style=\"color: #008080; text-decoration-color: #008080; font-weight: bold\">402</span><span style=\"color: #800000; text-decoration-color: #800000; font-weight: bold\"> Client Error: Payment Required for url: </span><span style=\"color: #0000ff; text-decoration-color: #0000ff; text-decoration: underline\">https://router.huggingface.co/together/v1/chat/completions</span><span style=\"color: #800000; text-decoration-color: #800000; font-weight: bold\"> (Request ID:</span>\n",
       "<span style=\"color: #808000; text-decoration-color: #808000; font-weight: bold\">Root</span><span style=\"color: #800000; text-decoration-color: #800000; font-weight: bold\">=</span><span style=\"color: #008080; text-decoration-color: #008080; font-weight: bold\">1</span><span style=\"color: #800000; text-decoration-color: #800000; font-weight: bold\">-67d0677c-079f8d2e15d5cf714003d92a;</span><span style=\"color: #ffff00; text-decoration-color: #ffff00\">ed3e60f0-4191-4ec5-b90a-8b0723d9ba4e</span><span style=\"color: #800000; text-decoration-color: #800000; font-weight: bold\">)</span>\n",
       "\n",
       "<span style=\"color: #800000; text-decoration-color: #800000; font-weight: bold\">You have exceeded your monthly included credits for Inference Providers.</span>\n",
       "</pre>\n"
      ],
      "text/plain": [
       "\u001b[1;31mError in generating model output:\u001b[0m\n",
       "\u001b[1;36m402\u001b[0m\u001b[1;31m Client Error: Payment Required for url: \u001b[0m\u001b[4;94mhttps://router.huggingface.co/together/v1/chat/completions\u001b[0m\u001b[1;31m \u001b[0m\u001b[1;31m(\u001b[0m\u001b[1;31mRequest ID:\u001b[0m\n",
       "\u001b[1;33mRoot\u001b[0m\u001b[1;31m=\u001b[0m\u001b[1;36m1\u001b[0m\u001b[1;31m-67d0677c-079f8d2e15d5cf714003d92a;\u001b[0m\u001b[93med3e60f0-4191-4ec5-b90a-8b0723d9ba4e\u001b[0m\u001b[1;31m)\u001b[0m\n",
       "\n",
       "\u001b[1;31mYou have exceeded your monthly included credits for Inference Providers.\u001b[0m\n"
      ]
     },
     "metadata": {},
     "output_type": "display_data"
    },
    {
     "data": {
      "text/html": [
       "<pre style=\"white-space:pre;overflow-x:auto;line-height:normal;font-family:Menlo,'DejaVu Sans Mono',consolas,'Courier New',monospace\"><span style=\"color: #7f7f7f; text-decoration-color: #7f7f7f\">[Step 1: Duration 0.30 seconds]</span>\n",
       "</pre>\n"
      ],
      "text/plain": [
       "\u001b[2m[Step 1: Duration 0.30 seconds]\u001b[0m\n"
      ]
     },
     "metadata": {},
     "output_type": "display_data"
    },
    {
     "data": {
      "text/html": [
       "<pre style=\"white-space:pre;overflow-x:auto;line-height:normal;font-family:Menlo,'DejaVu Sans Mono',consolas,'Courier New',monospace\"><span style=\"color: #d4b702; text-decoration-color: #d4b702\">━━━━━━━━━━━━━━━━━━━━━━━━━━━━━━━━━━━━━━━━━━━━━━━━━━━━━ </span><span style=\"font-weight: bold\">Step </span><span style=\"color: #008080; text-decoration-color: #008080; font-weight: bold\">2</span><span style=\"color: #d4b702; text-decoration-color: #d4b702\"> ━━━━━━━━━━━━━━━━━━━━━━━━━━━━━━━━━━━━━━━━━━━━━━━━━━━━━━</span>\n",
       "</pre>\n"
      ],
      "text/plain": [
       "\u001b[38;2;212;183;2m━━━━━━━━━━━━━━━━━━━━━━━━━━━━━━━━━━━━━━━━━━━━━━━━━━━━━ \u001b[0m\u001b[1mStep \u001b[0m\u001b[1;36m2\u001b[0m\u001b[38;2;212;183;2m ━━━━━━━━━━━━━━━━━━━━━━━━━━━━━━━━━━━━━━━━━━━━━━━━━━━━━━\u001b[0m\n"
      ]
     },
     "metadata": {},
     "output_type": "display_data"
    },
    {
     "data": {
      "text/html": [
       "<pre style=\"white-space:pre;overflow-x:auto;line-height:normal;font-family:Menlo,'DejaVu Sans Mono',consolas,'Courier New',monospace\"><span style=\"color: #800000; text-decoration-color: #800000; font-weight: bold\">Error in generating model output:</span>\n",
       "<span style=\"color: #008080; text-decoration-color: #008080; font-weight: bold\">402</span><span style=\"color: #800000; text-decoration-color: #800000; font-weight: bold\"> Client Error: Payment Required for url: </span><span style=\"color: #0000ff; text-decoration-color: #0000ff; text-decoration: underline\">https://router.huggingface.co/together/v1/chat/completions</span><span style=\"color: #800000; text-decoration-color: #800000; font-weight: bold\"> (Request ID:</span>\n",
       "<span style=\"color: #808000; text-decoration-color: #808000; font-weight: bold\">Root</span><span style=\"color: #800000; text-decoration-color: #800000; font-weight: bold\">=</span><span style=\"color: #008080; text-decoration-color: #008080; font-weight: bold\">1</span><span style=\"color: #800000; text-decoration-color: #800000; font-weight: bold\">-67d0677c-2cacd9fd2dc0f3cb0aee335e;</span><span style=\"color: #ffff00; text-decoration-color: #ffff00\">c12bc062-ca2d-476b-a846-b6fda48e5b73</span><span style=\"color: #800000; text-decoration-color: #800000; font-weight: bold\">)</span>\n",
       "\n",
       "<span style=\"color: #800000; text-decoration-color: #800000; font-weight: bold\">You have exceeded your monthly included credits for Inference Providers.</span>\n",
       "</pre>\n"
      ],
      "text/plain": [
       "\u001b[1;31mError in generating model output:\u001b[0m\n",
       "\u001b[1;36m402\u001b[0m\u001b[1;31m Client Error: Payment Required for url: \u001b[0m\u001b[4;94mhttps://router.huggingface.co/together/v1/chat/completions\u001b[0m\u001b[1;31m \u001b[0m\u001b[1;31m(\u001b[0m\u001b[1;31mRequest ID:\u001b[0m\n",
       "\u001b[1;33mRoot\u001b[0m\u001b[1;31m=\u001b[0m\u001b[1;36m1\u001b[0m\u001b[1;31m-67d0677c-2cacd9fd2dc0f3cb0aee335e;\u001b[0m\u001b[93mc12bc062-ca2d-476b-a846-b6fda48e5b73\u001b[0m\u001b[1;31m)\u001b[0m\n",
       "\n",
       "\u001b[1;31mYou have exceeded your monthly included credits for Inference Providers.\u001b[0m\n"
      ]
     },
     "metadata": {},
     "output_type": "display_data"
    },
    {
     "data": {
      "text/html": [
       "<pre style=\"white-space:pre;overflow-x:auto;line-height:normal;font-family:Menlo,'DejaVu Sans Mono',consolas,'Courier New',monospace\"><span style=\"color: #7f7f7f; text-decoration-color: #7f7f7f\">[Step 2: Duration 0.10 seconds]</span>\n",
       "</pre>\n"
      ],
      "text/plain": [
       "\u001b[2m[Step 2: Duration 0.10 seconds]\u001b[0m\n"
      ]
     },
     "metadata": {},
     "output_type": "display_data"
    },
    {
     "data": {
      "text/html": [
       "<pre style=\"white-space:pre;overflow-x:auto;line-height:normal;font-family:Menlo,'DejaVu Sans Mono',consolas,'Courier New',monospace\"><span style=\"color: #d4b702; text-decoration-color: #d4b702\">━━━━━━━━━━━━━━━━━━━━━━━━━━━━━━━━━━━━━━━━━━━━━━━━━━━━━ </span><span style=\"font-weight: bold\">Step </span><span style=\"color: #008080; text-decoration-color: #008080; font-weight: bold\">3</span><span style=\"color: #d4b702; text-decoration-color: #d4b702\"> ━━━━━━━━━━━━━━━━━━━━━━━━━━━━━━━━━━━━━━━━━━━━━━━━━━━━━━</span>\n",
       "</pre>\n"
      ],
      "text/plain": [
       "\u001b[38;2;212;183;2m━━━━━━━━━━━━━━━━━━━━━━━━━━━━━━━━━━━━━━━━━━━━━━━━━━━━━ \u001b[0m\u001b[1mStep \u001b[0m\u001b[1;36m3\u001b[0m\u001b[38;2;212;183;2m ━━━━━━━━━━━━━━━━━━━━━━━━━━━━━━━━━━━━━━━━━━━━━━━━━━━━━━\u001b[0m\n"
      ]
     },
     "metadata": {},
     "output_type": "display_data"
    },
    {
     "data": {
      "text/html": [
       "<pre style=\"white-space:pre;overflow-x:auto;line-height:normal;font-family:Menlo,'DejaVu Sans Mono',consolas,'Courier New',monospace\"><span style=\"color: #800000; text-decoration-color: #800000; font-weight: bold\">Error in generating model output:</span>\n",
       "<span style=\"color: #008080; text-decoration-color: #008080; font-weight: bold\">402</span><span style=\"color: #800000; text-decoration-color: #800000; font-weight: bold\"> Client Error: Payment Required for url: </span><span style=\"color: #0000ff; text-decoration-color: #0000ff; text-decoration: underline\">https://router.huggingface.co/together/v1/chat/completions</span><span style=\"color: #800000; text-decoration-color: #800000; font-weight: bold\"> (Request ID:</span>\n",
       "<span style=\"color: #808000; text-decoration-color: #808000; font-weight: bold\">Root</span><span style=\"color: #800000; text-decoration-color: #800000; font-weight: bold\">=</span><span style=\"color: #008080; text-decoration-color: #008080; font-weight: bold\">1</span><span style=\"color: #800000; text-decoration-color: #800000; font-weight: bold\">-67d0677c-18021fee2becb7397db31048;</span><span style=\"color: #ffff00; text-decoration-color: #ffff00\">de427e87-dcc8-4443-9630-0517386cf394</span><span style=\"color: #800000; text-decoration-color: #800000; font-weight: bold\">)</span>\n",
       "\n",
       "<span style=\"color: #800000; text-decoration-color: #800000; font-weight: bold\">You have exceeded your monthly included credits for Inference Providers.</span>\n",
       "</pre>\n"
      ],
      "text/plain": [
       "\u001b[1;31mError in generating model output:\u001b[0m\n",
       "\u001b[1;36m402\u001b[0m\u001b[1;31m Client Error: Payment Required for url: \u001b[0m\u001b[4;94mhttps://router.huggingface.co/together/v1/chat/completions\u001b[0m\u001b[1;31m \u001b[0m\u001b[1;31m(\u001b[0m\u001b[1;31mRequest ID:\u001b[0m\n",
       "\u001b[1;33mRoot\u001b[0m\u001b[1;31m=\u001b[0m\u001b[1;36m1\u001b[0m\u001b[1;31m-67d0677c-18021fee2becb7397db31048;\u001b[0m\u001b[93mde427e87-dcc8-4443-9630-0517386cf394\u001b[0m\u001b[1;31m)\u001b[0m\n",
       "\n",
       "\u001b[1;31mYou have exceeded your monthly included credits for Inference Providers.\u001b[0m\n"
      ]
     },
     "metadata": {},
     "output_type": "display_data"
    },
    {
     "data": {
      "text/html": [
       "<pre style=\"white-space:pre;overflow-x:auto;line-height:normal;font-family:Menlo,'DejaVu Sans Mono',consolas,'Courier New',monospace\"><span style=\"color: #7f7f7f; text-decoration-color: #7f7f7f\">[Step 3: Duration 0.10 seconds]</span>\n",
       "</pre>\n"
      ],
      "text/plain": [
       "\u001b[2m[Step 3: Duration 0.10 seconds]\u001b[0m\n"
      ]
     },
     "metadata": {},
     "output_type": "display_data"
    },
    {
     "data": {
      "text/html": [
       "<pre style=\"white-space:pre;overflow-x:auto;line-height:normal;font-family:Menlo,'DejaVu Sans Mono',consolas,'Courier New',monospace\"><span style=\"color: #d4b702; text-decoration-color: #d4b702\">━━━━━━━━━━━━━━━━━━━━━━━━━━━━━━━━━━━━━━━━━━━━━━━━━━━━━ </span><span style=\"font-weight: bold\">Step </span><span style=\"color: #008080; text-decoration-color: #008080; font-weight: bold\">4</span><span style=\"color: #d4b702; text-decoration-color: #d4b702\"> ━━━━━━━━━━━━━━━━━━━━━━━━━━━━━━━━━━━━━━━━━━━━━━━━━━━━━━</span>\n",
       "</pre>\n"
      ],
      "text/plain": [
       "\u001b[38;2;212;183;2m━━━━━━━━━━━━━━━━━━━━━━━━━━━━━━━━━━━━━━━━━━━━━━━━━━━━━ \u001b[0m\u001b[1mStep \u001b[0m\u001b[1;36m4\u001b[0m\u001b[38;2;212;183;2m ━━━━━━━━━━━━━━━━━━━━━━━━━━━━━━━━━━━━━━━━━━━━━━━━━━━━━━\u001b[0m\n"
      ]
     },
     "metadata": {},
     "output_type": "display_data"
    },
    {
     "data": {
      "text/html": [
       "<pre style=\"white-space:pre;overflow-x:auto;line-height:normal;font-family:Menlo,'DejaVu Sans Mono',consolas,'Courier New',monospace\"><span style=\"color: #800000; text-decoration-color: #800000; font-weight: bold\">Error in generating model output:</span>\n",
       "<span style=\"color: #008080; text-decoration-color: #008080; font-weight: bold\">402</span><span style=\"color: #800000; text-decoration-color: #800000; font-weight: bold\"> Client Error: Payment Required for url: </span><span style=\"color: #0000ff; text-decoration-color: #0000ff; text-decoration: underline\">https://router.huggingface.co/together/v1/chat/completions</span><span style=\"color: #800000; text-decoration-color: #800000; font-weight: bold\"> (Request ID:</span>\n",
       "<span style=\"color: #808000; text-decoration-color: #808000; font-weight: bold\">Root</span><span style=\"color: #800000; text-decoration-color: #800000; font-weight: bold\">=</span><span style=\"color: #008080; text-decoration-color: #008080; font-weight: bold\">1</span><span style=\"color: #800000; text-decoration-color: #800000; font-weight: bold\">-67d0677c-795b6ea27dceae7a0f2b124a;</span><span style=\"color: #ffff00; text-decoration-color: #ffff00\">f85efd70-6143-49c9-9984-fe8579aa397b</span><span style=\"color: #800000; text-decoration-color: #800000; font-weight: bold\">)</span>\n",
       "\n",
       "<span style=\"color: #800000; text-decoration-color: #800000; font-weight: bold\">You have exceeded your monthly included credits for Inference Providers.</span>\n",
       "</pre>\n"
      ],
      "text/plain": [
       "\u001b[1;31mError in generating model output:\u001b[0m\n",
       "\u001b[1;36m402\u001b[0m\u001b[1;31m Client Error: Payment Required for url: \u001b[0m\u001b[4;94mhttps://router.huggingface.co/together/v1/chat/completions\u001b[0m\u001b[1;31m \u001b[0m\u001b[1;31m(\u001b[0m\u001b[1;31mRequest ID:\u001b[0m\n",
       "\u001b[1;33mRoot\u001b[0m\u001b[1;31m=\u001b[0m\u001b[1;36m1\u001b[0m\u001b[1;31m-67d0677c-795b6ea27dceae7a0f2b124a;\u001b[0m\u001b[93mf85efd70-6143-49c9-9984-fe8579aa397b\u001b[0m\u001b[1;31m)\u001b[0m\n",
       "\n",
       "\u001b[1;31mYou have exceeded your monthly included credits for Inference Providers.\u001b[0m\n"
      ]
     },
     "metadata": {},
     "output_type": "display_data"
    },
    {
     "data": {
      "text/html": [
       "<pre style=\"white-space:pre;overflow-x:auto;line-height:normal;font-family:Menlo,'DejaVu Sans Mono',consolas,'Courier New',monospace\"><span style=\"color: #7f7f7f; text-decoration-color: #7f7f7f\">[Step 4: Duration 0.10 seconds]</span>\n",
       "</pre>\n"
      ],
      "text/plain": [
       "\u001b[2m[Step 4: Duration 0.10 seconds]\u001b[0m\n"
      ]
     },
     "metadata": {},
     "output_type": "display_data"
    },
    {
     "data": {
      "text/html": [
       "<pre style=\"white-space:pre;overflow-x:auto;line-height:normal;font-family:Menlo,'DejaVu Sans Mono',consolas,'Courier New',monospace\"><span style=\"color: #d4b702; text-decoration-color: #d4b702\">━━━━━━━━━━━━━━━━━━━━━━━━━━━━━━━━━━━━━━━━━━━━━━━━━━━━━ </span><span style=\"font-weight: bold\">Step </span><span style=\"color: #008080; text-decoration-color: #008080; font-weight: bold\">5</span><span style=\"color: #d4b702; text-decoration-color: #d4b702\"> ━━━━━━━━━━━━━━━━━━━━━━━━━━━━━━━━━━━━━━━━━━━━━━━━━━━━━━</span>\n",
       "</pre>\n"
      ],
      "text/plain": [
       "\u001b[38;2;212;183;2m━━━━━━━━━━━━━━━━━━━━━━━━━━━━━━━━━━━━━━━━━━━━━━━━━━━━━ \u001b[0m\u001b[1mStep \u001b[0m\u001b[1;36m5\u001b[0m\u001b[38;2;212;183;2m ━━━━━━━━━━━━━━━━━━━━━━━━━━━━━━━━━━━━━━━━━━━━━━━━━━━━━━\u001b[0m\n"
      ]
     },
     "metadata": {},
     "output_type": "display_data"
    },
    {
     "data": {
      "text/html": [
       "<pre style=\"white-space:pre;overflow-x:auto;line-height:normal;font-family:Menlo,'DejaVu Sans Mono',consolas,'Courier New',monospace\"><span style=\"color: #800000; text-decoration-color: #800000; font-weight: bold\">Error in generating model output:</span>\n",
       "<span style=\"color: #008080; text-decoration-color: #008080; font-weight: bold\">402</span><span style=\"color: #800000; text-decoration-color: #800000; font-weight: bold\"> Client Error: Payment Required for url: </span><span style=\"color: #0000ff; text-decoration-color: #0000ff; text-decoration: underline\">https://router.huggingface.co/together/v1/chat/completions</span><span style=\"color: #800000; text-decoration-color: #800000; font-weight: bold\"> (Request ID:</span>\n",
       "<span style=\"color: #808000; text-decoration-color: #808000; font-weight: bold\">Root</span><span style=\"color: #800000; text-decoration-color: #800000; font-weight: bold\">=</span><span style=\"color: #008080; text-decoration-color: #008080; font-weight: bold\">1</span><span style=\"color: #800000; text-decoration-color: #800000; font-weight: bold\">-67d0677d-3f615c7226a89a281733e6df;</span><span style=\"color: #ffff00; text-decoration-color: #ffff00\">7652b6a6-6ee3-4b46-876b-fd9c78c9ad64</span><span style=\"color: #800000; text-decoration-color: #800000; font-weight: bold\">)</span>\n",
       "\n",
       "<span style=\"color: #800000; text-decoration-color: #800000; font-weight: bold\">You have exceeded your monthly included credits for Inference Providers.</span>\n",
       "</pre>\n"
      ],
      "text/plain": [
       "\u001b[1;31mError in generating model output:\u001b[0m\n",
       "\u001b[1;36m402\u001b[0m\u001b[1;31m Client Error: Payment Required for url: \u001b[0m\u001b[4;94mhttps://router.huggingface.co/together/v1/chat/completions\u001b[0m\u001b[1;31m \u001b[0m\u001b[1;31m(\u001b[0m\u001b[1;31mRequest ID:\u001b[0m\n",
       "\u001b[1;33mRoot\u001b[0m\u001b[1;31m=\u001b[0m\u001b[1;36m1\u001b[0m\u001b[1;31m-67d0677d-3f615c7226a89a281733e6df;\u001b[0m\u001b[93m7652b6a6-6ee3-4b46-876b-fd9c78c9ad64\u001b[0m\u001b[1;31m)\u001b[0m\n",
       "\n",
       "\u001b[1;31mYou have exceeded your monthly included credits for Inference Providers.\u001b[0m\n"
      ]
     },
     "metadata": {},
     "output_type": "display_data"
    },
    {
     "data": {
      "text/html": [
       "<pre style=\"white-space:pre;overflow-x:auto;line-height:normal;font-family:Menlo,'DejaVu Sans Mono',consolas,'Courier New',monospace\"><span style=\"color: #7f7f7f; text-decoration-color: #7f7f7f\">[Step 5: Duration 0.09 seconds]</span>\n",
       "</pre>\n"
      ],
      "text/plain": [
       "\u001b[2m[Step 5: Duration 0.09 seconds]\u001b[0m\n"
      ]
     },
     "metadata": {},
     "output_type": "display_data"
    },
    {
     "data": {
      "text/html": [
       "<pre style=\"white-space:pre;overflow-x:auto;line-height:normal;font-family:Menlo,'DejaVu Sans Mono',consolas,'Courier New',monospace\"><span style=\"color: #d4b702; text-decoration-color: #d4b702\">━━━━━━━━━━━━━━━━━━━━━━━━━━━━━━━━━━━━━━━━━━━━━━━━━━━━━ </span><span style=\"font-weight: bold\">Step </span><span style=\"color: #008080; text-decoration-color: #008080; font-weight: bold\">6</span><span style=\"color: #d4b702; text-decoration-color: #d4b702\"> ━━━━━━━━━━━━━━━━━━━━━━━━━━━━━━━━━━━━━━━━━━━━━━━━━━━━━━</span>\n",
       "</pre>\n"
      ],
      "text/plain": [
       "\u001b[38;2;212;183;2m━━━━━━━━━━━━━━━━━━━━━━━━━━━━━━━━━━━━━━━━━━━━━━━━━━━━━ \u001b[0m\u001b[1mStep \u001b[0m\u001b[1;36m6\u001b[0m\u001b[38;2;212;183;2m ━━━━━━━━━━━━━━━━━━━━━━━━━━━━━━━━━━━━━━━━━━━━━━━━━━━━━━\u001b[0m\n"
      ]
     },
     "metadata": {},
     "output_type": "display_data"
    },
    {
     "data": {
      "text/html": [
       "<pre style=\"white-space:pre;overflow-x:auto;line-height:normal;font-family:Menlo,'DejaVu Sans Mono',consolas,'Courier New',monospace\"><span style=\"color: #800000; text-decoration-color: #800000; font-weight: bold\">Error in generating model output:</span>\n",
       "<span style=\"color: #008080; text-decoration-color: #008080; font-weight: bold\">402</span><span style=\"color: #800000; text-decoration-color: #800000; font-weight: bold\"> Client Error: Payment Required for url: </span><span style=\"color: #0000ff; text-decoration-color: #0000ff; text-decoration: underline\">https://router.huggingface.co/together/v1/chat/completions</span><span style=\"color: #800000; text-decoration-color: #800000; font-weight: bold\"> (Request ID:</span>\n",
       "<span style=\"color: #808000; text-decoration-color: #808000; font-weight: bold\">Root</span><span style=\"color: #800000; text-decoration-color: #800000; font-weight: bold\">=</span><span style=\"color: #008080; text-decoration-color: #008080; font-weight: bold\">1</span><span style=\"color: #800000; text-decoration-color: #800000; font-weight: bold\">-67d0677d-61f786305c0948037875948d;</span><span style=\"color: #ffff00; text-decoration-color: #ffff00\">3a2bc2cd-4fc7-4fc7-b843-aba5ea924cf6</span><span style=\"color: #800000; text-decoration-color: #800000; font-weight: bold\">)</span>\n",
       "\n",
       "<span style=\"color: #800000; text-decoration-color: #800000; font-weight: bold\">You have exceeded your monthly included credits for Inference Providers.</span>\n",
       "</pre>\n"
      ],
      "text/plain": [
       "\u001b[1;31mError in generating model output:\u001b[0m\n",
       "\u001b[1;36m402\u001b[0m\u001b[1;31m Client Error: Payment Required for url: \u001b[0m\u001b[4;94mhttps://router.huggingface.co/together/v1/chat/completions\u001b[0m\u001b[1;31m \u001b[0m\u001b[1;31m(\u001b[0m\u001b[1;31mRequest ID:\u001b[0m\n",
       "\u001b[1;33mRoot\u001b[0m\u001b[1;31m=\u001b[0m\u001b[1;36m1\u001b[0m\u001b[1;31m-67d0677d-61f786305c0948037875948d;\u001b[0m\u001b[93m3a2bc2cd-4fc7-4fc7-b843-aba5ea924cf6\u001b[0m\u001b[1;31m)\u001b[0m\n",
       "\n",
       "\u001b[1;31mYou have exceeded your monthly included credits for Inference Providers.\u001b[0m\n"
      ]
     },
     "metadata": {},
     "output_type": "display_data"
    },
    {
     "data": {
      "text/html": [
       "<pre style=\"white-space:pre;overflow-x:auto;line-height:normal;font-family:Menlo,'DejaVu Sans Mono',consolas,'Courier New',monospace\"><span style=\"color: #7f7f7f; text-decoration-color: #7f7f7f\">[Step 6: Duration 0.15 seconds]</span>\n",
       "</pre>\n"
      ],
      "text/plain": [
       "\u001b[2m[Step 6: Duration 0.15 seconds]\u001b[0m\n"
      ]
     },
     "metadata": {},
     "output_type": "display_data"
    },
    {
     "data": {
      "text/html": [
       "<pre style=\"white-space:pre;overflow-x:auto;line-height:normal;font-family:Menlo,'DejaVu Sans Mono',consolas,'Courier New',monospace\"><span style=\"color: #d4b702; text-decoration-color: #d4b702\">━━━━━━━━━━━━━━━━━━━━━━━━━━━━━━━━━━━━━━━━━━━━━━━━━━━━━ </span><span style=\"font-weight: bold\">Step </span><span style=\"color: #008080; text-decoration-color: #008080; font-weight: bold\">7</span><span style=\"color: #d4b702; text-decoration-color: #d4b702\"> ━━━━━━━━━━━━━━━━━━━━━━━━━━━━━━━━━━━━━━━━━━━━━━━━━━━━━━</span>\n",
       "</pre>\n"
      ],
      "text/plain": [
       "\u001b[38;2;212;183;2m━━━━━━━━━━━━━━━━━━━━━━━━━━━━━━━━━━━━━━━━━━━━━━━━━━━━━ \u001b[0m\u001b[1mStep \u001b[0m\u001b[1;36m7\u001b[0m\u001b[38;2;212;183;2m ━━━━━━━━━━━━━━━━━━━━━━━━━━━━━━━━━━━━━━━━━━━━━━━━━━━━━━\u001b[0m\n"
      ]
     },
     "metadata": {},
     "output_type": "display_data"
    },
    {
     "data": {
      "text/html": [
       "<pre style=\"white-space:pre;overflow-x:auto;line-height:normal;font-family:Menlo,'DejaVu Sans Mono',consolas,'Courier New',monospace\"><span style=\"color: #800000; text-decoration-color: #800000; font-weight: bold\">Error in generating model output:</span>\n",
       "<span style=\"color: #008080; text-decoration-color: #008080; font-weight: bold\">402</span><span style=\"color: #800000; text-decoration-color: #800000; font-weight: bold\"> Client Error: Payment Required for url: </span><span style=\"color: #0000ff; text-decoration-color: #0000ff; text-decoration: underline\">https://router.huggingface.co/together/v1/chat/completions</span><span style=\"color: #800000; text-decoration-color: #800000; font-weight: bold\"> (Request ID:</span>\n",
       "<span style=\"color: #808000; text-decoration-color: #808000; font-weight: bold\">Root</span><span style=\"color: #800000; text-decoration-color: #800000; font-weight: bold\">=</span><span style=\"color: #008080; text-decoration-color: #008080; font-weight: bold\">1</span><span style=\"color: #800000; text-decoration-color: #800000; font-weight: bold\">-67d0677d-299d4a4619a4d46e39d99d46;</span><span style=\"color: #ffff00; text-decoration-color: #ffff00\">fa979dc5-2b36-40e9-9e75-416d7cd6e077</span><span style=\"color: #800000; text-decoration-color: #800000; font-weight: bold\">)</span>\n",
       "\n",
       "<span style=\"color: #800000; text-decoration-color: #800000; font-weight: bold\">You have exceeded your monthly included credits for Inference Providers.</span>\n",
       "</pre>\n"
      ],
      "text/plain": [
       "\u001b[1;31mError in generating model output:\u001b[0m\n",
       "\u001b[1;36m402\u001b[0m\u001b[1;31m Client Error: Payment Required for url: \u001b[0m\u001b[4;94mhttps://router.huggingface.co/together/v1/chat/completions\u001b[0m\u001b[1;31m \u001b[0m\u001b[1;31m(\u001b[0m\u001b[1;31mRequest ID:\u001b[0m\n",
       "\u001b[1;33mRoot\u001b[0m\u001b[1;31m=\u001b[0m\u001b[1;36m1\u001b[0m\u001b[1;31m-67d0677d-299d4a4619a4d46e39d99d46;\u001b[0m\u001b[93mfa979dc5-2b36-40e9-9e75-416d7cd6e077\u001b[0m\u001b[1;31m)\u001b[0m\n",
       "\n",
       "\u001b[1;31mYou have exceeded your monthly included credits for Inference Providers.\u001b[0m\n"
      ]
     },
     "metadata": {},
     "output_type": "display_data"
    },
    {
     "data": {
      "text/html": [
       "<pre style=\"white-space:pre;overflow-x:auto;line-height:normal;font-family:Menlo,'DejaVu Sans Mono',consolas,'Courier New',monospace\"><span style=\"color: #7f7f7f; text-decoration-color: #7f7f7f\">[Step 7: Duration 0.11 seconds]</span>\n",
       "</pre>\n"
      ],
      "text/plain": [
       "\u001b[2m[Step 7: Duration 0.11 seconds]\u001b[0m\n"
      ]
     },
     "metadata": {},
     "output_type": "display_data"
    },
    {
     "data": {
      "text/html": [
       "<pre style=\"white-space:pre;overflow-x:auto;line-height:normal;font-family:Menlo,'DejaVu Sans Mono',consolas,'Courier New',monospace\"><span style=\"color: #d4b702; text-decoration-color: #d4b702\">━━━━━━━━━━━━━━━━━━━━━━━━━━━━━━━━━━━━━━━━━━━━━━━━━━━━━ </span><span style=\"font-weight: bold\">Step </span><span style=\"color: #008080; text-decoration-color: #008080; font-weight: bold\">8</span><span style=\"color: #d4b702; text-decoration-color: #d4b702\"> ━━━━━━━━━━━━━━━━━━━━━━━━━━━━━━━━━━━━━━━━━━━━━━━━━━━━━━</span>\n",
       "</pre>\n"
      ],
      "text/plain": [
       "\u001b[38;2;212;183;2m━━━━━━━━━━━━━━━━━━━━━━━━━━━━━━━━━━━━━━━━━━━━━━━━━━━━━ \u001b[0m\u001b[1mStep \u001b[0m\u001b[1;36m8\u001b[0m\u001b[38;2;212;183;2m ━━━━━━━━━━━━━━━━━━━━━━━━━━━━━━━━━━━━━━━━━━━━━━━━━━━━━━\u001b[0m\n"
      ]
     },
     "metadata": {},
     "output_type": "display_data"
    },
    {
     "data": {
      "text/html": [
       "<pre style=\"white-space:pre;overflow-x:auto;line-height:normal;font-family:Menlo,'DejaVu Sans Mono',consolas,'Courier New',monospace\"><span style=\"color: #800000; text-decoration-color: #800000; font-weight: bold\">Error in generating model output:</span>\n",
       "<span style=\"color: #008080; text-decoration-color: #008080; font-weight: bold\">402</span><span style=\"color: #800000; text-decoration-color: #800000; font-weight: bold\"> Client Error: Payment Required for url: </span><span style=\"color: #0000ff; text-decoration-color: #0000ff; text-decoration: underline\">https://router.huggingface.co/together/v1/chat/completions</span><span style=\"color: #800000; text-decoration-color: #800000; font-weight: bold\"> (Request ID:</span>\n",
       "<span style=\"color: #808000; text-decoration-color: #808000; font-weight: bold\">Root</span><span style=\"color: #800000; text-decoration-color: #800000; font-weight: bold\">=</span><span style=\"color: #008080; text-decoration-color: #008080; font-weight: bold\">1</span><span style=\"color: #800000; text-decoration-color: #800000; font-weight: bold\">-67d0677d-2038aa310091393146f8d27e;</span><span style=\"color: #ffff00; text-decoration-color: #ffff00\">769bcee5-5f60-4dd6-a5e0-a3181df285fb</span><span style=\"color: #800000; text-decoration-color: #800000; font-weight: bold\">)</span>\n",
       "\n",
       "<span style=\"color: #800000; text-decoration-color: #800000; font-weight: bold\">You have exceeded your monthly included credits for Inference Providers.</span>\n",
       "</pre>\n"
      ],
      "text/plain": [
       "\u001b[1;31mError in generating model output:\u001b[0m\n",
       "\u001b[1;36m402\u001b[0m\u001b[1;31m Client Error: Payment Required for url: \u001b[0m\u001b[4;94mhttps://router.huggingface.co/together/v1/chat/completions\u001b[0m\u001b[1;31m \u001b[0m\u001b[1;31m(\u001b[0m\u001b[1;31mRequest ID:\u001b[0m\n",
       "\u001b[1;33mRoot\u001b[0m\u001b[1;31m=\u001b[0m\u001b[1;36m1\u001b[0m\u001b[1;31m-67d0677d-2038aa310091393146f8d27e;\u001b[0m\u001b[93m769bcee5-5f60-4dd6-a5e0-a3181df285fb\u001b[0m\u001b[1;31m)\u001b[0m\n",
       "\n",
       "\u001b[1;31mYou have exceeded your monthly included credits for Inference Providers.\u001b[0m\n"
      ]
     },
     "metadata": {},
     "output_type": "display_data"
    },
    {
     "data": {
      "text/html": [
       "<pre style=\"white-space:pre;overflow-x:auto;line-height:normal;font-family:Menlo,'DejaVu Sans Mono',consolas,'Courier New',monospace\"><span style=\"color: #7f7f7f; text-decoration-color: #7f7f7f\">[Step 8: Duration 0.13 seconds]</span>\n",
       "</pre>\n"
      ],
      "text/plain": [
       "\u001b[2m[Step 8: Duration 0.13 seconds]\u001b[0m\n"
      ]
     },
     "metadata": {},
     "output_type": "display_data"
    },
    {
     "data": {
      "text/html": [
       "<pre style=\"white-space:pre;overflow-x:auto;line-height:normal;font-family:Menlo,'DejaVu Sans Mono',consolas,'Courier New',monospace\"><span style=\"color: #d4b702; text-decoration-color: #d4b702\">━━━━━━━━━━━━━━━━━━━━━━━━━━━━━━━━━━━━━━━━━━━━━━━━━━━━━ </span><span style=\"font-weight: bold\">Step </span><span style=\"color: #008080; text-decoration-color: #008080; font-weight: bold\">9</span><span style=\"color: #d4b702; text-decoration-color: #d4b702\"> ━━━━━━━━━━━━━━━━━━━━━━━━━━━━━━━━━━━━━━━━━━━━━━━━━━━━━━</span>\n",
       "</pre>\n"
      ],
      "text/plain": [
       "\u001b[38;2;212;183;2m━━━━━━━━━━━━━━━━━━━━━━━━━━━━━━━━━━━━━━━━━━━━━━━━━━━━━ \u001b[0m\u001b[1mStep \u001b[0m\u001b[1;36m9\u001b[0m\u001b[38;2;212;183;2m ━━━━━━━━━━━━━━━━━━━━━━━━━━━━━━━━━━━━━━━━━━━━━━━━━━━━━━\u001b[0m\n"
      ]
     },
     "metadata": {},
     "output_type": "display_data"
    },
    {
     "data": {
      "text/html": [
       "<pre style=\"white-space:pre;overflow-x:auto;line-height:normal;font-family:Menlo,'DejaVu Sans Mono',consolas,'Courier New',monospace\"><span style=\"color: #800000; text-decoration-color: #800000; font-weight: bold\">Error in generating model output:</span>\n",
       "<span style=\"color: #008080; text-decoration-color: #008080; font-weight: bold\">402</span><span style=\"color: #800000; text-decoration-color: #800000; font-weight: bold\"> Client Error: Payment Required for url: </span><span style=\"color: #0000ff; text-decoration-color: #0000ff; text-decoration: underline\">https://router.huggingface.co/together/v1/chat/completions</span><span style=\"color: #800000; text-decoration-color: #800000; font-weight: bold\"> (Request ID:</span>\n",
       "<span style=\"color: #808000; text-decoration-color: #808000; font-weight: bold\">Root</span><span style=\"color: #800000; text-decoration-color: #800000; font-weight: bold\">=</span><span style=\"color: #008080; text-decoration-color: #008080; font-weight: bold\">1</span><span style=\"color: #800000; text-decoration-color: #800000; font-weight: bold\">-67d0677d-7ef9f8cf10db1a8c20e6eda9;</span><span style=\"color: #ffff00; text-decoration-color: #ffff00\">ac6528ad-9bb7-4458-aa52-7a90fac014d6</span><span style=\"color: #800000; text-decoration-color: #800000; font-weight: bold\">)</span>\n",
       "\n",
       "<span style=\"color: #800000; text-decoration-color: #800000; font-weight: bold\">You have exceeded your monthly included credits for Inference Providers.</span>\n",
       "</pre>\n"
      ],
      "text/plain": [
       "\u001b[1;31mError in generating model output:\u001b[0m\n",
       "\u001b[1;36m402\u001b[0m\u001b[1;31m Client Error: Payment Required for url: \u001b[0m\u001b[4;94mhttps://router.huggingface.co/together/v1/chat/completions\u001b[0m\u001b[1;31m \u001b[0m\u001b[1;31m(\u001b[0m\u001b[1;31mRequest ID:\u001b[0m\n",
       "\u001b[1;33mRoot\u001b[0m\u001b[1;31m=\u001b[0m\u001b[1;36m1\u001b[0m\u001b[1;31m-67d0677d-7ef9f8cf10db1a8c20e6eda9;\u001b[0m\u001b[93mac6528ad-9bb7-4458-aa52-7a90fac014d6\u001b[0m\u001b[1;31m)\u001b[0m\n",
       "\n",
       "\u001b[1;31mYou have exceeded your monthly included credits for Inference Providers.\u001b[0m\n"
      ]
     },
     "metadata": {},
     "output_type": "display_data"
    },
    {
     "data": {
      "text/html": [
       "<pre style=\"white-space:pre;overflow-x:auto;line-height:normal;font-family:Menlo,'DejaVu Sans Mono',consolas,'Courier New',monospace\"><span style=\"color: #7f7f7f; text-decoration-color: #7f7f7f\">[Step 9: Duration 0.08 seconds]</span>\n",
       "</pre>\n"
      ],
      "text/plain": [
       "\u001b[2m[Step 9: Duration 0.08 seconds]\u001b[0m\n"
      ]
     },
     "metadata": {},
     "output_type": "display_data"
    },
    {
     "data": {
      "text/html": [
       "<pre style=\"white-space:pre;overflow-x:auto;line-height:normal;font-family:Menlo,'DejaVu Sans Mono',consolas,'Courier New',monospace\"><span style=\"color: #d4b702; text-decoration-color: #d4b702\">━━━━━━━━━━━━━━━━━━━━━━━━━━━━━━━━━━━━━━━━━━━━━━━━━━━━━ </span><span style=\"font-weight: bold\">Step </span><span style=\"color: #008080; text-decoration-color: #008080; font-weight: bold\">10</span><span style=\"color: #d4b702; text-decoration-color: #d4b702\"> ━━━━━━━━━━━━━━━━━━━━━━━━━━━━━━━━━━━━━━━━━━━━━━━━━━━━━</span>\n",
       "</pre>\n"
      ],
      "text/plain": [
       "\u001b[38;2;212;183;2m━━━━━━━━━━━━━━━━━━━━━━━━━━━━━━━━━━━━━━━━━━━━━━━━━━━━━ \u001b[0m\u001b[1mStep \u001b[0m\u001b[1;36m10\u001b[0m\u001b[38;2;212;183;2m ━━━━━━━━━━━━━━━━━━━━━━━━━━━━━━━━━━━━━━━━━━━━━━━━━━━━━\u001b[0m\n"
      ]
     },
     "metadata": {},
     "output_type": "display_data"
    },
    {
     "data": {
      "text/html": [
       "<pre style=\"white-space:pre;overflow-x:auto;line-height:normal;font-family:Menlo,'DejaVu Sans Mono',consolas,'Courier New',monospace\"><span style=\"color: #800000; text-decoration-color: #800000; font-weight: bold\">Error in generating model output:</span>\n",
       "<span style=\"color: #008080; text-decoration-color: #008080; font-weight: bold\">402</span><span style=\"color: #800000; text-decoration-color: #800000; font-weight: bold\"> Client Error: Payment Required for url: </span><span style=\"color: #0000ff; text-decoration-color: #0000ff; text-decoration: underline\">https://router.huggingface.co/together/v1/chat/completions</span><span style=\"color: #800000; text-decoration-color: #800000; font-weight: bold\"> (Request ID:</span>\n",
       "<span style=\"color: #808000; text-decoration-color: #808000; font-weight: bold\">Root</span><span style=\"color: #800000; text-decoration-color: #800000; font-weight: bold\">=</span><span style=\"color: #008080; text-decoration-color: #008080; font-weight: bold\">1</span><span style=\"color: #800000; text-decoration-color: #800000; font-weight: bold\">-67d0677d-62b35ed87fcc4e1f63eff222;</span><span style=\"color: #ffff00; text-decoration-color: #ffff00\">4184239d-4de7-45d8-974b-1b6137016b8f</span><span style=\"color: #800000; text-decoration-color: #800000; font-weight: bold\">)</span>\n",
       "\n",
       "<span style=\"color: #800000; text-decoration-color: #800000; font-weight: bold\">You have exceeded your monthly included credits for Inference Providers.</span>\n",
       "</pre>\n"
      ],
      "text/plain": [
       "\u001b[1;31mError in generating model output:\u001b[0m\n",
       "\u001b[1;36m402\u001b[0m\u001b[1;31m Client Error: Payment Required for url: \u001b[0m\u001b[4;94mhttps://router.huggingface.co/together/v1/chat/completions\u001b[0m\u001b[1;31m \u001b[0m\u001b[1;31m(\u001b[0m\u001b[1;31mRequest ID:\u001b[0m\n",
       "\u001b[1;33mRoot\u001b[0m\u001b[1;31m=\u001b[0m\u001b[1;36m1\u001b[0m\u001b[1;31m-67d0677d-62b35ed87fcc4e1f63eff222;\u001b[0m\u001b[93m4184239d-4de7-45d8-974b-1b6137016b8f\u001b[0m\u001b[1;31m)\u001b[0m\n",
       "\n",
       "\u001b[1;31mYou have exceeded your monthly included credits for Inference Providers.\u001b[0m\n"
      ]
     },
     "metadata": {},
     "output_type": "display_data"
    },
    {
     "data": {
      "text/html": [
       "<pre style=\"white-space:pre;overflow-x:auto;line-height:normal;font-family:Menlo,'DejaVu Sans Mono',consolas,'Courier New',monospace\"><span style=\"color: #7f7f7f; text-decoration-color: #7f7f7f\">[Step 10: Duration 0.09 seconds]</span>\n",
       "</pre>\n"
      ],
      "text/plain": [
       "\u001b[2m[Step 10: Duration 0.09 seconds]\u001b[0m\n"
      ]
     },
     "metadata": {},
     "output_type": "display_data"
    },
    {
     "data": {
      "text/html": [
       "<pre style=\"white-space:pre;overflow-x:auto;line-height:normal;font-family:Menlo,'DejaVu Sans Mono',consolas,'Courier New',monospace\"><span style=\"color: #d4b702; text-decoration-color: #d4b702\">━━━━━━━━━━━━━━━━━━━━━━━━━━━━━━━━━━━━━━━━━━━━━━━━━━━━━ </span><span style=\"font-weight: bold\">Step </span><span style=\"color: #008080; text-decoration-color: #008080; font-weight: bold\">11</span><span style=\"color: #d4b702; text-decoration-color: #d4b702\"> ━━━━━━━━━━━━━━━━━━━━━━━━━━━━━━━━━━━━━━━━━━━━━━━━━━━━━</span>\n",
       "</pre>\n"
      ],
      "text/plain": [
       "\u001b[38;2;212;183;2m━━━━━━━━━━━━━━━━━━━━━━━━━━━━━━━━━━━━━━━━━━━━━━━━━━━━━ \u001b[0m\u001b[1mStep \u001b[0m\u001b[1;36m11\u001b[0m\u001b[38;2;212;183;2m ━━━━━━━━━━━━━━━━━━━━━━━━━━━━━━━━━━━━━━━━━━━━━━━━━━━━━\u001b[0m\n"
      ]
     },
     "metadata": {},
     "output_type": "display_data"
    },
    {
     "data": {
      "text/html": [
       "<pre style=\"white-space:pre;overflow-x:auto;line-height:normal;font-family:Menlo,'DejaVu Sans Mono',consolas,'Courier New',monospace\"><span style=\"color: #800000; text-decoration-color: #800000; font-weight: bold\">Error in generating model output:</span>\n",
       "<span style=\"color: #008080; text-decoration-color: #008080; font-weight: bold\">402</span><span style=\"color: #800000; text-decoration-color: #800000; font-weight: bold\"> Client Error: Payment Required for url: </span><span style=\"color: #0000ff; text-decoration-color: #0000ff; text-decoration: underline\">https://router.huggingface.co/together/v1/chat/completions</span><span style=\"color: #800000; text-decoration-color: #800000; font-weight: bold\"> (Request ID:</span>\n",
       "<span style=\"color: #808000; text-decoration-color: #808000; font-weight: bold\">Root</span><span style=\"color: #800000; text-decoration-color: #800000; font-weight: bold\">=</span><span style=\"color: #008080; text-decoration-color: #008080; font-weight: bold\">1</span><span style=\"color: #800000; text-decoration-color: #800000; font-weight: bold\">-67d0677d-6568ca867546b0ac3e252a35;</span><span style=\"color: #ffff00; text-decoration-color: #ffff00\">dec53b7c-bdb9-4473-9b98-413df7707919</span><span style=\"color: #800000; text-decoration-color: #800000; font-weight: bold\">)</span>\n",
       "\n",
       "<span style=\"color: #800000; text-decoration-color: #800000; font-weight: bold\">You have exceeded your monthly included credits for Inference Providers.</span>\n",
       "</pre>\n"
      ],
      "text/plain": [
       "\u001b[1;31mError in generating model output:\u001b[0m\n",
       "\u001b[1;36m402\u001b[0m\u001b[1;31m Client Error: Payment Required for url: \u001b[0m\u001b[4;94mhttps://router.huggingface.co/together/v1/chat/completions\u001b[0m\u001b[1;31m \u001b[0m\u001b[1;31m(\u001b[0m\u001b[1;31mRequest ID:\u001b[0m\n",
       "\u001b[1;33mRoot\u001b[0m\u001b[1;31m=\u001b[0m\u001b[1;36m1\u001b[0m\u001b[1;31m-67d0677d-6568ca867546b0ac3e252a35;\u001b[0m\u001b[93mdec53b7c-bdb9-4473-9b98-413df7707919\u001b[0m\u001b[1;31m)\u001b[0m\n",
       "\n",
       "\u001b[1;31mYou have exceeded your monthly included credits for Inference Providers.\u001b[0m\n"
      ]
     },
     "metadata": {},
     "output_type": "display_data"
    },
    {
     "data": {
      "text/html": [
       "<pre style=\"white-space:pre;overflow-x:auto;line-height:normal;font-family:Menlo,'DejaVu Sans Mono',consolas,'Courier New',monospace\"><span style=\"color: #7f7f7f; text-decoration-color: #7f7f7f\">[Step 11: Duration 0.11 seconds]</span>\n",
       "</pre>\n"
      ],
      "text/plain": [
       "\u001b[2m[Step 11: Duration 0.11 seconds]\u001b[0m\n"
      ]
     },
     "metadata": {},
     "output_type": "display_data"
    },
    {
     "data": {
      "text/html": [
       "<pre style=\"white-space:pre;overflow-x:auto;line-height:normal;font-family:Menlo,'DejaVu Sans Mono',consolas,'Courier New',monospace\"><span style=\"color: #d4b702; text-decoration-color: #d4b702\">━━━━━━━━━━━━━━━━━━━━━━━━━━━━━━━━━━━━━━━━━━━━━━━━━━━━━ </span><span style=\"font-weight: bold\">Step </span><span style=\"color: #008080; text-decoration-color: #008080; font-weight: bold\">12</span><span style=\"color: #d4b702; text-decoration-color: #d4b702\"> ━━━━━━━━━━━━━━━━━━━━━━━━━━━━━━━━━━━━━━━━━━━━━━━━━━━━━</span>\n",
       "</pre>\n"
      ],
      "text/plain": [
       "\u001b[38;2;212;183;2m━━━━━━━━━━━━━━━━━━━━━━━━━━━━━━━━━━━━━━━━━━━━━━━━━━━━━ \u001b[0m\u001b[1mStep \u001b[0m\u001b[1;36m12\u001b[0m\u001b[38;2;212;183;2m ━━━━━━━━━━━━━━━━━━━━━━━━━━━━━━━━━━━━━━━━━━━━━━━━━━━━━\u001b[0m\n"
      ]
     },
     "metadata": {},
     "output_type": "display_data"
    },
    {
     "data": {
      "text/html": [
       "<pre style=\"white-space:pre;overflow-x:auto;line-height:normal;font-family:Menlo,'DejaVu Sans Mono',consolas,'Courier New',monospace\"><span style=\"color: #800000; text-decoration-color: #800000; font-weight: bold\">Error in generating model output:</span>\n",
       "<span style=\"color: #008080; text-decoration-color: #008080; font-weight: bold\">402</span><span style=\"color: #800000; text-decoration-color: #800000; font-weight: bold\"> Client Error: Payment Required for url: </span><span style=\"color: #0000ff; text-decoration-color: #0000ff; text-decoration: underline\">https://router.huggingface.co/together/v1/chat/completions</span><span style=\"color: #800000; text-decoration-color: #800000; font-weight: bold\"> (Request ID:</span>\n",
       "<span style=\"color: #808000; text-decoration-color: #808000; font-weight: bold\">Root</span><span style=\"color: #800000; text-decoration-color: #800000; font-weight: bold\">=</span><span style=\"color: #008080; text-decoration-color: #008080; font-weight: bold\">1</span><span style=\"color: #800000; text-decoration-color: #800000; font-weight: bold\">-67d0677d-7ceb649b12079941633fd72d;</span><span style=\"color: #ffff00; text-decoration-color: #ffff00\">444f24c0-ce59-4c8b-9a29-b5a9186ff503</span><span style=\"color: #800000; text-decoration-color: #800000; font-weight: bold\">)</span>\n",
       "\n",
       "<span style=\"color: #800000; text-decoration-color: #800000; font-weight: bold\">You have exceeded your monthly included credits for Inference Providers.</span>\n",
       "</pre>\n"
      ],
      "text/plain": [
       "\u001b[1;31mError in generating model output:\u001b[0m\n",
       "\u001b[1;36m402\u001b[0m\u001b[1;31m Client Error: Payment Required for url: \u001b[0m\u001b[4;94mhttps://router.huggingface.co/together/v1/chat/completions\u001b[0m\u001b[1;31m \u001b[0m\u001b[1;31m(\u001b[0m\u001b[1;31mRequest ID:\u001b[0m\n",
       "\u001b[1;33mRoot\u001b[0m\u001b[1;31m=\u001b[0m\u001b[1;36m1\u001b[0m\u001b[1;31m-67d0677d-7ceb649b12079941633fd72d;\u001b[0m\u001b[93m444f24c0-ce59-4c8b-9a29-b5a9186ff503\u001b[0m\u001b[1;31m)\u001b[0m\n",
       "\n",
       "\u001b[1;31mYou have exceeded your monthly included credits for Inference Providers.\u001b[0m\n"
      ]
     },
     "metadata": {},
     "output_type": "display_data"
    },
    {
     "data": {
      "text/html": [
       "<pre style=\"white-space:pre;overflow-x:auto;line-height:normal;font-family:Menlo,'DejaVu Sans Mono',consolas,'Courier New',monospace\"><span style=\"color: #7f7f7f; text-decoration-color: #7f7f7f\">[Step 12: Duration 0.09 seconds]</span>\n",
       "</pre>\n"
      ],
      "text/plain": [
       "\u001b[2m[Step 12: Duration 0.09 seconds]\u001b[0m\n"
      ]
     },
     "metadata": {},
     "output_type": "display_data"
    },
    {
     "data": {
      "text/html": [
       "<pre style=\"white-space:pre;overflow-x:auto;line-height:normal;font-family:Menlo,'DejaVu Sans Mono',consolas,'Courier New',monospace\"><span style=\"color: #d4b702; text-decoration-color: #d4b702\">━━━━━━━━━━━━━━━━━━━━━━━━━━━━━━━━━━━━━━━━━━━━━━━━━━━━━ </span><span style=\"font-weight: bold\">Step </span><span style=\"color: #008080; text-decoration-color: #008080; font-weight: bold\">13</span><span style=\"color: #d4b702; text-decoration-color: #d4b702\"> ━━━━━━━━━━━━━━━━━━━━━━━━━━━━━━━━━━━━━━━━━━━━━━━━━━━━━</span>\n",
       "</pre>\n"
      ],
      "text/plain": [
       "\u001b[38;2;212;183;2m━━━━━━━━━━━━━━━━━━━━━━━━━━━━━━━━━━━━━━━━━━━━━━━━━━━━━ \u001b[0m\u001b[1mStep \u001b[0m\u001b[1;36m13\u001b[0m\u001b[38;2;212;183;2m ━━━━━━━━━━━━━━━━━━━━━━━━━━━━━━━━━━━━━━━━━━━━━━━━━━━━━\u001b[0m\n"
      ]
     },
     "metadata": {},
     "output_type": "display_data"
    },
    {
     "data": {
      "text/html": [
       "<pre style=\"white-space:pre;overflow-x:auto;line-height:normal;font-family:Menlo,'DejaVu Sans Mono',consolas,'Courier New',monospace\"><span style=\"color: #800000; text-decoration-color: #800000; font-weight: bold\">Error in generating model output:</span>\n",
       "<span style=\"color: #008080; text-decoration-color: #008080; font-weight: bold\">402</span><span style=\"color: #800000; text-decoration-color: #800000; font-weight: bold\"> Client Error: Payment Required for url: </span><span style=\"color: #0000ff; text-decoration-color: #0000ff; text-decoration: underline\">https://router.huggingface.co/together/v1/chat/completions</span><span style=\"color: #800000; text-decoration-color: #800000; font-weight: bold\"> (Request ID:</span>\n",
       "<span style=\"color: #808000; text-decoration-color: #808000; font-weight: bold\">Root</span><span style=\"color: #800000; text-decoration-color: #800000; font-weight: bold\">=</span><span style=\"color: #008080; text-decoration-color: #008080; font-weight: bold\">1</span><span style=\"color: #800000; text-decoration-color: #800000; font-weight: bold\">-67d0677d-633e42f94f3ab1877e67fee6;</span><span style=\"color: #ffff00; text-decoration-color: #ffff00\">7587c163-4335-4ae0-b1bf-71c30a757e37</span><span style=\"color: #800000; text-decoration-color: #800000; font-weight: bold\">)</span>\n",
       "\n",
       "<span style=\"color: #800000; text-decoration-color: #800000; font-weight: bold\">You have exceeded your monthly included credits for Inference Providers.</span>\n",
       "</pre>\n"
      ],
      "text/plain": [
       "\u001b[1;31mError in generating model output:\u001b[0m\n",
       "\u001b[1;36m402\u001b[0m\u001b[1;31m Client Error: Payment Required for url: \u001b[0m\u001b[4;94mhttps://router.huggingface.co/together/v1/chat/completions\u001b[0m\u001b[1;31m \u001b[0m\u001b[1;31m(\u001b[0m\u001b[1;31mRequest ID:\u001b[0m\n",
       "\u001b[1;33mRoot\u001b[0m\u001b[1;31m=\u001b[0m\u001b[1;36m1\u001b[0m\u001b[1;31m-67d0677d-633e42f94f3ab1877e67fee6;\u001b[0m\u001b[93m7587c163-4335-4ae0-b1bf-71c30a757e37\u001b[0m\u001b[1;31m)\u001b[0m\n",
       "\n",
       "\u001b[1;31mYou have exceeded your monthly included credits for Inference Providers.\u001b[0m\n"
      ]
     },
     "metadata": {},
     "output_type": "display_data"
    },
    {
     "data": {
      "text/html": [
       "<pre style=\"white-space:pre;overflow-x:auto;line-height:normal;font-family:Menlo,'DejaVu Sans Mono',consolas,'Courier New',monospace\"><span style=\"color: #7f7f7f; text-decoration-color: #7f7f7f\">[Step 13: Duration 0.10 seconds]</span>\n",
       "</pre>\n"
      ],
      "text/plain": [
       "\u001b[2m[Step 13: Duration 0.10 seconds]\u001b[0m\n"
      ]
     },
     "metadata": {},
     "output_type": "display_data"
    },
    {
     "data": {
      "text/html": [
       "<pre style=\"white-space:pre;overflow-x:auto;line-height:normal;font-family:Menlo,'DejaVu Sans Mono',consolas,'Courier New',monospace\"><span style=\"color: #d4b702; text-decoration-color: #d4b702\">━━━━━━━━━━━━━━━━━━━━━━━━━━━━━━━━━━━━━━━━━━━━━━━━━━━━━ </span><span style=\"font-weight: bold\">Step </span><span style=\"color: #008080; text-decoration-color: #008080; font-weight: bold\">14</span><span style=\"color: #d4b702; text-decoration-color: #d4b702\"> ━━━━━━━━━━━━━━━━━━━━━━━━━━━━━━━━━━━━━━━━━━━━━━━━━━━━━</span>\n",
       "</pre>\n"
      ],
      "text/plain": [
       "\u001b[38;2;212;183;2m━━━━━━━━━━━━━━━━━━━━━━━━━━━━━━━━━━━━━━━━━━━━━━━━━━━━━ \u001b[0m\u001b[1mStep \u001b[0m\u001b[1;36m14\u001b[0m\u001b[38;2;212;183;2m ━━━━━━━━━━━━━━━━━━━━━━━━━━━━━━━━━━━━━━━━━━━━━━━━━━━━━\u001b[0m\n"
      ]
     },
     "metadata": {},
     "output_type": "display_data"
    },
    {
     "data": {
      "text/html": [
       "<pre style=\"white-space:pre;overflow-x:auto;line-height:normal;font-family:Menlo,'DejaVu Sans Mono',consolas,'Courier New',monospace\"><span style=\"color: #800000; text-decoration-color: #800000; font-weight: bold\">Error in generating model output:</span>\n",
       "<span style=\"color: #008080; text-decoration-color: #008080; font-weight: bold\">402</span><span style=\"color: #800000; text-decoration-color: #800000; font-weight: bold\"> Client Error: Payment Required for url: </span><span style=\"color: #0000ff; text-decoration-color: #0000ff; text-decoration: underline\">https://router.huggingface.co/together/v1/chat/completions</span><span style=\"color: #800000; text-decoration-color: #800000; font-weight: bold\"> (Request ID:</span>\n",
       "<span style=\"color: #808000; text-decoration-color: #808000; font-weight: bold\">Root</span><span style=\"color: #800000; text-decoration-color: #800000; font-weight: bold\">=</span><span style=\"color: #008080; text-decoration-color: #008080; font-weight: bold\">1</span><span style=\"color: #800000; text-decoration-color: #800000; font-weight: bold\">-67d0677e-21497ef863b98704570507e9;</span><span style=\"color: #ffff00; text-decoration-color: #ffff00\">995c4080-7877-47ca-96df-b61ea949b2eb</span><span style=\"color: #800000; text-decoration-color: #800000; font-weight: bold\">)</span>\n",
       "\n",
       "<span style=\"color: #800000; text-decoration-color: #800000; font-weight: bold\">You have exceeded your monthly included credits for Inference Providers.</span>\n",
       "</pre>\n"
      ],
      "text/plain": [
       "\u001b[1;31mError in generating model output:\u001b[0m\n",
       "\u001b[1;36m402\u001b[0m\u001b[1;31m Client Error: Payment Required for url: \u001b[0m\u001b[4;94mhttps://router.huggingface.co/together/v1/chat/completions\u001b[0m\u001b[1;31m \u001b[0m\u001b[1;31m(\u001b[0m\u001b[1;31mRequest ID:\u001b[0m\n",
       "\u001b[1;33mRoot\u001b[0m\u001b[1;31m=\u001b[0m\u001b[1;36m1\u001b[0m\u001b[1;31m-67d0677e-21497ef863b98704570507e9;\u001b[0m\u001b[93m995c4080-7877-47ca-96df-b61ea949b2eb\u001b[0m\u001b[1;31m)\u001b[0m\n",
       "\n",
       "\u001b[1;31mYou have exceeded your monthly included credits for Inference Providers.\u001b[0m\n"
      ]
     },
     "metadata": {},
     "output_type": "display_data"
    },
    {
     "data": {
      "text/html": [
       "<pre style=\"white-space:pre;overflow-x:auto;line-height:normal;font-family:Menlo,'DejaVu Sans Mono',consolas,'Courier New',monospace\"><span style=\"color: #7f7f7f; text-decoration-color: #7f7f7f\">[Step 14: Duration 0.11 seconds]</span>\n",
       "</pre>\n"
      ],
      "text/plain": [
       "\u001b[2m[Step 14: Duration 0.11 seconds]\u001b[0m\n"
      ]
     },
     "metadata": {},
     "output_type": "display_data"
    },
    {
     "data": {
      "text/html": [
       "<pre style=\"white-space:pre;overflow-x:auto;line-height:normal;font-family:Menlo,'DejaVu Sans Mono',consolas,'Courier New',monospace\"><span style=\"color: #d4b702; text-decoration-color: #d4b702\">━━━━━━━━━━━━━━━━━━━━━━━━━━━━━━━━━━━━━━━━━━━━━━━━━━━━━ </span><span style=\"font-weight: bold\">Step </span><span style=\"color: #008080; text-decoration-color: #008080; font-weight: bold\">15</span><span style=\"color: #d4b702; text-decoration-color: #d4b702\"> ━━━━━━━━━━━━━━━━━━━━━━━━━━━━━━━━━━━━━━━━━━━━━━━━━━━━━</span>\n",
       "</pre>\n"
      ],
      "text/plain": [
       "\u001b[38;2;212;183;2m━━━━━━━━━━━━━━━━━━━━━━━━━━━━━━━━━━━━━━━━━━━━━━━━━━━━━ \u001b[0m\u001b[1mStep \u001b[0m\u001b[1;36m15\u001b[0m\u001b[38;2;212;183;2m ━━━━━━━━━━━━━━━━━━━━━━━━━━━━━━━━━━━━━━━━━━━━━━━━━━━━━\u001b[0m\n"
      ]
     },
     "metadata": {},
     "output_type": "display_data"
    },
    {
     "data": {
      "text/html": [
       "<pre style=\"white-space:pre;overflow-x:auto;line-height:normal;font-family:Menlo,'DejaVu Sans Mono',consolas,'Courier New',monospace\"><span style=\"color: #800000; text-decoration-color: #800000; font-weight: bold\">Error in generating model output:</span>\n",
       "<span style=\"color: #008080; text-decoration-color: #008080; font-weight: bold\">402</span><span style=\"color: #800000; text-decoration-color: #800000; font-weight: bold\"> Client Error: Payment Required for url: </span><span style=\"color: #0000ff; text-decoration-color: #0000ff; text-decoration: underline\">https://router.huggingface.co/together/v1/chat/completions</span><span style=\"color: #800000; text-decoration-color: #800000; font-weight: bold\"> (Request ID:</span>\n",
       "<span style=\"color: #808000; text-decoration-color: #808000; font-weight: bold\">Root</span><span style=\"color: #800000; text-decoration-color: #800000; font-weight: bold\">=</span><span style=\"color: #008080; text-decoration-color: #008080; font-weight: bold\">1</span><span style=\"color: #800000; text-decoration-color: #800000; font-weight: bold\">-67d0677e-0b34045464b5ba7a06c3ca92;</span><span style=\"color: #ffff00; text-decoration-color: #ffff00\">3e462a19-392b-4c6c-a965-6139645d8318</span><span style=\"color: #800000; text-decoration-color: #800000; font-weight: bold\">)</span>\n",
       "\n",
       "<span style=\"color: #800000; text-decoration-color: #800000; font-weight: bold\">You have exceeded your monthly included credits for Inference Providers.</span>\n",
       "</pre>\n"
      ],
      "text/plain": [
       "\u001b[1;31mError in generating model output:\u001b[0m\n",
       "\u001b[1;36m402\u001b[0m\u001b[1;31m Client Error: Payment Required for url: \u001b[0m\u001b[4;94mhttps://router.huggingface.co/together/v1/chat/completions\u001b[0m\u001b[1;31m \u001b[0m\u001b[1;31m(\u001b[0m\u001b[1;31mRequest ID:\u001b[0m\n",
       "\u001b[1;33mRoot\u001b[0m\u001b[1;31m=\u001b[0m\u001b[1;36m1\u001b[0m\u001b[1;31m-67d0677e-0b34045464b5ba7a06c3ca92;\u001b[0m\u001b[93m3e462a19-392b-4c6c-a965-6139645d8318\u001b[0m\u001b[1;31m)\u001b[0m\n",
       "\n",
       "\u001b[1;31mYou have exceeded your monthly included credits for Inference Providers.\u001b[0m\n"
      ]
     },
     "metadata": {},
     "output_type": "display_data"
    },
    {
     "data": {
      "text/html": [
       "<pre style=\"white-space:pre;overflow-x:auto;line-height:normal;font-family:Menlo,'DejaVu Sans Mono',consolas,'Courier New',monospace\"><span style=\"color: #7f7f7f; text-decoration-color: #7f7f7f\">[Step 15: Duration 0.11 seconds]</span>\n",
       "</pre>\n"
      ],
      "text/plain": [
       "\u001b[2m[Step 15: Duration 0.11 seconds]\u001b[0m\n"
      ]
     },
     "metadata": {},
     "output_type": "display_data"
    },
    {
     "data": {
      "text/html": [
       "<pre style=\"white-space:pre;overflow-x:auto;line-height:normal;font-family:Menlo,'DejaVu Sans Mono',consolas,'Courier New',monospace\"><span style=\"color: #d4b702; text-decoration-color: #d4b702\">━━━━━━━━━━━━━━━━━━━━━━━━━━━━━━━━━━━━━━━━━━━━━━━━━━━━━ </span><span style=\"font-weight: bold\">Step </span><span style=\"color: #008080; text-decoration-color: #008080; font-weight: bold\">16</span><span style=\"color: #d4b702; text-decoration-color: #d4b702\"> ━━━━━━━━━━━━━━━━━━━━━━━━━━━━━━━━━━━━━━━━━━━━━━━━━━━━━</span>\n",
       "</pre>\n"
      ],
      "text/plain": [
       "\u001b[38;2;212;183;2m━━━━━━━━━━━━━━━━━━━━━━━━━━━━━━━━━━━━━━━━━━━━━━━━━━━━━ \u001b[0m\u001b[1mStep \u001b[0m\u001b[1;36m16\u001b[0m\u001b[38;2;212;183;2m ━━━━━━━━━━━━━━━━━━━━━━━━━━━━━━━━━━━━━━━━━━━━━━━━━━━━━\u001b[0m\n"
      ]
     },
     "metadata": {},
     "output_type": "display_data"
    },
    {
     "data": {
      "text/html": [
       "<pre style=\"white-space:pre;overflow-x:auto;line-height:normal;font-family:Menlo,'DejaVu Sans Mono',consolas,'Courier New',monospace\"><span style=\"color: #800000; text-decoration-color: #800000; font-weight: bold\">Error in generating model output:</span>\n",
       "<span style=\"color: #008080; text-decoration-color: #008080; font-weight: bold\">402</span><span style=\"color: #800000; text-decoration-color: #800000; font-weight: bold\"> Client Error: Payment Required for url: </span><span style=\"color: #0000ff; text-decoration-color: #0000ff; text-decoration: underline\">https://router.huggingface.co/together/v1/chat/completions</span><span style=\"color: #800000; text-decoration-color: #800000; font-weight: bold\"> (Request ID:</span>\n",
       "<span style=\"color: #808000; text-decoration-color: #808000; font-weight: bold\">Root</span><span style=\"color: #800000; text-decoration-color: #800000; font-weight: bold\">=</span><span style=\"color: #008080; text-decoration-color: #008080; font-weight: bold\">1</span><span style=\"color: #800000; text-decoration-color: #800000; font-weight: bold\">-67d0677e-4744dbd519ffc3ef233c813f;</span><span style=\"color: #ffff00; text-decoration-color: #ffff00\">eda84fa4-c25f-4642-9570-b9415ec359b9</span><span style=\"color: #800000; text-decoration-color: #800000; font-weight: bold\">)</span>\n",
       "\n",
       "<span style=\"color: #800000; text-decoration-color: #800000; font-weight: bold\">You have exceeded your monthly included credits for Inference Providers.</span>\n",
       "</pre>\n"
      ],
      "text/plain": [
       "\u001b[1;31mError in generating model output:\u001b[0m\n",
       "\u001b[1;36m402\u001b[0m\u001b[1;31m Client Error: Payment Required for url: \u001b[0m\u001b[4;94mhttps://router.huggingface.co/together/v1/chat/completions\u001b[0m\u001b[1;31m \u001b[0m\u001b[1;31m(\u001b[0m\u001b[1;31mRequest ID:\u001b[0m\n",
       "\u001b[1;33mRoot\u001b[0m\u001b[1;31m=\u001b[0m\u001b[1;36m1\u001b[0m\u001b[1;31m-67d0677e-4744dbd519ffc3ef233c813f;\u001b[0m\u001b[93meda84fa4-c25f-4642-9570-b9415ec359b9\u001b[0m\u001b[1;31m)\u001b[0m\n",
       "\n",
       "\u001b[1;31mYou have exceeded your monthly included credits for Inference Providers.\u001b[0m\n"
      ]
     },
     "metadata": {},
     "output_type": "display_data"
    },
    {
     "data": {
      "text/html": [
       "<pre style=\"white-space:pre;overflow-x:auto;line-height:normal;font-family:Menlo,'DejaVu Sans Mono',consolas,'Courier New',monospace\"><span style=\"color: #7f7f7f; text-decoration-color: #7f7f7f\">[Step 16: Duration 0.10 seconds]</span>\n",
       "</pre>\n"
      ],
      "text/plain": [
       "\u001b[2m[Step 16: Duration 0.10 seconds]\u001b[0m\n"
      ]
     },
     "metadata": {},
     "output_type": "display_data"
    },
    {
     "data": {
      "text/html": [
       "<pre style=\"white-space:pre;overflow-x:auto;line-height:normal;font-family:Menlo,'DejaVu Sans Mono',consolas,'Courier New',monospace\"><span style=\"color: #d4b702; text-decoration-color: #d4b702\">━━━━━━━━━━━━━━━━━━━━━━━━━━━━━━━━━━━━━━━━━━━━━━━━━━━━━ </span><span style=\"font-weight: bold\">Step </span><span style=\"color: #008080; text-decoration-color: #008080; font-weight: bold\">17</span><span style=\"color: #d4b702; text-decoration-color: #d4b702\"> ━━━━━━━━━━━━━━━━━━━━━━━━━━━━━━━━━━━━━━━━━━━━━━━━━━━━━</span>\n",
       "</pre>\n"
      ],
      "text/plain": [
       "\u001b[38;2;212;183;2m━━━━━━━━━━━━━━━━━━━━━━━━━━━━━━━━━━━━━━━━━━━━━━━━━━━━━ \u001b[0m\u001b[1mStep \u001b[0m\u001b[1;36m17\u001b[0m\u001b[38;2;212;183;2m ━━━━━━━━━━━━━━━━━━━━━━━━━━━━━━━━━━━━━━━━━━━━━━━━━━━━━\u001b[0m\n"
      ]
     },
     "metadata": {},
     "output_type": "display_data"
    },
    {
     "data": {
      "text/html": [
       "<pre style=\"white-space:pre;overflow-x:auto;line-height:normal;font-family:Menlo,'DejaVu Sans Mono',consolas,'Courier New',monospace\"><span style=\"color: #800000; text-decoration-color: #800000; font-weight: bold\">Error in generating model output:</span>\n",
       "<span style=\"color: #008080; text-decoration-color: #008080; font-weight: bold\">402</span><span style=\"color: #800000; text-decoration-color: #800000; font-weight: bold\"> Client Error: Payment Required for url: </span><span style=\"color: #0000ff; text-decoration-color: #0000ff; text-decoration: underline\">https://router.huggingface.co/together/v1/chat/completions</span><span style=\"color: #800000; text-decoration-color: #800000; font-weight: bold\"> (Request ID:</span>\n",
       "<span style=\"color: #808000; text-decoration-color: #808000; font-weight: bold\">Root</span><span style=\"color: #800000; text-decoration-color: #800000; font-weight: bold\">=</span><span style=\"color: #008080; text-decoration-color: #008080; font-weight: bold\">1</span><span style=\"color: #800000; text-decoration-color: #800000; font-weight: bold\">-67d0677e-4eee6aa43fb811363001033b;</span><span style=\"color: #ffff00; text-decoration-color: #ffff00\">10daa76d-a6bd-4eaa-b5eb-2928ecde8fbe</span><span style=\"color: #800000; text-decoration-color: #800000; font-weight: bold\">)</span>\n",
       "\n",
       "<span style=\"color: #800000; text-decoration-color: #800000; font-weight: bold\">You have exceeded your monthly included credits for Inference Providers.</span>\n",
       "</pre>\n"
      ],
      "text/plain": [
       "\u001b[1;31mError in generating model output:\u001b[0m\n",
       "\u001b[1;36m402\u001b[0m\u001b[1;31m Client Error: Payment Required for url: \u001b[0m\u001b[4;94mhttps://router.huggingface.co/together/v1/chat/completions\u001b[0m\u001b[1;31m \u001b[0m\u001b[1;31m(\u001b[0m\u001b[1;31mRequest ID:\u001b[0m\n",
       "\u001b[1;33mRoot\u001b[0m\u001b[1;31m=\u001b[0m\u001b[1;36m1\u001b[0m\u001b[1;31m-67d0677e-4eee6aa43fb811363001033b;\u001b[0m\u001b[93m10daa76d-a6bd-4eaa-b5eb-2928ecde8fbe\u001b[0m\u001b[1;31m)\u001b[0m\n",
       "\n",
       "\u001b[1;31mYou have exceeded your monthly included credits for Inference Providers.\u001b[0m\n"
      ]
     },
     "metadata": {},
     "output_type": "display_data"
    },
    {
     "data": {
      "text/html": [
       "<pre style=\"white-space:pre;overflow-x:auto;line-height:normal;font-family:Menlo,'DejaVu Sans Mono',consolas,'Courier New',monospace\"><span style=\"color: #7f7f7f; text-decoration-color: #7f7f7f\">[Step 17: Duration 0.15 seconds]</span>\n",
       "</pre>\n"
      ],
      "text/plain": [
       "\u001b[2m[Step 17: Duration 0.15 seconds]\u001b[0m\n"
      ]
     },
     "metadata": {},
     "output_type": "display_data"
    },
    {
     "data": {
      "text/html": [
       "<pre style=\"white-space:pre;overflow-x:auto;line-height:normal;font-family:Menlo,'DejaVu Sans Mono',consolas,'Courier New',monospace\"><span style=\"color: #d4b702; text-decoration-color: #d4b702\">━━━━━━━━━━━━━━━━━━━━━━━━━━━━━━━━━━━━━━━━━━━━━━━━━━━━━ </span><span style=\"font-weight: bold\">Step </span><span style=\"color: #008080; text-decoration-color: #008080; font-weight: bold\">18</span><span style=\"color: #d4b702; text-decoration-color: #d4b702\"> ━━━━━━━━━━━━━━━━━━━━━━━━━━━━━━━━━━━━━━━━━━━━━━━━━━━━━</span>\n",
       "</pre>\n"
      ],
      "text/plain": [
       "\u001b[38;2;212;183;2m━━━━━━━━━━━━━━━━━━━━━━━━━━━━━━━━━━━━━━━━━━━━━━━━━━━━━ \u001b[0m\u001b[1mStep \u001b[0m\u001b[1;36m18\u001b[0m\u001b[38;2;212;183;2m ━━━━━━━━━━━━━━━━━━━━━━━━━━━━━━━━━━━━━━━━━━━━━━━━━━━━━\u001b[0m\n"
      ]
     },
     "metadata": {},
     "output_type": "display_data"
    },
    {
     "data": {
      "text/html": [
       "<pre style=\"white-space:pre;overflow-x:auto;line-height:normal;font-family:Menlo,'DejaVu Sans Mono',consolas,'Courier New',monospace\"><span style=\"color: #800000; text-decoration-color: #800000; font-weight: bold\">Error in generating model output:</span>\n",
       "<span style=\"color: #008080; text-decoration-color: #008080; font-weight: bold\">402</span><span style=\"color: #800000; text-decoration-color: #800000; font-weight: bold\"> Client Error: Payment Required for url: </span><span style=\"color: #0000ff; text-decoration-color: #0000ff; text-decoration: underline\">https://router.huggingface.co/together/v1/chat/completions</span><span style=\"color: #800000; text-decoration-color: #800000; font-weight: bold\"> (Request ID:</span>\n",
       "<span style=\"color: #808000; text-decoration-color: #808000; font-weight: bold\">Root</span><span style=\"color: #800000; text-decoration-color: #800000; font-weight: bold\">=</span><span style=\"color: #008080; text-decoration-color: #008080; font-weight: bold\">1</span><span style=\"color: #800000; text-decoration-color: #800000; font-weight: bold\">-67d0677e-480f1d4265ad8b6037e3e7ed;</span><span style=\"color: #ffff00; text-decoration-color: #ffff00\">65ef7a20-ab35-43e9-80ff-8aa7d6755f0a</span><span style=\"color: #800000; text-decoration-color: #800000; font-weight: bold\">)</span>\n",
       "\n",
       "<span style=\"color: #800000; text-decoration-color: #800000; font-weight: bold\">You have exceeded your monthly included credits for Inference Providers.</span>\n",
       "</pre>\n"
      ],
      "text/plain": [
       "\u001b[1;31mError in generating model output:\u001b[0m\n",
       "\u001b[1;36m402\u001b[0m\u001b[1;31m Client Error: Payment Required for url: \u001b[0m\u001b[4;94mhttps://router.huggingface.co/together/v1/chat/completions\u001b[0m\u001b[1;31m \u001b[0m\u001b[1;31m(\u001b[0m\u001b[1;31mRequest ID:\u001b[0m\n",
       "\u001b[1;33mRoot\u001b[0m\u001b[1;31m=\u001b[0m\u001b[1;36m1\u001b[0m\u001b[1;31m-67d0677e-480f1d4265ad8b6037e3e7ed;\u001b[0m\u001b[93m65ef7a20-ab35-43e9-80ff-8aa7d6755f0a\u001b[0m\u001b[1;31m)\u001b[0m\n",
       "\n",
       "\u001b[1;31mYou have exceeded your monthly included credits for Inference Providers.\u001b[0m\n"
      ]
     },
     "metadata": {},
     "output_type": "display_data"
    },
    {
     "data": {
      "text/html": [
       "<pre style=\"white-space:pre;overflow-x:auto;line-height:normal;font-family:Menlo,'DejaVu Sans Mono',consolas,'Courier New',monospace\"><span style=\"color: #7f7f7f; text-decoration-color: #7f7f7f\">[Step 18: Duration 0.15 seconds]</span>\n",
       "</pre>\n"
      ],
      "text/plain": [
       "\u001b[2m[Step 18: Duration 0.15 seconds]\u001b[0m\n"
      ]
     },
     "metadata": {},
     "output_type": "display_data"
    },
    {
     "data": {
      "text/html": [
       "<pre style=\"white-space:pre;overflow-x:auto;line-height:normal;font-family:Menlo,'DejaVu Sans Mono',consolas,'Courier New',monospace\"><span style=\"color: #d4b702; text-decoration-color: #d4b702\">━━━━━━━━━━━━━━━━━━━━━━━━━━━━━━━━━━━━━━━━━━━━━━━━━━━━━ </span><span style=\"font-weight: bold\">Step </span><span style=\"color: #008080; text-decoration-color: #008080; font-weight: bold\">19</span><span style=\"color: #d4b702; text-decoration-color: #d4b702\"> ━━━━━━━━━━━━━━━━━━━━━━━━━━━━━━━━━━━━━━━━━━━━━━━━━━━━━</span>\n",
       "</pre>\n"
      ],
      "text/plain": [
       "\u001b[38;2;212;183;2m━━━━━━━━━━━━━━━━━━━━━━━━━━━━━━━━━━━━━━━━━━━━━━━━━━━━━ \u001b[0m\u001b[1mStep \u001b[0m\u001b[1;36m19\u001b[0m\u001b[38;2;212;183;2m ━━━━━━━━━━━━━━━━━━━━━━━━━━━━━━━━━━━━━━━━━━━━━━━━━━━━━\u001b[0m\n"
      ]
     },
     "metadata": {},
     "output_type": "display_data"
    },
    {
     "data": {
      "text/html": [
       "<pre style=\"white-space:pre;overflow-x:auto;line-height:normal;font-family:Menlo,'DejaVu Sans Mono',consolas,'Courier New',monospace\"><span style=\"color: #800000; text-decoration-color: #800000; font-weight: bold\">Error in generating model output:</span>\n",
       "<span style=\"color: #008080; text-decoration-color: #008080; font-weight: bold\">402</span><span style=\"color: #800000; text-decoration-color: #800000; font-weight: bold\"> Client Error: Payment Required for url: </span><span style=\"color: #0000ff; text-decoration-color: #0000ff; text-decoration: underline\">https://router.huggingface.co/together/v1/chat/completions</span><span style=\"color: #800000; text-decoration-color: #800000; font-weight: bold\"> (Request ID:</span>\n",
       "<span style=\"color: #808000; text-decoration-color: #808000; font-weight: bold\">Root</span><span style=\"color: #800000; text-decoration-color: #800000; font-weight: bold\">=</span><span style=\"color: #008080; text-decoration-color: #008080; font-weight: bold\">1</span><span style=\"color: #800000; text-decoration-color: #800000; font-weight: bold\">-67d0677e-06d921926a77bfcd31a2b0e5;</span><span style=\"color: #ffff00; text-decoration-color: #ffff00\">f4fcd06f-dedd-4bca-9616-5e5d8bc67bc6</span><span style=\"color: #800000; text-decoration-color: #800000; font-weight: bold\">)</span>\n",
       "\n",
       "<span style=\"color: #800000; text-decoration-color: #800000; font-weight: bold\">You have exceeded your monthly included credits for Inference Providers.</span>\n",
       "</pre>\n"
      ],
      "text/plain": [
       "\u001b[1;31mError in generating model output:\u001b[0m\n",
       "\u001b[1;36m402\u001b[0m\u001b[1;31m Client Error: Payment Required for url: \u001b[0m\u001b[4;94mhttps://router.huggingface.co/together/v1/chat/completions\u001b[0m\u001b[1;31m \u001b[0m\u001b[1;31m(\u001b[0m\u001b[1;31mRequest ID:\u001b[0m\n",
       "\u001b[1;33mRoot\u001b[0m\u001b[1;31m=\u001b[0m\u001b[1;36m1\u001b[0m\u001b[1;31m-67d0677e-06d921926a77bfcd31a2b0e5;\u001b[0m\u001b[93mf4fcd06f-dedd-4bca-9616-5e5d8bc67bc6\u001b[0m\u001b[1;31m)\u001b[0m\n",
       "\n",
       "\u001b[1;31mYou have exceeded your monthly included credits for Inference Providers.\u001b[0m\n"
      ]
     },
     "metadata": {},
     "output_type": "display_data"
    },
    {
     "data": {
      "text/html": [
       "<pre style=\"white-space:pre;overflow-x:auto;line-height:normal;font-family:Menlo,'DejaVu Sans Mono',consolas,'Courier New',monospace\"><span style=\"color: #7f7f7f; text-decoration-color: #7f7f7f\">[Step 19: Duration 0.10 seconds]</span>\n",
       "</pre>\n"
      ],
      "text/plain": [
       "\u001b[2m[Step 19: Duration 0.10 seconds]\u001b[0m\n"
      ]
     },
     "metadata": {},
     "output_type": "display_data"
    },
    {
     "data": {
      "text/html": [
       "<pre style=\"white-space:pre;overflow-x:auto;line-height:normal;font-family:Menlo,'DejaVu Sans Mono',consolas,'Courier New',monospace\"><span style=\"color: #d4b702; text-decoration-color: #d4b702\">━━━━━━━━━━━━━━━━━━━━━━━━━━━━━━━━━━━━━━━━━━━━━━━━━━━━━ </span><span style=\"font-weight: bold\">Step </span><span style=\"color: #008080; text-decoration-color: #008080; font-weight: bold\">20</span><span style=\"color: #d4b702; text-decoration-color: #d4b702\"> ━━━━━━━━━━━━━━━━━━━━━━━━━━━━━━━━━━━━━━━━━━━━━━━━━━━━━</span>\n",
       "</pre>\n"
      ],
      "text/plain": [
       "\u001b[38;2;212;183;2m━━━━━━━━━━━━━━━━━━━━━━━━━━━━━━━━━━━━━━━━━━━━━━━━━━━━━ \u001b[0m\u001b[1mStep \u001b[0m\u001b[1;36m20\u001b[0m\u001b[38;2;212;183;2m ━━━━━━━━━━━━━━━━━━━━━━━━━━━━━━━━━━━━━━━━━━━━━━━━━━━━━\u001b[0m\n"
      ]
     },
     "metadata": {},
     "output_type": "display_data"
    },
    {
     "data": {
      "text/html": [
       "<pre style=\"white-space:pre;overflow-x:auto;line-height:normal;font-family:Menlo,'DejaVu Sans Mono',consolas,'Courier New',monospace\"><span style=\"color: #800000; text-decoration-color: #800000; font-weight: bold\">Error in generating model output:</span>\n",
       "<span style=\"color: #008080; text-decoration-color: #008080; font-weight: bold\">402</span><span style=\"color: #800000; text-decoration-color: #800000; font-weight: bold\"> Client Error: Payment Required for url: </span><span style=\"color: #0000ff; text-decoration-color: #0000ff; text-decoration: underline\">https://router.huggingface.co/together/v1/chat/completions</span><span style=\"color: #800000; text-decoration-color: #800000; font-weight: bold\"> (Request ID:</span>\n",
       "<span style=\"color: #808000; text-decoration-color: #808000; font-weight: bold\">Root</span><span style=\"color: #800000; text-decoration-color: #800000; font-weight: bold\">=</span><span style=\"color: #008080; text-decoration-color: #008080; font-weight: bold\">1</span><span style=\"color: #800000; text-decoration-color: #800000; font-weight: bold\">-67d0677e-74593f8c3e9e09b765f4d0f0;</span><span style=\"color: #ffff00; text-decoration-color: #ffff00\">9bf1fb85-e8d1-442c-98f4-598b2754ac2a</span><span style=\"color: #800000; text-decoration-color: #800000; font-weight: bold\">)</span>\n",
       "\n",
       "<span style=\"color: #800000; text-decoration-color: #800000; font-weight: bold\">You have exceeded your monthly included credits for Inference Providers.</span>\n",
       "</pre>\n"
      ],
      "text/plain": [
       "\u001b[1;31mError in generating model output:\u001b[0m\n",
       "\u001b[1;36m402\u001b[0m\u001b[1;31m Client Error: Payment Required for url: \u001b[0m\u001b[4;94mhttps://router.huggingface.co/together/v1/chat/completions\u001b[0m\u001b[1;31m \u001b[0m\u001b[1;31m(\u001b[0m\u001b[1;31mRequest ID:\u001b[0m\n",
       "\u001b[1;33mRoot\u001b[0m\u001b[1;31m=\u001b[0m\u001b[1;36m1\u001b[0m\u001b[1;31m-67d0677e-74593f8c3e9e09b765f4d0f0;\u001b[0m\u001b[93m9bf1fb85-e8d1-442c-98f4-598b2754ac2a\u001b[0m\u001b[1;31m)\u001b[0m\n",
       "\n",
       "\u001b[1;31mYou have exceeded your monthly included credits for Inference Providers.\u001b[0m\n"
      ]
     },
     "metadata": {},
     "output_type": "display_data"
    },
    {
     "data": {
      "text/html": [
       "<pre style=\"white-space:pre;overflow-x:auto;line-height:normal;font-family:Menlo,'DejaVu Sans Mono',consolas,'Courier New',monospace\"><span style=\"color: #7f7f7f; text-decoration-color: #7f7f7f\">[Step 20: Duration 0.10 seconds]</span>\n",
       "</pre>\n"
      ],
      "text/plain": [
       "\u001b[2m[Step 20: Duration 0.10 seconds]\u001b[0m\n"
      ]
     },
     "metadata": {},
     "output_type": "display_data"
    },
    {
     "data": {
      "text/html": [
       "<pre style=\"white-space:pre;overflow-x:auto;line-height:normal;font-family:Menlo,'DejaVu Sans Mono',consolas,'Courier New',monospace\"><span style=\"color: #800000; text-decoration-color: #800000; font-weight: bold\">Reached max steps.</span>\n",
       "</pre>\n"
      ],
      "text/plain": [
       "\u001b[1;31mReached max steps.\u001b[0m\n"
      ]
     },
     "metadata": {},
     "output_type": "display_data"
    },
    {
     "data": {
      "text/html": [
       "<pre style=\"white-space:pre;overflow-x:auto;line-height:normal;font-family:Menlo,'DejaVu Sans Mono',consolas,'Courier New',monospace\"><span style=\"color: #7f7f7f; text-decoration-color: #7f7f7f\">[Step 21: Duration 0.20 seconds]</span>\n",
       "</pre>\n"
      ],
      "text/plain": [
       "\u001b[2m[Step 21: Duration 0.20 seconds]\u001b[0m\n"
      ]
     },
     "metadata": {},
     "output_type": "display_data"
    },
    {
     "data": {
      "text/html": [
       "<pre style=\"white-space:pre;overflow-x:auto;line-height:normal;font-family:Menlo,'DejaVu Sans Mono',consolas,'Courier New',monospace\"><span style=\"color: #d4b702; text-decoration-color: #d4b702\">╭──────────────────────────────────────────────────── </span><span style=\"color: #d4b702; text-decoration-color: #d4b702; font-weight: bold\">New run</span><span style=\"color: #d4b702; text-decoration-color: #d4b702\"> ────────────────────────────────────────────────────╮</span>\n",
       "<span style=\"color: #d4b702; text-decoration-color: #d4b702\">│</span>                                                                                                                 <span style=\"color: #d4b702; text-decoration-color: #d4b702\">│</span>\n",
       "<span style=\"color: #d4b702; text-decoration-color: #d4b702\">│</span> <span style=\"font-weight: bold\">Calculate cargo plane transfer times to Gotham for these locations and return them to me as a pandas dataframe</span>  <span style=\"color: #d4b702; text-decoration-color: #d4b702\">│</span>\n",
       "<span style=\"color: #d4b702; text-decoration-color: #d4b702\">│</span>                                                                                                                 <span style=\"color: #d4b702; text-decoration-color: #d4b702\">│</span>\n",
       "<span style=\"color: #d4b702; text-decoration-color: #d4b702\">╰─ HfApiModel - Qwen/Qwen2.5-Coder-32B-Instruct ──────────────────────────────────────────────────────────────────╯</span>\n",
       "</pre>\n"
      ],
      "text/plain": [
       "\u001b[38;2;212;183;2m╭─\u001b[0m\u001b[38;2;212;183;2m───────────────────────────────────────────────────\u001b[0m\u001b[38;2;212;183;2m \u001b[0m\u001b[1;38;2;212;183;2mNew run\u001b[0m\u001b[38;2;212;183;2m \u001b[0m\u001b[38;2;212;183;2m───────────────────────────────────────────────────\u001b[0m\u001b[38;2;212;183;2m─╮\u001b[0m\n",
       "\u001b[38;2;212;183;2m│\u001b[0m                                                                                                                 \u001b[38;2;212;183;2m│\u001b[0m\n",
       "\u001b[38;2;212;183;2m│\u001b[0m \u001b[1mCalculate cargo plane transfer times to Gotham for these locations and return them to me as a pandas dataframe\u001b[0m  \u001b[38;2;212;183;2m│\u001b[0m\n",
       "\u001b[38;2;212;183;2m│\u001b[0m                                                                                                                 \u001b[38;2;212;183;2m│\u001b[0m\n",
       "\u001b[38;2;212;183;2m╰─\u001b[0m\u001b[38;2;212;183;2m HfApiModel - Qwen/Qwen2.5-Coder-32B-Instruct \u001b[0m\u001b[38;2;212;183;2m─────────────────────────────────────────────────────────────────\u001b[0m\u001b[38;2;212;183;2m─╯\u001b[0m\n"
      ]
     },
     "metadata": {},
     "output_type": "display_data"
    },
    {
     "data": {
      "text/html": [
       "<pre style=\"white-space:pre;overflow-x:auto;line-height:normal;font-family:Menlo,'DejaVu Sans Mono',consolas,'Courier New',monospace\"><span style=\"color: #d4b702; text-decoration-color: #d4b702\">━━━━━━━━━━━━━━━━━━━━━━━━━━━━━━━━━━━━━━━━━━━━━━━━━━━━━ </span><span style=\"font-weight: bold\">Step </span><span style=\"color: #008080; text-decoration-color: #008080; font-weight: bold\">1</span><span style=\"color: #d4b702; text-decoration-color: #d4b702\"> ━━━━━━━━━━━━━━━━━━━━━━━━━━━━━━━━━━━━━━━━━━━━━━━━━━━━━━</span>\n",
       "</pre>\n"
      ],
      "text/plain": [
       "\u001b[38;2;212;183;2m━━━━━━━━━━━━━━━━━━━━━━━━━━━━━━━━━━━━━━━━━━━━━━━━━━━━━ \u001b[0m\u001b[1mStep \u001b[0m\u001b[1;36m1\u001b[0m\u001b[38;2;212;183;2m ━━━━━━━━━━━━━━━━━━━━━━━━━━━━━━━━━━━━━━━━━━━━━━━━━━━━━━\u001b[0m\n"
      ]
     },
     "metadata": {},
     "output_type": "display_data"
    },
    {
     "data": {
      "text/html": [
       "<pre style=\"white-space:pre;overflow-x:auto;line-height:normal;font-family:Menlo,'DejaVu Sans Mono',consolas,'Courier New',monospace\"><span style=\"color: #800000; text-decoration-color: #800000; font-weight: bold\">Error in generating model output:</span>\n",
       "<span style=\"color: #008080; text-decoration-color: #008080; font-weight: bold\">402</span><span style=\"color: #800000; text-decoration-color: #800000; font-weight: bold\"> Client Error: Payment Required for url: </span><span style=\"color: #0000ff; text-decoration-color: #0000ff; text-decoration: underline\">https://router.huggingface.co/together/v1/chat/completions</span><span style=\"color: #800000; text-decoration-color: #800000; font-weight: bold\"> (Request ID:</span>\n",
       "<span style=\"color: #808000; text-decoration-color: #808000; font-weight: bold\">Root</span><span style=\"color: #800000; text-decoration-color: #800000; font-weight: bold\">=</span><span style=\"color: #008080; text-decoration-color: #008080; font-weight: bold\">1</span><span style=\"color: #800000; text-decoration-color: #800000; font-weight: bold\">-67d0677e-2adde11066b1c8eb72ecc8a3;</span><span style=\"color: #ffff00; text-decoration-color: #ffff00\">54858d18-34c9-45d8-8f91-f1f9fe3cdd6a</span><span style=\"color: #800000; text-decoration-color: #800000; font-weight: bold\">)</span>\n",
       "\n",
       "<span style=\"color: #800000; text-decoration-color: #800000; font-weight: bold\">You have exceeded your monthly included credits for Inference Providers.</span>\n",
       "</pre>\n"
      ],
      "text/plain": [
       "\u001b[1;31mError in generating model output:\u001b[0m\n",
       "\u001b[1;36m402\u001b[0m\u001b[1;31m Client Error: Payment Required for url: \u001b[0m\u001b[4;94mhttps://router.huggingface.co/together/v1/chat/completions\u001b[0m\u001b[1;31m \u001b[0m\u001b[1;31m(\u001b[0m\u001b[1;31mRequest ID:\u001b[0m\n",
       "\u001b[1;33mRoot\u001b[0m\u001b[1;31m=\u001b[0m\u001b[1;36m1\u001b[0m\u001b[1;31m-67d0677e-2adde11066b1c8eb72ecc8a3;\u001b[0m\u001b[93m54858d18-34c9-45d8-8f91-f1f9fe3cdd6a\u001b[0m\u001b[1;31m)\u001b[0m\n",
       "\n",
       "\u001b[1;31mYou have exceeded your monthly included credits for Inference Providers.\u001b[0m\n"
      ]
     },
     "metadata": {},
     "output_type": "display_data"
    },
    {
     "data": {
      "text/html": [
       "<pre style=\"white-space:pre;overflow-x:auto;line-height:normal;font-family:Menlo,'DejaVu Sans Mono',consolas,'Courier New',monospace\"><span style=\"color: #7f7f7f; text-decoration-color: #7f7f7f\">[Step 1: Duration 0.10 seconds]</span>\n",
       "</pre>\n"
      ],
      "text/plain": [
       "\u001b[2m[Step 1: Duration 0.10 seconds]\u001b[0m\n"
      ]
     },
     "metadata": {},
     "output_type": "display_data"
    },
    {
     "data": {
      "text/html": [
       "<pre style=\"white-space:pre;overflow-x:auto;line-height:normal;font-family:Menlo,'DejaVu Sans Mono',consolas,'Courier New',monospace\"><span style=\"color: #d4b702; text-decoration-color: #d4b702\">━━━━━━━━━━━━━━━━━━━━━━━━━━━━━━━━━━━━━━━━━━━━━━━━━━━━━ </span><span style=\"font-weight: bold\">Step </span><span style=\"color: #008080; text-decoration-color: #008080; font-weight: bold\">2</span><span style=\"color: #d4b702; text-decoration-color: #d4b702\"> ━━━━━━━━━━━━━━━━━━━━━━━━━━━━━━━━━━━━━━━━━━━━━━━━━━━━━━</span>\n",
       "</pre>\n"
      ],
      "text/plain": [
       "\u001b[38;2;212;183;2m━━━━━━━━━━━━━━━━━━━━━━━━━━━━━━━━━━━━━━━━━━━━━━━━━━━━━ \u001b[0m\u001b[1mStep \u001b[0m\u001b[1;36m2\u001b[0m\u001b[38;2;212;183;2m ━━━━━━━━━━━━━━━━━━━━━━━━━━━━━━━━━━━━━━━━━━━━━━━━━━━━━━\u001b[0m\n"
      ]
     },
     "metadata": {},
     "output_type": "display_data"
    },
    {
     "data": {
      "text/html": [
       "<pre style=\"white-space:pre;overflow-x:auto;line-height:normal;font-family:Menlo,'DejaVu Sans Mono',consolas,'Courier New',monospace\"><span style=\"color: #800000; text-decoration-color: #800000; font-weight: bold\">Error in generating model output:</span>\n",
       "<span style=\"color: #008080; text-decoration-color: #008080; font-weight: bold\">402</span><span style=\"color: #800000; text-decoration-color: #800000; font-weight: bold\"> Client Error: Payment Required for url: </span><span style=\"color: #0000ff; text-decoration-color: #0000ff; text-decoration: underline\">https://router.huggingface.co/together/v1/chat/completions</span><span style=\"color: #800000; text-decoration-color: #800000; font-weight: bold\"> (Request ID:</span>\n",
       "<span style=\"color: #808000; text-decoration-color: #808000; font-weight: bold\">Root</span><span style=\"color: #800000; text-decoration-color: #800000; font-weight: bold\">=</span><span style=\"color: #008080; text-decoration-color: #008080; font-weight: bold\">1</span><span style=\"color: #800000; text-decoration-color: #800000; font-weight: bold\">-67d0677f-336c6af071c29ce16939bb35;</span><span style=\"color: #ffff00; text-decoration-color: #ffff00\">fb447672-df10-4e5a-8241-7cb630c6be84</span><span style=\"color: #800000; text-decoration-color: #800000; font-weight: bold\">)</span>\n",
       "\n",
       "<span style=\"color: #800000; text-decoration-color: #800000; font-weight: bold\">You have exceeded your monthly included credits for Inference Providers.</span>\n",
       "</pre>\n"
      ],
      "text/plain": [
       "\u001b[1;31mError in generating model output:\u001b[0m\n",
       "\u001b[1;36m402\u001b[0m\u001b[1;31m Client Error: Payment Required for url: \u001b[0m\u001b[4;94mhttps://router.huggingface.co/together/v1/chat/completions\u001b[0m\u001b[1;31m \u001b[0m\u001b[1;31m(\u001b[0m\u001b[1;31mRequest ID:\u001b[0m\n",
       "\u001b[1;33mRoot\u001b[0m\u001b[1;31m=\u001b[0m\u001b[1;36m1\u001b[0m\u001b[1;31m-67d0677f-336c6af071c29ce16939bb35;\u001b[0m\u001b[93mfb447672-df10-4e5a-8241-7cb630c6be84\u001b[0m\u001b[1;31m)\u001b[0m\n",
       "\n",
       "\u001b[1;31mYou have exceeded your monthly included credits for Inference Providers.\u001b[0m\n"
      ]
     },
     "metadata": {},
     "output_type": "display_data"
    },
    {
     "data": {
      "text/html": [
       "<pre style=\"white-space:pre;overflow-x:auto;line-height:normal;font-family:Menlo,'DejaVu Sans Mono',consolas,'Courier New',monospace\"><span style=\"color: #7f7f7f; text-decoration-color: #7f7f7f\">[Step 2: Duration 0.10 seconds]</span>\n",
       "</pre>\n"
      ],
      "text/plain": [
       "\u001b[2m[Step 2: Duration 0.10 seconds]\u001b[0m\n"
      ]
     },
     "metadata": {},
     "output_type": "display_data"
    },
    {
     "data": {
      "text/html": [
       "<pre style=\"white-space:pre;overflow-x:auto;line-height:normal;font-family:Menlo,'DejaVu Sans Mono',consolas,'Courier New',monospace\"><span style=\"color: #d4b702; text-decoration-color: #d4b702\">━━━━━━━━━━━━━━━━━━━━━━━━━━━━━━━━━━━━━━━━━━━━━━━━━━━━━ </span><span style=\"font-weight: bold\">Step </span><span style=\"color: #008080; text-decoration-color: #008080; font-weight: bold\">3</span><span style=\"color: #d4b702; text-decoration-color: #d4b702\"> ━━━━━━━━━━━━━━━━━━━━━━━━━━━━━━━━━━━━━━━━━━━━━━━━━━━━━━</span>\n",
       "</pre>\n"
      ],
      "text/plain": [
       "\u001b[38;2;212;183;2m━━━━━━━━━━━━━━━━━━━━━━━━━━━━━━━━━━━━━━━━━━━━━━━━━━━━━ \u001b[0m\u001b[1mStep \u001b[0m\u001b[1;36m3\u001b[0m\u001b[38;2;212;183;2m ━━━━━━━━━━━━━━━━━━━━━━━━━━━━━━━━━━━━━━━━━━━━━━━━━━━━━━\u001b[0m\n"
      ]
     },
     "metadata": {},
     "output_type": "display_data"
    },
    {
     "data": {
      "text/html": [
       "<pre style=\"white-space:pre;overflow-x:auto;line-height:normal;font-family:Menlo,'DejaVu Sans Mono',consolas,'Courier New',monospace\"><span style=\"color: #800000; text-decoration-color: #800000; font-weight: bold\">Error in generating model output:</span>\n",
       "<span style=\"color: #008080; text-decoration-color: #008080; font-weight: bold\">402</span><span style=\"color: #800000; text-decoration-color: #800000; font-weight: bold\"> Client Error: Payment Required for url: </span><span style=\"color: #0000ff; text-decoration-color: #0000ff; text-decoration: underline\">https://router.huggingface.co/together/v1/chat/completions</span><span style=\"color: #800000; text-decoration-color: #800000; font-weight: bold\"> (Request ID:</span>\n",
       "<span style=\"color: #808000; text-decoration-color: #808000; font-weight: bold\">Root</span><span style=\"color: #800000; text-decoration-color: #800000; font-weight: bold\">=</span><span style=\"color: #008080; text-decoration-color: #008080; font-weight: bold\">1</span><span style=\"color: #800000; text-decoration-color: #800000; font-weight: bold\">-67d0677f-1594520b4749314a29e0fa38;</span><span style=\"color: #ffff00; text-decoration-color: #ffff00\">af0b0897-66ef-4886-bd5a-e7022d25ac50</span><span style=\"color: #800000; text-decoration-color: #800000; font-weight: bold\">)</span>\n",
       "\n",
       "<span style=\"color: #800000; text-decoration-color: #800000; font-weight: bold\">You have exceeded your monthly included credits for Inference Providers.</span>\n",
       "</pre>\n"
      ],
      "text/plain": [
       "\u001b[1;31mError in generating model output:\u001b[0m\n",
       "\u001b[1;36m402\u001b[0m\u001b[1;31m Client Error: Payment Required for url: \u001b[0m\u001b[4;94mhttps://router.huggingface.co/together/v1/chat/completions\u001b[0m\u001b[1;31m \u001b[0m\u001b[1;31m(\u001b[0m\u001b[1;31mRequest ID:\u001b[0m\n",
       "\u001b[1;33mRoot\u001b[0m\u001b[1;31m=\u001b[0m\u001b[1;36m1\u001b[0m\u001b[1;31m-67d0677f-1594520b4749314a29e0fa38;\u001b[0m\u001b[93maf0b0897-66ef-4886-bd5a-e7022d25ac50\u001b[0m\u001b[1;31m)\u001b[0m\n",
       "\n",
       "\u001b[1;31mYou have exceeded your monthly included credits for Inference Providers.\u001b[0m\n"
      ]
     },
     "metadata": {},
     "output_type": "display_data"
    },
    {
     "data": {
      "text/html": [
       "<pre style=\"white-space:pre;overflow-x:auto;line-height:normal;font-family:Menlo,'DejaVu Sans Mono',consolas,'Courier New',monospace\"><span style=\"color: #7f7f7f; text-decoration-color: #7f7f7f\">[Step 3: Duration 0.10 seconds]</span>\n",
       "</pre>\n"
      ],
      "text/plain": [
       "\u001b[2m[Step 3: Duration 0.10 seconds]\u001b[0m\n"
      ]
     },
     "metadata": {},
     "output_type": "display_data"
    },
    {
     "data": {
      "text/html": [
       "<pre style=\"white-space:pre;overflow-x:auto;line-height:normal;font-family:Menlo,'DejaVu Sans Mono',consolas,'Courier New',monospace\"><span style=\"color: #d4b702; text-decoration-color: #d4b702\">━━━━━━━━━━━━━━━━━━━━━━━━━━━━━━━━━━━━━━━━━━━━━━━━━━━━━ </span><span style=\"font-weight: bold\">Step </span><span style=\"color: #008080; text-decoration-color: #008080; font-weight: bold\">4</span><span style=\"color: #d4b702; text-decoration-color: #d4b702\"> ━━━━━━━━━━━━━━━━━━━━━━━━━━━━━━━━━━━━━━━━━━━━━━━━━━━━━━</span>\n",
       "</pre>\n"
      ],
      "text/plain": [
       "\u001b[38;2;212;183;2m━━━━━━━━━━━━━━━━━━━━━━━━━━━━━━━━━━━━━━━━━━━━━━━━━━━━━ \u001b[0m\u001b[1mStep \u001b[0m\u001b[1;36m4\u001b[0m\u001b[38;2;212;183;2m ━━━━━━━━━━━━━━━━━━━━━━━━━━━━━━━━━━━━━━━━━━━━━━━━━━━━━━\u001b[0m\n"
      ]
     },
     "metadata": {},
     "output_type": "display_data"
    },
    {
     "data": {
      "text/html": [
       "<pre style=\"white-space:pre;overflow-x:auto;line-height:normal;font-family:Menlo,'DejaVu Sans Mono',consolas,'Courier New',monospace\"><span style=\"color: #800000; text-decoration-color: #800000; font-weight: bold\">Error in generating model output:</span>\n",
       "<span style=\"color: #008080; text-decoration-color: #008080; font-weight: bold\">402</span><span style=\"color: #800000; text-decoration-color: #800000; font-weight: bold\"> Client Error: Payment Required for url: </span><span style=\"color: #0000ff; text-decoration-color: #0000ff; text-decoration: underline\">https://router.huggingface.co/together/v1/chat/completions</span><span style=\"color: #800000; text-decoration-color: #800000; font-weight: bold\"> (Request ID:</span>\n",
       "<span style=\"color: #808000; text-decoration-color: #808000; font-weight: bold\">Root</span><span style=\"color: #800000; text-decoration-color: #800000; font-weight: bold\">=</span><span style=\"color: #008080; text-decoration-color: #008080; font-weight: bold\">1</span><span style=\"color: #800000; text-decoration-color: #800000; font-weight: bold\">-67d0677f-538461897061e5f960999c34;</span><span style=\"color: #ffff00; text-decoration-color: #ffff00\">7c205a6d-532c-48ea-809d-36e26e301535</span><span style=\"color: #800000; text-decoration-color: #800000; font-weight: bold\">)</span>\n",
       "\n",
       "<span style=\"color: #800000; text-decoration-color: #800000; font-weight: bold\">You have exceeded your monthly included credits for Inference Providers.</span>\n",
       "</pre>\n"
      ],
      "text/plain": [
       "\u001b[1;31mError in generating model output:\u001b[0m\n",
       "\u001b[1;36m402\u001b[0m\u001b[1;31m Client Error: Payment Required for url: \u001b[0m\u001b[4;94mhttps://router.huggingface.co/together/v1/chat/completions\u001b[0m\u001b[1;31m \u001b[0m\u001b[1;31m(\u001b[0m\u001b[1;31mRequest ID:\u001b[0m\n",
       "\u001b[1;33mRoot\u001b[0m\u001b[1;31m=\u001b[0m\u001b[1;36m1\u001b[0m\u001b[1;31m-67d0677f-538461897061e5f960999c34;\u001b[0m\u001b[93m7c205a6d-532c-48ea-809d-36e26e301535\u001b[0m\u001b[1;31m)\u001b[0m\n",
       "\n",
       "\u001b[1;31mYou have exceeded your monthly included credits for Inference Providers.\u001b[0m\n"
      ]
     },
     "metadata": {},
     "output_type": "display_data"
    },
    {
     "data": {
      "text/html": [
       "<pre style=\"white-space:pre;overflow-x:auto;line-height:normal;font-family:Menlo,'DejaVu Sans Mono',consolas,'Courier New',monospace\"><span style=\"color: #7f7f7f; text-decoration-color: #7f7f7f\">[Step 4: Duration 0.10 seconds]</span>\n",
       "</pre>\n"
      ],
      "text/plain": [
       "\u001b[2m[Step 4: Duration 0.10 seconds]\u001b[0m\n"
      ]
     },
     "metadata": {},
     "output_type": "display_data"
    },
    {
     "data": {
      "text/html": [
       "<pre style=\"white-space:pre;overflow-x:auto;line-height:normal;font-family:Menlo,'DejaVu Sans Mono',consolas,'Courier New',monospace\"><span style=\"color: #d4b702; text-decoration-color: #d4b702\">━━━━━━━━━━━━━━━━━━━━━━━━━━━━━━━━━━━━━━━━━━━━━━━━━━━━━ </span><span style=\"font-weight: bold\">Step </span><span style=\"color: #008080; text-decoration-color: #008080; font-weight: bold\">5</span><span style=\"color: #d4b702; text-decoration-color: #d4b702\"> ━━━━━━━━━━━━━━━━━━━━━━━━━━━━━━━━━━━━━━━━━━━━━━━━━━━━━━</span>\n",
       "</pre>\n"
      ],
      "text/plain": [
       "\u001b[38;2;212;183;2m━━━━━━━━━━━━━━━━━━━━━━━━━━━━━━━━━━━━━━━━━━━━━━━━━━━━━ \u001b[0m\u001b[1mStep \u001b[0m\u001b[1;36m5\u001b[0m\u001b[38;2;212;183;2m ━━━━━━━━━━━━━━━━━━━━━━━━━━━━━━━━━━━━━━━━━━━━━━━━━━━━━━\u001b[0m\n"
      ]
     },
     "metadata": {},
     "output_type": "display_data"
    },
    {
     "data": {
      "text/html": [
       "<pre style=\"white-space:pre;overflow-x:auto;line-height:normal;font-family:Menlo,'DejaVu Sans Mono',consolas,'Courier New',monospace\"><span style=\"color: #800000; text-decoration-color: #800000; font-weight: bold\">Error in generating model output:</span>\n",
       "<span style=\"color: #008080; text-decoration-color: #008080; font-weight: bold\">402</span><span style=\"color: #800000; text-decoration-color: #800000; font-weight: bold\"> Client Error: Payment Required for url: </span><span style=\"color: #0000ff; text-decoration-color: #0000ff; text-decoration: underline\">https://router.huggingface.co/together/v1/chat/completions</span><span style=\"color: #800000; text-decoration-color: #800000; font-weight: bold\"> (Request ID:</span>\n",
       "<span style=\"color: #808000; text-decoration-color: #808000; font-weight: bold\">Root</span><span style=\"color: #800000; text-decoration-color: #800000; font-weight: bold\">=</span><span style=\"color: #008080; text-decoration-color: #008080; font-weight: bold\">1</span><span style=\"color: #800000; text-decoration-color: #800000; font-weight: bold\">-67d0677f-438e556a1de1bb8c1fd1d644;</span><span style=\"color: #ffff00; text-decoration-color: #ffff00\">dc83295a-9dfb-4b8b-86d3-deb82149469c</span><span style=\"color: #800000; text-decoration-color: #800000; font-weight: bold\">)</span>\n",
       "\n",
       "<span style=\"color: #800000; text-decoration-color: #800000; font-weight: bold\">You have exceeded your monthly included credits for Inference Providers.</span>\n",
       "</pre>\n"
      ],
      "text/plain": [
       "\u001b[1;31mError in generating model output:\u001b[0m\n",
       "\u001b[1;36m402\u001b[0m\u001b[1;31m Client Error: Payment Required for url: \u001b[0m\u001b[4;94mhttps://router.huggingface.co/together/v1/chat/completions\u001b[0m\u001b[1;31m \u001b[0m\u001b[1;31m(\u001b[0m\u001b[1;31mRequest ID:\u001b[0m\n",
       "\u001b[1;33mRoot\u001b[0m\u001b[1;31m=\u001b[0m\u001b[1;36m1\u001b[0m\u001b[1;31m-67d0677f-438e556a1de1bb8c1fd1d644;\u001b[0m\u001b[93mdc83295a-9dfb-4b8b-86d3-deb82149469c\u001b[0m\u001b[1;31m)\u001b[0m\n",
       "\n",
       "\u001b[1;31mYou have exceeded your monthly included credits for Inference Providers.\u001b[0m\n"
      ]
     },
     "metadata": {},
     "output_type": "display_data"
    },
    {
     "data": {
      "text/html": [
       "<pre style=\"white-space:pre;overflow-x:auto;line-height:normal;font-family:Menlo,'DejaVu Sans Mono',consolas,'Courier New',monospace\"><span style=\"color: #7f7f7f; text-decoration-color: #7f7f7f\">[Step 5: Duration 0.11 seconds]</span>\n",
       "</pre>\n"
      ],
      "text/plain": [
       "\u001b[2m[Step 5: Duration 0.11 seconds]\u001b[0m\n"
      ]
     },
     "metadata": {},
     "output_type": "display_data"
    },
    {
     "data": {
      "text/html": [
       "<pre style=\"white-space:pre;overflow-x:auto;line-height:normal;font-family:Menlo,'DejaVu Sans Mono',consolas,'Courier New',monospace\"><span style=\"color: #d4b702; text-decoration-color: #d4b702\">━━━━━━━━━━━━━━━━━━━━━━━━━━━━━━━━━━━━━━━━━━━━━━━━━━━━━ </span><span style=\"font-weight: bold\">Step </span><span style=\"color: #008080; text-decoration-color: #008080; font-weight: bold\">6</span><span style=\"color: #d4b702; text-decoration-color: #d4b702\"> ━━━━━━━━━━━━━━━━━━━━━━━━━━━━━━━━━━━━━━━━━━━━━━━━━━━━━━</span>\n",
       "</pre>\n"
      ],
      "text/plain": [
       "\u001b[38;2;212;183;2m━━━━━━━━━━━━━━━━━━━━━━━━━━━━━━━━━━━━━━━━━━━━━━━━━━━━━ \u001b[0m\u001b[1mStep \u001b[0m\u001b[1;36m6\u001b[0m\u001b[38;2;212;183;2m ━━━━━━━━━━━━━━━━━━━━━━━━━━━━━━━━━━━━━━━━━━━━━━━━━━━━━━\u001b[0m\n"
      ]
     },
     "metadata": {},
     "output_type": "display_data"
    },
    {
     "data": {
      "text/html": [
       "<pre style=\"white-space:pre;overflow-x:auto;line-height:normal;font-family:Menlo,'DejaVu Sans Mono',consolas,'Courier New',monospace\"><span style=\"color: #800000; text-decoration-color: #800000; font-weight: bold\">Error in generating model output:</span>\n",
       "<span style=\"color: #008080; text-decoration-color: #008080; font-weight: bold\">402</span><span style=\"color: #800000; text-decoration-color: #800000; font-weight: bold\"> Client Error: Payment Required for url: </span><span style=\"color: #0000ff; text-decoration-color: #0000ff; text-decoration: underline\">https://router.huggingface.co/together/v1/chat/completions</span><span style=\"color: #800000; text-decoration-color: #800000; font-weight: bold\"> (Request ID:</span>\n",
       "<span style=\"color: #808000; text-decoration-color: #808000; font-weight: bold\">Root</span><span style=\"color: #800000; text-decoration-color: #800000; font-weight: bold\">=</span><span style=\"color: #008080; text-decoration-color: #008080; font-weight: bold\">1</span><span style=\"color: #800000; text-decoration-color: #800000; font-weight: bold\">-67d0677f-2fddbd4e567434ed0a0366f0;</span><span style=\"color: #ffff00; text-decoration-color: #ffff00\">c0e2c07d-d7ee-43df-91b2-f414c888a5f7</span><span style=\"color: #800000; text-decoration-color: #800000; font-weight: bold\">)</span>\n",
       "\n",
       "<span style=\"color: #800000; text-decoration-color: #800000; font-weight: bold\">You have exceeded your monthly included credits for Inference Providers.</span>\n",
       "</pre>\n"
      ],
      "text/plain": [
       "\u001b[1;31mError in generating model output:\u001b[0m\n",
       "\u001b[1;36m402\u001b[0m\u001b[1;31m Client Error: Payment Required for url: \u001b[0m\u001b[4;94mhttps://router.huggingface.co/together/v1/chat/completions\u001b[0m\u001b[1;31m \u001b[0m\u001b[1;31m(\u001b[0m\u001b[1;31mRequest ID:\u001b[0m\n",
       "\u001b[1;33mRoot\u001b[0m\u001b[1;31m=\u001b[0m\u001b[1;36m1\u001b[0m\u001b[1;31m-67d0677f-2fddbd4e567434ed0a0366f0;\u001b[0m\u001b[93mc0e2c07d-d7ee-43df-91b2-f414c888a5f7\u001b[0m\u001b[1;31m)\u001b[0m\n",
       "\n",
       "\u001b[1;31mYou have exceeded your monthly included credits for Inference Providers.\u001b[0m\n"
      ]
     },
     "metadata": {},
     "output_type": "display_data"
    },
    {
     "data": {
      "text/html": [
       "<pre style=\"white-space:pre;overflow-x:auto;line-height:normal;font-family:Menlo,'DejaVu Sans Mono',consolas,'Courier New',monospace\"><span style=\"color: #7f7f7f; text-decoration-color: #7f7f7f\">[Step 6: Duration 0.13 seconds]</span>\n",
       "</pre>\n"
      ],
      "text/plain": [
       "\u001b[2m[Step 6: Duration 0.13 seconds]\u001b[0m\n"
      ]
     },
     "metadata": {},
     "output_type": "display_data"
    },
    {
     "data": {
      "text/html": [
       "<pre style=\"white-space:pre;overflow-x:auto;line-height:normal;font-family:Menlo,'DejaVu Sans Mono',consolas,'Courier New',monospace\"><span style=\"color: #d4b702; text-decoration-color: #d4b702\">━━━━━━━━━━━━━━━━━━━━━━━━━━━━━━━━━━━━━━━━━━━━━━━━━━━━━ </span><span style=\"font-weight: bold\">Step </span><span style=\"color: #008080; text-decoration-color: #008080; font-weight: bold\">7</span><span style=\"color: #d4b702; text-decoration-color: #d4b702\"> ━━━━━━━━━━━━━━━━━━━━━━━━━━━━━━━━━━━━━━━━━━━━━━━━━━━━━━</span>\n",
       "</pre>\n"
      ],
      "text/plain": [
       "\u001b[38;2;212;183;2m━━━━━━━━━━━━━━━━━━━━━━━━━━━━━━━━━━━━━━━━━━━━━━━━━━━━━ \u001b[0m\u001b[1mStep \u001b[0m\u001b[1;36m7\u001b[0m\u001b[38;2;212;183;2m ━━━━━━━━━━━━━━━━━━━━━━━━━━━━━━━━━━━━━━━━━━━━━━━━━━━━━━\u001b[0m\n"
      ]
     },
     "metadata": {},
     "output_type": "display_data"
    },
    {
     "data": {
      "text/html": [
       "<pre style=\"white-space:pre;overflow-x:auto;line-height:normal;font-family:Menlo,'DejaVu Sans Mono',consolas,'Courier New',monospace\"><span style=\"color: #800000; text-decoration-color: #800000; font-weight: bold\">Error in generating model output:</span>\n",
       "<span style=\"color: #008080; text-decoration-color: #008080; font-weight: bold\">402</span><span style=\"color: #800000; text-decoration-color: #800000; font-weight: bold\"> Client Error: Payment Required for url: </span><span style=\"color: #0000ff; text-decoration-color: #0000ff; text-decoration: underline\">https://router.huggingface.co/together/v1/chat/completions</span><span style=\"color: #800000; text-decoration-color: #800000; font-weight: bold\"> (Request ID:</span>\n",
       "<span style=\"color: #808000; text-decoration-color: #808000; font-weight: bold\">Root</span><span style=\"color: #800000; text-decoration-color: #800000; font-weight: bold\">=</span><span style=\"color: #008080; text-decoration-color: #008080; font-weight: bold\">1</span><span style=\"color: #800000; text-decoration-color: #800000; font-weight: bold\">-67d0677f-0f4907f926d656aa37475de2;</span><span style=\"color: #ffff00; text-decoration-color: #ffff00\">8afc7e9c-67cd-4e29-b3ed-47fb6c4c0bda</span><span style=\"color: #800000; text-decoration-color: #800000; font-weight: bold\">)</span>\n",
       "\n",
       "<span style=\"color: #800000; text-decoration-color: #800000; font-weight: bold\">You have exceeded your monthly included credits for Inference Providers.</span>\n",
       "</pre>\n"
      ],
      "text/plain": [
       "\u001b[1;31mError in generating model output:\u001b[0m\n",
       "\u001b[1;36m402\u001b[0m\u001b[1;31m Client Error: Payment Required for url: \u001b[0m\u001b[4;94mhttps://router.huggingface.co/together/v1/chat/completions\u001b[0m\u001b[1;31m \u001b[0m\u001b[1;31m(\u001b[0m\u001b[1;31mRequest ID:\u001b[0m\n",
       "\u001b[1;33mRoot\u001b[0m\u001b[1;31m=\u001b[0m\u001b[1;36m1\u001b[0m\u001b[1;31m-67d0677f-0f4907f926d656aa37475de2;\u001b[0m\u001b[93m8afc7e9c-67cd-4e29-b3ed-47fb6c4c0bda\u001b[0m\u001b[1;31m)\u001b[0m\n",
       "\n",
       "\u001b[1;31mYou have exceeded your monthly included credits for Inference Providers.\u001b[0m\n"
      ]
     },
     "metadata": {},
     "output_type": "display_data"
    },
    {
     "data": {
      "text/html": [
       "<pre style=\"white-space:pre;overflow-x:auto;line-height:normal;font-family:Menlo,'DejaVu Sans Mono',consolas,'Courier New',monospace\"><span style=\"color: #7f7f7f; text-decoration-color: #7f7f7f\">[Step 7: Duration 0.08 seconds]</span>\n",
       "</pre>\n"
      ],
      "text/plain": [
       "\u001b[2m[Step 7: Duration 0.08 seconds]\u001b[0m\n"
      ]
     },
     "metadata": {},
     "output_type": "display_data"
    },
    {
     "data": {
      "text/html": [
       "<pre style=\"white-space:pre;overflow-x:auto;line-height:normal;font-family:Menlo,'DejaVu Sans Mono',consolas,'Courier New',monospace\"><span style=\"color: #d4b702; text-decoration-color: #d4b702\">━━━━━━━━━━━━━━━━━━━━━━━━━━━━━━━━━━━━━━━━━━━━━━━━━━━━━ </span><span style=\"font-weight: bold\">Step </span><span style=\"color: #008080; text-decoration-color: #008080; font-weight: bold\">8</span><span style=\"color: #d4b702; text-decoration-color: #d4b702\"> ━━━━━━━━━━━━━━━━━━━━━━━━━━━━━━━━━━━━━━━━━━━━━━━━━━━━━━</span>\n",
       "</pre>\n"
      ],
      "text/plain": [
       "\u001b[38;2;212;183;2m━━━━━━━━━━━━━━━━━━━━━━━━━━━━━━━━━━━━━━━━━━━━━━━━━━━━━ \u001b[0m\u001b[1mStep \u001b[0m\u001b[1;36m8\u001b[0m\u001b[38;2;212;183;2m ━━━━━━━━━━━━━━━━━━━━━━━━━━━━━━━━━━━━━━━━━━━━━━━━━━━━━━\u001b[0m\n"
      ]
     },
     "metadata": {},
     "output_type": "display_data"
    },
    {
     "data": {
      "text/html": [
       "<pre style=\"white-space:pre;overflow-x:auto;line-height:normal;font-family:Menlo,'DejaVu Sans Mono',consolas,'Courier New',monospace\"><span style=\"color: #800000; text-decoration-color: #800000; font-weight: bold\">Error in generating model output:</span>\n",
       "<span style=\"color: #008080; text-decoration-color: #008080; font-weight: bold\">402</span><span style=\"color: #800000; text-decoration-color: #800000; font-weight: bold\"> Client Error: Payment Required for url: </span><span style=\"color: #0000ff; text-decoration-color: #0000ff; text-decoration: underline\">https://router.huggingface.co/together/v1/chat/completions</span><span style=\"color: #800000; text-decoration-color: #800000; font-weight: bold\"> (Request ID:</span>\n",
       "<span style=\"color: #808000; text-decoration-color: #808000; font-weight: bold\">Root</span><span style=\"color: #800000; text-decoration-color: #800000; font-weight: bold\">=</span><span style=\"color: #008080; text-decoration-color: #008080; font-weight: bold\">1</span><span style=\"color: #800000; text-decoration-color: #800000; font-weight: bold\">-67d0677f-79118e9c52b243a448a1a383;</span><span style=\"color: #ffff00; text-decoration-color: #ffff00\">0af299f6-71f6-4625-b802-64c3c580e013</span><span style=\"color: #800000; text-decoration-color: #800000; font-weight: bold\">)</span>\n",
       "\n",
       "<span style=\"color: #800000; text-decoration-color: #800000; font-weight: bold\">You have exceeded your monthly included credits for Inference Providers.</span>\n",
       "</pre>\n"
      ],
      "text/plain": [
       "\u001b[1;31mError in generating model output:\u001b[0m\n",
       "\u001b[1;36m402\u001b[0m\u001b[1;31m Client Error: Payment Required for url: \u001b[0m\u001b[4;94mhttps://router.huggingface.co/together/v1/chat/completions\u001b[0m\u001b[1;31m \u001b[0m\u001b[1;31m(\u001b[0m\u001b[1;31mRequest ID:\u001b[0m\n",
       "\u001b[1;33mRoot\u001b[0m\u001b[1;31m=\u001b[0m\u001b[1;36m1\u001b[0m\u001b[1;31m-67d0677f-79118e9c52b243a448a1a383;\u001b[0m\u001b[93m0af299f6-71f6-4625-b802-64c3c580e013\u001b[0m\u001b[1;31m)\u001b[0m\n",
       "\n",
       "\u001b[1;31mYou have exceeded your monthly included credits for Inference Providers.\u001b[0m\n"
      ]
     },
     "metadata": {},
     "output_type": "display_data"
    },
    {
     "data": {
      "text/html": [
       "<pre style=\"white-space:pre;overflow-x:auto;line-height:normal;font-family:Menlo,'DejaVu Sans Mono',consolas,'Courier New',monospace\"><span style=\"color: #7f7f7f; text-decoration-color: #7f7f7f\">[Step 8: Duration 0.10 seconds]</span>\n",
       "</pre>\n"
      ],
      "text/plain": [
       "\u001b[2m[Step 8: Duration 0.10 seconds]\u001b[0m\n"
      ]
     },
     "metadata": {},
     "output_type": "display_data"
    },
    {
     "data": {
      "text/html": [
       "<pre style=\"white-space:pre;overflow-x:auto;line-height:normal;font-family:Menlo,'DejaVu Sans Mono',consolas,'Courier New',monospace\"><span style=\"color: #d4b702; text-decoration-color: #d4b702\">━━━━━━━━━━━━━━━━━━━━━━━━━━━━━━━━━━━━━━━━━━━━━━━━━━━━━ </span><span style=\"font-weight: bold\">Step </span><span style=\"color: #008080; text-decoration-color: #008080; font-weight: bold\">9</span><span style=\"color: #d4b702; text-decoration-color: #d4b702\"> ━━━━━━━━━━━━━━━━━━━━━━━━━━━━━━━━━━━━━━━━━━━━━━━━━━━━━━</span>\n",
       "</pre>\n"
      ],
      "text/plain": [
       "\u001b[38;2;212;183;2m━━━━━━━━━━━━━━━━━━━━━━━━━━━━━━━━━━━━━━━━━━━━━━━━━━━━━ \u001b[0m\u001b[1mStep \u001b[0m\u001b[1;36m9\u001b[0m\u001b[38;2;212;183;2m ━━━━━━━━━━━━━━━━━━━━━━━━━━━━━━━━━━━━━━━━━━━━━━━━━━━━━━\u001b[0m\n"
      ]
     },
     "metadata": {},
     "output_type": "display_data"
    },
    {
     "data": {
      "text/html": [
       "<pre style=\"white-space:pre;overflow-x:auto;line-height:normal;font-family:Menlo,'DejaVu Sans Mono',consolas,'Courier New',monospace\"><span style=\"color: #800000; text-decoration-color: #800000; font-weight: bold\">Error in generating model output:</span>\n",
       "<span style=\"color: #008080; text-decoration-color: #008080; font-weight: bold\">402</span><span style=\"color: #800000; text-decoration-color: #800000; font-weight: bold\"> Client Error: Payment Required for url: </span><span style=\"color: #0000ff; text-decoration-color: #0000ff; text-decoration: underline\">https://router.huggingface.co/together/v1/chat/completions</span><span style=\"color: #800000; text-decoration-color: #800000; font-weight: bold\"> (Request ID:</span>\n",
       "<span style=\"color: #808000; text-decoration-color: #808000; font-weight: bold\">Root</span><span style=\"color: #800000; text-decoration-color: #800000; font-weight: bold\">=</span><span style=\"color: #008080; text-decoration-color: #008080; font-weight: bold\">1</span><span style=\"color: #800000; text-decoration-color: #800000; font-weight: bold\">-67d0677f-42b3e7115201a7d224169808;</span><span style=\"color: #ffff00; text-decoration-color: #ffff00\">b9575c72-ab1f-4d75-aaea-aa45de671ef4</span><span style=\"color: #800000; text-decoration-color: #800000; font-weight: bold\">)</span>\n",
       "\n",
       "<span style=\"color: #800000; text-decoration-color: #800000; font-weight: bold\">You have exceeded your monthly included credits for Inference Providers.</span>\n",
       "</pre>\n"
      ],
      "text/plain": [
       "\u001b[1;31mError in generating model output:\u001b[0m\n",
       "\u001b[1;36m402\u001b[0m\u001b[1;31m Client Error: Payment Required for url: \u001b[0m\u001b[4;94mhttps://router.huggingface.co/together/v1/chat/completions\u001b[0m\u001b[1;31m \u001b[0m\u001b[1;31m(\u001b[0m\u001b[1;31mRequest ID:\u001b[0m\n",
       "\u001b[1;33mRoot\u001b[0m\u001b[1;31m=\u001b[0m\u001b[1;36m1\u001b[0m\u001b[1;31m-67d0677f-42b3e7115201a7d224169808;\u001b[0m\u001b[93mb9575c72-ab1f-4d75-aaea-aa45de671ef4\u001b[0m\u001b[1;31m)\u001b[0m\n",
       "\n",
       "\u001b[1;31mYou have exceeded your monthly included credits for Inference Providers.\u001b[0m\n"
      ]
     },
     "metadata": {},
     "output_type": "display_data"
    },
    {
     "data": {
      "text/html": [
       "<pre style=\"white-space:pre;overflow-x:auto;line-height:normal;font-family:Menlo,'DejaVu Sans Mono',consolas,'Courier New',monospace\"><span style=\"color: #7f7f7f; text-decoration-color: #7f7f7f\">[Step 9: Duration 0.10 seconds]</span>\n",
       "</pre>\n"
      ],
      "text/plain": [
       "\u001b[2m[Step 9: Duration 0.10 seconds]\u001b[0m\n"
      ]
     },
     "metadata": {},
     "output_type": "display_data"
    },
    {
     "data": {
      "text/html": [
       "<pre style=\"white-space:pre;overflow-x:auto;line-height:normal;font-family:Menlo,'DejaVu Sans Mono',consolas,'Courier New',monospace\"><span style=\"color: #d4b702; text-decoration-color: #d4b702\">━━━━━━━━━━━━━━━━━━━━━━━━━━━━━━━━━━━━━━━━━━━━━━━━━━━━━ </span><span style=\"font-weight: bold\">Step </span><span style=\"color: #008080; text-decoration-color: #008080; font-weight: bold\">10</span><span style=\"color: #d4b702; text-decoration-color: #d4b702\"> ━━━━━━━━━━━━━━━━━━━━━━━━━━━━━━━━━━━━━━━━━━━━━━━━━━━━━</span>\n",
       "</pre>\n"
      ],
      "text/plain": [
       "\u001b[38;2;212;183;2m━━━━━━━━━━━━━━━━━━━━━━━━━━━━━━━━━━━━━━━━━━━━━━━━━━━━━ \u001b[0m\u001b[1mStep \u001b[0m\u001b[1;36m10\u001b[0m\u001b[38;2;212;183;2m ━━━━━━━━━━━━━━━━━━━━━━━━━━━━━━━━━━━━━━━━━━━━━━━━━━━━━\u001b[0m\n"
      ]
     },
     "metadata": {},
     "output_type": "display_data"
    },
    {
     "data": {
      "text/html": [
       "<pre style=\"white-space:pre;overflow-x:auto;line-height:normal;font-family:Menlo,'DejaVu Sans Mono',consolas,'Courier New',monospace\"><span style=\"color: #800000; text-decoration-color: #800000; font-weight: bold\">Error in generating model output:</span>\n",
       "<span style=\"color: #008080; text-decoration-color: #008080; font-weight: bold\">402</span><span style=\"color: #800000; text-decoration-color: #800000; font-weight: bold\"> Client Error: Payment Required for url: </span><span style=\"color: #0000ff; text-decoration-color: #0000ff; text-decoration: underline\">https://router.huggingface.co/together/v1/chat/completions</span><span style=\"color: #800000; text-decoration-color: #800000; font-weight: bold\"> (Request ID:</span>\n",
       "<span style=\"color: #808000; text-decoration-color: #808000; font-weight: bold\">Root</span><span style=\"color: #800000; text-decoration-color: #800000; font-weight: bold\">=</span><span style=\"color: #008080; text-decoration-color: #008080; font-weight: bold\">1</span><span style=\"color: #800000; text-decoration-color: #800000; font-weight: bold\">-67d0677f-0a64e44228f1d41b7b118035;</span><span style=\"color: #ffff00; text-decoration-color: #ffff00\">099aa4a7-0cf6-4e35-b4bb-ac7036b0b765</span><span style=\"color: #800000; text-decoration-color: #800000; font-weight: bold\">)</span>\n",
       "\n",
       "<span style=\"color: #800000; text-decoration-color: #800000; font-weight: bold\">You have exceeded your monthly included credits for Inference Providers.</span>\n",
       "</pre>\n"
      ],
      "text/plain": [
       "\u001b[1;31mError in generating model output:\u001b[0m\n",
       "\u001b[1;36m402\u001b[0m\u001b[1;31m Client Error: Payment Required for url: \u001b[0m\u001b[4;94mhttps://router.huggingface.co/together/v1/chat/completions\u001b[0m\u001b[1;31m \u001b[0m\u001b[1;31m(\u001b[0m\u001b[1;31mRequest ID:\u001b[0m\n",
       "\u001b[1;33mRoot\u001b[0m\u001b[1;31m=\u001b[0m\u001b[1;36m1\u001b[0m\u001b[1;31m-67d0677f-0a64e44228f1d41b7b118035;\u001b[0m\u001b[93m099aa4a7-0cf6-4e35-b4bb-ac7036b0b765\u001b[0m\u001b[1;31m)\u001b[0m\n",
       "\n",
       "\u001b[1;31mYou have exceeded your monthly included credits for Inference Providers.\u001b[0m\n"
      ]
     },
     "metadata": {},
     "output_type": "display_data"
    },
    {
     "data": {
      "text/html": [
       "<pre style=\"white-space:pre;overflow-x:auto;line-height:normal;font-family:Menlo,'DejaVu Sans Mono',consolas,'Courier New',monospace\"><span style=\"color: #7f7f7f; text-decoration-color: #7f7f7f\">[Step 10: Duration 0.09 seconds]</span>\n",
       "</pre>\n"
      ],
      "text/plain": [
       "\u001b[2m[Step 10: Duration 0.09 seconds]\u001b[0m\n"
      ]
     },
     "metadata": {},
     "output_type": "display_data"
    },
    {
     "data": {
      "text/html": [
       "<pre style=\"white-space:pre;overflow-x:auto;line-height:normal;font-family:Menlo,'DejaVu Sans Mono',consolas,'Courier New',monospace\"><span style=\"color: #d4b702; text-decoration-color: #d4b702\">━━━━━━━━━━━━━━━━━━━━━━━━━━━━━━━━━━━━━━━━━━━━━━━━━━━━━ </span><span style=\"font-weight: bold\">Step </span><span style=\"color: #008080; text-decoration-color: #008080; font-weight: bold\">11</span><span style=\"color: #d4b702; text-decoration-color: #d4b702\"> ━━━━━━━━━━━━━━━━━━━━━━━━━━━━━━━━━━━━━━━━━━━━━━━━━━━━━</span>\n",
       "</pre>\n"
      ],
      "text/plain": [
       "\u001b[38;2;212;183;2m━━━━━━━━━━━━━━━━━━━━━━━━━━━━━━━━━━━━━━━━━━━━━━━━━━━━━ \u001b[0m\u001b[1mStep \u001b[0m\u001b[1;36m11\u001b[0m\u001b[38;2;212;183;2m ━━━━━━━━━━━━━━━━━━━━━━━━━━━━━━━━━━━━━━━━━━━━━━━━━━━━━\u001b[0m\n"
      ]
     },
     "metadata": {},
     "output_type": "display_data"
    },
    {
     "data": {
      "text/html": [
       "<pre style=\"white-space:pre;overflow-x:auto;line-height:normal;font-family:Menlo,'DejaVu Sans Mono',consolas,'Courier New',monospace\"><span style=\"color: #800000; text-decoration-color: #800000; font-weight: bold\">Error in generating model output:</span>\n",
       "<span style=\"color: #008080; text-decoration-color: #008080; font-weight: bold\">402</span><span style=\"color: #800000; text-decoration-color: #800000; font-weight: bold\"> Client Error: Payment Required for url: </span><span style=\"color: #0000ff; text-decoration-color: #0000ff; text-decoration: underline\">https://router.huggingface.co/together/v1/chat/completions</span><span style=\"color: #800000; text-decoration-color: #800000; font-weight: bold\"> (Request ID:</span>\n",
       "<span style=\"color: #808000; text-decoration-color: #808000; font-weight: bold\">Root</span><span style=\"color: #800000; text-decoration-color: #800000; font-weight: bold\">=</span><span style=\"color: #008080; text-decoration-color: #008080; font-weight: bold\">1</span><span style=\"color: #800000; text-decoration-color: #800000; font-weight: bold\">-67d0677f-54c89fd713b6828a77d6c5e5;</span><span style=\"color: #ffff00; text-decoration-color: #ffff00\">76aa7fc1-21d7-4509-a562-87341f685cd4</span><span style=\"color: #800000; text-decoration-color: #800000; font-weight: bold\">)</span>\n",
       "\n",
       "<span style=\"color: #800000; text-decoration-color: #800000; font-weight: bold\">You have exceeded your monthly included credits for Inference Providers.</span>\n",
       "</pre>\n"
      ],
      "text/plain": [
       "\u001b[1;31mError in generating model output:\u001b[0m\n",
       "\u001b[1;36m402\u001b[0m\u001b[1;31m Client Error: Payment Required for url: \u001b[0m\u001b[4;94mhttps://router.huggingface.co/together/v1/chat/completions\u001b[0m\u001b[1;31m \u001b[0m\u001b[1;31m(\u001b[0m\u001b[1;31mRequest ID:\u001b[0m\n",
       "\u001b[1;33mRoot\u001b[0m\u001b[1;31m=\u001b[0m\u001b[1;36m1\u001b[0m\u001b[1;31m-67d0677f-54c89fd713b6828a77d6c5e5;\u001b[0m\u001b[93m76aa7fc1-21d7-4509-a562-87341f685cd4\u001b[0m\u001b[1;31m)\u001b[0m\n",
       "\n",
       "\u001b[1;31mYou have exceeded your monthly included credits for Inference Providers.\u001b[0m\n"
      ]
     },
     "metadata": {},
     "output_type": "display_data"
    },
    {
     "data": {
      "text/html": [
       "<pre style=\"white-space:pre;overflow-x:auto;line-height:normal;font-family:Menlo,'DejaVu Sans Mono',consolas,'Courier New',monospace\"><span style=\"color: #7f7f7f; text-decoration-color: #7f7f7f\">[Step 11: Duration 0.09 seconds]</span>\n",
       "</pre>\n"
      ],
      "text/plain": [
       "\u001b[2m[Step 11: Duration 0.09 seconds]\u001b[0m\n"
      ]
     },
     "metadata": {},
     "output_type": "display_data"
    },
    {
     "data": {
      "text/html": [
       "<pre style=\"white-space:pre;overflow-x:auto;line-height:normal;font-family:Menlo,'DejaVu Sans Mono',consolas,'Courier New',monospace\"><span style=\"color: #d4b702; text-decoration-color: #d4b702\">━━━━━━━━━━━━━━━━━━━━━━━━━━━━━━━━━━━━━━━━━━━━━━━━━━━━━ </span><span style=\"font-weight: bold\">Step </span><span style=\"color: #008080; text-decoration-color: #008080; font-weight: bold\">12</span><span style=\"color: #d4b702; text-decoration-color: #d4b702\"> ━━━━━━━━━━━━━━━━━━━━━━━━━━━━━━━━━━━━━━━━━━━━━━━━━━━━━</span>\n",
       "</pre>\n"
      ],
      "text/plain": [
       "\u001b[38;2;212;183;2m━━━━━━━━━━━━━━━━━━━━━━━━━━━━━━━━━━━━━━━━━━━━━━━━━━━━━ \u001b[0m\u001b[1mStep \u001b[0m\u001b[1;36m12\u001b[0m\u001b[38;2;212;183;2m ━━━━━━━━━━━━━━━━━━━━━━━━━━━━━━━━━━━━━━━━━━━━━━━━━━━━━\u001b[0m\n"
      ]
     },
     "metadata": {},
     "output_type": "display_data"
    },
    {
     "data": {
      "text/html": [
       "<pre style=\"white-space:pre;overflow-x:auto;line-height:normal;font-family:Menlo,'DejaVu Sans Mono',consolas,'Courier New',monospace\"><span style=\"color: #800000; text-decoration-color: #800000; font-weight: bold\">Error in generating model output:</span>\n",
       "<span style=\"color: #008080; text-decoration-color: #008080; font-weight: bold\">402</span><span style=\"color: #800000; text-decoration-color: #800000; font-weight: bold\"> Client Error: Payment Required for url: </span><span style=\"color: #0000ff; text-decoration-color: #0000ff; text-decoration: underline\">https://router.huggingface.co/together/v1/chat/completions</span><span style=\"color: #800000; text-decoration-color: #800000; font-weight: bold\"> (Request ID:</span>\n",
       "<span style=\"color: #808000; text-decoration-color: #808000; font-weight: bold\">Root</span><span style=\"color: #800000; text-decoration-color: #800000; font-weight: bold\">=</span><span style=\"color: #008080; text-decoration-color: #008080; font-weight: bold\">1</span><span style=\"color: #800000; text-decoration-color: #800000; font-weight: bold\">-67d06780-2522d1e312632a7d5f990fa7;</span><span style=\"color: #ffff00; text-decoration-color: #ffff00\">8867c903-fd67-49cd-a262-ebd006ec7291</span><span style=\"color: #800000; text-decoration-color: #800000; font-weight: bold\">)</span>\n",
       "\n",
       "<span style=\"color: #800000; text-decoration-color: #800000; font-weight: bold\">You have exceeded your monthly included credits for Inference Providers.</span>\n",
       "</pre>\n"
      ],
      "text/plain": [
       "\u001b[1;31mError in generating model output:\u001b[0m\n",
       "\u001b[1;36m402\u001b[0m\u001b[1;31m Client Error: Payment Required for url: \u001b[0m\u001b[4;94mhttps://router.huggingface.co/together/v1/chat/completions\u001b[0m\u001b[1;31m \u001b[0m\u001b[1;31m(\u001b[0m\u001b[1;31mRequest ID:\u001b[0m\n",
       "\u001b[1;33mRoot\u001b[0m\u001b[1;31m=\u001b[0m\u001b[1;36m1\u001b[0m\u001b[1;31m-67d06780-2522d1e312632a7d5f990fa7;\u001b[0m\u001b[93m8867c903-fd67-49cd-a262-ebd006ec7291\u001b[0m\u001b[1;31m)\u001b[0m\n",
       "\n",
       "\u001b[1;31mYou have exceeded your monthly included credits for Inference Providers.\u001b[0m\n"
      ]
     },
     "metadata": {},
     "output_type": "display_data"
    },
    {
     "data": {
      "text/html": [
       "<pre style=\"white-space:pre;overflow-x:auto;line-height:normal;font-family:Menlo,'DejaVu Sans Mono',consolas,'Courier New',monospace\"><span style=\"color: #7f7f7f; text-decoration-color: #7f7f7f\">[Step 12: Duration 0.10 seconds]</span>\n",
       "</pre>\n"
      ],
      "text/plain": [
       "\u001b[2m[Step 12: Duration 0.10 seconds]\u001b[0m\n"
      ]
     },
     "metadata": {},
     "output_type": "display_data"
    },
    {
     "data": {
      "text/html": [
       "<pre style=\"white-space:pre;overflow-x:auto;line-height:normal;font-family:Menlo,'DejaVu Sans Mono',consolas,'Courier New',monospace\"><span style=\"color: #d4b702; text-decoration-color: #d4b702\">━━━━━━━━━━━━━━━━━━━━━━━━━━━━━━━━━━━━━━━━━━━━━━━━━━━━━ </span><span style=\"font-weight: bold\">Step </span><span style=\"color: #008080; text-decoration-color: #008080; font-weight: bold\">13</span><span style=\"color: #d4b702; text-decoration-color: #d4b702\"> ━━━━━━━━━━━━━━━━━━━━━━━━━━━━━━━━━━━━━━━━━━━━━━━━━━━━━</span>\n",
       "</pre>\n"
      ],
      "text/plain": [
       "\u001b[38;2;212;183;2m━━━━━━━━━━━━━━━━━━━━━━━━━━━━━━━━━━━━━━━━━━━━━━━━━━━━━ \u001b[0m\u001b[1mStep \u001b[0m\u001b[1;36m13\u001b[0m\u001b[38;2;212;183;2m ━━━━━━━━━━━━━━━━━━━━━━━━━━━━━━━━━━━━━━━━━━━━━━━━━━━━━\u001b[0m\n"
      ]
     },
     "metadata": {},
     "output_type": "display_data"
    },
    {
     "data": {
      "text/html": [
       "<pre style=\"white-space:pre;overflow-x:auto;line-height:normal;font-family:Menlo,'DejaVu Sans Mono',consolas,'Courier New',monospace\"><span style=\"color: #800000; text-decoration-color: #800000; font-weight: bold\">Error in generating model output:</span>\n",
       "<span style=\"color: #008080; text-decoration-color: #008080; font-weight: bold\">402</span><span style=\"color: #800000; text-decoration-color: #800000; font-weight: bold\"> Client Error: Payment Required for url: </span><span style=\"color: #0000ff; text-decoration-color: #0000ff; text-decoration: underline\">https://router.huggingface.co/together/v1/chat/completions</span><span style=\"color: #800000; text-decoration-color: #800000; font-weight: bold\"> (Request ID:</span>\n",
       "<span style=\"color: #808000; text-decoration-color: #808000; font-weight: bold\">Root</span><span style=\"color: #800000; text-decoration-color: #800000; font-weight: bold\">=</span><span style=\"color: #008080; text-decoration-color: #008080; font-weight: bold\">1</span><span style=\"color: #800000; text-decoration-color: #800000; font-weight: bold\">-67d06780-04ae299d077a7bbc3b530d73;</span><span style=\"color: #ffff00; text-decoration-color: #ffff00\">d5e43145-8988-4739-92d0-b591e2952a52</span><span style=\"color: #800000; text-decoration-color: #800000; font-weight: bold\">)</span>\n",
       "\n",
       "<span style=\"color: #800000; text-decoration-color: #800000; font-weight: bold\">You have exceeded your monthly included credits for Inference Providers.</span>\n",
       "</pre>\n"
      ],
      "text/plain": [
       "\u001b[1;31mError in generating model output:\u001b[0m\n",
       "\u001b[1;36m402\u001b[0m\u001b[1;31m Client Error: Payment Required for url: \u001b[0m\u001b[4;94mhttps://router.huggingface.co/together/v1/chat/completions\u001b[0m\u001b[1;31m \u001b[0m\u001b[1;31m(\u001b[0m\u001b[1;31mRequest ID:\u001b[0m\n",
       "\u001b[1;33mRoot\u001b[0m\u001b[1;31m=\u001b[0m\u001b[1;36m1\u001b[0m\u001b[1;31m-67d06780-04ae299d077a7bbc3b530d73;\u001b[0m\u001b[93md5e43145-8988-4739-92d0-b591e2952a52\u001b[0m\u001b[1;31m)\u001b[0m\n",
       "\n",
       "\u001b[1;31mYou have exceeded your monthly included credits for Inference Providers.\u001b[0m\n"
      ]
     },
     "metadata": {},
     "output_type": "display_data"
    },
    {
     "data": {
      "text/html": [
       "<pre style=\"white-space:pre;overflow-x:auto;line-height:normal;font-family:Menlo,'DejaVu Sans Mono',consolas,'Courier New',monospace\"><span style=\"color: #7f7f7f; text-decoration-color: #7f7f7f\">[Step 13: Duration 0.15 seconds]</span>\n",
       "</pre>\n"
      ],
      "text/plain": [
       "\u001b[2m[Step 13: Duration 0.15 seconds]\u001b[0m\n"
      ]
     },
     "metadata": {},
     "output_type": "display_data"
    },
    {
     "data": {
      "text/html": [
       "<pre style=\"white-space:pre;overflow-x:auto;line-height:normal;font-family:Menlo,'DejaVu Sans Mono',consolas,'Courier New',monospace\"><span style=\"color: #d4b702; text-decoration-color: #d4b702\">━━━━━━━━━━━━━━━━━━━━━━━━━━━━━━━━━━━━━━━━━━━━━━━━━━━━━ </span><span style=\"font-weight: bold\">Step </span><span style=\"color: #008080; text-decoration-color: #008080; font-weight: bold\">14</span><span style=\"color: #d4b702; text-decoration-color: #d4b702\"> ━━━━━━━━━━━━━━━━━━━━━━━━━━━━━━━━━━━━━━━━━━━━━━━━━━━━━</span>\n",
       "</pre>\n"
      ],
      "text/plain": [
       "\u001b[38;2;212;183;2m━━━━━━━━━━━━━━━━━━━━━━━━━━━━━━━━━━━━━━━━━━━━━━━━━━━━━ \u001b[0m\u001b[1mStep \u001b[0m\u001b[1;36m14\u001b[0m\u001b[38;2;212;183;2m ━━━━━━━━━━━━━━━━━━━━━━━━━━━━━━━━━━━━━━━━━━━━━━━━━━━━━\u001b[0m\n"
      ]
     },
     "metadata": {},
     "output_type": "display_data"
    },
    {
     "data": {
      "text/html": [
       "<pre style=\"white-space:pre;overflow-x:auto;line-height:normal;font-family:Menlo,'DejaVu Sans Mono',consolas,'Courier New',monospace\"><span style=\"color: #800000; text-decoration-color: #800000; font-weight: bold\">Error in generating model output:</span>\n",
       "<span style=\"color: #008080; text-decoration-color: #008080; font-weight: bold\">402</span><span style=\"color: #800000; text-decoration-color: #800000; font-weight: bold\"> Client Error: Payment Required for url: </span><span style=\"color: #0000ff; text-decoration-color: #0000ff; text-decoration: underline\">https://router.huggingface.co/together/v1/chat/completions</span><span style=\"color: #800000; text-decoration-color: #800000; font-weight: bold\"> (Request ID:</span>\n",
       "<span style=\"color: #808000; text-decoration-color: #808000; font-weight: bold\">Root</span><span style=\"color: #800000; text-decoration-color: #800000; font-weight: bold\">=</span><span style=\"color: #008080; text-decoration-color: #008080; font-weight: bold\">1</span><span style=\"color: #800000; text-decoration-color: #800000; font-weight: bold\">-67d06780-431a016b4cd4018028e9dc93;</span><span style=\"color: #ffff00; text-decoration-color: #ffff00\">b0b77563-74ec-4a9e-a5cc-8101402fab25</span><span style=\"color: #800000; text-decoration-color: #800000; font-weight: bold\">)</span>\n",
       "\n",
       "<span style=\"color: #800000; text-decoration-color: #800000; font-weight: bold\">You have exceeded your monthly included credits for Inference Providers.</span>\n",
       "</pre>\n"
      ],
      "text/plain": [
       "\u001b[1;31mError in generating model output:\u001b[0m\n",
       "\u001b[1;36m402\u001b[0m\u001b[1;31m Client Error: Payment Required for url: \u001b[0m\u001b[4;94mhttps://router.huggingface.co/together/v1/chat/completions\u001b[0m\u001b[1;31m \u001b[0m\u001b[1;31m(\u001b[0m\u001b[1;31mRequest ID:\u001b[0m\n",
       "\u001b[1;33mRoot\u001b[0m\u001b[1;31m=\u001b[0m\u001b[1;36m1\u001b[0m\u001b[1;31m-67d06780-431a016b4cd4018028e9dc93;\u001b[0m\u001b[93mb0b77563-74ec-4a9e-a5cc-8101402fab25\u001b[0m\u001b[1;31m)\u001b[0m\n",
       "\n",
       "\u001b[1;31mYou have exceeded your monthly included credits for Inference Providers.\u001b[0m\n"
      ]
     },
     "metadata": {},
     "output_type": "display_data"
    },
    {
     "data": {
      "text/html": [
       "<pre style=\"white-space:pre;overflow-x:auto;line-height:normal;font-family:Menlo,'DejaVu Sans Mono',consolas,'Courier New',monospace\"><span style=\"color: #7f7f7f; text-decoration-color: #7f7f7f\">[Step 14: Duration 0.10 seconds]</span>\n",
       "</pre>\n"
      ],
      "text/plain": [
       "\u001b[2m[Step 14: Duration 0.10 seconds]\u001b[0m\n"
      ]
     },
     "metadata": {},
     "output_type": "display_data"
    },
    {
     "data": {
      "text/html": [
       "<pre style=\"white-space:pre;overflow-x:auto;line-height:normal;font-family:Menlo,'DejaVu Sans Mono',consolas,'Courier New',monospace\"><span style=\"color: #d4b702; text-decoration-color: #d4b702\">━━━━━━━━━━━━━━━━━━━━━━━━━━━━━━━━━━━━━━━━━━━━━━━━━━━━━ </span><span style=\"font-weight: bold\">Step </span><span style=\"color: #008080; text-decoration-color: #008080; font-weight: bold\">15</span><span style=\"color: #d4b702; text-decoration-color: #d4b702\"> ━━━━━━━━━━━━━━━━━━━━━━━━━━━━━━━━━━━━━━━━━━━━━━━━━━━━━</span>\n",
       "</pre>\n"
      ],
      "text/plain": [
       "\u001b[38;2;212;183;2m━━━━━━━━━━━━━━━━━━━━━━━━━━━━━━━━━━━━━━━━━━━━━━━━━━━━━ \u001b[0m\u001b[1mStep \u001b[0m\u001b[1;36m15\u001b[0m\u001b[38;2;212;183;2m ━━━━━━━━━━━━━━━━━━━━━━━━━━━━━━━━━━━━━━━━━━━━━━━━━━━━━\u001b[0m\n"
      ]
     },
     "metadata": {},
     "output_type": "display_data"
    },
    {
     "data": {
      "text/html": [
       "<pre style=\"white-space:pre;overflow-x:auto;line-height:normal;font-family:Menlo,'DejaVu Sans Mono',consolas,'Courier New',monospace\"><span style=\"color: #800000; text-decoration-color: #800000; font-weight: bold\">Error in generating model output:</span>\n",
       "<span style=\"color: #008080; text-decoration-color: #008080; font-weight: bold\">402</span><span style=\"color: #800000; text-decoration-color: #800000; font-weight: bold\"> Client Error: Payment Required for url: </span><span style=\"color: #0000ff; text-decoration-color: #0000ff; text-decoration: underline\">https://router.huggingface.co/together/v1/chat/completions</span><span style=\"color: #800000; text-decoration-color: #800000; font-weight: bold\"> (Request ID:</span>\n",
       "<span style=\"color: #808000; text-decoration-color: #808000; font-weight: bold\">Root</span><span style=\"color: #800000; text-decoration-color: #800000; font-weight: bold\">=</span><span style=\"color: #008080; text-decoration-color: #008080; font-weight: bold\">1</span><span style=\"color: #800000; text-decoration-color: #800000; font-weight: bold\">-67d06780-4b7151ca56d9b18b0b1b4234;</span><span style=\"color: #ffff00; text-decoration-color: #ffff00\">644e3fce-9f89-48e7-9b11-30742ef2f08c</span><span style=\"color: #800000; text-decoration-color: #800000; font-weight: bold\">)</span>\n",
       "\n",
       "<span style=\"color: #800000; text-decoration-color: #800000; font-weight: bold\">You have exceeded your monthly included credits for Inference Providers.</span>\n",
       "</pre>\n"
      ],
      "text/plain": [
       "\u001b[1;31mError in generating model output:\u001b[0m\n",
       "\u001b[1;36m402\u001b[0m\u001b[1;31m Client Error: Payment Required for url: \u001b[0m\u001b[4;94mhttps://router.huggingface.co/together/v1/chat/completions\u001b[0m\u001b[1;31m \u001b[0m\u001b[1;31m(\u001b[0m\u001b[1;31mRequest ID:\u001b[0m\n",
       "\u001b[1;33mRoot\u001b[0m\u001b[1;31m=\u001b[0m\u001b[1;36m1\u001b[0m\u001b[1;31m-67d06780-4b7151ca56d9b18b0b1b4234;\u001b[0m\u001b[93m644e3fce-9f89-48e7-9b11-30742ef2f08c\u001b[0m\u001b[1;31m)\u001b[0m\n",
       "\n",
       "\u001b[1;31mYou have exceeded your monthly included credits for Inference Providers.\u001b[0m\n"
      ]
     },
     "metadata": {},
     "output_type": "display_data"
    },
    {
     "data": {
      "text/html": [
       "<pre style=\"white-space:pre;overflow-x:auto;line-height:normal;font-family:Menlo,'DejaVu Sans Mono',consolas,'Courier New',monospace\"><span style=\"color: #7f7f7f; text-decoration-color: #7f7f7f\">[Step 15: Duration 0.10 seconds]</span>\n",
       "</pre>\n"
      ],
      "text/plain": [
       "\u001b[2m[Step 15: Duration 0.10 seconds]\u001b[0m\n"
      ]
     },
     "metadata": {},
     "output_type": "display_data"
    },
    {
     "data": {
      "text/html": [
       "<pre style=\"white-space:pre;overflow-x:auto;line-height:normal;font-family:Menlo,'DejaVu Sans Mono',consolas,'Courier New',monospace\"><span style=\"color: #d4b702; text-decoration-color: #d4b702\">━━━━━━━━━━━━━━━━━━━━━━━━━━━━━━━━━━━━━━━━━━━━━━━━━━━━━ </span><span style=\"font-weight: bold\">Step </span><span style=\"color: #008080; text-decoration-color: #008080; font-weight: bold\">16</span><span style=\"color: #d4b702; text-decoration-color: #d4b702\"> ━━━━━━━━━━━━━━━━━━━━━━━━━━━━━━━━━━━━━━━━━━━━━━━━━━━━━</span>\n",
       "</pre>\n"
      ],
      "text/plain": [
       "\u001b[38;2;212;183;2m━━━━━━━━━━━━━━━━━━━━━━━━━━━━━━━━━━━━━━━━━━━━━━━━━━━━━ \u001b[0m\u001b[1mStep \u001b[0m\u001b[1;36m16\u001b[0m\u001b[38;2;212;183;2m ━━━━━━━━━━━━━━━━━━━━━━━━━━━━━━━━━━━━━━━━━━━━━━━━━━━━━\u001b[0m\n"
      ]
     },
     "metadata": {},
     "output_type": "display_data"
    },
    {
     "data": {
      "text/html": [
       "<pre style=\"white-space:pre;overflow-x:auto;line-height:normal;font-family:Menlo,'DejaVu Sans Mono',consolas,'Courier New',monospace\"><span style=\"color: #800000; text-decoration-color: #800000; font-weight: bold\">Error in generating model output:</span>\n",
       "<span style=\"color: #008080; text-decoration-color: #008080; font-weight: bold\">402</span><span style=\"color: #800000; text-decoration-color: #800000; font-weight: bold\"> Client Error: Payment Required for url: </span><span style=\"color: #0000ff; text-decoration-color: #0000ff; text-decoration: underline\">https://router.huggingface.co/together/v1/chat/completions</span><span style=\"color: #800000; text-decoration-color: #800000; font-weight: bold\"> (Request ID:</span>\n",
       "<span style=\"color: #808000; text-decoration-color: #808000; font-weight: bold\">Root</span><span style=\"color: #800000; text-decoration-color: #800000; font-weight: bold\">=</span><span style=\"color: #008080; text-decoration-color: #008080; font-weight: bold\">1</span><span style=\"color: #800000; text-decoration-color: #800000; font-weight: bold\">-67d06780-44dadf894b92ed23346123fa;</span><span style=\"color: #ffff00; text-decoration-color: #ffff00\">442d080a-06fe-4423-aeb2-a880bcb5ee86</span><span style=\"color: #800000; text-decoration-color: #800000; font-weight: bold\">)</span>\n",
       "\n",
       "<span style=\"color: #800000; text-decoration-color: #800000; font-weight: bold\">You have exceeded your monthly included credits for Inference Providers.</span>\n",
       "</pre>\n"
      ],
      "text/plain": [
       "\u001b[1;31mError in generating model output:\u001b[0m\n",
       "\u001b[1;36m402\u001b[0m\u001b[1;31m Client Error: Payment Required for url: \u001b[0m\u001b[4;94mhttps://router.huggingface.co/together/v1/chat/completions\u001b[0m\u001b[1;31m \u001b[0m\u001b[1;31m(\u001b[0m\u001b[1;31mRequest ID:\u001b[0m\n",
       "\u001b[1;33mRoot\u001b[0m\u001b[1;31m=\u001b[0m\u001b[1;36m1\u001b[0m\u001b[1;31m-67d06780-44dadf894b92ed23346123fa;\u001b[0m\u001b[93m442d080a-06fe-4423-aeb2-a880bcb5ee86\u001b[0m\u001b[1;31m)\u001b[0m\n",
       "\n",
       "\u001b[1;31mYou have exceeded your monthly included credits for Inference Providers.\u001b[0m\n"
      ]
     },
     "metadata": {},
     "output_type": "display_data"
    },
    {
     "data": {
      "text/html": [
       "<pre style=\"white-space:pre;overflow-x:auto;line-height:normal;font-family:Menlo,'DejaVu Sans Mono',consolas,'Courier New',monospace\"><span style=\"color: #7f7f7f; text-decoration-color: #7f7f7f\">[Step 16: Duration 0.11 seconds]</span>\n",
       "</pre>\n"
      ],
      "text/plain": [
       "\u001b[2m[Step 16: Duration 0.11 seconds]\u001b[0m\n"
      ]
     },
     "metadata": {},
     "output_type": "display_data"
    },
    {
     "data": {
      "text/html": [
       "<pre style=\"white-space:pre;overflow-x:auto;line-height:normal;font-family:Menlo,'DejaVu Sans Mono',consolas,'Courier New',monospace\"><span style=\"color: #d4b702; text-decoration-color: #d4b702\">━━━━━━━━━━━━━━━━━━━━━━━━━━━━━━━━━━━━━━━━━━━━━━━━━━━━━ </span><span style=\"font-weight: bold\">Step </span><span style=\"color: #008080; text-decoration-color: #008080; font-weight: bold\">17</span><span style=\"color: #d4b702; text-decoration-color: #d4b702\"> ━━━━━━━━━━━━━━━━━━━━━━━━━━━━━━━━━━━━━━━━━━━━━━━━━━━━━</span>\n",
       "</pre>\n"
      ],
      "text/plain": [
       "\u001b[38;2;212;183;2m━━━━━━━━━━━━━━━━━━━━━━━━━━━━━━━━━━━━━━━━━━━━━━━━━━━━━ \u001b[0m\u001b[1mStep \u001b[0m\u001b[1;36m17\u001b[0m\u001b[38;2;212;183;2m ━━━━━━━━━━━━━━━━━━━━━━━━━━━━━━━━━━━━━━━━━━━━━━━━━━━━━\u001b[0m\n"
      ]
     },
     "metadata": {},
     "output_type": "display_data"
    },
    {
     "data": {
      "text/html": [
       "<pre style=\"white-space:pre;overflow-x:auto;line-height:normal;font-family:Menlo,'DejaVu Sans Mono',consolas,'Courier New',monospace\"><span style=\"color: #800000; text-decoration-color: #800000; font-weight: bold\">Error in generating model output:</span>\n",
       "<span style=\"color: #008080; text-decoration-color: #008080; font-weight: bold\">402</span><span style=\"color: #800000; text-decoration-color: #800000; font-weight: bold\"> Client Error: Payment Required for url: </span><span style=\"color: #0000ff; text-decoration-color: #0000ff; text-decoration: underline\">https://router.huggingface.co/together/v1/chat/completions</span><span style=\"color: #800000; text-decoration-color: #800000; font-weight: bold\"> (Request ID:</span>\n",
       "<span style=\"color: #808000; text-decoration-color: #808000; font-weight: bold\">Root</span><span style=\"color: #800000; text-decoration-color: #800000; font-weight: bold\">=</span><span style=\"color: #008080; text-decoration-color: #008080; font-weight: bold\">1</span><span style=\"color: #800000; text-decoration-color: #800000; font-weight: bold\">-67d06780-7fbcb236291a884b388035b4;</span><span style=\"color: #ffff00; text-decoration-color: #ffff00\">d92dffb2-4380-46d0-ae52-409d41dfb9c9</span><span style=\"color: #800000; text-decoration-color: #800000; font-weight: bold\">)</span>\n",
       "\n",
       "<span style=\"color: #800000; text-decoration-color: #800000; font-weight: bold\">You have exceeded your monthly included credits for Inference Providers.</span>\n",
       "</pre>\n"
      ],
      "text/plain": [
       "\u001b[1;31mError in generating model output:\u001b[0m\n",
       "\u001b[1;36m402\u001b[0m\u001b[1;31m Client Error: Payment Required for url: \u001b[0m\u001b[4;94mhttps://router.huggingface.co/together/v1/chat/completions\u001b[0m\u001b[1;31m \u001b[0m\u001b[1;31m(\u001b[0m\u001b[1;31mRequest ID:\u001b[0m\n",
       "\u001b[1;33mRoot\u001b[0m\u001b[1;31m=\u001b[0m\u001b[1;36m1\u001b[0m\u001b[1;31m-67d06780-7fbcb236291a884b388035b4;\u001b[0m\u001b[93md92dffb2-4380-46d0-ae52-409d41dfb9c9\u001b[0m\u001b[1;31m)\u001b[0m\n",
       "\n",
       "\u001b[1;31mYou have exceeded your monthly included credits for Inference Providers.\u001b[0m\n"
      ]
     },
     "metadata": {},
     "output_type": "display_data"
    },
    {
     "data": {
      "text/html": [
       "<pre style=\"white-space:pre;overflow-x:auto;line-height:normal;font-family:Menlo,'DejaVu Sans Mono',consolas,'Courier New',monospace\"><span style=\"color: #7f7f7f; text-decoration-color: #7f7f7f\">[Step 17: Duration 0.13 seconds]</span>\n",
       "</pre>\n"
      ],
      "text/plain": [
       "\u001b[2m[Step 17: Duration 0.13 seconds]\u001b[0m\n"
      ]
     },
     "metadata": {},
     "output_type": "display_data"
    },
    {
     "data": {
      "text/html": [
       "<pre style=\"white-space:pre;overflow-x:auto;line-height:normal;font-family:Menlo,'DejaVu Sans Mono',consolas,'Courier New',monospace\"><span style=\"color: #d4b702; text-decoration-color: #d4b702\">━━━━━━━━━━━━━━━━━━━━━━━━━━━━━━━━━━━━━━━━━━━━━━━━━━━━━ </span><span style=\"font-weight: bold\">Step </span><span style=\"color: #008080; text-decoration-color: #008080; font-weight: bold\">18</span><span style=\"color: #d4b702; text-decoration-color: #d4b702\"> ━━━━━━━━━━━━━━━━━━━━━━━━━━━━━━━━━━━━━━━━━━━━━━━━━━━━━</span>\n",
       "</pre>\n"
      ],
      "text/plain": [
       "\u001b[38;2;212;183;2m━━━━━━━━━━━━━━━━━━━━━━━━━━━━━━━━━━━━━━━━━━━━━━━━━━━━━ \u001b[0m\u001b[1mStep \u001b[0m\u001b[1;36m18\u001b[0m\u001b[38;2;212;183;2m ━━━━━━━━━━━━━━━━━━━━━━━━━━━━━━━━━━━━━━━━━━━━━━━━━━━━━\u001b[0m\n"
      ]
     },
     "metadata": {},
     "output_type": "display_data"
    },
    {
     "data": {
      "text/html": [
       "<pre style=\"white-space:pre;overflow-x:auto;line-height:normal;font-family:Menlo,'DejaVu Sans Mono',consolas,'Courier New',monospace\"><span style=\"color: #800000; text-decoration-color: #800000; font-weight: bold\">Error in generating model output:</span>\n",
       "<span style=\"color: #008080; text-decoration-color: #008080; font-weight: bold\">402</span><span style=\"color: #800000; text-decoration-color: #800000; font-weight: bold\"> Client Error: Payment Required for url: </span><span style=\"color: #0000ff; text-decoration-color: #0000ff; text-decoration: underline\">https://router.huggingface.co/together/v1/chat/completions</span><span style=\"color: #800000; text-decoration-color: #800000; font-weight: bold\"> (Request ID:</span>\n",
       "<span style=\"color: #808000; text-decoration-color: #808000; font-weight: bold\">Root</span><span style=\"color: #800000; text-decoration-color: #800000; font-weight: bold\">=</span><span style=\"color: #008080; text-decoration-color: #008080; font-weight: bold\">1</span><span style=\"color: #800000; text-decoration-color: #800000; font-weight: bold\">-67d06780-6db12fba27b424d54fc1c7c2;</span><span style=\"color: #ffff00; text-decoration-color: #ffff00\">ddc426b8-e98b-4428-a902-6a4e05e23924</span><span style=\"color: #800000; text-decoration-color: #800000; font-weight: bold\">)</span>\n",
       "\n",
       "<span style=\"color: #800000; text-decoration-color: #800000; font-weight: bold\">You have exceeded your monthly included credits for Inference Providers.</span>\n",
       "</pre>\n"
      ],
      "text/plain": [
       "\u001b[1;31mError in generating model output:\u001b[0m\n",
       "\u001b[1;36m402\u001b[0m\u001b[1;31m Client Error: Payment Required for url: \u001b[0m\u001b[4;94mhttps://router.huggingface.co/together/v1/chat/completions\u001b[0m\u001b[1;31m \u001b[0m\u001b[1;31m(\u001b[0m\u001b[1;31mRequest ID:\u001b[0m\n",
       "\u001b[1;33mRoot\u001b[0m\u001b[1;31m=\u001b[0m\u001b[1;36m1\u001b[0m\u001b[1;31m-67d06780-6db12fba27b424d54fc1c7c2;\u001b[0m\u001b[93mddc426b8-e98b-4428-a902-6a4e05e23924\u001b[0m\u001b[1;31m)\u001b[0m\n",
       "\n",
       "\u001b[1;31mYou have exceeded your monthly included credits for Inference Providers.\u001b[0m\n"
      ]
     },
     "metadata": {},
     "output_type": "display_data"
    },
    {
     "data": {
      "text/html": [
       "<pre style=\"white-space:pre;overflow-x:auto;line-height:normal;font-family:Menlo,'DejaVu Sans Mono',consolas,'Courier New',monospace\"><span style=\"color: #7f7f7f; text-decoration-color: #7f7f7f\">[Step 18: Duration 0.44 seconds]</span>\n",
       "</pre>\n"
      ],
      "text/plain": [
       "\u001b[2m[Step 18: Duration 0.44 seconds]\u001b[0m\n"
      ]
     },
     "metadata": {},
     "output_type": "display_data"
    },
    {
     "data": {
      "text/html": [
       "<pre style=\"white-space:pre;overflow-x:auto;line-height:normal;font-family:Menlo,'DejaVu Sans Mono',consolas,'Courier New',monospace\"><span style=\"color: #d4b702; text-decoration-color: #d4b702\">━━━━━━━━━━━━━━━━━━━━━━━━━━━━━━━━━━━━━━━━━━━━━━━━━━━━━ </span><span style=\"font-weight: bold\">Step </span><span style=\"color: #008080; text-decoration-color: #008080; font-weight: bold\">19</span><span style=\"color: #d4b702; text-decoration-color: #d4b702\"> ━━━━━━━━━━━━━━━━━━━━━━━━━━━━━━━━━━━━━━━━━━━━━━━━━━━━━</span>\n",
       "</pre>\n"
      ],
      "text/plain": [
       "\u001b[38;2;212;183;2m━━━━━━━━━━━━━━━━━━━━━━━━━━━━━━━━━━━━━━━━━━━━━━━━━━━━━ \u001b[0m\u001b[1mStep \u001b[0m\u001b[1;36m19\u001b[0m\u001b[38;2;212;183;2m ━━━━━━━━━━━━━━━━━━━━━━━━━━━━━━━━━━━━━━━━━━━━━━━━━━━━━\u001b[0m\n"
      ]
     },
     "metadata": {},
     "output_type": "display_data"
    },
    {
     "data": {
      "text/html": [
       "<pre style=\"white-space:pre;overflow-x:auto;line-height:normal;font-family:Menlo,'DejaVu Sans Mono',consolas,'Courier New',monospace\"><span style=\"color: #800000; text-decoration-color: #800000; font-weight: bold\">Error in generating model output:</span>\n",
       "<span style=\"color: #008080; text-decoration-color: #008080; font-weight: bold\">402</span><span style=\"color: #800000; text-decoration-color: #800000; font-weight: bold\"> Client Error: Payment Required for url: </span><span style=\"color: #0000ff; text-decoration-color: #0000ff; text-decoration: underline\">https://router.huggingface.co/together/v1/chat/completions</span><span style=\"color: #800000; text-decoration-color: #800000; font-weight: bold\"> (Request ID:</span>\n",
       "<span style=\"color: #808000; text-decoration-color: #808000; font-weight: bold\">Root</span><span style=\"color: #800000; text-decoration-color: #800000; font-weight: bold\">=</span><span style=\"color: #008080; text-decoration-color: #008080; font-weight: bold\">1</span><span style=\"color: #800000; text-decoration-color: #800000; font-weight: bold\">-67d06781-6be82bb513cb93c6420a70bd;</span><span style=\"color: #ffff00; text-decoration-color: #ffff00\">b3b2d6c8-c5c8-48e3-97a0-d755006e5a09</span><span style=\"color: #800000; text-decoration-color: #800000; font-weight: bold\">)</span>\n",
       "\n",
       "<span style=\"color: #800000; text-decoration-color: #800000; font-weight: bold\">You have exceeded your monthly included credits for Inference Providers.</span>\n",
       "</pre>\n"
      ],
      "text/plain": [
       "\u001b[1;31mError in generating model output:\u001b[0m\n",
       "\u001b[1;36m402\u001b[0m\u001b[1;31m Client Error: Payment Required for url: \u001b[0m\u001b[4;94mhttps://router.huggingface.co/together/v1/chat/completions\u001b[0m\u001b[1;31m \u001b[0m\u001b[1;31m(\u001b[0m\u001b[1;31mRequest ID:\u001b[0m\n",
       "\u001b[1;33mRoot\u001b[0m\u001b[1;31m=\u001b[0m\u001b[1;36m1\u001b[0m\u001b[1;31m-67d06781-6be82bb513cb93c6420a70bd;\u001b[0m\u001b[93mb3b2d6c8-c5c8-48e3-97a0-d755006e5a09\u001b[0m\u001b[1;31m)\u001b[0m\n",
       "\n",
       "\u001b[1;31mYou have exceeded your monthly included credits for Inference Providers.\u001b[0m\n"
      ]
     },
     "metadata": {},
     "output_type": "display_data"
    },
    {
     "data": {
      "text/html": [
       "<pre style=\"white-space:pre;overflow-x:auto;line-height:normal;font-family:Menlo,'DejaVu Sans Mono',consolas,'Courier New',monospace\"><span style=\"color: #7f7f7f; text-decoration-color: #7f7f7f\">[Step 19: Duration 0.14 seconds]</span>\n",
       "</pre>\n"
      ],
      "text/plain": [
       "\u001b[2m[Step 19: Duration 0.14 seconds]\u001b[0m\n"
      ]
     },
     "metadata": {},
     "output_type": "display_data"
    },
    {
     "data": {
      "text/html": [
       "<pre style=\"white-space:pre;overflow-x:auto;line-height:normal;font-family:Menlo,'DejaVu Sans Mono',consolas,'Courier New',monospace\"><span style=\"color: #d4b702; text-decoration-color: #d4b702\">━━━━━━━━━━━━━━━━━━━━━━━━━━━━━━━━━━━━━━━━━━━━━━━━━━━━━ </span><span style=\"font-weight: bold\">Step </span><span style=\"color: #008080; text-decoration-color: #008080; font-weight: bold\">20</span><span style=\"color: #d4b702; text-decoration-color: #d4b702\"> ━━━━━━━━━━━━━━━━━━━━━━━━━━━━━━━━━━━━━━━━━━━━━━━━━━━━━</span>\n",
       "</pre>\n"
      ],
      "text/plain": [
       "\u001b[38;2;212;183;2m━━━━━━━━━━━━━━━━━━━━━━━━━━━━━━━━━━━━━━━━━━━━━━━━━━━━━ \u001b[0m\u001b[1mStep \u001b[0m\u001b[1;36m20\u001b[0m\u001b[38;2;212;183;2m ━━━━━━━━━━━━━━━━━━━━━━━━━━━━━━━━━━━━━━━━━━━━━━━━━━━━━\u001b[0m\n"
      ]
     },
     "metadata": {},
     "output_type": "display_data"
    },
    {
     "data": {
      "text/html": [
       "<pre style=\"white-space:pre;overflow-x:auto;line-height:normal;font-family:Menlo,'DejaVu Sans Mono',consolas,'Courier New',monospace\"><span style=\"color: #800000; text-decoration-color: #800000; font-weight: bold\">Error in generating model output:</span>\n",
       "<span style=\"color: #008080; text-decoration-color: #008080; font-weight: bold\">402</span><span style=\"color: #800000; text-decoration-color: #800000; font-weight: bold\"> Client Error: Payment Required for url: </span><span style=\"color: #0000ff; text-decoration-color: #0000ff; text-decoration: underline\">https://router.huggingface.co/together/v1/chat/completions</span><span style=\"color: #800000; text-decoration-color: #800000; font-weight: bold\"> (Request ID:</span>\n",
       "<span style=\"color: #808000; text-decoration-color: #808000; font-weight: bold\">Root</span><span style=\"color: #800000; text-decoration-color: #800000; font-weight: bold\">=</span><span style=\"color: #008080; text-decoration-color: #008080; font-weight: bold\">1</span><span style=\"color: #800000; text-decoration-color: #800000; font-weight: bold\">-67d06781-73d9f2e33daa5bfd2679df26;</span><span style=\"color: #ffff00; text-decoration-color: #ffff00\">3d2ebab0-ed40-4820-8979-53527b51da1d</span><span style=\"color: #800000; text-decoration-color: #800000; font-weight: bold\">)</span>\n",
       "\n",
       "<span style=\"color: #800000; text-decoration-color: #800000; font-weight: bold\">You have exceeded your monthly included credits for Inference Providers.</span>\n",
       "</pre>\n"
      ],
      "text/plain": [
       "\u001b[1;31mError in generating model output:\u001b[0m\n",
       "\u001b[1;36m402\u001b[0m\u001b[1;31m Client Error: Payment Required for url: \u001b[0m\u001b[4;94mhttps://router.huggingface.co/together/v1/chat/completions\u001b[0m\u001b[1;31m \u001b[0m\u001b[1;31m(\u001b[0m\u001b[1;31mRequest ID:\u001b[0m\n",
       "\u001b[1;33mRoot\u001b[0m\u001b[1;31m=\u001b[0m\u001b[1;36m1\u001b[0m\u001b[1;31m-67d06781-73d9f2e33daa5bfd2679df26;\u001b[0m\u001b[93m3d2ebab0-ed40-4820-8979-53527b51da1d\u001b[0m\u001b[1;31m)\u001b[0m\n",
       "\n",
       "\u001b[1;31mYou have exceeded your monthly included credits for Inference Providers.\u001b[0m\n"
      ]
     },
     "metadata": {},
     "output_type": "display_data"
    },
    {
     "data": {
      "text/html": [
       "<pre style=\"white-space:pre;overflow-x:auto;line-height:normal;font-family:Menlo,'DejaVu Sans Mono',consolas,'Courier New',monospace\"><span style=\"color: #7f7f7f; text-decoration-color: #7f7f7f\">[Step 20: Duration 0.12 seconds]</span>\n",
       "</pre>\n"
      ],
      "text/plain": [
       "\u001b[2m[Step 20: Duration 0.12 seconds]\u001b[0m\n"
      ]
     },
     "metadata": {},
     "output_type": "display_data"
    },
    {
     "data": {
      "text/html": [
       "<pre style=\"white-space:pre;overflow-x:auto;line-height:normal;font-family:Menlo,'DejaVu Sans Mono',consolas,'Courier New',monospace\"><span style=\"color: #800000; text-decoration-color: #800000; font-weight: bold\">Reached max steps.</span>\n",
       "</pre>\n"
      ],
      "text/plain": [
       "\u001b[1;31mReached max steps.\u001b[0m\n"
      ]
     },
     "metadata": {},
     "output_type": "display_data"
    },
    {
     "data": {
      "text/html": [
       "<pre style=\"white-space:pre;overflow-x:auto;line-height:normal;font-family:Menlo,'DejaVu Sans Mono',consolas,'Courier New',monospace\"><span style=\"color: #7f7f7f; text-decoration-color: #7f7f7f\">[Step 21: Duration 0.21 seconds]</span>\n",
       "</pre>\n"
      ],
      "text/plain": [
       "\u001b[2m[Step 21: Duration 0.21 seconds]\u001b[0m\n"
      ]
     },
     "metadata": {},
     "output_type": "display_data"
    },
    {
     "data": {
      "text/html": [
       "<pre style=\"white-space:pre;overflow-x:auto;line-height:normal;font-family:Menlo,'DejaVu Sans Mono',consolas,'Courier New',monospace\"><span style=\"color: #d4b702; text-decoration-color: #d4b702\">╭──────────────────────────────────────────────────── </span><span style=\"color: #d4b702; text-decoration-color: #d4b702; font-weight: bold\">New run</span><span style=\"color: #d4b702; text-decoration-color: #d4b702\"> ────────────────────────────────────────────────────╮</span>\n",
       "<span style=\"color: #d4b702; text-decoration-color: #d4b702\">│</span>                                                                                                                 <span style=\"color: #d4b702; text-decoration-color: #d4b702\">│</span>\n",
       "<span style=\"color: #d4b702; text-decoration-color: #d4b702\">│</span> <span style=\"font-weight: bold\">Find supercar factories with similar transfer times.</span>                                                            <span style=\"color: #d4b702; text-decoration-color: #d4b702\">│</span>\n",
       "<span style=\"color: #d4b702; text-decoration-color: #d4b702\">│</span>                                                                                                                 <span style=\"color: #d4b702; text-decoration-color: #d4b702\">│</span>\n",
       "<span style=\"color: #d4b702; text-decoration-color: #d4b702\">╰─ HfApiModel - Qwen/Qwen2.5-Coder-32B-Instruct ──────────────────────────────────────────────────────────────────╯</span>\n",
       "</pre>\n"
      ],
      "text/plain": [
       "\u001b[38;2;212;183;2m╭─\u001b[0m\u001b[38;2;212;183;2m───────────────────────────────────────────────────\u001b[0m\u001b[38;2;212;183;2m \u001b[0m\u001b[1;38;2;212;183;2mNew run\u001b[0m\u001b[38;2;212;183;2m \u001b[0m\u001b[38;2;212;183;2m───────────────────────────────────────────────────\u001b[0m\u001b[38;2;212;183;2m─╮\u001b[0m\n",
       "\u001b[38;2;212;183;2m│\u001b[0m                                                                                                                 \u001b[38;2;212;183;2m│\u001b[0m\n",
       "\u001b[38;2;212;183;2m│\u001b[0m \u001b[1mFind supercar factories with similar transfer times.\u001b[0m                                                            \u001b[38;2;212;183;2m│\u001b[0m\n",
       "\u001b[38;2;212;183;2m│\u001b[0m                                                                                                                 \u001b[38;2;212;183;2m│\u001b[0m\n",
       "\u001b[38;2;212;183;2m╰─\u001b[0m\u001b[38;2;212;183;2m HfApiModel - Qwen/Qwen2.5-Coder-32B-Instruct \u001b[0m\u001b[38;2;212;183;2m─────────────────────────────────────────────────────────────────\u001b[0m\u001b[38;2;212;183;2m─╯\u001b[0m\n"
      ]
     },
     "metadata": {},
     "output_type": "display_data"
    },
    {
     "data": {
      "text/html": [
       "<pre style=\"white-space:pre;overflow-x:auto;line-height:normal;font-family:Menlo,'DejaVu Sans Mono',consolas,'Courier New',monospace\"><span style=\"color: #d4b702; text-decoration-color: #d4b702\">━━━━━━━━━━━━━━━━━━━━━━━━━━━━━━━━━━━━━━━━━━━━━━━━━━━━━ </span><span style=\"font-weight: bold\">Step </span><span style=\"color: #008080; text-decoration-color: #008080; font-weight: bold\">1</span><span style=\"color: #d4b702; text-decoration-color: #d4b702\"> ━━━━━━━━━━━━━━━━━━━━━━━━━━━━━━━━━━━━━━━━━━━━━━━━━━━━━━</span>\n",
       "</pre>\n"
      ],
      "text/plain": [
       "\u001b[38;2;212;183;2m━━━━━━━━━━━━━━━━━━━━━━━━━━━━━━━━━━━━━━━━━━━━━━━━━━━━━ \u001b[0m\u001b[1mStep \u001b[0m\u001b[1;36m1\u001b[0m\u001b[38;2;212;183;2m ━━━━━━━━━━━━━━━━━━━━━━━━━━━━━━━━━━━━━━━━━━━━━━━━━━━━━━\u001b[0m\n"
      ]
     },
     "metadata": {},
     "output_type": "display_data"
    },
    {
     "data": {
      "text/html": [
       "<pre style=\"white-space:pre;overflow-x:auto;line-height:normal;font-family:Menlo,'DejaVu Sans Mono',consolas,'Courier New',monospace\"><span style=\"color: #800000; text-decoration-color: #800000; font-weight: bold\">Error in generating model output:</span>\n",
       "<span style=\"color: #008080; text-decoration-color: #008080; font-weight: bold\">402</span><span style=\"color: #800000; text-decoration-color: #800000; font-weight: bold\"> Client Error: Payment Required for url: </span><span style=\"color: #0000ff; text-decoration-color: #0000ff; text-decoration: underline\">https://router.huggingface.co/together/v1/chat/completions</span><span style=\"color: #800000; text-decoration-color: #800000; font-weight: bold\"> (Request ID:</span>\n",
       "<span style=\"color: #808000; text-decoration-color: #808000; font-weight: bold\">Root</span><span style=\"color: #800000; text-decoration-color: #800000; font-weight: bold\">=</span><span style=\"color: #008080; text-decoration-color: #008080; font-weight: bold\">1</span><span style=\"color: #800000; text-decoration-color: #800000; font-weight: bold\">-67d06781-78c6f9803c629bf11a540833;</span><span style=\"color: #ffff00; text-decoration-color: #ffff00\">683596d8-f061-430e-9a39-d9d98b70faa9</span><span style=\"color: #800000; text-decoration-color: #800000; font-weight: bold\">)</span>\n",
       "\n",
       "<span style=\"color: #800000; text-decoration-color: #800000; font-weight: bold\">You have exceeded your monthly included credits for Inference Providers.</span>\n",
       "</pre>\n"
      ],
      "text/plain": [
       "\u001b[1;31mError in generating model output:\u001b[0m\n",
       "\u001b[1;36m402\u001b[0m\u001b[1;31m Client Error: Payment Required for url: \u001b[0m\u001b[4;94mhttps://router.huggingface.co/together/v1/chat/completions\u001b[0m\u001b[1;31m \u001b[0m\u001b[1;31m(\u001b[0m\u001b[1;31mRequest ID:\u001b[0m\n",
       "\u001b[1;33mRoot\u001b[0m\u001b[1;31m=\u001b[0m\u001b[1;36m1\u001b[0m\u001b[1;31m-67d06781-78c6f9803c629bf11a540833;\u001b[0m\u001b[93m683596d8-f061-430e-9a39-d9d98b70faa9\u001b[0m\u001b[1;31m)\u001b[0m\n",
       "\n",
       "\u001b[1;31mYou have exceeded your monthly included credits for Inference Providers.\u001b[0m\n"
      ]
     },
     "metadata": {},
     "output_type": "display_data"
    },
    {
     "data": {
      "text/html": [
       "<pre style=\"white-space:pre;overflow-x:auto;line-height:normal;font-family:Menlo,'DejaVu Sans Mono',consolas,'Courier New',monospace\"><span style=\"color: #7f7f7f; text-decoration-color: #7f7f7f\">[Step 1: Duration 0.11 seconds]</span>\n",
       "</pre>\n"
      ],
      "text/plain": [
       "\u001b[2m[Step 1: Duration 0.11 seconds]\u001b[0m\n"
      ]
     },
     "metadata": {},
     "output_type": "display_data"
    },
    {
     "data": {
      "text/html": [
       "<pre style=\"white-space:pre;overflow-x:auto;line-height:normal;font-family:Menlo,'DejaVu Sans Mono',consolas,'Courier New',monospace\"><span style=\"color: #d4b702; text-decoration-color: #d4b702\">━━━━━━━━━━━━━━━━━━━━━━━━━━━━━━━━━━━━━━━━━━━━━━━━━━━━━ </span><span style=\"font-weight: bold\">Step </span><span style=\"color: #008080; text-decoration-color: #008080; font-weight: bold\">2</span><span style=\"color: #d4b702; text-decoration-color: #d4b702\"> ━━━━━━━━━━━━━━━━━━━━━━━━━━━━━━━━━━━━━━━━━━━━━━━━━━━━━━</span>\n",
       "</pre>\n"
      ],
      "text/plain": [
       "\u001b[38;2;212;183;2m━━━━━━━━━━━━━━━━━━━━━━━━━━━━━━━━━━━━━━━━━━━━━━━━━━━━━ \u001b[0m\u001b[1mStep \u001b[0m\u001b[1;36m2\u001b[0m\u001b[38;2;212;183;2m ━━━━━━━━━━━━━━━━━━━━━━━━━━━━━━━━━━━━━━━━━━━━━━━━━━━━━━\u001b[0m\n"
      ]
     },
     "metadata": {},
     "output_type": "display_data"
    },
    {
     "data": {
      "text/html": [
       "<pre style=\"white-space:pre;overflow-x:auto;line-height:normal;font-family:Menlo,'DejaVu Sans Mono',consolas,'Courier New',monospace\"><span style=\"color: #800000; text-decoration-color: #800000; font-weight: bold\">Error in generating model output:</span>\n",
       "<span style=\"color: #008080; text-decoration-color: #008080; font-weight: bold\">402</span><span style=\"color: #800000; text-decoration-color: #800000; font-weight: bold\"> Client Error: Payment Required for url: </span><span style=\"color: #0000ff; text-decoration-color: #0000ff; text-decoration: underline\">https://router.huggingface.co/together/v1/chat/completions</span><span style=\"color: #800000; text-decoration-color: #800000; font-weight: bold\"> (Request ID:</span>\n",
       "<span style=\"color: #808000; text-decoration-color: #808000; font-weight: bold\">Root</span><span style=\"color: #800000; text-decoration-color: #800000; font-weight: bold\">=</span><span style=\"color: #008080; text-decoration-color: #008080; font-weight: bold\">1</span><span style=\"color: #800000; text-decoration-color: #800000; font-weight: bold\">-67d06781-62db86707440c6ea41583211;</span><span style=\"color: #ffff00; text-decoration-color: #ffff00\">616fb0c3-af78-4c09-9146-de813c81d0f4</span><span style=\"color: #800000; text-decoration-color: #800000; font-weight: bold\">)</span>\n",
       "\n",
       "<span style=\"color: #800000; text-decoration-color: #800000; font-weight: bold\">You have exceeded your monthly included credits for Inference Providers.</span>\n",
       "</pre>\n"
      ],
      "text/plain": [
       "\u001b[1;31mError in generating model output:\u001b[0m\n",
       "\u001b[1;36m402\u001b[0m\u001b[1;31m Client Error: Payment Required for url: \u001b[0m\u001b[4;94mhttps://router.huggingface.co/together/v1/chat/completions\u001b[0m\u001b[1;31m \u001b[0m\u001b[1;31m(\u001b[0m\u001b[1;31mRequest ID:\u001b[0m\n",
       "\u001b[1;33mRoot\u001b[0m\u001b[1;31m=\u001b[0m\u001b[1;36m1\u001b[0m\u001b[1;31m-67d06781-62db86707440c6ea41583211;\u001b[0m\u001b[93m616fb0c3-af78-4c09-9146-de813c81d0f4\u001b[0m\u001b[1;31m)\u001b[0m\n",
       "\n",
       "\u001b[1;31mYou have exceeded your monthly included credits for Inference Providers.\u001b[0m\n"
      ]
     },
     "metadata": {},
     "output_type": "display_data"
    },
    {
     "data": {
      "text/html": [
       "<pre style=\"white-space:pre;overflow-x:auto;line-height:normal;font-family:Menlo,'DejaVu Sans Mono',consolas,'Courier New',monospace\"><span style=\"color: #7f7f7f; text-decoration-color: #7f7f7f\">[Step 2: Duration 0.07 seconds]</span>\n",
       "</pre>\n"
      ],
      "text/plain": [
       "\u001b[2m[Step 2: Duration 0.07 seconds]\u001b[0m\n"
      ]
     },
     "metadata": {},
     "output_type": "display_data"
    },
    {
     "data": {
      "text/html": [
       "<pre style=\"white-space:pre;overflow-x:auto;line-height:normal;font-family:Menlo,'DejaVu Sans Mono',consolas,'Courier New',monospace\"><span style=\"color: #d4b702; text-decoration-color: #d4b702\">━━━━━━━━━━━━━━━━━━━━━━━━━━━━━━━━━━━━━━━━━━━━━━━━━━━━━ </span><span style=\"font-weight: bold\">Step </span><span style=\"color: #008080; text-decoration-color: #008080; font-weight: bold\">3</span><span style=\"color: #d4b702; text-decoration-color: #d4b702\"> ━━━━━━━━━━━━━━━━━━━━━━━━━━━━━━━━━━━━━━━━━━━━━━━━━━━━━━</span>\n",
       "</pre>\n"
      ],
      "text/plain": [
       "\u001b[38;2;212;183;2m━━━━━━━━━━━━━━━━━━━━━━━━━━━━━━━━━━━━━━━━━━━━━━━━━━━━━ \u001b[0m\u001b[1mStep \u001b[0m\u001b[1;36m3\u001b[0m\u001b[38;2;212;183;2m ━━━━━━━━━━━━━━━━━━━━━━━━━━━━━━━━━━━━━━━━━━━━━━━━━━━━━━\u001b[0m\n"
      ]
     },
     "metadata": {},
     "output_type": "display_data"
    },
    {
     "data": {
      "text/html": [
       "<pre style=\"white-space:pre;overflow-x:auto;line-height:normal;font-family:Menlo,'DejaVu Sans Mono',consolas,'Courier New',monospace\"><span style=\"color: #800000; text-decoration-color: #800000; font-weight: bold\">Error in generating model output:</span>\n",
       "<span style=\"color: #008080; text-decoration-color: #008080; font-weight: bold\">402</span><span style=\"color: #800000; text-decoration-color: #800000; font-weight: bold\"> Client Error: Payment Required for url: </span><span style=\"color: #0000ff; text-decoration-color: #0000ff; text-decoration: underline\">https://router.huggingface.co/together/v1/chat/completions</span><span style=\"color: #800000; text-decoration-color: #800000; font-weight: bold\"> (Request ID:</span>\n",
       "<span style=\"color: #808000; text-decoration-color: #808000; font-weight: bold\">Root</span><span style=\"color: #800000; text-decoration-color: #800000; font-weight: bold\">=</span><span style=\"color: #008080; text-decoration-color: #008080; font-weight: bold\">1</span><span style=\"color: #800000; text-decoration-color: #800000; font-weight: bold\">-67d06781-5a60e7a852605f966f05dbdf;</span><span style=\"color: #ffff00; text-decoration-color: #ffff00\">4651950c-cd5b-43ac-b86b-832dae9dd7a7</span><span style=\"color: #800000; text-decoration-color: #800000; font-weight: bold\">)</span>\n",
       "\n",
       "<span style=\"color: #800000; text-decoration-color: #800000; font-weight: bold\">You have exceeded your monthly included credits for Inference Providers.</span>\n",
       "</pre>\n"
      ],
      "text/plain": [
       "\u001b[1;31mError in generating model output:\u001b[0m\n",
       "\u001b[1;36m402\u001b[0m\u001b[1;31m Client Error: Payment Required for url: \u001b[0m\u001b[4;94mhttps://router.huggingface.co/together/v1/chat/completions\u001b[0m\u001b[1;31m \u001b[0m\u001b[1;31m(\u001b[0m\u001b[1;31mRequest ID:\u001b[0m\n",
       "\u001b[1;33mRoot\u001b[0m\u001b[1;31m=\u001b[0m\u001b[1;36m1\u001b[0m\u001b[1;31m-67d06781-5a60e7a852605f966f05dbdf;\u001b[0m\u001b[93m4651950c-cd5b-43ac-b86b-832dae9dd7a7\u001b[0m\u001b[1;31m)\u001b[0m\n",
       "\n",
       "\u001b[1;31mYou have exceeded your monthly included credits for Inference Providers.\u001b[0m\n"
      ]
     },
     "metadata": {},
     "output_type": "display_data"
    },
    {
     "data": {
      "text/html": [
       "<pre style=\"white-space:pre;overflow-x:auto;line-height:normal;font-family:Menlo,'DejaVu Sans Mono',consolas,'Courier New',monospace\"><span style=\"color: #7f7f7f; text-decoration-color: #7f7f7f\">[Step 3: Duration 0.19 seconds]</span>\n",
       "</pre>\n"
      ],
      "text/plain": [
       "\u001b[2m[Step 3: Duration 0.19 seconds]\u001b[0m\n"
      ]
     },
     "metadata": {},
     "output_type": "display_data"
    },
    {
     "data": {
      "text/html": [
       "<pre style=\"white-space:pre;overflow-x:auto;line-height:normal;font-family:Menlo,'DejaVu Sans Mono',consolas,'Courier New',monospace\"><span style=\"color: #d4b702; text-decoration-color: #d4b702\">━━━━━━━━━━━━━━━━━━━━━━━━━━━━━━━━━━━━━━━━━━━━━━━━━━━━━ </span><span style=\"font-weight: bold\">Step </span><span style=\"color: #008080; text-decoration-color: #008080; font-weight: bold\">4</span><span style=\"color: #d4b702; text-decoration-color: #d4b702\"> ━━━━━━━━━━━━━━━━━━━━━━━━━━━━━━━━━━━━━━━━━━━━━━━━━━━━━━</span>\n",
       "</pre>\n"
      ],
      "text/plain": [
       "\u001b[38;2;212;183;2m━━━━━━━━━━━━━━━━━━━━━━━━━━━━━━━━━━━━━━━━━━━━━━━━━━━━━ \u001b[0m\u001b[1mStep \u001b[0m\u001b[1;36m4\u001b[0m\u001b[38;2;212;183;2m ━━━━━━━━━━━━━━━━━━━━━━━━━━━━━━━━━━━━━━━━━━━━━━━━━━━━━━\u001b[0m\n"
      ]
     },
     "metadata": {},
     "output_type": "display_data"
    },
    {
     "data": {
      "text/html": [
       "<pre style=\"white-space:pre;overflow-x:auto;line-height:normal;font-family:Menlo,'DejaVu Sans Mono',consolas,'Courier New',monospace\"><span style=\"color: #800000; text-decoration-color: #800000; font-weight: bold\">Error in generating model output:</span>\n",
       "<span style=\"color: #008080; text-decoration-color: #008080; font-weight: bold\">402</span><span style=\"color: #800000; text-decoration-color: #800000; font-weight: bold\"> Client Error: Payment Required for url: </span><span style=\"color: #0000ff; text-decoration-color: #0000ff; text-decoration: underline\">https://router.huggingface.co/together/v1/chat/completions</span><span style=\"color: #800000; text-decoration-color: #800000; font-weight: bold\"> (Request ID:</span>\n",
       "<span style=\"color: #808000; text-decoration-color: #808000; font-weight: bold\">Root</span><span style=\"color: #800000; text-decoration-color: #800000; font-weight: bold\">=</span><span style=\"color: #008080; text-decoration-color: #008080; font-weight: bold\">1</span><span style=\"color: #800000; text-decoration-color: #800000; font-weight: bold\">-67d06781-685ac2e777cd76a82d55d7fe;</span><span style=\"color: #ffff00; text-decoration-color: #ffff00\">4aeb584d-707b-4b90-be89-3730058bf458</span><span style=\"color: #800000; text-decoration-color: #800000; font-weight: bold\">)</span>\n",
       "\n",
       "<span style=\"color: #800000; text-decoration-color: #800000; font-weight: bold\">You have exceeded your monthly included credits for Inference Providers.</span>\n",
       "</pre>\n"
      ],
      "text/plain": [
       "\u001b[1;31mError in generating model output:\u001b[0m\n",
       "\u001b[1;36m402\u001b[0m\u001b[1;31m Client Error: Payment Required for url: \u001b[0m\u001b[4;94mhttps://router.huggingface.co/together/v1/chat/completions\u001b[0m\u001b[1;31m \u001b[0m\u001b[1;31m(\u001b[0m\u001b[1;31mRequest ID:\u001b[0m\n",
       "\u001b[1;33mRoot\u001b[0m\u001b[1;31m=\u001b[0m\u001b[1;36m1\u001b[0m\u001b[1;31m-67d06781-685ac2e777cd76a82d55d7fe;\u001b[0m\u001b[93m4aeb584d-707b-4b90-be89-3730058bf458\u001b[0m\u001b[1;31m)\u001b[0m\n",
       "\n",
       "\u001b[1;31mYou have exceeded your monthly included credits for Inference Providers.\u001b[0m\n"
      ]
     },
     "metadata": {},
     "output_type": "display_data"
    },
    {
     "data": {
      "text/html": [
       "<pre style=\"white-space:pre;overflow-x:auto;line-height:normal;font-family:Menlo,'DejaVu Sans Mono',consolas,'Courier New',monospace\"><span style=\"color: #7f7f7f; text-decoration-color: #7f7f7f\">[Step 4: Duration 0.08 seconds]</span>\n",
       "</pre>\n"
      ],
      "text/plain": [
       "\u001b[2m[Step 4: Duration 0.08 seconds]\u001b[0m\n"
      ]
     },
     "metadata": {},
     "output_type": "display_data"
    },
    {
     "data": {
      "text/html": [
       "<pre style=\"white-space:pre;overflow-x:auto;line-height:normal;font-family:Menlo,'DejaVu Sans Mono',consolas,'Courier New',monospace\"><span style=\"color: #d4b702; text-decoration-color: #d4b702\">━━━━━━━━━━━━━━━━━━━━━━━━━━━━━━━━━━━━━━━━━━━━━━━━━━━━━ </span><span style=\"font-weight: bold\">Step </span><span style=\"color: #008080; text-decoration-color: #008080; font-weight: bold\">5</span><span style=\"color: #d4b702; text-decoration-color: #d4b702\"> ━━━━━━━━━━━━━━━━━━━━━━━━━━━━━━━━━━━━━━━━━━━━━━━━━━━━━━</span>\n",
       "</pre>\n"
      ],
      "text/plain": [
       "\u001b[38;2;212;183;2m━━━━━━━━━━━━━━━━━━━━━━━━━━━━━━━━━━━━━━━━━━━━━━━━━━━━━ \u001b[0m\u001b[1mStep \u001b[0m\u001b[1;36m5\u001b[0m\u001b[38;2;212;183;2m ━━━━━━━━━━━━━━━━━━━━━━━━━━━━━━━━━━━━━━━━━━━━━━━━━━━━━━\u001b[0m\n"
      ]
     },
     "metadata": {},
     "output_type": "display_data"
    },
    {
     "data": {
      "text/html": [
       "<pre style=\"white-space:pre;overflow-x:auto;line-height:normal;font-family:Menlo,'DejaVu Sans Mono',consolas,'Courier New',monospace\"><span style=\"color: #800000; text-decoration-color: #800000; font-weight: bold\">Error in generating model output:</span>\n",
       "<span style=\"color: #008080; text-decoration-color: #008080; font-weight: bold\">402</span><span style=\"color: #800000; text-decoration-color: #800000; font-weight: bold\"> Client Error: Payment Required for url: </span><span style=\"color: #0000ff; text-decoration-color: #0000ff; text-decoration: underline\">https://router.huggingface.co/together/v1/chat/completions</span><span style=\"color: #800000; text-decoration-color: #800000; font-weight: bold\"> (Request ID:</span>\n",
       "<span style=\"color: #808000; text-decoration-color: #808000; font-weight: bold\">Root</span><span style=\"color: #800000; text-decoration-color: #800000; font-weight: bold\">=</span><span style=\"color: #008080; text-decoration-color: #008080; font-weight: bold\">1</span><span style=\"color: #800000; text-decoration-color: #800000; font-weight: bold\">-67d06782-7606b675689b5bbb27a88996;</span><span style=\"color: #ffff00; text-decoration-color: #ffff00\">7db15d1e-2f79-44d7-acce-4f2d6c72915e</span><span style=\"color: #800000; text-decoration-color: #800000; font-weight: bold\">)</span>\n",
       "\n",
       "<span style=\"color: #800000; text-decoration-color: #800000; font-weight: bold\">You have exceeded your monthly included credits for Inference Providers.</span>\n",
       "</pre>\n"
      ],
      "text/plain": [
       "\u001b[1;31mError in generating model output:\u001b[0m\n",
       "\u001b[1;36m402\u001b[0m\u001b[1;31m Client Error: Payment Required for url: \u001b[0m\u001b[4;94mhttps://router.huggingface.co/together/v1/chat/completions\u001b[0m\u001b[1;31m \u001b[0m\u001b[1;31m(\u001b[0m\u001b[1;31mRequest ID:\u001b[0m\n",
       "\u001b[1;33mRoot\u001b[0m\u001b[1;31m=\u001b[0m\u001b[1;36m1\u001b[0m\u001b[1;31m-67d06782-7606b675689b5bbb27a88996;\u001b[0m\u001b[93m7db15d1e-2f79-44d7-acce-4f2d6c72915e\u001b[0m\u001b[1;31m)\u001b[0m\n",
       "\n",
       "\u001b[1;31mYou have exceeded your monthly included credits for Inference Providers.\u001b[0m\n"
      ]
     },
     "metadata": {},
     "output_type": "display_data"
    },
    {
     "data": {
      "text/html": [
       "<pre style=\"white-space:pre;overflow-x:auto;line-height:normal;font-family:Menlo,'DejaVu Sans Mono',consolas,'Courier New',monospace\"><span style=\"color: #7f7f7f; text-decoration-color: #7f7f7f\">[Step 5: Duration 0.10 seconds]</span>\n",
       "</pre>\n"
      ],
      "text/plain": [
       "\u001b[2m[Step 5: Duration 0.10 seconds]\u001b[0m\n"
      ]
     },
     "metadata": {},
     "output_type": "display_data"
    },
    {
     "data": {
      "text/html": [
       "<pre style=\"white-space:pre;overflow-x:auto;line-height:normal;font-family:Menlo,'DejaVu Sans Mono',consolas,'Courier New',monospace\"><span style=\"color: #d4b702; text-decoration-color: #d4b702\">━━━━━━━━━━━━━━━━━━━━━━━━━━━━━━━━━━━━━━━━━━━━━━━━━━━━━ </span><span style=\"font-weight: bold\">Step </span><span style=\"color: #008080; text-decoration-color: #008080; font-weight: bold\">6</span><span style=\"color: #d4b702; text-decoration-color: #d4b702\"> ━━━━━━━━━━━━━━━━━━━━━━━━━━━━━━━━━━━━━━━━━━━━━━━━━━━━━━</span>\n",
       "</pre>\n"
      ],
      "text/plain": [
       "\u001b[38;2;212;183;2m━━━━━━━━━━━━━━━━━━━━━━━━━━━━━━━━━━━━━━━━━━━━━━━━━━━━━ \u001b[0m\u001b[1mStep \u001b[0m\u001b[1;36m6\u001b[0m\u001b[38;2;212;183;2m ━━━━━━━━━━━━━━━━━━━━━━━━━━━━━━━━━━━━━━━━━━━━━━━━━━━━━━\u001b[0m\n"
      ]
     },
     "metadata": {},
     "output_type": "display_data"
    },
    {
     "data": {
      "text/html": [
       "<pre style=\"white-space:pre;overflow-x:auto;line-height:normal;font-family:Menlo,'DejaVu Sans Mono',consolas,'Courier New',monospace\"><span style=\"color: #800000; text-decoration-color: #800000; font-weight: bold\">Error in generating model output:</span>\n",
       "<span style=\"color: #008080; text-decoration-color: #008080; font-weight: bold\">402</span><span style=\"color: #800000; text-decoration-color: #800000; font-weight: bold\"> Client Error: Payment Required for url: </span><span style=\"color: #0000ff; text-decoration-color: #0000ff; text-decoration: underline\">https://router.huggingface.co/together/v1/chat/completions</span><span style=\"color: #800000; text-decoration-color: #800000; font-weight: bold\"> (Request ID:</span>\n",
       "<span style=\"color: #808000; text-decoration-color: #808000; font-weight: bold\">Root</span><span style=\"color: #800000; text-decoration-color: #800000; font-weight: bold\">=</span><span style=\"color: #008080; text-decoration-color: #008080; font-weight: bold\">1</span><span style=\"color: #800000; text-decoration-color: #800000; font-weight: bold\">-67d06782-5bd3f0d347301809637ac225;</span><span style=\"color: #ffff00; text-decoration-color: #ffff00\">9bfd75c6-4949-4c0d-841f-fc6768abd134</span><span style=\"color: #800000; text-decoration-color: #800000; font-weight: bold\">)</span>\n",
       "\n",
       "<span style=\"color: #800000; text-decoration-color: #800000; font-weight: bold\">You have exceeded your monthly included credits for Inference Providers.</span>\n",
       "</pre>\n"
      ],
      "text/plain": [
       "\u001b[1;31mError in generating model output:\u001b[0m\n",
       "\u001b[1;36m402\u001b[0m\u001b[1;31m Client Error: Payment Required for url: \u001b[0m\u001b[4;94mhttps://router.huggingface.co/together/v1/chat/completions\u001b[0m\u001b[1;31m \u001b[0m\u001b[1;31m(\u001b[0m\u001b[1;31mRequest ID:\u001b[0m\n",
       "\u001b[1;33mRoot\u001b[0m\u001b[1;31m=\u001b[0m\u001b[1;36m1\u001b[0m\u001b[1;31m-67d06782-5bd3f0d347301809637ac225;\u001b[0m\u001b[93m9bfd75c6-4949-4c0d-841f-fc6768abd134\u001b[0m\u001b[1;31m)\u001b[0m\n",
       "\n",
       "\u001b[1;31mYou have exceeded your monthly included credits for Inference Providers.\u001b[0m\n"
      ]
     },
     "metadata": {},
     "output_type": "display_data"
    },
    {
     "data": {
      "text/html": [
       "<pre style=\"white-space:pre;overflow-x:auto;line-height:normal;font-family:Menlo,'DejaVu Sans Mono',consolas,'Courier New',monospace\"><span style=\"color: #7f7f7f; text-decoration-color: #7f7f7f\">[Step 6: Duration 0.09 seconds]</span>\n",
       "</pre>\n"
      ],
      "text/plain": [
       "\u001b[2m[Step 6: Duration 0.09 seconds]\u001b[0m\n"
      ]
     },
     "metadata": {},
     "output_type": "display_data"
    },
    {
     "data": {
      "text/html": [
       "<pre style=\"white-space:pre;overflow-x:auto;line-height:normal;font-family:Menlo,'DejaVu Sans Mono',consolas,'Courier New',monospace\"><span style=\"color: #d4b702; text-decoration-color: #d4b702\">━━━━━━━━━━━━━━━━━━━━━━━━━━━━━━━━━━━━━━━━━━━━━━━━━━━━━ </span><span style=\"font-weight: bold\">Step </span><span style=\"color: #008080; text-decoration-color: #008080; font-weight: bold\">7</span><span style=\"color: #d4b702; text-decoration-color: #d4b702\"> ━━━━━━━━━━━━━━━━━━━━━━━━━━━━━━━━━━━━━━━━━━━━━━━━━━━━━━</span>\n",
       "</pre>\n"
      ],
      "text/plain": [
       "\u001b[38;2;212;183;2m━━━━━━━━━━━━━━━━━━━━━━━━━━━━━━━━━━━━━━━━━━━━━━━━━━━━━ \u001b[0m\u001b[1mStep \u001b[0m\u001b[1;36m7\u001b[0m\u001b[38;2;212;183;2m ━━━━━━━━━━━━━━━━━━━━━━━━━━━━━━━━━━━━━━━━━━━━━━━━━━━━━━\u001b[0m\n"
      ]
     },
     "metadata": {},
     "output_type": "display_data"
    },
    {
     "data": {
      "text/html": [
       "<pre style=\"white-space:pre;overflow-x:auto;line-height:normal;font-family:Menlo,'DejaVu Sans Mono',consolas,'Courier New',monospace\"><span style=\"color: #800000; text-decoration-color: #800000; font-weight: bold\">Error in generating model output:</span>\n",
       "<span style=\"color: #008080; text-decoration-color: #008080; font-weight: bold\">402</span><span style=\"color: #800000; text-decoration-color: #800000; font-weight: bold\"> Client Error: Payment Required for url: </span><span style=\"color: #0000ff; text-decoration-color: #0000ff; text-decoration: underline\">https://router.huggingface.co/together/v1/chat/completions</span><span style=\"color: #800000; text-decoration-color: #800000; font-weight: bold\"> (Request ID:</span>\n",
       "<span style=\"color: #808000; text-decoration-color: #808000; font-weight: bold\">Root</span><span style=\"color: #800000; text-decoration-color: #800000; font-weight: bold\">=</span><span style=\"color: #008080; text-decoration-color: #008080; font-weight: bold\">1</span><span style=\"color: #800000; text-decoration-color: #800000; font-weight: bold\">-67d06782-420459b87042d3d04dffa0a5;</span><span style=\"color: #ffff00; text-decoration-color: #ffff00\">b0b256db-0fe1-4846-9b00-af26a237fb71</span><span style=\"color: #800000; text-decoration-color: #800000; font-weight: bold\">)</span>\n",
       "\n",
       "<span style=\"color: #800000; text-decoration-color: #800000; font-weight: bold\">You have exceeded your monthly included credits for Inference Providers.</span>\n",
       "</pre>\n"
      ],
      "text/plain": [
       "\u001b[1;31mError in generating model output:\u001b[0m\n",
       "\u001b[1;36m402\u001b[0m\u001b[1;31m Client Error: Payment Required for url: \u001b[0m\u001b[4;94mhttps://router.huggingface.co/together/v1/chat/completions\u001b[0m\u001b[1;31m \u001b[0m\u001b[1;31m(\u001b[0m\u001b[1;31mRequest ID:\u001b[0m\n",
       "\u001b[1;33mRoot\u001b[0m\u001b[1;31m=\u001b[0m\u001b[1;36m1\u001b[0m\u001b[1;31m-67d06782-420459b87042d3d04dffa0a5;\u001b[0m\u001b[93mb0b256db-0fe1-4846-9b00-af26a237fb71\u001b[0m\u001b[1;31m)\u001b[0m\n",
       "\n",
       "\u001b[1;31mYou have exceeded your monthly included credits for Inference Providers.\u001b[0m\n"
      ]
     },
     "metadata": {},
     "output_type": "display_data"
    },
    {
     "data": {
      "text/html": [
       "<pre style=\"white-space:pre;overflow-x:auto;line-height:normal;font-family:Menlo,'DejaVu Sans Mono',consolas,'Courier New',monospace\"><span style=\"color: #7f7f7f; text-decoration-color: #7f7f7f\">[Step 7: Duration 0.09 seconds]</span>\n",
       "</pre>\n"
      ],
      "text/plain": [
       "\u001b[2m[Step 7: Duration 0.09 seconds]\u001b[0m\n"
      ]
     },
     "metadata": {},
     "output_type": "display_data"
    },
    {
     "data": {
      "text/html": [
       "<pre style=\"white-space:pre;overflow-x:auto;line-height:normal;font-family:Menlo,'DejaVu Sans Mono',consolas,'Courier New',monospace\"><span style=\"color: #d4b702; text-decoration-color: #d4b702\">━━━━━━━━━━━━━━━━━━━━━━━━━━━━━━━━━━━━━━━━━━━━━━━━━━━━━ </span><span style=\"font-weight: bold\">Step </span><span style=\"color: #008080; text-decoration-color: #008080; font-weight: bold\">8</span><span style=\"color: #d4b702; text-decoration-color: #d4b702\"> ━━━━━━━━━━━━━━━━━━━━━━━━━━━━━━━━━━━━━━━━━━━━━━━━━━━━━━</span>\n",
       "</pre>\n"
      ],
      "text/plain": [
       "\u001b[38;2;212;183;2m━━━━━━━━━━━━━━━━━━━━━━━━━━━━━━━━━━━━━━━━━━━━━━━━━━━━━ \u001b[0m\u001b[1mStep \u001b[0m\u001b[1;36m8\u001b[0m\u001b[38;2;212;183;2m ━━━━━━━━━━━━━━━━━━━━━━━━━━━━━━━━━━━━━━━━━━━━━━━━━━━━━━\u001b[0m\n"
      ]
     },
     "metadata": {},
     "output_type": "display_data"
    },
    {
     "data": {
      "text/html": [
       "<pre style=\"white-space:pre;overflow-x:auto;line-height:normal;font-family:Menlo,'DejaVu Sans Mono',consolas,'Courier New',monospace\"><span style=\"color: #800000; text-decoration-color: #800000; font-weight: bold\">Error in generating model output:</span>\n",
       "<span style=\"color: #008080; text-decoration-color: #008080; font-weight: bold\">402</span><span style=\"color: #800000; text-decoration-color: #800000; font-weight: bold\"> Client Error: Payment Required for url: </span><span style=\"color: #0000ff; text-decoration-color: #0000ff; text-decoration: underline\">https://router.huggingface.co/together/v1/chat/completions</span><span style=\"color: #800000; text-decoration-color: #800000; font-weight: bold\"> (Request ID:</span>\n",
       "<span style=\"color: #808000; text-decoration-color: #808000; font-weight: bold\">Root</span><span style=\"color: #800000; text-decoration-color: #800000; font-weight: bold\">=</span><span style=\"color: #008080; text-decoration-color: #008080; font-weight: bold\">1</span><span style=\"color: #800000; text-decoration-color: #800000; font-weight: bold\">-67d06782-0051c4fc48bd82e862a401d9;</span><span style=\"color: #ffff00; text-decoration-color: #ffff00\">95d4eadc-dbff-44eb-b5d5-aed4c049523f</span><span style=\"color: #800000; text-decoration-color: #800000; font-weight: bold\">)</span>\n",
       "\n",
       "<span style=\"color: #800000; text-decoration-color: #800000; font-weight: bold\">You have exceeded your monthly included credits for Inference Providers.</span>\n",
       "</pre>\n"
      ],
      "text/plain": [
       "\u001b[1;31mError in generating model output:\u001b[0m\n",
       "\u001b[1;36m402\u001b[0m\u001b[1;31m Client Error: Payment Required for url: \u001b[0m\u001b[4;94mhttps://router.huggingface.co/together/v1/chat/completions\u001b[0m\u001b[1;31m \u001b[0m\u001b[1;31m(\u001b[0m\u001b[1;31mRequest ID:\u001b[0m\n",
       "\u001b[1;33mRoot\u001b[0m\u001b[1;31m=\u001b[0m\u001b[1;36m1\u001b[0m\u001b[1;31m-67d06782-0051c4fc48bd82e862a401d9;\u001b[0m\u001b[93m95d4eadc-dbff-44eb-b5d5-aed4c049523f\u001b[0m\u001b[1;31m)\u001b[0m\n",
       "\n",
       "\u001b[1;31mYou have exceeded your monthly included credits for Inference Providers.\u001b[0m\n"
      ]
     },
     "metadata": {},
     "output_type": "display_data"
    },
    {
     "data": {
      "text/html": [
       "<pre style=\"white-space:pre;overflow-x:auto;line-height:normal;font-family:Menlo,'DejaVu Sans Mono',consolas,'Courier New',monospace\"><span style=\"color: #7f7f7f; text-decoration-color: #7f7f7f\">[Step 8: Duration 0.11 seconds]</span>\n",
       "</pre>\n"
      ],
      "text/plain": [
       "\u001b[2m[Step 8: Duration 0.11 seconds]\u001b[0m\n"
      ]
     },
     "metadata": {},
     "output_type": "display_data"
    },
    {
     "data": {
      "text/html": [
       "<pre style=\"white-space:pre;overflow-x:auto;line-height:normal;font-family:Menlo,'DejaVu Sans Mono',consolas,'Courier New',monospace\"><span style=\"color: #d4b702; text-decoration-color: #d4b702\">━━━━━━━━━━━━━━━━━━━━━━━━━━━━━━━━━━━━━━━━━━━━━━━━━━━━━ </span><span style=\"font-weight: bold\">Step </span><span style=\"color: #008080; text-decoration-color: #008080; font-weight: bold\">9</span><span style=\"color: #d4b702; text-decoration-color: #d4b702\"> ━━━━━━━━━━━━━━━━━━━━━━━━━━━━━━━━━━━━━━━━━━━━━━━━━━━━━━</span>\n",
       "</pre>\n"
      ],
      "text/plain": [
       "\u001b[38;2;212;183;2m━━━━━━━━━━━━━━━━━━━━━━━━━━━━━━━━━━━━━━━━━━━━━━━━━━━━━ \u001b[0m\u001b[1mStep \u001b[0m\u001b[1;36m9\u001b[0m\u001b[38;2;212;183;2m ━━━━━━━━━━━━━━━━━━━━━━━━━━━━━━━━━━━━━━━━━━━━━━━━━━━━━━\u001b[0m\n"
      ]
     },
     "metadata": {},
     "output_type": "display_data"
    },
    {
     "data": {
      "text/html": [
       "<pre style=\"white-space:pre;overflow-x:auto;line-height:normal;font-family:Menlo,'DejaVu Sans Mono',consolas,'Courier New',monospace\"><span style=\"color: #800000; text-decoration-color: #800000; font-weight: bold\">Error in generating model output:</span>\n",
       "<span style=\"color: #008080; text-decoration-color: #008080; font-weight: bold\">402</span><span style=\"color: #800000; text-decoration-color: #800000; font-weight: bold\"> Client Error: Payment Required for url: </span><span style=\"color: #0000ff; text-decoration-color: #0000ff; text-decoration: underline\">https://router.huggingface.co/together/v1/chat/completions</span><span style=\"color: #800000; text-decoration-color: #800000; font-weight: bold\"> (Request ID:</span>\n",
       "<span style=\"color: #808000; text-decoration-color: #808000; font-weight: bold\">Root</span><span style=\"color: #800000; text-decoration-color: #800000; font-weight: bold\">=</span><span style=\"color: #008080; text-decoration-color: #008080; font-weight: bold\">1</span><span style=\"color: #800000; text-decoration-color: #800000; font-weight: bold\">-67d06782-77792c0c30adff5350a90335;</span><span style=\"color: #ffff00; text-decoration-color: #ffff00\">9b74e61b-27b2-446e-8d4f-555ad8b4602d</span><span style=\"color: #800000; text-decoration-color: #800000; font-weight: bold\">)</span>\n",
       "\n",
       "<span style=\"color: #800000; text-decoration-color: #800000; font-weight: bold\">You have exceeded your monthly included credits for Inference Providers.</span>\n",
       "</pre>\n"
      ],
      "text/plain": [
       "\u001b[1;31mError in generating model output:\u001b[0m\n",
       "\u001b[1;36m402\u001b[0m\u001b[1;31m Client Error: Payment Required for url: \u001b[0m\u001b[4;94mhttps://router.huggingface.co/together/v1/chat/completions\u001b[0m\u001b[1;31m \u001b[0m\u001b[1;31m(\u001b[0m\u001b[1;31mRequest ID:\u001b[0m\n",
       "\u001b[1;33mRoot\u001b[0m\u001b[1;31m=\u001b[0m\u001b[1;36m1\u001b[0m\u001b[1;31m-67d06782-77792c0c30adff5350a90335;\u001b[0m\u001b[93m9b74e61b-27b2-446e-8d4f-555ad8b4602d\u001b[0m\u001b[1;31m)\u001b[0m\n",
       "\n",
       "\u001b[1;31mYou have exceeded your monthly included credits for Inference Providers.\u001b[0m\n"
      ]
     },
     "metadata": {},
     "output_type": "display_data"
    },
    {
     "data": {
      "text/html": [
       "<pre style=\"white-space:pre;overflow-x:auto;line-height:normal;font-family:Menlo,'DejaVu Sans Mono',consolas,'Courier New',monospace\"><span style=\"color: #7f7f7f; text-decoration-color: #7f7f7f\">[Step 9: Duration 0.08 seconds]</span>\n",
       "</pre>\n"
      ],
      "text/plain": [
       "\u001b[2m[Step 9: Duration 0.08 seconds]\u001b[0m\n"
      ]
     },
     "metadata": {},
     "output_type": "display_data"
    },
    {
     "data": {
      "text/html": [
       "<pre style=\"white-space:pre;overflow-x:auto;line-height:normal;font-family:Menlo,'DejaVu Sans Mono',consolas,'Courier New',monospace\"><span style=\"color: #d4b702; text-decoration-color: #d4b702\">━━━━━━━━━━━━━━━━━━━━━━━━━━━━━━━━━━━━━━━━━━━━━━━━━━━━━ </span><span style=\"font-weight: bold\">Step </span><span style=\"color: #008080; text-decoration-color: #008080; font-weight: bold\">10</span><span style=\"color: #d4b702; text-decoration-color: #d4b702\"> ━━━━━━━━━━━━━━━━━━━━━━━━━━━━━━━━━━━━━━━━━━━━━━━━━━━━━</span>\n",
       "</pre>\n"
      ],
      "text/plain": [
       "\u001b[38;2;212;183;2m━━━━━━━━━━━━━━━━━━━━━━━━━━━━━━━━━━━━━━━━━━━━━━━━━━━━━ \u001b[0m\u001b[1mStep \u001b[0m\u001b[1;36m10\u001b[0m\u001b[38;2;212;183;2m ━━━━━━━━━━━━━━━━━━━━━━━━━━━━━━━━━━━━━━━━━━━━━━━━━━━━━\u001b[0m\n"
      ]
     },
     "metadata": {},
     "output_type": "display_data"
    },
    {
     "data": {
      "text/html": [
       "<pre style=\"white-space:pre;overflow-x:auto;line-height:normal;font-family:Menlo,'DejaVu Sans Mono',consolas,'Courier New',monospace\"><span style=\"color: #800000; text-decoration-color: #800000; font-weight: bold\">Error in generating model output:</span>\n",
       "<span style=\"color: #008080; text-decoration-color: #008080; font-weight: bold\">402</span><span style=\"color: #800000; text-decoration-color: #800000; font-weight: bold\"> Client Error: Payment Required for url: </span><span style=\"color: #0000ff; text-decoration-color: #0000ff; text-decoration: underline\">https://router.huggingface.co/together/v1/chat/completions</span><span style=\"color: #800000; text-decoration-color: #800000; font-weight: bold\"> (Request ID:</span>\n",
       "<span style=\"color: #808000; text-decoration-color: #808000; font-weight: bold\">Root</span><span style=\"color: #800000; text-decoration-color: #800000; font-weight: bold\">=</span><span style=\"color: #008080; text-decoration-color: #008080; font-weight: bold\">1</span><span style=\"color: #800000; text-decoration-color: #800000; font-weight: bold\">-67d06782-075b71b25f7af1571a02b96e;</span><span style=\"color: #ffff00; text-decoration-color: #ffff00\">6beaed9d-e1e5-4f4f-b8dd-bf7b605f8dbf</span><span style=\"color: #800000; text-decoration-color: #800000; font-weight: bold\">)</span>\n",
       "\n",
       "<span style=\"color: #800000; text-decoration-color: #800000; font-weight: bold\">You have exceeded your monthly included credits for Inference Providers.</span>\n",
       "</pre>\n"
      ],
      "text/plain": [
       "\u001b[1;31mError in generating model output:\u001b[0m\n",
       "\u001b[1;36m402\u001b[0m\u001b[1;31m Client Error: Payment Required for url: \u001b[0m\u001b[4;94mhttps://router.huggingface.co/together/v1/chat/completions\u001b[0m\u001b[1;31m \u001b[0m\u001b[1;31m(\u001b[0m\u001b[1;31mRequest ID:\u001b[0m\n",
       "\u001b[1;33mRoot\u001b[0m\u001b[1;31m=\u001b[0m\u001b[1;36m1\u001b[0m\u001b[1;31m-67d06782-075b71b25f7af1571a02b96e;\u001b[0m\u001b[93m6beaed9d-e1e5-4f4f-b8dd-bf7b605f8dbf\u001b[0m\u001b[1;31m)\u001b[0m\n",
       "\n",
       "\u001b[1;31mYou have exceeded your monthly included credits for Inference Providers.\u001b[0m\n"
      ]
     },
     "metadata": {},
     "output_type": "display_data"
    },
    {
     "data": {
      "text/html": [
       "<pre style=\"white-space:pre;overflow-x:auto;line-height:normal;font-family:Menlo,'DejaVu Sans Mono',consolas,'Courier New',monospace\"><span style=\"color: #7f7f7f; text-decoration-color: #7f7f7f\">[Step 10: Duration 0.12 seconds]</span>\n",
       "</pre>\n"
      ],
      "text/plain": [
       "\u001b[2m[Step 10: Duration 0.12 seconds]\u001b[0m\n"
      ]
     },
     "metadata": {},
     "output_type": "display_data"
    },
    {
     "data": {
      "text/html": [
       "<pre style=\"white-space:pre;overflow-x:auto;line-height:normal;font-family:Menlo,'DejaVu Sans Mono',consolas,'Courier New',monospace\"><span style=\"color: #d4b702; text-decoration-color: #d4b702\">━━━━━━━━━━━━━━━━━━━━━━━━━━━━━━━━━━━━━━━━━━━━━━━━━━━━━ </span><span style=\"font-weight: bold\">Step </span><span style=\"color: #008080; text-decoration-color: #008080; font-weight: bold\">11</span><span style=\"color: #d4b702; text-decoration-color: #d4b702\"> ━━━━━━━━━━━━━━━━━━━━━━━━━━━━━━━━━━━━━━━━━━━━━━━━━━━━━</span>\n",
       "</pre>\n"
      ],
      "text/plain": [
       "\u001b[38;2;212;183;2m━━━━━━━━━━━━━━━━━━━━━━━━━━━━━━━━━━━━━━━━━━━━━━━━━━━━━ \u001b[0m\u001b[1mStep \u001b[0m\u001b[1;36m11\u001b[0m\u001b[38;2;212;183;2m ━━━━━━━━━━━━━━━━━━━━━━━━━━━━━━━━━━━━━━━━━━━━━━━━━━━━━\u001b[0m\n"
      ]
     },
     "metadata": {},
     "output_type": "display_data"
    },
    {
     "data": {
      "text/html": [
       "<pre style=\"white-space:pre;overflow-x:auto;line-height:normal;font-family:Menlo,'DejaVu Sans Mono',consolas,'Courier New',monospace\"><span style=\"color: #800000; text-decoration-color: #800000; font-weight: bold\">Error in generating model output:</span>\n",
       "<span style=\"color: #008080; text-decoration-color: #008080; font-weight: bold\">402</span><span style=\"color: #800000; text-decoration-color: #800000; font-weight: bold\"> Client Error: Payment Required for url: </span><span style=\"color: #0000ff; text-decoration-color: #0000ff; text-decoration: underline\">https://router.huggingface.co/together/v1/chat/completions</span><span style=\"color: #800000; text-decoration-color: #800000; font-weight: bold\"> (Request ID:</span>\n",
       "<span style=\"color: #808000; text-decoration-color: #808000; font-weight: bold\">Root</span><span style=\"color: #800000; text-decoration-color: #800000; font-weight: bold\">=</span><span style=\"color: #008080; text-decoration-color: #008080; font-weight: bold\">1</span><span style=\"color: #800000; text-decoration-color: #800000; font-weight: bold\">-67d06782-083eed085dfb9caa32ab4e27;</span><span style=\"color: #ffff00; text-decoration-color: #ffff00\">ada155eb-d05d-4f47-acee-109b0459202c</span><span style=\"color: #800000; text-decoration-color: #800000; font-weight: bold\">)</span>\n",
       "\n",
       "<span style=\"color: #800000; text-decoration-color: #800000; font-weight: bold\">You have exceeded your monthly included credits for Inference Providers.</span>\n",
       "</pre>\n"
      ],
      "text/plain": [
       "\u001b[1;31mError in generating model output:\u001b[0m\n",
       "\u001b[1;36m402\u001b[0m\u001b[1;31m Client Error: Payment Required for url: \u001b[0m\u001b[4;94mhttps://router.huggingface.co/together/v1/chat/completions\u001b[0m\u001b[1;31m \u001b[0m\u001b[1;31m(\u001b[0m\u001b[1;31mRequest ID:\u001b[0m\n",
       "\u001b[1;33mRoot\u001b[0m\u001b[1;31m=\u001b[0m\u001b[1;36m1\u001b[0m\u001b[1;31m-67d06782-083eed085dfb9caa32ab4e27;\u001b[0m\u001b[93mada155eb-d05d-4f47-acee-109b0459202c\u001b[0m\u001b[1;31m)\u001b[0m\n",
       "\n",
       "\u001b[1;31mYou have exceeded your monthly included credits for Inference Providers.\u001b[0m\n"
      ]
     },
     "metadata": {},
     "output_type": "display_data"
    },
    {
     "data": {
      "text/html": [
       "<pre style=\"white-space:pre;overflow-x:auto;line-height:normal;font-family:Menlo,'DejaVu Sans Mono',consolas,'Courier New',monospace\"><span style=\"color: #7f7f7f; text-decoration-color: #7f7f7f\">[Step 11: Duration 0.09 seconds]</span>\n",
       "</pre>\n"
      ],
      "text/plain": [
       "\u001b[2m[Step 11: Duration 0.09 seconds]\u001b[0m\n"
      ]
     },
     "metadata": {},
     "output_type": "display_data"
    },
    {
     "data": {
      "text/html": [
       "<pre style=\"white-space:pre;overflow-x:auto;line-height:normal;font-family:Menlo,'DejaVu Sans Mono',consolas,'Courier New',monospace\"><span style=\"color: #d4b702; text-decoration-color: #d4b702\">━━━━━━━━━━━━━━━━━━━━━━━━━━━━━━━━━━━━━━━━━━━━━━━━━━━━━ </span><span style=\"font-weight: bold\">Step </span><span style=\"color: #008080; text-decoration-color: #008080; font-weight: bold\">12</span><span style=\"color: #d4b702; text-decoration-color: #d4b702\"> ━━━━━━━━━━━━━━━━━━━━━━━━━━━━━━━━━━━━━━━━━━━━━━━━━━━━━</span>\n",
       "</pre>\n"
      ],
      "text/plain": [
       "\u001b[38;2;212;183;2m━━━━━━━━━━━━━━━━━━━━━━━━━━━━━━━━━━━━━━━━━━━━━━━━━━━━━ \u001b[0m\u001b[1mStep \u001b[0m\u001b[1;36m12\u001b[0m\u001b[38;2;212;183;2m ━━━━━━━━━━━━━━━━━━━━━━━━━━━━━━━━━━━━━━━━━━━━━━━━━━━━━\u001b[0m\n"
      ]
     },
     "metadata": {},
     "output_type": "display_data"
    },
    {
     "data": {
      "text/html": [
       "<pre style=\"white-space:pre;overflow-x:auto;line-height:normal;font-family:Menlo,'DejaVu Sans Mono',consolas,'Courier New',monospace\"><span style=\"color: #800000; text-decoration-color: #800000; font-weight: bold\">Error in generating model output:</span>\n",
       "<span style=\"color: #008080; text-decoration-color: #008080; font-weight: bold\">402</span><span style=\"color: #800000; text-decoration-color: #800000; font-weight: bold\"> Client Error: Payment Required for url: </span><span style=\"color: #0000ff; text-decoration-color: #0000ff; text-decoration: underline\">https://router.huggingface.co/together/v1/chat/completions</span><span style=\"color: #800000; text-decoration-color: #800000; font-weight: bold\"> (Request ID:</span>\n",
       "<span style=\"color: #808000; text-decoration-color: #808000; font-weight: bold\">Root</span><span style=\"color: #800000; text-decoration-color: #800000; font-weight: bold\">=</span><span style=\"color: #008080; text-decoration-color: #008080; font-weight: bold\">1</span><span style=\"color: #800000; text-decoration-color: #800000; font-weight: bold\">-67d06782-00dfb4eb670263d16237243c;</span><span style=\"color: #ffff00; text-decoration-color: #ffff00\">41ab8ae1-7e0e-4f90-a17b-598c98362d85</span><span style=\"color: #800000; text-decoration-color: #800000; font-weight: bold\">)</span>\n",
       "\n",
       "<span style=\"color: #800000; text-decoration-color: #800000; font-weight: bold\">You have exceeded your monthly included credits for Inference Providers.</span>\n",
       "</pre>\n"
      ],
      "text/plain": [
       "\u001b[1;31mError in generating model output:\u001b[0m\n",
       "\u001b[1;36m402\u001b[0m\u001b[1;31m Client Error: Payment Required for url: \u001b[0m\u001b[4;94mhttps://router.huggingface.co/together/v1/chat/completions\u001b[0m\u001b[1;31m \u001b[0m\u001b[1;31m(\u001b[0m\u001b[1;31mRequest ID:\u001b[0m\n",
       "\u001b[1;33mRoot\u001b[0m\u001b[1;31m=\u001b[0m\u001b[1;36m1\u001b[0m\u001b[1;31m-67d06782-00dfb4eb670263d16237243c;\u001b[0m\u001b[93m41ab8ae1-7e0e-4f90-a17b-598c98362d85\u001b[0m\u001b[1;31m)\u001b[0m\n",
       "\n",
       "\u001b[1;31mYou have exceeded your monthly included credits for Inference Providers.\u001b[0m\n"
      ]
     },
     "metadata": {},
     "output_type": "display_data"
    },
    {
     "data": {
      "text/html": [
       "<pre style=\"white-space:pre;overflow-x:auto;line-height:normal;font-family:Menlo,'DejaVu Sans Mono',consolas,'Courier New',monospace\"><span style=\"color: #7f7f7f; text-decoration-color: #7f7f7f\">[Step 12: Duration 0.10 seconds]</span>\n",
       "</pre>\n"
      ],
      "text/plain": [
       "\u001b[2m[Step 12: Duration 0.10 seconds]\u001b[0m\n"
      ]
     },
     "metadata": {},
     "output_type": "display_data"
    },
    {
     "data": {
      "text/html": [
       "<pre style=\"white-space:pre;overflow-x:auto;line-height:normal;font-family:Menlo,'DejaVu Sans Mono',consolas,'Courier New',monospace\"><span style=\"color: #d4b702; text-decoration-color: #d4b702\">━━━━━━━━━━━━━━━━━━━━━━━━━━━━━━━━━━━━━━━━━━━━━━━━━━━━━ </span><span style=\"font-weight: bold\">Step </span><span style=\"color: #008080; text-decoration-color: #008080; font-weight: bold\">13</span><span style=\"color: #d4b702; text-decoration-color: #d4b702\"> ━━━━━━━━━━━━━━━━━━━━━━━━━━━━━━━━━━━━━━━━━━━━━━━━━━━━━</span>\n",
       "</pre>\n"
      ],
      "text/plain": [
       "\u001b[38;2;212;183;2m━━━━━━━━━━━━━━━━━━━━━━━━━━━━━━━━━━━━━━━━━━━━━━━━━━━━━ \u001b[0m\u001b[1mStep \u001b[0m\u001b[1;36m13\u001b[0m\u001b[38;2;212;183;2m ━━━━━━━━━━━━━━━━━━━━━━━━━━━━━━━━━━━━━━━━━━━━━━━━━━━━━\u001b[0m\n"
      ]
     },
     "metadata": {},
     "output_type": "display_data"
    },
    {
     "data": {
      "text/html": [
       "<pre style=\"white-space:pre;overflow-x:auto;line-height:normal;font-family:Menlo,'DejaVu Sans Mono',consolas,'Courier New',monospace\"><span style=\"color: #800000; text-decoration-color: #800000; font-weight: bold\">Error in generating model output:</span>\n",
       "<span style=\"color: #008080; text-decoration-color: #008080; font-weight: bold\">402</span><span style=\"color: #800000; text-decoration-color: #800000; font-weight: bold\"> Client Error: Payment Required for url: </span><span style=\"color: #0000ff; text-decoration-color: #0000ff; text-decoration: underline\">https://router.huggingface.co/together/v1/chat/completions</span><span style=\"color: #800000; text-decoration-color: #800000; font-weight: bold\"> (Request ID:</span>\n",
       "<span style=\"color: #808000; text-decoration-color: #808000; font-weight: bold\">Root</span><span style=\"color: #800000; text-decoration-color: #800000; font-weight: bold\">=</span><span style=\"color: #008080; text-decoration-color: #008080; font-weight: bold\">1</span><span style=\"color: #800000; text-decoration-color: #800000; font-weight: bold\">-67d06782-258ed9aa2cdf484513381dff;</span><span style=\"color: #ffff00; text-decoration-color: #ffff00\">c99c9434-cac9-4545-871b-add52d2f8ca2</span><span style=\"color: #800000; text-decoration-color: #800000; font-weight: bold\">)</span>\n",
       "\n",
       "<span style=\"color: #800000; text-decoration-color: #800000; font-weight: bold\">You have exceeded your monthly included credits for Inference Providers.</span>\n",
       "</pre>\n"
      ],
      "text/plain": [
       "\u001b[1;31mError in generating model output:\u001b[0m\n",
       "\u001b[1;36m402\u001b[0m\u001b[1;31m Client Error: Payment Required for url: \u001b[0m\u001b[4;94mhttps://router.huggingface.co/together/v1/chat/completions\u001b[0m\u001b[1;31m \u001b[0m\u001b[1;31m(\u001b[0m\u001b[1;31mRequest ID:\u001b[0m\n",
       "\u001b[1;33mRoot\u001b[0m\u001b[1;31m=\u001b[0m\u001b[1;36m1\u001b[0m\u001b[1;31m-67d06782-258ed9aa2cdf484513381dff;\u001b[0m\u001b[93mc99c9434-cac9-4545-871b-add52d2f8ca2\u001b[0m\u001b[1;31m)\u001b[0m\n",
       "\n",
       "\u001b[1;31mYou have exceeded your monthly included credits for Inference Providers.\u001b[0m\n"
      ]
     },
     "metadata": {},
     "output_type": "display_data"
    },
    {
     "data": {
      "text/html": [
       "<pre style=\"white-space:pre;overflow-x:auto;line-height:normal;font-family:Menlo,'DejaVu Sans Mono',consolas,'Courier New',monospace\"><span style=\"color: #7f7f7f; text-decoration-color: #7f7f7f\">[Step 13: Duration 0.11 seconds]</span>\n",
       "</pre>\n"
      ],
      "text/plain": [
       "\u001b[2m[Step 13: Duration 0.11 seconds]\u001b[0m\n"
      ]
     },
     "metadata": {},
     "output_type": "display_data"
    },
    {
     "data": {
      "text/html": [
       "<pre style=\"white-space:pre;overflow-x:auto;line-height:normal;font-family:Menlo,'DejaVu Sans Mono',consolas,'Courier New',monospace\"><span style=\"color: #d4b702; text-decoration-color: #d4b702\">━━━━━━━━━━━━━━━━━━━━━━━━━━━━━━━━━━━━━━━━━━━━━━━━━━━━━ </span><span style=\"font-weight: bold\">Step </span><span style=\"color: #008080; text-decoration-color: #008080; font-weight: bold\">14</span><span style=\"color: #d4b702; text-decoration-color: #d4b702\"> ━━━━━━━━━━━━━━━━━━━━━━━━━━━━━━━━━━━━━━━━━━━━━━━━━━━━━</span>\n",
       "</pre>\n"
      ],
      "text/plain": [
       "\u001b[38;2;212;183;2m━━━━━━━━━━━━━━━━━━━━━━━━━━━━━━━━━━━━━━━━━━━━━━━━━━━━━ \u001b[0m\u001b[1mStep \u001b[0m\u001b[1;36m14\u001b[0m\u001b[38;2;212;183;2m ━━━━━━━━━━━━━━━━━━━━━━━━━━━━━━━━━━━━━━━━━━━━━━━━━━━━━\u001b[0m\n"
      ]
     },
     "metadata": {},
     "output_type": "display_data"
    },
    {
     "data": {
      "text/html": [
       "<pre style=\"white-space:pre;overflow-x:auto;line-height:normal;font-family:Menlo,'DejaVu Sans Mono',consolas,'Courier New',monospace\"><span style=\"color: #800000; text-decoration-color: #800000; font-weight: bold\">Error in generating model output:</span>\n",
       "<span style=\"color: #008080; text-decoration-color: #008080; font-weight: bold\">402</span><span style=\"color: #800000; text-decoration-color: #800000; font-weight: bold\"> Client Error: Payment Required for url: </span><span style=\"color: #0000ff; text-decoration-color: #0000ff; text-decoration: underline\">https://router.huggingface.co/together/v1/chat/completions</span><span style=\"color: #800000; text-decoration-color: #800000; font-weight: bold\"> (Request ID:</span>\n",
       "<span style=\"color: #808000; text-decoration-color: #808000; font-weight: bold\">Root</span><span style=\"color: #800000; text-decoration-color: #800000; font-weight: bold\">=</span><span style=\"color: #008080; text-decoration-color: #008080; font-weight: bold\">1</span><span style=\"color: #800000; text-decoration-color: #800000; font-weight: bold\">-67d06782-3756e8d1507b4386497e8bc9;</span><span style=\"color: #ffff00; text-decoration-color: #ffff00\">2d3f2c03-3ea4-4e6b-b167-d7247440827b</span><span style=\"color: #800000; text-decoration-color: #800000; font-weight: bold\">)</span>\n",
       "\n",
       "<span style=\"color: #800000; text-decoration-color: #800000; font-weight: bold\">You have exceeded your monthly included credits for Inference Providers.</span>\n",
       "</pre>\n"
      ],
      "text/plain": [
       "\u001b[1;31mError in generating model output:\u001b[0m\n",
       "\u001b[1;36m402\u001b[0m\u001b[1;31m Client Error: Payment Required for url: \u001b[0m\u001b[4;94mhttps://router.huggingface.co/together/v1/chat/completions\u001b[0m\u001b[1;31m \u001b[0m\u001b[1;31m(\u001b[0m\u001b[1;31mRequest ID:\u001b[0m\n",
       "\u001b[1;33mRoot\u001b[0m\u001b[1;31m=\u001b[0m\u001b[1;36m1\u001b[0m\u001b[1;31m-67d06782-3756e8d1507b4386497e8bc9;\u001b[0m\u001b[93m2d3f2c03-3ea4-4e6b-b167-d7247440827b\u001b[0m\u001b[1;31m)\u001b[0m\n",
       "\n",
       "\u001b[1;31mYou have exceeded your monthly included credits for Inference Providers.\u001b[0m\n"
      ]
     },
     "metadata": {},
     "output_type": "display_data"
    },
    {
     "data": {
      "text/html": [
       "<pre style=\"white-space:pre;overflow-x:auto;line-height:normal;font-family:Menlo,'DejaVu Sans Mono',consolas,'Courier New',monospace\"><span style=\"color: #7f7f7f; text-decoration-color: #7f7f7f\">[Step 14: Duration 0.10 seconds]</span>\n",
       "</pre>\n"
      ],
      "text/plain": [
       "\u001b[2m[Step 14: Duration 0.10 seconds]\u001b[0m\n"
      ]
     },
     "metadata": {},
     "output_type": "display_data"
    },
    {
     "data": {
      "text/html": [
       "<pre style=\"white-space:pre;overflow-x:auto;line-height:normal;font-family:Menlo,'DejaVu Sans Mono',consolas,'Courier New',monospace\"><span style=\"color: #d4b702; text-decoration-color: #d4b702\">━━━━━━━━━━━━━━━━━━━━━━━━━━━━━━━━━━━━━━━━━━━━━━━━━━━━━ </span><span style=\"font-weight: bold\">Step </span><span style=\"color: #008080; text-decoration-color: #008080; font-weight: bold\">15</span><span style=\"color: #d4b702; text-decoration-color: #d4b702\"> ━━━━━━━━━━━━━━━━━━━━━━━━━━━━━━━━━━━━━━━━━━━━━━━━━━━━━</span>\n",
       "</pre>\n"
      ],
      "text/plain": [
       "\u001b[38;2;212;183;2m━━━━━━━━━━━━━━━━━━━━━━━━━━━━━━━━━━━━━━━━━━━━━━━━━━━━━ \u001b[0m\u001b[1mStep \u001b[0m\u001b[1;36m15\u001b[0m\u001b[38;2;212;183;2m ━━━━━━━━━━━━━━━━━━━━━━━━━━━━━━━━━━━━━━━━━━━━━━━━━━━━━\u001b[0m\n"
      ]
     },
     "metadata": {},
     "output_type": "display_data"
    },
    {
     "data": {
      "text/html": [
       "<pre style=\"white-space:pre;overflow-x:auto;line-height:normal;font-family:Menlo,'DejaVu Sans Mono',consolas,'Courier New',monospace\"><span style=\"color: #800000; text-decoration-color: #800000; font-weight: bold\">Error in generating model output:</span>\n",
       "<span style=\"color: #008080; text-decoration-color: #008080; font-weight: bold\">402</span><span style=\"color: #800000; text-decoration-color: #800000; font-weight: bold\"> Client Error: Payment Required for url: </span><span style=\"color: #0000ff; text-decoration-color: #0000ff; text-decoration: underline\">https://router.huggingface.co/together/v1/chat/completions</span><span style=\"color: #800000; text-decoration-color: #800000; font-weight: bold\"> (Request ID:</span>\n",
       "<span style=\"color: #808000; text-decoration-color: #808000; font-weight: bold\">Root</span><span style=\"color: #800000; text-decoration-color: #800000; font-weight: bold\">=</span><span style=\"color: #008080; text-decoration-color: #008080; font-weight: bold\">1</span><span style=\"color: #800000; text-decoration-color: #800000; font-weight: bold\">-67d06783-5777eb3a7db0380e70eba0ab;</span><span style=\"color: #ffff00; text-decoration-color: #ffff00\">96f226c9-0471-43f2-8eb3-4016a757d1b0</span><span style=\"color: #800000; text-decoration-color: #800000; font-weight: bold\">)</span>\n",
       "\n",
       "<span style=\"color: #800000; text-decoration-color: #800000; font-weight: bold\">You have exceeded your monthly included credits for Inference Providers.</span>\n",
       "</pre>\n"
      ],
      "text/plain": [
       "\u001b[1;31mError in generating model output:\u001b[0m\n",
       "\u001b[1;36m402\u001b[0m\u001b[1;31m Client Error: Payment Required for url: \u001b[0m\u001b[4;94mhttps://router.huggingface.co/together/v1/chat/completions\u001b[0m\u001b[1;31m \u001b[0m\u001b[1;31m(\u001b[0m\u001b[1;31mRequest ID:\u001b[0m\n",
       "\u001b[1;33mRoot\u001b[0m\u001b[1;31m=\u001b[0m\u001b[1;36m1\u001b[0m\u001b[1;31m-67d06783-5777eb3a7db0380e70eba0ab;\u001b[0m\u001b[93m96f226c9-0471-43f2-8eb3-4016a757d1b0\u001b[0m\u001b[1;31m)\u001b[0m\n",
       "\n",
       "\u001b[1;31mYou have exceeded your monthly included credits for Inference Providers.\u001b[0m\n"
      ]
     },
     "metadata": {},
     "output_type": "display_data"
    },
    {
     "data": {
      "text/html": [
       "<pre style=\"white-space:pre;overflow-x:auto;line-height:normal;font-family:Menlo,'DejaVu Sans Mono',consolas,'Courier New',monospace\"><span style=\"color: #7f7f7f; text-decoration-color: #7f7f7f\">[Step 15: Duration 0.34 seconds]</span>\n",
       "</pre>\n"
      ],
      "text/plain": [
       "\u001b[2m[Step 15: Duration 0.34 seconds]\u001b[0m\n"
      ]
     },
     "metadata": {},
     "output_type": "display_data"
    },
    {
     "data": {
      "text/html": [
       "<pre style=\"white-space:pre;overflow-x:auto;line-height:normal;font-family:Menlo,'DejaVu Sans Mono',consolas,'Courier New',monospace\"><span style=\"color: #d4b702; text-decoration-color: #d4b702\">━━━━━━━━━━━━━━━━━━━━━━━━━━━━━━━━━━━━━━━━━━━━━━━━━━━━━ </span><span style=\"font-weight: bold\">Step </span><span style=\"color: #008080; text-decoration-color: #008080; font-weight: bold\">16</span><span style=\"color: #d4b702; text-decoration-color: #d4b702\"> ━━━━━━━━━━━━━━━━━━━━━━━━━━━━━━━━━━━━━━━━━━━━━━━━━━━━━</span>\n",
       "</pre>\n"
      ],
      "text/plain": [
       "\u001b[38;2;212;183;2m━━━━━━━━━━━━━━━━━━━━━━━━━━━━━━━━━━━━━━━━━━━━━━━━━━━━━ \u001b[0m\u001b[1mStep \u001b[0m\u001b[1;36m16\u001b[0m\u001b[38;2;212;183;2m ━━━━━━━━━━━━━━━━━━━━━━━━━━━━━━━━━━━━━━━━━━━━━━━━━━━━━\u001b[0m\n"
      ]
     },
     "metadata": {},
     "output_type": "display_data"
    },
    {
     "data": {
      "text/html": [
       "<pre style=\"white-space:pre;overflow-x:auto;line-height:normal;font-family:Menlo,'DejaVu Sans Mono',consolas,'Courier New',monospace\"><span style=\"color: #800000; text-decoration-color: #800000; font-weight: bold\">Error in generating model output:</span>\n",
       "<span style=\"color: #008080; text-decoration-color: #008080; font-weight: bold\">402</span><span style=\"color: #800000; text-decoration-color: #800000; font-weight: bold\"> Client Error: Payment Required for url: </span><span style=\"color: #0000ff; text-decoration-color: #0000ff; text-decoration: underline\">https://router.huggingface.co/together/v1/chat/completions</span><span style=\"color: #800000; text-decoration-color: #800000; font-weight: bold\"> (Request ID:</span>\n",
       "<span style=\"color: #808000; text-decoration-color: #808000; font-weight: bold\">Root</span><span style=\"color: #800000; text-decoration-color: #800000; font-weight: bold\">=</span><span style=\"color: #008080; text-decoration-color: #008080; font-weight: bold\">1</span><span style=\"color: #800000; text-decoration-color: #800000; font-weight: bold\">-67d06783-697f78bf6aedc1a002542b0e;</span><span style=\"color: #ffff00; text-decoration-color: #ffff00\">004c0721-4feb-4f65-a003-c370165f353c</span><span style=\"color: #800000; text-decoration-color: #800000; font-weight: bold\">)</span>\n",
       "\n",
       "<span style=\"color: #800000; text-decoration-color: #800000; font-weight: bold\">You have exceeded your monthly included credits for Inference Providers.</span>\n",
       "</pre>\n"
      ],
      "text/plain": [
       "\u001b[1;31mError in generating model output:\u001b[0m\n",
       "\u001b[1;36m402\u001b[0m\u001b[1;31m Client Error: Payment Required for url: \u001b[0m\u001b[4;94mhttps://router.huggingface.co/together/v1/chat/completions\u001b[0m\u001b[1;31m \u001b[0m\u001b[1;31m(\u001b[0m\u001b[1;31mRequest ID:\u001b[0m\n",
       "\u001b[1;33mRoot\u001b[0m\u001b[1;31m=\u001b[0m\u001b[1;36m1\u001b[0m\u001b[1;31m-67d06783-697f78bf6aedc1a002542b0e;\u001b[0m\u001b[93m004c0721-4feb-4f65-a003-c370165f353c\u001b[0m\u001b[1;31m)\u001b[0m\n",
       "\n",
       "\u001b[1;31mYou have exceeded your monthly included credits for Inference Providers.\u001b[0m\n"
      ]
     },
     "metadata": {},
     "output_type": "display_data"
    },
    {
     "data": {
      "text/html": [
       "<pre style=\"white-space:pre;overflow-x:auto;line-height:normal;font-family:Menlo,'DejaVu Sans Mono',consolas,'Courier New',monospace\"><span style=\"color: #7f7f7f; text-decoration-color: #7f7f7f\">[Step 16: Duration 0.11 seconds]</span>\n",
       "</pre>\n"
      ],
      "text/plain": [
       "\u001b[2m[Step 16: Duration 0.11 seconds]\u001b[0m\n"
      ]
     },
     "metadata": {},
     "output_type": "display_data"
    },
    {
     "data": {
      "text/html": [
       "<pre style=\"white-space:pre;overflow-x:auto;line-height:normal;font-family:Menlo,'DejaVu Sans Mono',consolas,'Courier New',monospace\"><span style=\"color: #d4b702; text-decoration-color: #d4b702\">━━━━━━━━━━━━━━━━━━━━━━━━━━━━━━━━━━━━━━━━━━━━━━━━━━━━━ </span><span style=\"font-weight: bold\">Step </span><span style=\"color: #008080; text-decoration-color: #008080; font-weight: bold\">17</span><span style=\"color: #d4b702; text-decoration-color: #d4b702\"> ━━━━━━━━━━━━━━━━━━━━━━━━━━━━━━━━━━━━━━━━━━━━━━━━━━━━━</span>\n",
       "</pre>\n"
      ],
      "text/plain": [
       "\u001b[38;2;212;183;2m━━━━━━━━━━━━━━━━━━━━━━━━━━━━━━━━━━━━━━━━━━━━━━━━━━━━━ \u001b[0m\u001b[1mStep \u001b[0m\u001b[1;36m17\u001b[0m\u001b[38;2;212;183;2m ━━━━━━━━━━━━━━━━━━━━━━━━━━━━━━━━━━━━━━━━━━━━━━━━━━━━━\u001b[0m\n"
      ]
     },
     "metadata": {},
     "output_type": "display_data"
    },
    {
     "data": {
      "text/html": [
       "<pre style=\"white-space:pre;overflow-x:auto;line-height:normal;font-family:Menlo,'DejaVu Sans Mono',consolas,'Courier New',monospace\"><span style=\"color: #800000; text-decoration-color: #800000; font-weight: bold\">Error in generating model output:</span>\n",
       "<span style=\"color: #008080; text-decoration-color: #008080; font-weight: bold\">402</span><span style=\"color: #800000; text-decoration-color: #800000; font-weight: bold\"> Client Error: Payment Required for url: </span><span style=\"color: #0000ff; text-decoration-color: #0000ff; text-decoration: underline\">https://router.huggingface.co/together/v1/chat/completions</span><span style=\"color: #800000; text-decoration-color: #800000; font-weight: bold\"> (Request ID:</span>\n",
       "<span style=\"color: #808000; text-decoration-color: #808000; font-weight: bold\">Root</span><span style=\"color: #800000; text-decoration-color: #800000; font-weight: bold\">=</span><span style=\"color: #008080; text-decoration-color: #008080; font-weight: bold\">1</span><span style=\"color: #800000; text-decoration-color: #800000; font-weight: bold\">-67d06783-206787be7ef937a15ba40166;</span><span style=\"color: #ffff00; text-decoration-color: #ffff00\">b3ce1d95-0bd2-451d-944a-b2f0e7adcc23</span><span style=\"color: #800000; text-decoration-color: #800000; font-weight: bold\">)</span>\n",
       "\n",
       "<span style=\"color: #800000; text-decoration-color: #800000; font-weight: bold\">You have exceeded your monthly included credits for Inference Providers.</span>\n",
       "</pre>\n"
      ],
      "text/plain": [
       "\u001b[1;31mError in generating model output:\u001b[0m\n",
       "\u001b[1;36m402\u001b[0m\u001b[1;31m Client Error: Payment Required for url: \u001b[0m\u001b[4;94mhttps://router.huggingface.co/together/v1/chat/completions\u001b[0m\u001b[1;31m \u001b[0m\u001b[1;31m(\u001b[0m\u001b[1;31mRequest ID:\u001b[0m\n",
       "\u001b[1;33mRoot\u001b[0m\u001b[1;31m=\u001b[0m\u001b[1;36m1\u001b[0m\u001b[1;31m-67d06783-206787be7ef937a15ba40166;\u001b[0m\u001b[93mb3ce1d95-0bd2-451d-944a-b2f0e7adcc23\u001b[0m\u001b[1;31m)\u001b[0m\n",
       "\n",
       "\u001b[1;31mYou have exceeded your monthly included credits for Inference Providers.\u001b[0m\n"
      ]
     },
     "metadata": {},
     "output_type": "display_data"
    },
    {
     "data": {
      "text/html": [
       "<pre style=\"white-space:pre;overflow-x:auto;line-height:normal;font-family:Menlo,'DejaVu Sans Mono',consolas,'Courier New',monospace\"><span style=\"color: #7f7f7f; text-decoration-color: #7f7f7f\">[Step 17: Duration 0.15 seconds]</span>\n",
       "</pre>\n"
      ],
      "text/plain": [
       "\u001b[2m[Step 17: Duration 0.15 seconds]\u001b[0m\n"
      ]
     },
     "metadata": {},
     "output_type": "display_data"
    },
    {
     "data": {
      "text/html": [
       "<pre style=\"white-space:pre;overflow-x:auto;line-height:normal;font-family:Menlo,'DejaVu Sans Mono',consolas,'Courier New',monospace\"><span style=\"color: #d4b702; text-decoration-color: #d4b702\">━━━━━━━━━━━━━━━━━━━━━━━━━━━━━━━━━━━━━━━━━━━━━━━━━━━━━ </span><span style=\"font-weight: bold\">Step </span><span style=\"color: #008080; text-decoration-color: #008080; font-weight: bold\">18</span><span style=\"color: #d4b702; text-decoration-color: #d4b702\"> ━━━━━━━━━━━━━━━━━━━━━━━━━━━━━━━━━━━━━━━━━━━━━━━━━━━━━</span>\n",
       "</pre>\n"
      ],
      "text/plain": [
       "\u001b[38;2;212;183;2m━━━━━━━━━━━━━━━━━━━━━━━━━━━━━━━━━━━━━━━━━━━━━━━━━━━━━ \u001b[0m\u001b[1mStep \u001b[0m\u001b[1;36m18\u001b[0m\u001b[38;2;212;183;2m ━━━━━━━━━━━━━━━━━━━━━━━━━━━━━━━━━━━━━━━━━━━━━━━━━━━━━\u001b[0m\n"
      ]
     },
     "metadata": {},
     "output_type": "display_data"
    },
    {
     "data": {
      "text/html": [
       "<pre style=\"white-space:pre;overflow-x:auto;line-height:normal;font-family:Menlo,'DejaVu Sans Mono',consolas,'Courier New',monospace\"><span style=\"color: #800000; text-decoration-color: #800000; font-weight: bold\">Error in generating model output:</span>\n",
       "<span style=\"color: #008080; text-decoration-color: #008080; font-weight: bold\">402</span><span style=\"color: #800000; text-decoration-color: #800000; font-weight: bold\"> Client Error: Payment Required for url: </span><span style=\"color: #0000ff; text-decoration-color: #0000ff; text-decoration: underline\">https://router.huggingface.co/together/v1/chat/completions</span><span style=\"color: #800000; text-decoration-color: #800000; font-weight: bold\"> (Request ID:</span>\n",
       "<span style=\"color: #808000; text-decoration-color: #808000; font-weight: bold\">Root</span><span style=\"color: #800000; text-decoration-color: #800000; font-weight: bold\">=</span><span style=\"color: #008080; text-decoration-color: #008080; font-weight: bold\">1</span><span style=\"color: #800000; text-decoration-color: #800000; font-weight: bold\">-67d06783-1911697578c985ca50a9b64c;</span><span style=\"color: #ffff00; text-decoration-color: #ffff00\">dbeae812-e3e2-4199-ad3d-0f92d43a87b7</span><span style=\"color: #800000; text-decoration-color: #800000; font-weight: bold\">)</span>\n",
       "\n",
       "<span style=\"color: #800000; text-decoration-color: #800000; font-weight: bold\">You have exceeded your monthly included credits for Inference Providers.</span>\n",
       "</pre>\n"
      ],
      "text/plain": [
       "\u001b[1;31mError in generating model output:\u001b[0m\n",
       "\u001b[1;36m402\u001b[0m\u001b[1;31m Client Error: Payment Required for url: \u001b[0m\u001b[4;94mhttps://router.huggingface.co/together/v1/chat/completions\u001b[0m\u001b[1;31m \u001b[0m\u001b[1;31m(\u001b[0m\u001b[1;31mRequest ID:\u001b[0m\n",
       "\u001b[1;33mRoot\u001b[0m\u001b[1;31m=\u001b[0m\u001b[1;36m1\u001b[0m\u001b[1;31m-67d06783-1911697578c985ca50a9b64c;\u001b[0m\u001b[93mdbeae812-e3e2-4199-ad3d-0f92d43a87b7\u001b[0m\u001b[1;31m)\u001b[0m\n",
       "\n",
       "\u001b[1;31mYou have exceeded your monthly included credits for Inference Providers.\u001b[0m\n"
      ]
     },
     "metadata": {},
     "output_type": "display_data"
    },
    {
     "data": {
      "text/html": [
       "<pre style=\"white-space:pre;overflow-x:auto;line-height:normal;font-family:Menlo,'DejaVu Sans Mono',consolas,'Courier New',monospace\"><span style=\"color: #7f7f7f; text-decoration-color: #7f7f7f\">[Step 18: Duration 0.10 seconds]</span>\n",
       "</pre>\n"
      ],
      "text/plain": [
       "\u001b[2m[Step 18: Duration 0.10 seconds]\u001b[0m\n"
      ]
     },
     "metadata": {},
     "output_type": "display_data"
    },
    {
     "data": {
      "text/html": [
       "<pre style=\"white-space:pre;overflow-x:auto;line-height:normal;font-family:Menlo,'DejaVu Sans Mono',consolas,'Courier New',monospace\"><span style=\"color: #d4b702; text-decoration-color: #d4b702\">━━━━━━━━━━━━━━━━━━━━━━━━━━━━━━━━━━━━━━━━━━━━━━━━━━━━━ </span><span style=\"font-weight: bold\">Step </span><span style=\"color: #008080; text-decoration-color: #008080; font-weight: bold\">19</span><span style=\"color: #d4b702; text-decoration-color: #d4b702\"> ━━━━━━━━━━━━━━━━━━━━━━━━━━━━━━━━━━━━━━━━━━━━━━━━━━━━━</span>\n",
       "</pre>\n"
      ],
      "text/plain": [
       "\u001b[38;2;212;183;2m━━━━━━━━━━━━━━━━━━━━━━━━━━━━━━━━━━━━━━━━━━━━━━━━━━━━━ \u001b[0m\u001b[1mStep \u001b[0m\u001b[1;36m19\u001b[0m\u001b[38;2;212;183;2m ━━━━━━━━━━━━━━━━━━━━━━━━━━━━━━━━━━━━━━━━━━━━━━━━━━━━━\u001b[0m\n"
      ]
     },
     "metadata": {},
     "output_type": "display_data"
    },
    {
     "data": {
      "text/html": [
       "<pre style=\"white-space:pre;overflow-x:auto;line-height:normal;font-family:Menlo,'DejaVu Sans Mono',consolas,'Courier New',monospace\"><span style=\"color: #800000; text-decoration-color: #800000; font-weight: bold\">Error in generating model output:</span>\n",
       "<span style=\"color: #008080; text-decoration-color: #008080; font-weight: bold\">402</span><span style=\"color: #800000; text-decoration-color: #800000; font-weight: bold\"> Client Error: Payment Required for url: </span><span style=\"color: #0000ff; text-decoration-color: #0000ff; text-decoration: underline\">https://router.huggingface.co/together/v1/chat/completions</span><span style=\"color: #800000; text-decoration-color: #800000; font-weight: bold\"> (Request ID:</span>\n",
       "<span style=\"color: #808000; text-decoration-color: #808000; font-weight: bold\">Root</span><span style=\"color: #800000; text-decoration-color: #800000; font-weight: bold\">=</span><span style=\"color: #008080; text-decoration-color: #008080; font-weight: bold\">1</span><span style=\"color: #800000; text-decoration-color: #800000; font-weight: bold\">-67d06783-151d25fb7874dc290465091f;</span><span style=\"color: #ffff00; text-decoration-color: #ffff00\">7ed79dd0-10f0-44d7-805a-fd9fc8a54d11</span><span style=\"color: #800000; text-decoration-color: #800000; font-weight: bold\">)</span>\n",
       "\n",
       "<span style=\"color: #800000; text-decoration-color: #800000; font-weight: bold\">You have exceeded your monthly included credits for Inference Providers.</span>\n",
       "</pre>\n"
      ],
      "text/plain": [
       "\u001b[1;31mError in generating model output:\u001b[0m\n",
       "\u001b[1;36m402\u001b[0m\u001b[1;31m Client Error: Payment Required for url: \u001b[0m\u001b[4;94mhttps://router.huggingface.co/together/v1/chat/completions\u001b[0m\u001b[1;31m \u001b[0m\u001b[1;31m(\u001b[0m\u001b[1;31mRequest ID:\u001b[0m\n",
       "\u001b[1;33mRoot\u001b[0m\u001b[1;31m=\u001b[0m\u001b[1;36m1\u001b[0m\u001b[1;31m-67d06783-151d25fb7874dc290465091f;\u001b[0m\u001b[93m7ed79dd0-10f0-44d7-805a-fd9fc8a54d11\u001b[0m\u001b[1;31m)\u001b[0m\n",
       "\n",
       "\u001b[1;31mYou have exceeded your monthly included credits for Inference Providers.\u001b[0m\n"
      ]
     },
     "metadata": {},
     "output_type": "display_data"
    },
    {
     "data": {
      "text/html": [
       "<pre style=\"white-space:pre;overflow-x:auto;line-height:normal;font-family:Menlo,'DejaVu Sans Mono',consolas,'Courier New',monospace\"><span style=\"color: #7f7f7f; text-decoration-color: #7f7f7f\">[Step 19: Duration 0.09 seconds]</span>\n",
       "</pre>\n"
      ],
      "text/plain": [
       "\u001b[2m[Step 19: Duration 0.09 seconds]\u001b[0m\n"
      ]
     },
     "metadata": {},
     "output_type": "display_data"
    },
    {
     "data": {
      "text/html": [
       "<pre style=\"white-space:pre;overflow-x:auto;line-height:normal;font-family:Menlo,'DejaVu Sans Mono',consolas,'Courier New',monospace\"><span style=\"color: #d4b702; text-decoration-color: #d4b702\">━━━━━━━━━━━━━━━━━━━━━━━━━━━━━━━━━━━━━━━━━━━━━━━━━━━━━ </span><span style=\"font-weight: bold\">Step </span><span style=\"color: #008080; text-decoration-color: #008080; font-weight: bold\">20</span><span style=\"color: #d4b702; text-decoration-color: #d4b702\"> ━━━━━━━━━━━━━━━━━━━━━━━━━━━━━━━━━━━━━━━━━━━━━━━━━━━━━</span>\n",
       "</pre>\n"
      ],
      "text/plain": [
       "\u001b[38;2;212;183;2m━━━━━━━━━━━━━━━━━━━━━━━━━━━━━━━━━━━━━━━━━━━━━━━━━━━━━ \u001b[0m\u001b[1mStep \u001b[0m\u001b[1;36m20\u001b[0m\u001b[38;2;212;183;2m ━━━━━━━━━━━━━━━━━━━━━━━━━━━━━━━━━━━━━━━━━━━━━━━━━━━━━\u001b[0m\n"
      ]
     },
     "metadata": {},
     "output_type": "display_data"
    },
    {
     "data": {
      "text/html": [
       "<pre style=\"white-space:pre;overflow-x:auto;line-height:normal;font-family:Menlo,'DejaVu Sans Mono',consolas,'Courier New',monospace\"><span style=\"color: #800000; text-decoration-color: #800000; font-weight: bold\">Error in generating model output:</span>\n",
       "<span style=\"color: #008080; text-decoration-color: #008080; font-weight: bold\">402</span><span style=\"color: #800000; text-decoration-color: #800000; font-weight: bold\"> Client Error: Payment Required for url: </span><span style=\"color: #0000ff; text-decoration-color: #0000ff; text-decoration: underline\">https://router.huggingface.co/together/v1/chat/completions</span><span style=\"color: #800000; text-decoration-color: #800000; font-weight: bold\"> (Request ID:</span>\n",
       "<span style=\"color: #808000; text-decoration-color: #808000; font-weight: bold\">Root</span><span style=\"color: #800000; text-decoration-color: #800000; font-weight: bold\">=</span><span style=\"color: #008080; text-decoration-color: #008080; font-weight: bold\">1</span><span style=\"color: #800000; text-decoration-color: #800000; font-weight: bold\">-67d06783-3ecb880266dc32b44d8b5077;</span><span style=\"color: #ffff00; text-decoration-color: #ffff00\">54bc1705-8d50-4559-be7f-b8f92056f0f3</span><span style=\"color: #800000; text-decoration-color: #800000; font-weight: bold\">)</span>\n",
       "\n",
       "<span style=\"color: #800000; text-decoration-color: #800000; font-weight: bold\">You have exceeded your monthly included credits for Inference Providers.</span>\n",
       "</pre>\n"
      ],
      "text/plain": [
       "\u001b[1;31mError in generating model output:\u001b[0m\n",
       "\u001b[1;36m402\u001b[0m\u001b[1;31m Client Error: Payment Required for url: \u001b[0m\u001b[4;94mhttps://router.huggingface.co/together/v1/chat/completions\u001b[0m\u001b[1;31m \u001b[0m\u001b[1;31m(\u001b[0m\u001b[1;31mRequest ID:\u001b[0m\n",
       "\u001b[1;33mRoot\u001b[0m\u001b[1;31m=\u001b[0m\u001b[1;36m1\u001b[0m\u001b[1;31m-67d06783-3ecb880266dc32b44d8b5077;\u001b[0m\u001b[93m54bc1705-8d50-4559-be7f-b8f92056f0f3\u001b[0m\u001b[1;31m)\u001b[0m\n",
       "\n",
       "\u001b[1;31mYou have exceeded your monthly included credits for Inference Providers.\u001b[0m\n"
      ]
     },
     "metadata": {},
     "output_type": "display_data"
    },
    {
     "data": {
      "text/html": [
       "<pre style=\"white-space:pre;overflow-x:auto;line-height:normal;font-family:Menlo,'DejaVu Sans Mono',consolas,'Courier New',monospace\"><span style=\"color: #7f7f7f; text-decoration-color: #7f7f7f\">[Step 20: Duration 0.14 seconds]</span>\n",
       "</pre>\n"
      ],
      "text/plain": [
       "\u001b[2m[Step 20: Duration 0.14 seconds]\u001b[0m\n"
      ]
     },
     "metadata": {},
     "output_type": "display_data"
    },
    {
     "data": {
      "text/html": [
       "<pre style=\"white-space:pre;overflow-x:auto;line-height:normal;font-family:Menlo,'DejaVu Sans Mono',consolas,'Courier New',monospace\"><span style=\"color: #800000; text-decoration-color: #800000; font-weight: bold\">Reached max steps.</span>\n",
       "</pre>\n"
      ],
      "text/plain": [
       "\u001b[1;31mReached max steps.\u001b[0m\n"
      ]
     },
     "metadata": {},
     "output_type": "display_data"
    },
    {
     "data": {
      "text/html": [
       "<pre style=\"white-space:pre;overflow-x:auto;line-height:normal;font-family:Menlo,'DejaVu Sans Mono',consolas,'Courier New',monospace\"><span style=\"color: #7f7f7f; text-decoration-color: #7f7f7f\">[Step 21: Duration 0.24 seconds]</span>\n",
       "</pre>\n"
      ],
      "text/plain": [
       "\u001b[2m[Step 21: Duration 0.24 seconds]\u001b[0m\n"
      ]
     },
     "metadata": {},
     "output_type": "display_data"
    }
   ],
   "source": [
    "# result = agent.run(task)\n",
    "task1 = \"Find Batman filming locations worldwide aand return them to me as a pandas dataframe\"\n",
    "task2 = \"Calculate cargo plane transfer times to Gotham for these locations and return them to me as a pandas dataframe\"\n",
    "task3 = \"Find supercar factories with similar transfer times.\"\n",
    "\n",
    "response1 = agent.run(task1)\n",
    "response2 = agent.run(task2)\n",
    "response3 = agent.run(task3)"
   ]
  },
  {
   "cell_type": "code",
   "execution_count": 46,
   "id": "ea042868-59cf-4158-a45e-bd288ebe1449",
   "metadata": {},
   "outputs": [
    {
     "data": {
      "text/html": [
       "<div>\n",
       "<style scoped>\n",
       "    .dataframe tbody tr th:only-of-type {\n",
       "        vertical-align: middle;\n",
       "    }\n",
       "\n",
       "    .dataframe tbody tr th {\n",
       "        vertical-align: top;\n",
       "    }\n",
       "\n",
       "    .dataframe thead th {\n",
       "        text-align: right;\n",
       "    }\n",
       "</style>\n",
       "<table border=\"1\" class=\"dataframe\">\n",
       "  <thead>\n",
       "    <tr style=\"text-align: right;\">\n",
       "      <th></th>\n",
       "      <th>City</th>\n",
       "      <th>Country</th>\n",
       "      <th>Description</th>\n",
       "    </tr>\n",
       "  </thead>\n",
       "  <tbody>\n",
       "    <tr>\n",
       "      <th>0</th>\n",
       "      <td>![The Batman filming location: St George's Hall</td>\n",
       "      <td>Liverpool]</td>\n",
       "      <td>../f/Fantastic-Beasts-St-Georges-ext.jpg</td>\n",
       "    </tr>\n",
       "    <tr>\n",
       "      <th>1</th>\n",
       "      <td>The Batman location: The memorial service for ...</td>\n",
       "      <td>St George's Hall</td>\n",
       "      <td>https://commons.wikimedia.org/wiki/File:St._Ge...</td>\n",
       "    </tr>\n",
       "    <tr>\n",
       "      <th>2</th>\n",
       "      <td>![The Batman filming location: Lethaby Building</td>\n",
       "      <td>Southampton Row</td>\n",
       "      <td></td>\n",
       "    </tr>\n",
       "    <tr>\n",
       "      <th>3</th>\n",
       "      <td>![The Batman filming location: Bridge of Sighs</td>\n",
       "      <td>Glasgow Necropolis]</td>\n",
       "      <td>The-Batman-Glasgow-Necropolis-Bridge-of-Sighs.jpg</td>\n",
       "    </tr>\n",
       "    <tr>\n",
       "      <th>4</th>\n",
       "      <td>The Batman location: The Batman and Selina exi...</td>\n",
       "      <td>Glasgow Necropolis | Photograph: [Wikimedia / ...</td>\n",
       "      <td>https://commons.wikimedia.org/wiki/File:Glasgo...</td>\n",
       "    </tr>\n",
       "    <tr>\n",
       "      <th>5</th>\n",
       "      <td>![The Batman filming location: Cherry Lane ent...</td>\n",
       "      <td>Anfield Cemetery</td>\n",
       "      <td>The-Batman-Anfield-Cemetery.jpg</td>\n",
       "    </tr>\n",
       "    <tr>\n",
       "      <th>6</th>\n",
       "      <td>The Batman location: The Batman and Selina exi...</td>\n",
       "      <td>Anfield Cemetery</td>\n",
       "      <td>https://commons.wikimedia.org/wiki/File:Anfiel...</td>\n",
       "    </tr>\n",
       "    <tr>\n",
       "      <th>7</th>\n",
       "      <td>***The Batman* was primarily filmed in the Uni...</td>\n",
       "      <td>although **Chicago was a major influence** on ...</td>\n",
       "      <td></td>\n",
       "    </tr>\n",
       "    <tr>\n",
       "      <th>8</th>\n",
       "      <td>Pattinson is joined by the daughter of pop sta...</td>\n",
       "      <td>**Zoë Kravitz**</td>\n",
       "      <td>https://www.atlasofwonders.com/2018/11/fantast...</td>\n",
       "    </tr>\n",
       "    <tr>\n",
       "      <th>9</th>\n",
       "      <td>Welcome to Gotham City and the most complete g...</td>\n",
       "      <td>follow this link to check out all the places [...</td>\n",
       "      <td>https://www.atlasofwonders.com/2024/09/where-w...</td>\n",
       "    </tr>\n",
       "    <tr>\n",
       "      <th>10</th>\n",
       "      <td>The exterior of **Major Mitchell's house**</td>\n",
       "      <td>where the press conference takes place</td>\n",
       "      <td>https://twotempleplace.org/</td>\n",
       "    </tr>\n",
       "    <tr>\n",
       "      <th>11</th>\n",
       "      <td>![](https://onlocationtours.com/wp-content/upl...</td>\n",
       "      <td>Bruce Wayne is convinced by Selina Kyle</td>\n",
       "      <td>https://onlocationtours.com/wp-content/uploads...</td>\n",
       "    </tr>\n",
       "    <tr>\n",
       "      <th>12</th>\n",
       "      <td>The Dark Knight Rises was mainey filmed around...</td>\n",
       "      <td>but featured many location in New York:</td>\n",
       "      <td></td>\n",
       "    </tr>\n",
       "    <tr>\n",
       "      <th>13</th>\n",
       "      <td>Straddle fiction and reality as you visit famo...</td>\n",
       "      <td>Seinfeld</td>\n",
       "      <td></td>\n",
       "    </tr>\n",
       "    <tr>\n",
       "      <th>14</th>\n",
       "      <td>Film Locations for Christopher Nolan's The Dar...</td>\n",
       "      <td>in Chicago</td>\n",
       "      <td></td>\n",
       "    </tr>\n",
       "    <tr>\n",
       "      <th>15</th>\n",
       "      <td>![The Dark Knight filming location: the Twin A...</td>\n",
       "      <td>1665 North Sedgwick Street</td>\n",
       "      <td>Dark-Knight-Twin-Anchors.jpg</td>\n",
       "    </tr>\n",
       "    <tr>\n",
       "      <th>16</th>\n",
       "      <td>The Dark Knight film location: Harvey Dent</td>\n",
       "      <td>barman: the Twin Anchors</td>\n",
       "      <td></td>\n",
       "    </tr>\n",
       "    <tr>\n",
       "      <th>17</th>\n",
       "      <td>Discover where The Dark Knight (2008) was film...</td>\n",
       "      <td>as well as in London and Bedfordshire in the UK</td>\n",
       "      <td>2008</td>\n",
       "    </tr>\n",
       "    <tr>\n",
       "      <th>18</th>\n",
       "      <td>film location: the evacuation of Gotham: Navy ...</td>\n",
       "      <td>Chicago</td>\n",
       "      <td></td>\n",
       "    </tr>\n",
       "    <tr>\n",
       "      <th>19</th>\n",
       "      <td>â¶ As the Joker wreaks havoc throughout the city</td>\n",
       "      <td>the evacuation of panicky Gothamites onto ferr...</td>\n",
       "      <td>https://navypier.com</td>\n",
       "    </tr>\n",
       "    <tr>\n",
       "      <th>20</th>\n",
       "      <td>![The Dark Knight film location: Trump Tower</td>\n",
       "      <td>North Wabash Avenue</td>\n",
       "      <td>Dark-Knight-Trump-Tower.jpg</td>\n",
       "    </tr>\n",
       "    <tr>\n",
       "      <th>21</th>\n",
       "      <td>The Dark Knight film location: the climactic h...</td>\n",
       "      <td>North Wabash Avenue</td>\n",
       "      <td></td>\n",
       "    </tr>\n",
       "    <tr>\n",
       "      <th>22</th>\n",
       "      <td>â¶ The climactic hand-to-hand face-off betwee...</td>\n",
       "      <td>401 North Wabash Avenue</td>\n",
       "      <td>../../places/usa/chicago.php</td>\n",
       "    </tr>\n",
       "    <tr>\n",
       "      <th>23</th>\n",
       "      <td>For the actual fight</td>\n",
       "      <td>the interior was re-created in [England]</td>\n",
       "      <td>../../places/england.php</td>\n",
       "    </tr>\n",
       "    <tr>\n",
       "      <th>24</th>\n",
       "      <td>Looking for exciting things to do in Los Angel...</td>\n",
       "      <td>we've got some great news. The city is home to...</td>\n",
       "      <td></td>\n",
       "    </tr>\n",
       "    <tr>\n",
       "      <th>25</th>\n",
       "      <td>Are you ready to uncover one of the most elusi...</td>\n",
       "      <td>a series of exciting events unfold</td>\n",
       "      <td></td>\n",
       "    </tr>\n",
       "    <tr>\n",
       "      <th>26</th>\n",
       "      <td>Step into the world of Batman and Robin with a...</td>\n",
       "      <td>the location of a thrilling scene from the 196...</td>\n",
       "      <td></td>\n",
       "    </tr>\n",
       "    <tr>\n",
       "      <th>27</th>\n",
       "      <td>Nestled in the affluent neighborhood of Beverl...</td>\n",
       "      <td>the Greystone Mansion played a starring role a...</td>\n",
       "      <td></td>\n",
       "    </tr>\n",
       "    <tr>\n",
       "      <th>28</th>\n",
       "      <td>In The Dark Night Rises</td>\n",
       "      <td>just shortly after Batman emerges from seclusion</td>\n",
       "      <td></td>\n",
       "    </tr>\n",
       "    <tr>\n",
       "      <th>29</th>\n",
       "      <td>Have you found a Batman location that you want...</td>\n",
       "      <td>biggest lists</td>\n",
       "      <td>https://www.traveltodayla.com/subscribe</td>\n",
       "    </tr>\n",
       "  </tbody>\n",
       "</table>\n",
       "</div>"
      ],
      "text/plain": [
       "                                                 City  \\\n",
       "0     ![The Batman filming location: St George's Hall   \n",
       "1   The Batman location: The memorial service for ...   \n",
       "2     ![The Batman filming location: Lethaby Building   \n",
       "3      ![The Batman filming location: Bridge of Sighs   \n",
       "4   The Batman location: The Batman and Selina exi...   \n",
       "5   ![The Batman filming location: Cherry Lane ent...   \n",
       "6   The Batman location: The Batman and Selina exi...   \n",
       "7   ***The Batman* was primarily filmed in the Uni...   \n",
       "8   Pattinson is joined by the daughter of pop sta...   \n",
       "9   Welcome to Gotham City and the most complete g...   \n",
       "10         The exterior of **Major Mitchell's house**   \n",
       "11  ![](https://onlocationtours.com/wp-content/upl...   \n",
       "12  The Dark Knight Rises was mainey filmed around...   \n",
       "13  Straddle fiction and reality as you visit famo...   \n",
       "14  Film Locations for Christopher Nolan's The Dar...   \n",
       "15  ![The Dark Knight filming location: the Twin A...   \n",
       "16         The Dark Knight film location: Harvey Dent   \n",
       "17  Discover where The Dark Knight (2008) was film...   \n",
       "18  film location: the evacuation of Gotham: Navy ...   \n",
       "19  â¶ As the Joker wreaks havoc throughout the city   \n",
       "20       ![The Dark Knight film location: Trump Tower   \n",
       "21  The Dark Knight film location: the climactic h...   \n",
       "22  â¶ The climactic hand-to-hand face-off betwee...   \n",
       "23                               For the actual fight   \n",
       "24  Looking for exciting things to do in Los Angel...   \n",
       "25  Are you ready to uncover one of the most elusi...   \n",
       "26  Step into the world of Batman and Robin with a...   \n",
       "27  Nestled in the affluent neighborhood of Beverl...   \n",
       "28                            In The Dark Night Rises   \n",
       "29  Have you found a Batman location that you want...   \n",
       "\n",
       "                                              Country  \\\n",
       "0                                          Liverpool]   \n",
       "1                                    St George's Hall   \n",
       "2                                     Southampton Row   \n",
       "3                                 Glasgow Necropolis]   \n",
       "4   Glasgow Necropolis | Photograph: [Wikimedia / ...   \n",
       "5                                    Anfield Cemetery   \n",
       "6                                    Anfield Cemetery   \n",
       "7   although **Chicago was a major influence** on ...   \n",
       "8                                     **Zoë Kravitz**   \n",
       "9   follow this link to check out all the places [...   \n",
       "10             where the press conference takes place   \n",
       "11            Bruce Wayne is convinced by Selina Kyle   \n",
       "12            but featured many location in New York:   \n",
       "13                                           Seinfeld   \n",
       "14                                         in Chicago   \n",
       "15                         1665 North Sedgwick Street   \n",
       "16                           barman: the Twin Anchors   \n",
       "17    as well as in London and Bedfordshire in the UK   \n",
       "18                                            Chicago   \n",
       "19  the evacuation of panicky Gothamites onto ferr...   \n",
       "20                                North Wabash Avenue   \n",
       "21                                North Wabash Avenue   \n",
       "22                            401 North Wabash Avenue   \n",
       "23           the interior was re-created in [England]   \n",
       "24  we've got some great news. The city is home to...   \n",
       "25                 a series of exciting events unfold   \n",
       "26  the location of a thrilling scene from the 196...   \n",
       "27  the Greystone Mansion played a starring role a...   \n",
       "28   just shortly after Batman emerges from seclusion   \n",
       "29                                      biggest lists   \n",
       "\n",
       "                                          Description  \n",
       "0            ../f/Fantastic-Beasts-St-Georges-ext.jpg  \n",
       "1   https://commons.wikimedia.org/wiki/File:St._Ge...  \n",
       "2                                                      \n",
       "3   The-Batman-Glasgow-Necropolis-Bridge-of-Sighs.jpg  \n",
       "4   https://commons.wikimedia.org/wiki/File:Glasgo...  \n",
       "5                     The-Batman-Anfield-Cemetery.jpg  \n",
       "6   https://commons.wikimedia.org/wiki/File:Anfiel...  \n",
       "7                                                      \n",
       "8   https://www.atlasofwonders.com/2018/11/fantast...  \n",
       "9   https://www.atlasofwonders.com/2024/09/where-w...  \n",
       "10                        https://twotempleplace.org/  \n",
       "11  https://onlocationtours.com/wp-content/uploads...  \n",
       "12                                                     \n",
       "13                                                     \n",
       "14                                                     \n",
       "15                       Dark-Knight-Twin-Anchors.jpg  \n",
       "16                                                     \n",
       "17                                               2008  \n",
       "18                                                     \n",
       "19                               https://navypier.com  \n",
       "20                        Dark-Knight-Trump-Tower.jpg  \n",
       "21                                                     \n",
       "22                       ../../places/usa/chicago.php  \n",
       "23                           ../../places/england.php  \n",
       "24                                                     \n",
       "25                                                     \n",
       "26                                                     \n",
       "27                                                     \n",
       "28                                                     \n",
       "29            https://www.traveltodayla.com/subscribe  "
      ]
     },
     "execution_count": 46,
     "metadata": {},
     "output_type": "execute_result"
    }
   ],
   "source": [
    "response1"
   ]
  },
  {
   "cell_type": "code",
   "execution_count": 47,
   "id": "9735eb09-e654-4da4-9600-f50ff780a020",
   "metadata": {},
   "outputs": [
    {
     "data": {
      "text/html": [
       "<div>\n",
       "<style scoped>\n",
       "    .dataframe tbody tr th:only-of-type {\n",
       "        vertical-align: middle;\n",
       "    }\n",
       "\n",
       "    .dataframe tbody tr th {\n",
       "        vertical-align: top;\n",
       "    }\n",
       "\n",
       "    .dataframe thead th {\n",
       "        text-align: right;\n",
       "    }\n",
       "</style>\n",
       "<table border=\"1\" class=\"dataframe\">\n",
       "  <thead>\n",
       "    <tr style=\"text-align: right;\">\n",
       "      <th></th>\n",
       "      <th>Location</th>\n",
       "      <th>Travel Time (hours)</th>\n",
       "    </tr>\n",
       "  </thead>\n",
       "  <tbody>\n",
       "    <tr>\n",
       "      <th>0</th>\n",
       "      <td>New York City</td>\n",
       "      <td>1.23</td>\n",
       "    </tr>\n",
       "    <tr>\n",
       "      <th>1</th>\n",
       "      <td>Los Angeles</td>\n",
       "      <td>6.74</td>\n",
       "    </tr>\n",
       "    <tr>\n",
       "      <th>2</th>\n",
       "      <td>Chicago</td>\n",
       "      <td>2.68</td>\n",
       "    </tr>\n",
       "    <tr>\n",
       "      <th>3</th>\n",
       "      <td>Houston</td>\n",
       "      <td>4.21</td>\n",
       "    </tr>\n",
       "  </tbody>\n",
       "</table>\n",
       "</div>"
      ],
      "text/plain": [
       "        Location  Travel Time (hours)\n",
       "0  New York City                 1.23\n",
       "1    Los Angeles                 6.74\n",
       "2        Chicago                 2.68\n",
       "3        Houston                 4.21"
      ]
     },
     "execution_count": 47,
     "metadata": {},
     "output_type": "execute_result"
    }
   ],
   "source": [
    "response2"
   ]
  },
  {
   "cell_type": "code",
   "execution_count": 48,
   "id": "dfd6d709-eae7-46ba-9087-792a7999933a",
   "metadata": {},
   "outputs": [
    {
     "data": {
      "text/plain": [
       "'Lamborghini and Ferrari'"
      ]
     },
     "execution_count": 48,
     "metadata": {},
     "output_type": "execute_result"
    }
   ],
   "source": [
    "response3"
   ]
  },
  {
   "cell_type": "code",
   "execution_count": 50,
   "id": "6321c9c6-9dbd-45ce-af71-95e4413a05e4",
   "metadata": {},
   "outputs": [
    {
     "data": {
      "text/html": [
       "<pre style=\"white-space:pre;overflow-x:auto;line-height:normal;font-family:Menlo,'DejaVu Sans Mono',consolas,'Courier New',monospace\"><span style=\"color: #d4b702; text-decoration-color: #d4b702\">╭──────────────────────────────────────────────────── </span><span style=\"color: #d4b702; text-decoration-color: #d4b702; font-weight: bold\">New run</span><span style=\"color: #d4b702; text-decoration-color: #d4b702\"> ────────────────────────────────────────────────────╮</span>\n",
       "<span style=\"color: #d4b702; text-decoration-color: #d4b702\">│</span>                                                                                                                 <span style=\"color: #d4b702; text-decoration-color: #d4b702\">│</span>\n",
       "<span style=\"color: #d4b702; text-decoration-color: #d4b702\">│</span> <span style=\"font-weight: bold\">You're an expert analyst. You make comprehensive reports after visiting many websites.</span>                          <span style=\"color: #d4b702; text-decoration-color: #d4b702\">│</span>\n",
       "<span style=\"color: #d4b702; text-decoration-color: #d4b702\">│</span> <span style=\"font-weight: bold\">Don't hesitate to search for many queries at once in a for loop.</span>                                                <span style=\"color: #d4b702; text-decoration-color: #d4b702\">│</span>\n",
       "<span style=\"color: #d4b702; text-decoration-color: #d4b702\">│</span> <span style=\"font-weight: bold\">For each data point that you find, visit the source url to confirm numbers.</span>                                     <span style=\"color: #d4b702; text-decoration-color: #d4b702\">│</span>\n",
       "<span style=\"color: #d4b702; text-decoration-color: #d4b702\">│</span>                                                                                                                 <span style=\"color: #d4b702; text-decoration-color: #d4b702\">│</span>\n",
       "<span style=\"color: #d4b702; text-decoration-color: #d4b702\">│</span> <span style=\"font-weight: bold\">Find Batman filming locations worldwide aand return them to me as a pandas dataframe</span>                            <span style=\"color: #d4b702; text-decoration-color: #d4b702\">│</span>\n",
       "<span style=\"color: #d4b702; text-decoration-color: #d4b702\">│</span>                                                                                                                 <span style=\"color: #d4b702; text-decoration-color: #d4b702\">│</span>\n",
       "<span style=\"color: #d4b702; text-decoration-color: #d4b702\">╰─ HfApiModel - Qwen/Qwen2.5-Coder-32B-Instruct ──────────────────────────────────────────────────────────────────╯</span>\n",
       "</pre>\n"
      ],
      "text/plain": [
       "\u001b[38;2;212;183;2m╭─\u001b[0m\u001b[38;2;212;183;2m───────────────────────────────────────────────────\u001b[0m\u001b[38;2;212;183;2m \u001b[0m\u001b[1;38;2;212;183;2mNew run\u001b[0m\u001b[38;2;212;183;2m \u001b[0m\u001b[38;2;212;183;2m───────────────────────────────────────────────────\u001b[0m\u001b[38;2;212;183;2m─╮\u001b[0m\n",
       "\u001b[38;2;212;183;2m│\u001b[0m                                                                                                                 \u001b[38;2;212;183;2m│\u001b[0m\n",
       "\u001b[38;2;212;183;2m│\u001b[0m \u001b[1mYou're an expert analyst. You make comprehensive reports after visiting many websites.\u001b[0m                          \u001b[38;2;212;183;2m│\u001b[0m\n",
       "\u001b[38;2;212;183;2m│\u001b[0m \u001b[1mDon't hesitate to search for many queries at once in a for loop.\u001b[0m                                                \u001b[38;2;212;183;2m│\u001b[0m\n",
       "\u001b[38;2;212;183;2m│\u001b[0m \u001b[1mFor each data point that you find, visit the source url to confirm numbers.\u001b[0m                                     \u001b[38;2;212;183;2m│\u001b[0m\n",
       "\u001b[38;2;212;183;2m│\u001b[0m                                                                                                                 \u001b[38;2;212;183;2m│\u001b[0m\n",
       "\u001b[38;2;212;183;2m│\u001b[0m \u001b[1mFind Batman filming locations worldwide aand return them to me as a pandas dataframe\u001b[0m                            \u001b[38;2;212;183;2m│\u001b[0m\n",
       "\u001b[38;2;212;183;2m│\u001b[0m                                                                                                                 \u001b[38;2;212;183;2m│\u001b[0m\n",
       "\u001b[38;2;212;183;2m╰─\u001b[0m\u001b[38;2;212;183;2m HfApiModel - Qwen/Qwen2.5-Coder-32B-Instruct \u001b[0m\u001b[38;2;212;183;2m─────────────────────────────────────────────────────────────────\u001b[0m\u001b[38;2;212;183;2m─╯\u001b[0m\n"
      ]
     },
     "metadata": {},
     "output_type": "display_data"
    },
    {
     "data": {
      "text/html": [
       "<pre style=\"white-space:pre;overflow-x:auto;line-height:normal;font-family:Menlo,'DejaVu Sans Mono',consolas,'Courier New',monospace\">────────────────────────────────────────────────── <span style=\"font-weight: bold\">Initial plan</span> ───────────────────────────────────────────────────\n",
       "Here is the plan of action that I will follow to solve the task:\n",
       "```\n",
       "1. Perform a web search to find websites that list Batman filming locations.\n",
       "2. Visit the top search results to identify reliable sources of Batman filming locations.\n",
       "3. For each reliable source, extract the list of Batman movies and their filming locations.\n",
       "4. For each filming location, visit the source URL to confirm the information.\n",
       "5. Compile the confirmed filming locations into a structured format, including the movie name, filming location, \n",
       "and source URL.\n",
       "6. Convert the compiled data into a pandas dataframe.\n",
       "7. Finalize the dataframe to ensure it contains all necessary information and is correctly formatted.\n",
       "8. Provide the final answer as the pandas dataframe.\n",
       "\n",
       "\n",
       "```\n",
       "</pre>\n"
      ],
      "text/plain": [
       "────────────────────────────────────────────────── \u001b[1mInitial plan\u001b[0m ───────────────────────────────────────────────────\n",
       "Here is the plan of action that I will follow to solve the task:\n",
       "```\n",
       "1. Perform a web search to find websites that list Batman filming locations.\n",
       "2. Visit the top search results to identify reliable sources of Batman filming locations.\n",
       "3. For each reliable source, extract the list of Batman movies and their filming locations.\n",
       "4. For each filming location, visit the source URL to confirm the information.\n",
       "5. Compile the confirmed filming locations into a structured format, including the movie name, filming location, \n",
       "and source URL.\n",
       "6. Convert the compiled data into a pandas dataframe.\n",
       "7. Finalize the dataframe to ensure it contains all necessary information and is correctly formatted.\n",
       "8. Provide the final answer as the pandas dataframe.\n",
       "\n",
       "\n",
       "```\n"
      ]
     },
     "metadata": {},
     "output_type": "display_data"
    },
    {
     "data": {
      "text/html": [
       "<pre style=\"white-space:pre;overflow-x:auto;line-height:normal;font-family:Menlo,'DejaVu Sans Mono',consolas,'Courier New',monospace\"><span style=\"color: #d4b702; text-decoration-color: #d4b702\">━━━━━━━━━━━━━━━━━━━━━━━━━━━━━━━━━━━━━━━━━━━━━━━━━━━━━ </span><span style=\"font-weight: bold\">Step </span><span style=\"color: #008080; text-decoration-color: #008080; font-weight: bold\">1</span><span style=\"color: #d4b702; text-decoration-color: #d4b702\"> ━━━━━━━━━━━━━━━━━━━━━━━━━━━━━━━━━━━━━━━━━━━━━━━━━━━━━━</span>\n",
       "</pre>\n"
      ],
      "text/plain": [
       "\u001b[38;2;212;183;2m━━━━━━━━━━━━━━━━━━━━━━━━━━━━━━━━━━━━━━━━━━━━━━━━━━━━━ \u001b[0m\u001b[1mStep \u001b[0m\u001b[1;36m1\u001b[0m\u001b[38;2;212;183;2m ━━━━━━━━━━━━━━━━━━━━━━━━━━━━━━━━━━━━━━━━━━━━━━━━━━━━━━\u001b[0m\n"
      ]
     },
     "metadata": {},
     "output_type": "display_data"
    },
    {
     "data": {
      "text/html": [
       "<pre style=\"white-space:pre;overflow-x:auto;line-height:normal;font-family:Menlo,'DejaVu Sans Mono',consolas,'Courier New',monospace\"> ─ <span style=\"font-weight: bold\">Executing parsed code:</span> ──────────────────────────────────────────────────────────────────────────────────────── \n",
       "  <span style=\"color: #f8f8f2; text-decoration-color: #f8f8f2; background-color: #272822\">queries </span><span style=\"color: #f92672; text-decoration-color: #f92672; background-color: #272822\">=</span><span style=\"color: #f8f8f2; text-decoration-color: #f8f8f2; background-color: #272822\"> [</span><span style=\"background-color: #272822\">                                                                                                    </span>  \n",
       "  <span style=\"color: #f8f8f2; text-decoration-color: #f8f8f2; background-color: #272822\">    </span><span style=\"color: #e6db74; text-decoration-color: #e6db74; background-color: #272822\">\"Batman filming locations\"</span><span style=\"color: #f8f8f2; text-decoration-color: #f8f8f2; background-color: #272822\">,</span><span style=\"background-color: #272822\">                                                                                </span>  \n",
       "  <span style=\"color: #f8f8f2; text-decoration-color: #f8f8f2; background-color: #272822\">    </span><span style=\"color: #e6db74; text-decoration-color: #e6db74; background-color: #272822\">\"Batman movie filming locations\"</span><span style=\"color: #f8f8f2; text-decoration-color: #f8f8f2; background-color: #272822\">,</span><span style=\"background-color: #272822\">                                                                          </span>  \n",
       "  <span style=\"color: #f8f8f2; text-decoration-color: #f8f8f2; background-color: #272822\">    </span><span style=\"color: #e6db74; text-decoration-color: #e6db74; background-color: #272822\">\"Where Batman movies were filmed\"</span><span style=\"color: #f8f8f2; text-decoration-color: #f8f8f2; background-color: #272822\">,</span><span style=\"background-color: #272822\">                                                                         </span>  \n",
       "  <span style=\"color: #f8f8f2; text-decoration-color: #f8f8f2; background-color: #272822\">    </span><span style=\"color: #e6db74; text-decoration-color: #e6db74; background-color: #272822\">\"Batman movie locations\"</span><span style=\"color: #f8f8f2; text-decoration-color: #f8f8f2; background-color: #272822\">,</span><span style=\"background-color: #272822\">                                                                                  </span>  \n",
       "  <span style=\"color: #f8f8f2; text-decoration-color: #f8f8f2; background-color: #272822\">    </span><span style=\"color: #e6db74; text-decoration-color: #e6db74; background-color: #272822\">\"Batman filming sites\"</span><span style=\"background-color: #272822\">                                                                                     </span>  \n",
       "  <span style=\"color: #f8f8f2; text-decoration-color: #f8f8f2; background-color: #272822\">]</span><span style=\"background-color: #272822\">                                                                                                              </span>  \n",
       "  <span style=\"background-color: #272822\">                                                                                                               </span>  \n",
       "  <span style=\"color: #66d9ef; text-decoration-color: #66d9ef; background-color: #272822\">for</span><span style=\"color: #f8f8f2; text-decoration-color: #f8f8f2; background-color: #272822\"> query </span><span style=\"color: #f92672; text-decoration-color: #f92672; background-color: #272822\">in</span><span style=\"color: #f8f8f2; text-decoration-color: #f8f8f2; background-color: #272822\"> queries:</span><span style=\"background-color: #272822\">                                                                                          </span>  \n",
       "  <span style=\"color: #f8f8f2; text-decoration-color: #f8f8f2; background-color: #272822\">    print(</span><span style=\"color: #e6db74; text-decoration-color: #e6db74; background-color: #272822\">f\"Search results for '{</span><span style=\"color: #f8f8f2; text-decoration-color: #f8f8f2; background-color: #272822\">query</span><span style=\"color: #e6db74; text-decoration-color: #e6db74; background-color: #272822\">}':\"</span><span style=\"color: #f8f8f2; text-decoration-color: #f8f8f2; background-color: #272822\">)</span><span style=\"background-color: #272822\">                                                                    </span>  \n",
       "  <span style=\"color: #f8f8f2; text-decoration-color: #f8f8f2; background-color: #272822\">    print(web_search(query</span><span style=\"color: #f92672; text-decoration-color: #f92672; background-color: #272822\">=</span><span style=\"color: #f8f8f2; text-decoration-color: #f8f8f2; background-color: #272822\">query))</span><span style=\"background-color: #272822\">                                                                             </span>  \n",
       "  <span style=\"color: #f8f8f2; text-decoration-color: #f8f8f2; background-color: #272822\">    print(</span><span style=\"color: #e6db74; text-decoration-color: #e6db74; background-color: #272822\">\"</span><span style=\"color: #ae81ff; text-decoration-color: #ae81ff; background-color: #272822\">\\n</span><span style=\"color: #e6db74; text-decoration-color: #e6db74; background-color: #272822\">\"</span><span style=\"color: #f8f8f2; text-decoration-color: #f8f8f2; background-color: #272822\"> </span><span style=\"color: #f92672; text-decoration-color: #f92672; background-color: #272822\">+</span><span style=\"color: #f8f8f2; text-decoration-color: #f8f8f2; background-color: #272822\"> </span><span style=\"color: #e6db74; text-decoration-color: #e6db74; background-color: #272822\">\"=\"</span><span style=\"color: #f92672; text-decoration-color: #f92672; background-color: #272822\">*</span><span style=\"color: #ae81ff; text-decoration-color: #ae81ff; background-color: #272822\">80</span><span style=\"color: #f8f8f2; text-decoration-color: #f8f8f2; background-color: #272822\"> </span><span style=\"color: #f92672; text-decoration-color: #f92672; background-color: #272822\">+</span><span style=\"color: #f8f8f2; text-decoration-color: #f8f8f2; background-color: #272822\"> </span><span style=\"color: #e6db74; text-decoration-color: #e6db74; background-color: #272822\">\"</span><span style=\"color: #ae81ff; text-decoration-color: #ae81ff; background-color: #272822\">\\n</span><span style=\"color: #e6db74; text-decoration-color: #e6db74; background-color: #272822\">\"</span><span style=\"color: #f8f8f2; text-decoration-color: #f8f8f2; background-color: #272822\">)  </span><span style=\"color: #75715e; text-decoration-color: #75715e; background-color: #272822\"># Print separator between queries</span><span style=\"background-color: #272822\">                                             </span>  \n",
       " ───────────────────────────────────────────────────────────────────────────────────────────────────────────────── \n",
       "</pre>\n"
      ],
      "text/plain": [
       " ─ \u001b[1mExecuting parsed code:\u001b[0m ──────────────────────────────────────────────────────────────────────────────────────── \n",
       "  \u001b[38;2;248;248;242;48;2;39;40;34mqueries\u001b[0m\u001b[38;2;248;248;242;48;2;39;40;34m \u001b[0m\u001b[38;2;249;38;114;48;2;39;40;34m=\u001b[0m\u001b[38;2;248;248;242;48;2;39;40;34m \u001b[0m\u001b[38;2;248;248;242;48;2;39;40;34m[\u001b[0m\u001b[48;2;39;40;34m                                                                                                    \u001b[0m  \n",
       "  \u001b[38;2;248;248;242;48;2;39;40;34m    \u001b[0m\u001b[38;2;230;219;116;48;2;39;40;34m\"\u001b[0m\u001b[38;2;230;219;116;48;2;39;40;34mBatman filming locations\u001b[0m\u001b[38;2;230;219;116;48;2;39;40;34m\"\u001b[0m\u001b[38;2;248;248;242;48;2;39;40;34m,\u001b[0m\u001b[48;2;39;40;34m                                                                                \u001b[0m  \n",
       "  \u001b[38;2;248;248;242;48;2;39;40;34m    \u001b[0m\u001b[38;2;230;219;116;48;2;39;40;34m\"\u001b[0m\u001b[38;2;230;219;116;48;2;39;40;34mBatman movie filming locations\u001b[0m\u001b[38;2;230;219;116;48;2;39;40;34m\"\u001b[0m\u001b[38;2;248;248;242;48;2;39;40;34m,\u001b[0m\u001b[48;2;39;40;34m                                                                          \u001b[0m  \n",
       "  \u001b[38;2;248;248;242;48;2;39;40;34m    \u001b[0m\u001b[38;2;230;219;116;48;2;39;40;34m\"\u001b[0m\u001b[38;2;230;219;116;48;2;39;40;34mWhere Batman movies were filmed\u001b[0m\u001b[38;2;230;219;116;48;2;39;40;34m\"\u001b[0m\u001b[38;2;248;248;242;48;2;39;40;34m,\u001b[0m\u001b[48;2;39;40;34m                                                                         \u001b[0m  \n",
       "  \u001b[38;2;248;248;242;48;2;39;40;34m    \u001b[0m\u001b[38;2;230;219;116;48;2;39;40;34m\"\u001b[0m\u001b[38;2;230;219;116;48;2;39;40;34mBatman movie locations\u001b[0m\u001b[38;2;230;219;116;48;2;39;40;34m\"\u001b[0m\u001b[38;2;248;248;242;48;2;39;40;34m,\u001b[0m\u001b[48;2;39;40;34m                                                                                  \u001b[0m  \n",
       "  \u001b[38;2;248;248;242;48;2;39;40;34m    \u001b[0m\u001b[38;2;230;219;116;48;2;39;40;34m\"\u001b[0m\u001b[38;2;230;219;116;48;2;39;40;34mBatman filming sites\u001b[0m\u001b[38;2;230;219;116;48;2;39;40;34m\"\u001b[0m\u001b[48;2;39;40;34m                                                                                     \u001b[0m  \n",
       "  \u001b[38;2;248;248;242;48;2;39;40;34m]\u001b[0m\u001b[48;2;39;40;34m                                                                                                              \u001b[0m  \n",
       "  \u001b[48;2;39;40;34m                                                                                                               \u001b[0m  \n",
       "  \u001b[38;2;102;217;239;48;2;39;40;34mfor\u001b[0m\u001b[38;2;248;248;242;48;2;39;40;34m \u001b[0m\u001b[38;2;248;248;242;48;2;39;40;34mquery\u001b[0m\u001b[38;2;248;248;242;48;2;39;40;34m \u001b[0m\u001b[38;2;249;38;114;48;2;39;40;34min\u001b[0m\u001b[38;2;248;248;242;48;2;39;40;34m \u001b[0m\u001b[38;2;248;248;242;48;2;39;40;34mqueries\u001b[0m\u001b[38;2;248;248;242;48;2;39;40;34m:\u001b[0m\u001b[48;2;39;40;34m                                                                                          \u001b[0m  \n",
       "  \u001b[38;2;248;248;242;48;2;39;40;34m    \u001b[0m\u001b[38;2;248;248;242;48;2;39;40;34mprint\u001b[0m\u001b[38;2;248;248;242;48;2;39;40;34m(\u001b[0m\u001b[38;2;230;219;116;48;2;39;40;34mf\u001b[0m\u001b[38;2;230;219;116;48;2;39;40;34m\"\u001b[0m\u001b[38;2;230;219;116;48;2;39;40;34mSearch results for \u001b[0m\u001b[38;2;230;219;116;48;2;39;40;34m'\u001b[0m\u001b[38;2;230;219;116;48;2;39;40;34m{\u001b[0m\u001b[38;2;248;248;242;48;2;39;40;34mquery\u001b[0m\u001b[38;2;230;219;116;48;2;39;40;34m}\u001b[0m\u001b[38;2;230;219;116;48;2;39;40;34m'\u001b[0m\u001b[38;2;230;219;116;48;2;39;40;34m:\u001b[0m\u001b[38;2;230;219;116;48;2;39;40;34m\"\u001b[0m\u001b[38;2;248;248;242;48;2;39;40;34m)\u001b[0m\u001b[48;2;39;40;34m                                                                    \u001b[0m  \n",
       "  \u001b[38;2;248;248;242;48;2;39;40;34m    \u001b[0m\u001b[38;2;248;248;242;48;2;39;40;34mprint\u001b[0m\u001b[38;2;248;248;242;48;2;39;40;34m(\u001b[0m\u001b[38;2;248;248;242;48;2;39;40;34mweb_search\u001b[0m\u001b[38;2;248;248;242;48;2;39;40;34m(\u001b[0m\u001b[38;2;248;248;242;48;2;39;40;34mquery\u001b[0m\u001b[38;2;249;38;114;48;2;39;40;34m=\u001b[0m\u001b[38;2;248;248;242;48;2;39;40;34mquery\u001b[0m\u001b[38;2;248;248;242;48;2;39;40;34m)\u001b[0m\u001b[38;2;248;248;242;48;2;39;40;34m)\u001b[0m\u001b[48;2;39;40;34m                                                                             \u001b[0m  \n",
       "  \u001b[38;2;248;248;242;48;2;39;40;34m    \u001b[0m\u001b[38;2;248;248;242;48;2;39;40;34mprint\u001b[0m\u001b[38;2;248;248;242;48;2;39;40;34m(\u001b[0m\u001b[38;2;230;219;116;48;2;39;40;34m\"\u001b[0m\u001b[38;2;174;129;255;48;2;39;40;34m\\n\u001b[0m\u001b[38;2;230;219;116;48;2;39;40;34m\"\u001b[0m\u001b[38;2;248;248;242;48;2;39;40;34m \u001b[0m\u001b[38;2;249;38;114;48;2;39;40;34m+\u001b[0m\u001b[38;2;248;248;242;48;2;39;40;34m \u001b[0m\u001b[38;2;230;219;116;48;2;39;40;34m\"\u001b[0m\u001b[38;2;230;219;116;48;2;39;40;34m=\u001b[0m\u001b[38;2;230;219;116;48;2;39;40;34m\"\u001b[0m\u001b[38;2;249;38;114;48;2;39;40;34m*\u001b[0m\u001b[38;2;174;129;255;48;2;39;40;34m80\u001b[0m\u001b[38;2;248;248;242;48;2;39;40;34m \u001b[0m\u001b[38;2;249;38;114;48;2;39;40;34m+\u001b[0m\u001b[38;2;248;248;242;48;2;39;40;34m \u001b[0m\u001b[38;2;230;219;116;48;2;39;40;34m\"\u001b[0m\u001b[38;2;174;129;255;48;2;39;40;34m\\n\u001b[0m\u001b[38;2;230;219;116;48;2;39;40;34m\"\u001b[0m\u001b[38;2;248;248;242;48;2;39;40;34m)\u001b[0m\u001b[38;2;248;248;242;48;2;39;40;34m  \u001b[0m\u001b[38;2;117;113;94;48;2;39;40;34m# Print separator between queries\u001b[0m\u001b[48;2;39;40;34m                                             \u001b[0m  \n",
       " ───────────────────────────────────────────────────────────────────────────────────────────────────────────────── \n"
      ]
     },
     "metadata": {},
     "output_type": "display_data"
    },
    {
     "data": {
      "text/html": [
       "<pre style=\"white-space:pre;overflow-x:auto;line-height:normal;font-family:Menlo,'DejaVu Sans Mono',consolas,'Courier New',monospace\"><span style=\"font-weight: bold\">Execution logs:</span>\n",
       "Search results for 'Batman filming locations':\n",
       "## Search Results\n",
       "0. [The Batman (2022) - Filming &amp; production](https://www.imdb.com/title/tt1877830/locations/)\n",
       "Source: IMDb\n",
       "\n",
       "Filming locations: Necropolis Cemetery, Glasgow, Scotland, UK (Batman and Selina leaving the cemetery) Helpful•86 1\n",
       "St. George's Hall, Liverpool, England, UK\n",
       "\n",
       "1. [The Batman | Film Locations](https://movie-locations.com/movies/b/The-Batman-2022-2.php)\n",
       "Source: The Worldwide Guide To Movie Locations\n",
       "\n",
       "Film locations for The Batman (2022) in Liverpool, London, Glasgow and Chicago.\n",
       "\n",
       "2. [Where was The Batman filmed? ALL the Filming Locations \n",
       "...](https://www.atlasofwonders.com/2022/04/where-was-the-batman-filmed.html)\n",
       "Source: Atlas of Wonders\n",
       "\n",
       "Guide to the all the filming locations of The Batman - The 2022 movie with Robert Pattison filmed in Chicago and \n",
       "The UK - The City and the Wayne House.\n",
       "\n",
       "3. [Batman (1989) - Filming &amp; production](https://www.imdb.com/title/tt0096895/locations/)\n",
       "Source: IMDb\n",
       "\n",
       "Filming locations ; Knebworth House, Knebworth, Hertfordshire, England, UK. (Wayne Manor; exterior) ; Acton Lane \n",
       "Power Station, Acton Lane, Acton, London, England ...\n",
       "\n",
       "4. [12 Batman Movie Locations You Can \n",
       "Visit!](https://www.travelandleisureasia.com/global/destinations/batman-movie-locations-you-can-visit/)\n",
       "Date published: Jan 10, 2023\n",
       "Source: Travel and Leisure Asia\n",
       "\n",
       "Here are 12 real-world Batman movie locations that you can visit now · St. George's Hall, Liverpool · Two Temple \n",
       "Place, London · Wollaton Hall, ...\n",
       "\n",
       "5. [Dark Knight Rises Tour: See Batman Movie \n",
       "Locations](https://www.travelchannel.com/interests/arts-and-culture/photos/see-batman-movie-locations)\n",
       "Source: Travel Channel\n",
       "\n",
       "See Batman Movie Locations · Wollaton Hall · Carnegie Mellon University · The Farmiloe Building · Queensboro Bridge\n",
       "· Wall Street · Mehrangarh Fort · Turda ...\n",
       "\n",
       "6. [Batman Movies and Filming Locations in Los \n",
       "Angeles](https://www.traveltodayla.com/post/batman-movies-in-la?srsltid=AfmBOorAK6Y2wPusH_Q6g4D8gYzNzkrybVqOr_bfQ0m\n",
       "pxB1wNb8hh_E7)\n",
       "Source: LA Today\n",
       "\n",
       "Westwood, Los Angeles, CA. Step into the world of Batman and Robin with a visit to the Kirkeby Center, the location\n",
       "of a thrilling scene from the 1966 film ...\n",
       "\n",
       "7. [Batman v Superman: Dawn Of Justice | 2016](https://movie-locations.com/movies/b/Batman-V-Superman.php)\n",
       "Source: The Worldwide Guide To Movie Locations\n",
       "\n",
       "Film locations for Batman v Superman: Dawn Of Justice, in Detroit, Chicago, Los Angeles and New Mexico.\n",
       "\n",
       "8. [The Batman (film)](https://en.wikipedia.org/wiki/The_Batman_(film))\n",
       "Source: Wikipedia\n",
       "\n",
       "Filming began in the United Kingdom in January 2020 but was halted by the ... Unlike previous Batman films, The \n",
       "Batman focuses on Batman's detective ...\n",
       "\n",
       "================================================================================\n",
       "\n",
       "Search results for 'Batman movie filming locations':\n",
       "## Search Results\n",
       "0. [The Batman (2022) - Filming &amp; production](https://www.imdb.com/title/tt1877830/locations/)\n",
       "Source: IMDb\n",
       "\n",
       "Filming locations: Necropolis Cemetery, Glasgow, Scotland, UK (Batman and Selina leaving the cemetery) Helpful•86 1\n",
       "St. George's Hall, Liverpool, England, UK\n",
       "\n",
       "1. [The Batman | Film Locations](https://movie-locations.com/movies/b/The-Batman-2022-2.php)\n",
       "Source: The Worldwide Guide To Movie Locations\n",
       "\n",
       "Film locations for The Batman (2022) in Liverpool, London, Glasgow and Chicago.\n",
       "\n",
       "2. [Dark Knight Rises Tour: See Batman Movie \n",
       "Locations](https://www.travelchannel.com/interests/arts-and-culture/photos/see-batman-movie-locations)\n",
       "Source: Travel Channel\n",
       "\n",
       "See Batman Movie Locations · Wollaton Hall · Carnegie Mellon University · The Farmiloe Building · Queensboro Bridge\n",
       "· Wall Street · Mehrangarh Fort · Turda Saline.\n",
       "\n",
       "3. [Where was The Batman filmed? ALL the Filming Locations \n",
       "...](https://www.atlasofwonders.com/2022/04/where-was-the-batman-filmed.html)\n",
       "Source: Atlas of Wonders\n",
       "\n",
       "The Batman was primarily filmed in the United Kingdom. Most of the recognizable buildings of this new version of \n",
       "Gotham City are located in Liverpool.\n",
       "\n",
       "4. [Batman (1989) - Filming &amp; production](https://www.imdb.com/title/tt0096895/locations/)\n",
       "Source: IMDb\n",
       "\n",
       "Filming locations ; Knebworth House, Knebworth, Hertfordshire, England, UK. (Wayne Manor; exterior) ; Acton Lane \n",
       "Power Station, Acton Lane, Acton, London, England ...\n",
       "\n",
       "5. [Batman Movies and Filming Locations in Los \n",
       "Angeles](https://www.traveltodayla.com/post/batman-movies-in-la?srsltid=AfmBOoqpXLUvu3gy5_QwJRnyM3lOnrOLz6v4nJCeVOK\n",
       "c0Q5JKNlZ5mWx)\n",
       "Source: LA Today\n",
       "\n",
       "The legendary Batcave is found in Bronson Canyon, at the Bronson Caves. This is a section of the expansive Griffith\n",
       "Park in Los Angeles that is known as a ...\n",
       "\n",
       "6. [In Time / Batman location? : \n",
       "r/whereisthis](https://www.reddit.com/r/whereisthis/comments/146xczi/in_time_batman_location/)\n",
       "Source: Reddit · r/whereisthis\n",
       "\n",
       "This was shot on the west side of the L.A. River just south of the corner of Mesquit Street &amp; Santa Fe Avenue. In \n",
       "the screencap above, the ...\n",
       "\n",
       "7. [12 Batman Movie Locations You Can \n",
       "Visit!](https://www.travelandleisureasia.com/global/destinations/batman-movie-locations-you-can-visit/)\n",
       "Date published: Jan 10, 2023\n",
       "Source: Travel and Leisure Asia\n",
       "\n",
       "Most of the filming of Batman movies is done in the Warner Bros studios and across the US, including New York and \n",
       "Pittsburgh. You will notice ...\n",
       "\n",
       "8. [Category:Film Locations | Batman Wiki - Fandom](https://batman.fandom.com/wiki/Category:Film_Locations)\n",
       "Source: Batman Wiki\n",
       "\n",
       "Film Locations · A. Arctic World · B Batcave (Burtonverse) · C Cave of Horrors · D Category:Dark Knight Trilogy \n",
       "locations · F.\n",
       "\n",
       "================================================================================\n",
       "\n",
       "Search results for 'Where Batman movies were filmed':\n",
       "## Search Results\n",
       "0. [Batman in film](https://en.wikipedia.org/wiki/Batman_in_film)\n",
       "Source: Wikipedia\n",
       "\n",
       "Filmography ; Films ; Batman (1989), Batman Returns (1992), Batman Forever (1995), Batman &amp; Robin (1997) ; \n",
       "Director, Tim Burton · Joel Schumacher.\n",
       "\n",
       "1. [Dark Knight Rises Tour: See Batman Movie \n",
       "Locations](https://www.travelchannel.com/interests/arts-and-culture/photos/see-batman-movie-locations)\n",
       "Source: Travel Channel\n",
       "\n",
       "See Batman Movie Locations · Wollaton Hall · Carnegie Mellon University · The Farmiloe Building · Queensboro Bridge\n",
       "· Wall Street · Mehrangarh Fort · Turda Saline.\n",
       "\n",
       "2. [12 Batman Movie Locations You Can \n",
       "Visit!](https://www.travelandleisureasia.com/global/destinations/batman-movie-locations-you-can-visit/)\n",
       "Date published: Jan 10, 2023\n",
       "Source: Travel and Leisure Asia\n",
       "\n",
       "Most of the filming of Batman movies is done in the Warner Bros studios and across the US, including New York and \n",
       "Pittsburgh. You will notice ...\n",
       "\n",
       "3. [The Filming Locations of The \n",
       "Batman](https://www.reddit.com/r/batman/comments/tx71l5/the_filming_locations_of_the_batman/)\n",
       "Source: Reddit · r/batman\n",
       "\n",
       "The Filming Locations of The Batman: r/batman - Royal Liver Building, Liverpool Royal Liver Building, Liverpool \n",
       "more\n",
       "\n",
       "4. [Batman Movies and Filming Locations in Los \n",
       "Angeles](https://www.traveltodayla.com/post/batman-movies-in-la?srsltid=AfmBOopYmz7PvN3RZGcewhoBlBjhkc5joOpmrXYX49q\n",
       "Cb_8jBFrqkve6)\n",
       "Source: LA Today\n",
       "\n",
       "This is a section of the expansive Griffith Park in Los Angeles that is known as a filming location for many films \n",
       "and television series, including the Batman ...\n",
       "\n",
       "5. [The Batman (2022) - Filming &amp; production](https://www.imdb.com/title/tt1877830/locations/)\n",
       "Source: IMDb\n",
       "\n",
       "Filming locations: Necropolis Cemetery, Glasgow, Scotland, UK (Batman and Selina leaving the cemetery) Helpful•86 1\n",
       "St. George's Hall, Liverpool, England, UK\n",
       "\n",
       "6. [The Dark Knight | 2008](https://movie-locations.com/movies/d/Dark-Knight.php)\n",
       "Source: The Worldwide Guide To Movie Locations\n",
       "\n",
       "Discover where The Dark Knight (2008) was filmed around Chicago, as well as in London and Bedfordshire in the UK, \n",
       "and briefly in Hong Kong.\n",
       "\n",
       "7. [Where was The Batman filmed? ALL the Filming Locations \n",
       "...](https://www.atlasofwonders.com/2022/04/where-was-the-batman-filmed.html)\n",
       "Source: Atlas of Wonders\n",
       "\n",
       "The Batman was primarily filmed in the United Kingdom. Most of the recognizable buildings of this new version of \n",
       "Gotham City are located in Liverpool.\n",
       "\n",
       "8. [Chicago - Batman Wiki - Fandom](https://batman.fandom.com/wiki/Chicago)\n",
       "Source: Batman Wiki\n",
       "\n",
       "Chicago is a midwestern city in the United States. It served as a filming location for Gotham City in Batman \n",
       "Begins, The Dark Knight, The Dark Knight Rises, ...\n",
       "\n",
       "9. [The Batman | Film Locations](https://movie-locations.com/movies/b/The-Batman-2022-2.php)\n",
       "Source: The Worldwide Guide To Movie Locations\n",
       "\n",
       "Film locations for The Batman (2022) in Liverpool, London, Glasgow and Chicago.\n",
       "\n",
       "================================================================================\n",
       "\n",
       "Search results for 'Batman movie locations':\n",
       "## Search Results\n",
       "0. [The Batman (2022) - Filming &amp; production](https://www.imdb.com/title/tt1877830/locations/)\n",
       "Source: IMDb\n",
       "\n",
       "Filming locations: Necropolis Cemetery, Glasgow, Scotland, UK (Batman and Selina leaving the cemetery) Helpful•86 1\n",
       "St. George's Hall, Liverpool, England, UK\n",
       "\n",
       "1. [The Batman | Film Locations](https://movie-locations.com/movies/b/The-Batman-2022-2.php)\n",
       "Source: The Worldwide Guide To Movie Locations\n",
       "\n",
       "Film locations for The Batman (2022) in Liverpool, London, Glasgow and Chicago.\n",
       "\n",
       "2. [Category:Film Locations | Batman Wiki - Fandom](https://batman.fandom.com/wiki/Category:Film_Locations)\n",
       "Source: Batman Wiki\n",
       "\n",
       "Film Locations · A. Arctic World · B Batcave (Burtonverse) · C Cave of Horrors · D Category:Dark Knight Trilogy \n",
       "locations · F.\n",
       "\n",
       "3. [12 Batman Movie Locations You Can \n",
       "Visit!](https://www.travelandleisureasia.com/global/destinations/batman-movie-locations-you-can-visit/)\n",
       "Date published: Jan 10, 2023\n",
       "Source: Travel and Leisure Asia\n",
       "\n",
       "Here are 12 real-world Batman movie locations that you can visit now · St. George's Hall, Liverpool · Two Temple \n",
       "Place, London · Wollaton Hall, ...\n",
       "\n",
       "4. [The Dark Knight | 2008](https://movie-locations.com/movies/d/Dark-Knight.php)\n",
       "Source: The Worldwide Guide To Movie Locations\n",
       "\n",
       "Discover where The Dark Knight (2008) was filmed around Chicago, as well as in London and Bedfordshire in the UK, \n",
       "and briefly in Hong Kong.\n",
       "\n",
       "5. [Where was The Batman filmed? ALL the Filming Locations \n",
       "...](https://www.atlasofwonders.com/2022/04/where-was-the-batman-filmed.html)\n",
       "Source: Atlas of Wonders\n",
       "\n",
       "The Batman was primarily filmed in the United Kingdom. Most of the recognizable buildings of this new version of \n",
       "Gotham City are located in Liverpool.\n",
       "\n",
       "6. [Batman (1989) - Filming &amp; production](https://www.imdb.com/title/tt0096895/locations/)\n",
       "Source: IMDb\n",
       "\n",
       "Filming locations ; Knebworth House, Knebworth, Hertfordshire, England, UK. (Wayne Manor; exterior) ; Acton Lane \n",
       "Power Station, Acton Lane, Acton, London, England ...\n",
       "\n",
       "7. [Dark Knight Rises Tour: See Batman Movie \n",
       "Locations](https://www.travelchannel.com/interests/arts-and-culture/photos/see-batman-movie-locations)\n",
       "Source: Travel Channel\n",
       "\n",
       "See Batman Movie Locations · Wollaton Hall · Carnegie Mellon University · The Farmiloe Building · Queensboro Bridge\n",
       "· Wall Street · Mehrangarh Fort · Turda ...\n",
       "\n",
       "8. [Batman Movies and Filming Locations in Los \n",
       "Angeles](https://www.traveltodayla.com/post/batman-movies-in-la?srsltid=AfmBOorsX6LJ1ESuEb4D9EdGVRNTxQWrUvxj6Jijyi7\n",
       "CTp-VMWyPS94k)\n",
       "Source: LA Today\n",
       "\n",
       "The legendary Batcave is found in Bronson Canyon, at the Bronson Caves. This is a section of the expansive Griffith\n",
       "Park in Los Angeles that is known as a ...\n",
       "\n",
       "9. [The Batman (2022) Locations](https://www.latlong.net/location/the-batman-2022-locations-427)\n",
       "Source: Latitude and Longitude Finder\n",
       "\n",
       "The Batman (2022) was filmed in Liverpool and London, England, UK. Filming also took place at Cardington Studios \n",
       "and Warner Bros. Leavesden Studios.\n",
       "\n",
       "================================================================================\n",
       "\n",
       "Search results for 'Batman filming sites':\n",
       "## Search Results\n",
       "0. [The Batman (2022) - Filming &amp; production](https://www.imdb.com/title/tt1877830/locations/)\n",
       "Source: IMDb\n",
       "\n",
       "Filming locations: Necropolis Cemetery, Glasgow, Scotland, UK (Batman and Selina leaving the cemetery) Helpful•86 1\n",
       "St. George's Hall, Liverpool, England, UK\n",
       "\n",
       "1. [Category:Film Locations | Batman Wiki - Fandom](https://batman.fandom.com/wiki/Category:Film_Locations)\n",
       "Source: Batman Wiki\n",
       "\n",
       "Film Locations · A. Arctic World · B Batcave (Burtonverse) · C Cave of Horrors · D Category:Dark Knight Trilogy \n",
       "locations · F.\n",
       "\n",
       "2. [12 Batman Movie Locations You Can \n",
       "Visit!](https://www.travelandleisureasia.com/global/destinations/batman-movie-locations-you-can-visit/)\n",
       "Date published: Jan 10, 2023\n",
       "Source: Travel and Leisure Asia\n",
       "\n",
       "Here are 12 real-world Batman movie locations that you can visit now · St. George's Hall, Liverpool · Two Temple \n",
       "Place, London · Wollaton Hall, ...\n",
       "\n",
       "3. [The Batman | Film Locations](https://movie-locations.com/movies/b/The-Batman-2022-2.php)\n",
       "Source: The Worldwide Guide To Movie Locations\n",
       "\n",
       "Film locations for The Batman (2022) in Liverpool, London, Glasgow and Chicago.\n",
       "\n",
       "4. [Batman Movies and Filming Locations in Los \n",
       "Angeles](https://www.traveltodayla.com/post/batman-movies-in-la?srsltid=AfmBOoodrAktDCWqgHlC9sIPuiZQqHeZQmwHxdhdOT2\n",
       "jk1mGgbM09dXl)\n",
       "Source: LA Today\n",
       "\n",
       "Find Batman movies and filming locations in LA. Los Angeles is home to many locations where Batman movie scenes \n",
       "were filmed. From the Batcave to Wayne Manor ...\n",
       "\n",
       "5. [The Dark Knight | 2008](https://movie-locations.com/movies/d/Dark-Knight.php)\n",
       "Source: The Worldwide Guide To Movie Locations\n",
       "\n",
       "Discover where The Dark Knight (2008) was filmed around Chicago, as well as in London and Bedfordshire in the UK, \n",
       "and briefly in Hong Kong.\n",
       "\n",
       "6. [Where was The Batman filmed? ALL the Filming Locations \n",
       "...](https://www.atlasofwonders.com/2022/04/where-was-the-batman-filmed.html)\n",
       "Source: Atlas of Wonders\n",
       "\n",
       "Guide to the all the filming locations of The Batman - The 2022 movie with Robert Pattison filmed in Chicago and \n",
       "The UK - The City and the Wayne House.\n",
       "\n",
       "7. [Dark Knight Rises Tour: See Batman Movie \n",
       "Locations](https://www.travelchannel.com/interests/arts-and-culture/photos/see-batman-movie-locations)\n",
       "Source: Travel Channel\n",
       "\n",
       "See Batman Movie Locations · Wollaton Hall · Carnegie Mellon University · The Farmiloe Building · Queensboro Bridge\n",
       "· Wall Street · Mehrangarh Fort · Turda ...\n",
       "\n",
       "8. [Locations | 1966 Batman Pages](https://www.66batmania.com/guides/locations/)\n",
       "Source: 66batmania.com\n",
       "\n",
       "The actual filming of the series was predominately undertaken at 'The Culver City Studios'. Other notable filming \n",
       "locations include; 'The Warner Brothers ...\n",
       "\n",
       "9. [Batman (1989) - Filming &amp; production](https://www.imdb.com/title/tt0096895/locations/)\n",
       "Source: IMDb\n",
       "\n",
       "Filming locations ; Knebworth House, Knebworth, Hertfordshire, England, UK. (Wayne Manor; exterior) ; Acton Lane \n",
       "Power Station, Acton Lane, Acton, London, England ...\n",
       "\n",
       "================================================================================\n",
       "\n",
       "\n",
       "Out: None\n",
       "</pre>\n"
      ],
      "text/plain": [
       "\u001b[1mExecution logs:\u001b[0m\n",
       "Search results for 'Batman filming locations':\n",
       "## Search Results\n",
       "0. [The Batman (2022) - Filming & production](https://www.imdb.com/title/tt1877830/locations/)\n",
       "Source: IMDb\n",
       "\n",
       "Filming locations: Necropolis Cemetery, Glasgow, Scotland, UK (Batman and Selina leaving the cemetery) Helpful•86 1\n",
       "St. George's Hall, Liverpool, England, UK\n",
       "\n",
       "1. [The Batman | Film Locations](https://movie-locations.com/movies/b/The-Batman-2022-2.php)\n",
       "Source: The Worldwide Guide To Movie Locations\n",
       "\n",
       "Film locations for The Batman (2022) in Liverpool, London, Glasgow and Chicago.\n",
       "\n",
       "2. [Where was The Batman filmed? ALL the Filming Locations \n",
       "...](https://www.atlasofwonders.com/2022/04/where-was-the-batman-filmed.html)\n",
       "Source: Atlas of Wonders\n",
       "\n",
       "Guide to the all the filming locations of The Batman - The 2022 movie with Robert Pattison filmed in Chicago and \n",
       "The UK - The City and the Wayne House.\n",
       "\n",
       "3. [Batman (1989) - Filming & production](https://www.imdb.com/title/tt0096895/locations/)\n",
       "Source: IMDb\n",
       "\n",
       "Filming locations ; Knebworth House, Knebworth, Hertfordshire, England, UK. (Wayne Manor; exterior) ; Acton Lane \n",
       "Power Station, Acton Lane, Acton, London, England ...\n",
       "\n",
       "4. [12 Batman Movie Locations You Can \n",
       "Visit!](https://www.travelandleisureasia.com/global/destinations/batman-movie-locations-you-can-visit/)\n",
       "Date published: Jan 10, 2023\n",
       "Source: Travel and Leisure Asia\n",
       "\n",
       "Here are 12 real-world Batman movie locations that you can visit now · St. George's Hall, Liverpool · Two Temple \n",
       "Place, London · Wollaton Hall, ...\n",
       "\n",
       "5. [Dark Knight Rises Tour: See Batman Movie \n",
       "Locations](https://www.travelchannel.com/interests/arts-and-culture/photos/see-batman-movie-locations)\n",
       "Source: Travel Channel\n",
       "\n",
       "See Batman Movie Locations · Wollaton Hall · Carnegie Mellon University · The Farmiloe Building · Queensboro Bridge\n",
       "· Wall Street · Mehrangarh Fort · Turda ...\n",
       "\n",
       "6. [Batman Movies and Filming Locations in Los \n",
       "Angeles](https://www.traveltodayla.com/post/batman-movies-in-la?srsltid=AfmBOorAK6Y2wPusH_Q6g4D8gYzNzkrybVqOr_bfQ0m\n",
       "pxB1wNb8hh_E7)\n",
       "Source: LA Today\n",
       "\n",
       "Westwood, Los Angeles, CA. Step into the world of Batman and Robin with a visit to the Kirkeby Center, the location\n",
       "of a thrilling scene from the 1966 film ...\n",
       "\n",
       "7. [Batman v Superman: Dawn Of Justice | 2016](https://movie-locations.com/movies/b/Batman-V-Superman.php)\n",
       "Source: The Worldwide Guide To Movie Locations\n",
       "\n",
       "Film locations for Batman v Superman: Dawn Of Justice, in Detroit, Chicago, Los Angeles and New Mexico.\n",
       "\n",
       "8. [The Batman (film)](https://en.wikipedia.org/wiki/The_Batman_(film))\n",
       "Source: Wikipedia\n",
       "\n",
       "Filming began in the United Kingdom in January 2020 but was halted by the ... Unlike previous Batman films, The \n",
       "Batman focuses on Batman's detective ...\n",
       "\n",
       "================================================================================\n",
       "\n",
       "Search results for 'Batman movie filming locations':\n",
       "## Search Results\n",
       "0. [The Batman (2022) - Filming & production](https://www.imdb.com/title/tt1877830/locations/)\n",
       "Source: IMDb\n",
       "\n",
       "Filming locations: Necropolis Cemetery, Glasgow, Scotland, UK (Batman and Selina leaving the cemetery) Helpful•86 1\n",
       "St. George's Hall, Liverpool, England, UK\n",
       "\n",
       "1. [The Batman | Film Locations](https://movie-locations.com/movies/b/The-Batman-2022-2.php)\n",
       "Source: The Worldwide Guide To Movie Locations\n",
       "\n",
       "Film locations for The Batman (2022) in Liverpool, London, Glasgow and Chicago.\n",
       "\n",
       "2. [Dark Knight Rises Tour: See Batman Movie \n",
       "Locations](https://www.travelchannel.com/interests/arts-and-culture/photos/see-batman-movie-locations)\n",
       "Source: Travel Channel\n",
       "\n",
       "See Batman Movie Locations · Wollaton Hall · Carnegie Mellon University · The Farmiloe Building · Queensboro Bridge\n",
       "· Wall Street · Mehrangarh Fort · Turda Saline.\n",
       "\n",
       "3. [Where was The Batman filmed? ALL the Filming Locations \n",
       "...](https://www.atlasofwonders.com/2022/04/where-was-the-batman-filmed.html)\n",
       "Source: Atlas of Wonders\n",
       "\n",
       "The Batman was primarily filmed in the United Kingdom. Most of the recognizable buildings of this new version of \n",
       "Gotham City are located in Liverpool.\n",
       "\n",
       "4. [Batman (1989) - Filming & production](https://www.imdb.com/title/tt0096895/locations/)\n",
       "Source: IMDb\n",
       "\n",
       "Filming locations ; Knebworth House, Knebworth, Hertfordshire, England, UK. (Wayne Manor; exterior) ; Acton Lane \n",
       "Power Station, Acton Lane, Acton, London, England ...\n",
       "\n",
       "5. [Batman Movies and Filming Locations in Los \n",
       "Angeles](https://www.traveltodayla.com/post/batman-movies-in-la?srsltid=AfmBOoqpXLUvu3gy5_QwJRnyM3lOnrOLz6v4nJCeVOK\n",
       "c0Q5JKNlZ5mWx)\n",
       "Source: LA Today\n",
       "\n",
       "The legendary Batcave is found in Bronson Canyon, at the Bronson Caves. This is a section of the expansive Griffith\n",
       "Park in Los Angeles that is known as a ...\n",
       "\n",
       "6. [In Time / Batman location? : \n",
       "r/whereisthis](https://www.reddit.com/r/whereisthis/comments/146xczi/in_time_batman_location/)\n",
       "Source: Reddit · r/whereisthis\n",
       "\n",
       "This was shot on the west side of the L.A. River just south of the corner of Mesquit Street & Santa Fe Avenue. In \n",
       "the screencap above, the ...\n",
       "\n",
       "7. [12 Batman Movie Locations You Can \n",
       "Visit!](https://www.travelandleisureasia.com/global/destinations/batman-movie-locations-you-can-visit/)\n",
       "Date published: Jan 10, 2023\n",
       "Source: Travel and Leisure Asia\n",
       "\n",
       "Most of the filming of Batman movies is done in the Warner Bros studios and across the US, including New York and \n",
       "Pittsburgh. You will notice ...\n",
       "\n",
       "8. [Category:Film Locations | Batman Wiki - Fandom](https://batman.fandom.com/wiki/Category:Film_Locations)\n",
       "Source: Batman Wiki\n",
       "\n",
       "Film Locations · A. Arctic World · B Batcave (Burtonverse) · C Cave of Horrors · D Category:Dark Knight Trilogy \n",
       "locations · F.\n",
       "\n",
       "================================================================================\n",
       "\n",
       "Search results for 'Where Batman movies were filmed':\n",
       "## Search Results\n",
       "0. [Batman in film](https://en.wikipedia.org/wiki/Batman_in_film)\n",
       "Source: Wikipedia\n",
       "\n",
       "Filmography ; Films ; Batman (1989), Batman Returns (1992), Batman Forever (1995), Batman & Robin (1997) ; \n",
       "Director, Tim Burton · Joel Schumacher.\n",
       "\n",
       "1. [Dark Knight Rises Tour: See Batman Movie \n",
       "Locations](https://www.travelchannel.com/interests/arts-and-culture/photos/see-batman-movie-locations)\n",
       "Source: Travel Channel\n",
       "\n",
       "See Batman Movie Locations · Wollaton Hall · Carnegie Mellon University · The Farmiloe Building · Queensboro Bridge\n",
       "· Wall Street · Mehrangarh Fort · Turda Saline.\n",
       "\n",
       "2. [12 Batman Movie Locations You Can \n",
       "Visit!](https://www.travelandleisureasia.com/global/destinations/batman-movie-locations-you-can-visit/)\n",
       "Date published: Jan 10, 2023\n",
       "Source: Travel and Leisure Asia\n",
       "\n",
       "Most of the filming of Batman movies is done in the Warner Bros studios and across the US, including New York and \n",
       "Pittsburgh. You will notice ...\n",
       "\n",
       "3. [The Filming Locations of The \n",
       "Batman](https://www.reddit.com/r/batman/comments/tx71l5/the_filming_locations_of_the_batman/)\n",
       "Source: Reddit · r/batman\n",
       "\n",
       "The Filming Locations of The Batman: r/batman - Royal Liver Building, Liverpool Royal Liver Building, Liverpool \n",
       "more\n",
       "\n",
       "4. [Batman Movies and Filming Locations in Los \n",
       "Angeles](https://www.traveltodayla.com/post/batman-movies-in-la?srsltid=AfmBOopYmz7PvN3RZGcewhoBlBjhkc5joOpmrXYX49q\n",
       "Cb_8jBFrqkve6)\n",
       "Source: LA Today\n",
       "\n",
       "This is a section of the expansive Griffith Park in Los Angeles that is known as a filming location for many films \n",
       "and television series, including the Batman ...\n",
       "\n",
       "5. [The Batman (2022) - Filming & production](https://www.imdb.com/title/tt1877830/locations/)\n",
       "Source: IMDb\n",
       "\n",
       "Filming locations: Necropolis Cemetery, Glasgow, Scotland, UK (Batman and Selina leaving the cemetery) Helpful•86 1\n",
       "St. George's Hall, Liverpool, England, UK\n",
       "\n",
       "6. [The Dark Knight | 2008](https://movie-locations.com/movies/d/Dark-Knight.php)\n",
       "Source: The Worldwide Guide To Movie Locations\n",
       "\n",
       "Discover where The Dark Knight (2008) was filmed around Chicago, as well as in London and Bedfordshire in the UK, \n",
       "and briefly in Hong Kong.\n",
       "\n",
       "7. [Where was The Batman filmed? ALL the Filming Locations \n",
       "...](https://www.atlasofwonders.com/2022/04/where-was-the-batman-filmed.html)\n",
       "Source: Atlas of Wonders\n",
       "\n",
       "The Batman was primarily filmed in the United Kingdom. Most of the recognizable buildings of this new version of \n",
       "Gotham City are located in Liverpool.\n",
       "\n",
       "8. [Chicago - Batman Wiki - Fandom](https://batman.fandom.com/wiki/Chicago)\n",
       "Source: Batman Wiki\n",
       "\n",
       "Chicago is a midwestern city in the United States. It served as a filming location for Gotham City in Batman \n",
       "Begins, The Dark Knight, The Dark Knight Rises, ...\n",
       "\n",
       "9. [The Batman | Film Locations](https://movie-locations.com/movies/b/The-Batman-2022-2.php)\n",
       "Source: The Worldwide Guide To Movie Locations\n",
       "\n",
       "Film locations for The Batman (2022) in Liverpool, London, Glasgow and Chicago.\n",
       "\n",
       "================================================================================\n",
       "\n",
       "Search results for 'Batman movie locations':\n",
       "## Search Results\n",
       "0. [The Batman (2022) - Filming & production](https://www.imdb.com/title/tt1877830/locations/)\n",
       "Source: IMDb\n",
       "\n",
       "Filming locations: Necropolis Cemetery, Glasgow, Scotland, UK (Batman and Selina leaving the cemetery) Helpful•86 1\n",
       "St. George's Hall, Liverpool, England, UK\n",
       "\n",
       "1. [The Batman | Film Locations](https://movie-locations.com/movies/b/The-Batman-2022-2.php)\n",
       "Source: The Worldwide Guide To Movie Locations\n",
       "\n",
       "Film locations for The Batman (2022) in Liverpool, London, Glasgow and Chicago.\n",
       "\n",
       "2. [Category:Film Locations | Batman Wiki - Fandom](https://batman.fandom.com/wiki/Category:Film_Locations)\n",
       "Source: Batman Wiki\n",
       "\n",
       "Film Locations · A. Arctic World · B Batcave (Burtonverse) · C Cave of Horrors · D Category:Dark Knight Trilogy \n",
       "locations · F.\n",
       "\n",
       "3. [12 Batman Movie Locations You Can \n",
       "Visit!](https://www.travelandleisureasia.com/global/destinations/batman-movie-locations-you-can-visit/)\n",
       "Date published: Jan 10, 2023\n",
       "Source: Travel and Leisure Asia\n",
       "\n",
       "Here are 12 real-world Batman movie locations that you can visit now · St. George's Hall, Liverpool · Two Temple \n",
       "Place, London · Wollaton Hall, ...\n",
       "\n",
       "4. [The Dark Knight | 2008](https://movie-locations.com/movies/d/Dark-Knight.php)\n",
       "Source: The Worldwide Guide To Movie Locations\n",
       "\n",
       "Discover where The Dark Knight (2008) was filmed around Chicago, as well as in London and Bedfordshire in the UK, \n",
       "and briefly in Hong Kong.\n",
       "\n",
       "5. [Where was The Batman filmed? ALL the Filming Locations \n",
       "...](https://www.atlasofwonders.com/2022/04/where-was-the-batman-filmed.html)\n",
       "Source: Atlas of Wonders\n",
       "\n",
       "The Batman was primarily filmed in the United Kingdom. Most of the recognizable buildings of this new version of \n",
       "Gotham City are located in Liverpool.\n",
       "\n",
       "6. [Batman (1989) - Filming & production](https://www.imdb.com/title/tt0096895/locations/)\n",
       "Source: IMDb\n",
       "\n",
       "Filming locations ; Knebworth House, Knebworth, Hertfordshire, England, UK. (Wayne Manor; exterior) ; Acton Lane \n",
       "Power Station, Acton Lane, Acton, London, England ...\n",
       "\n",
       "7. [Dark Knight Rises Tour: See Batman Movie \n",
       "Locations](https://www.travelchannel.com/interests/arts-and-culture/photos/see-batman-movie-locations)\n",
       "Source: Travel Channel\n",
       "\n",
       "See Batman Movie Locations · Wollaton Hall · Carnegie Mellon University · The Farmiloe Building · Queensboro Bridge\n",
       "· Wall Street · Mehrangarh Fort · Turda ...\n",
       "\n",
       "8. [Batman Movies and Filming Locations in Los \n",
       "Angeles](https://www.traveltodayla.com/post/batman-movies-in-la?srsltid=AfmBOorsX6LJ1ESuEb4D9EdGVRNTxQWrUvxj6Jijyi7\n",
       "CTp-VMWyPS94k)\n",
       "Source: LA Today\n",
       "\n",
       "The legendary Batcave is found in Bronson Canyon, at the Bronson Caves. This is a section of the expansive Griffith\n",
       "Park in Los Angeles that is known as a ...\n",
       "\n",
       "9. [The Batman (2022) Locations](https://www.latlong.net/location/the-batman-2022-locations-427)\n",
       "Source: Latitude and Longitude Finder\n",
       "\n",
       "The Batman (2022) was filmed in Liverpool and London, England, UK. Filming also took place at Cardington Studios \n",
       "and Warner Bros. Leavesden Studios.\n",
       "\n",
       "================================================================================\n",
       "\n",
       "Search results for 'Batman filming sites':\n",
       "## Search Results\n",
       "0. [The Batman (2022) - Filming & production](https://www.imdb.com/title/tt1877830/locations/)\n",
       "Source: IMDb\n",
       "\n",
       "Filming locations: Necropolis Cemetery, Glasgow, Scotland, UK (Batman and Selina leaving the cemetery) Helpful•86 1\n",
       "St. George's Hall, Liverpool, England, UK\n",
       "\n",
       "1. [Category:Film Locations | Batman Wiki - Fandom](https://batman.fandom.com/wiki/Category:Film_Locations)\n",
       "Source: Batman Wiki\n",
       "\n",
       "Film Locations · A. Arctic World · B Batcave (Burtonverse) · C Cave of Horrors · D Category:Dark Knight Trilogy \n",
       "locations · F.\n",
       "\n",
       "2. [12 Batman Movie Locations You Can \n",
       "Visit!](https://www.travelandleisureasia.com/global/destinations/batman-movie-locations-you-can-visit/)\n",
       "Date published: Jan 10, 2023\n",
       "Source: Travel and Leisure Asia\n",
       "\n",
       "Here are 12 real-world Batman movie locations that you can visit now · St. George's Hall, Liverpool · Two Temple \n",
       "Place, London · Wollaton Hall, ...\n",
       "\n",
       "3. [The Batman | Film Locations](https://movie-locations.com/movies/b/The-Batman-2022-2.php)\n",
       "Source: The Worldwide Guide To Movie Locations\n",
       "\n",
       "Film locations for The Batman (2022) in Liverpool, London, Glasgow and Chicago.\n",
       "\n",
       "4. [Batman Movies and Filming Locations in Los \n",
       "Angeles](https://www.traveltodayla.com/post/batman-movies-in-la?srsltid=AfmBOoodrAktDCWqgHlC9sIPuiZQqHeZQmwHxdhdOT2\n",
       "jk1mGgbM09dXl)\n",
       "Source: LA Today\n",
       "\n",
       "Find Batman movies and filming locations in LA. Los Angeles is home to many locations where Batman movie scenes \n",
       "were filmed. From the Batcave to Wayne Manor ...\n",
       "\n",
       "5. [The Dark Knight | 2008](https://movie-locations.com/movies/d/Dark-Knight.php)\n",
       "Source: The Worldwide Guide To Movie Locations\n",
       "\n",
       "Discover where The Dark Knight (2008) was filmed around Chicago, as well as in London and Bedfordshire in the UK, \n",
       "and briefly in Hong Kong.\n",
       "\n",
       "6. [Where was The Batman filmed? ALL the Filming Locations \n",
       "...](https://www.atlasofwonders.com/2022/04/where-was-the-batman-filmed.html)\n",
       "Source: Atlas of Wonders\n",
       "\n",
       "Guide to the all the filming locations of The Batman - The 2022 movie with Robert Pattison filmed in Chicago and \n",
       "The UK - The City and the Wayne House.\n",
       "\n",
       "7. [Dark Knight Rises Tour: See Batman Movie \n",
       "Locations](https://www.travelchannel.com/interests/arts-and-culture/photos/see-batman-movie-locations)\n",
       "Source: Travel Channel\n",
       "\n",
       "See Batman Movie Locations · Wollaton Hall · Carnegie Mellon University · The Farmiloe Building · Queensboro Bridge\n",
       "· Wall Street · Mehrangarh Fort · Turda ...\n",
       "\n",
       "8. [Locations | 1966 Batman Pages](https://www.66batmania.com/guides/locations/)\n",
       "Source: 66batmania.com\n",
       "\n",
       "The actual filming of the series was predominately undertaken at 'The Culver City Studios'. Other notable filming \n",
       "locations include; 'The Warner Brothers ...\n",
       "\n",
       "9. [Batman (1989) - Filming & production](https://www.imdb.com/title/tt0096895/locations/)\n",
       "Source: IMDb\n",
       "\n",
       "Filming locations ; Knebworth House, Knebworth, Hertfordshire, England, UK. (Wayne Manor; exterior) ; Acton Lane \n",
       "Power Station, Acton Lane, Acton, London, England ...\n",
       "\n",
       "================================================================================\n",
       "\n",
       "\n",
       "Out: None\n"
      ]
     },
     "metadata": {},
     "output_type": "display_data"
    },
    {
     "data": {
      "text/html": [
       "<pre style=\"white-space:pre;overflow-x:auto;line-height:normal;font-family:Menlo,'DejaVu Sans Mono',consolas,'Courier New',monospace\"><span style=\"color: #7f7f7f; text-decoration-color: #7f7f7f\">[Step 1: Duration 24.39 seconds| Input tokens: 2,695 | Output tokens: 131]</span>\n",
       "</pre>\n"
      ],
      "text/plain": [
       "\u001b[2m[Step 1: Duration 24.39 seconds| Input tokens: 2,695 | Output tokens: 131]\u001b[0m\n"
      ]
     },
     "metadata": {},
     "output_type": "display_data"
    },
    {
     "data": {
      "text/html": [
       "<pre style=\"white-space:pre;overflow-x:auto;line-height:normal;font-family:Menlo,'DejaVu Sans Mono',consolas,'Courier New',monospace\"><span style=\"color: #d4b702; text-decoration-color: #d4b702\">━━━━━━━━━━━━━━━━━━━━━━━━━━━━━━━━━━━━━━━━━━━━━━━━━━━━━ </span><span style=\"font-weight: bold\">Step </span><span style=\"color: #008080; text-decoration-color: #008080; font-weight: bold\">2</span><span style=\"color: #d4b702; text-decoration-color: #d4b702\"> ━━━━━━━━━━━━━━━━━━━━━━━━━━━━━━━━━━━━━━━━━━━━━━━━━━━━━━</span>\n",
       "</pre>\n"
      ],
      "text/plain": [
       "\u001b[38;2;212;183;2m━━━━━━━━━━━━━━━━━━━━━━━━━━━━━━━━━━━━━━━━━━━━━━━━━━━━━ \u001b[0m\u001b[1mStep \u001b[0m\u001b[1;36m2\u001b[0m\u001b[38;2;212;183;2m ━━━━━━━━━━━━━━━━━━━━━━━━━━━━━━━━━━━━━━━━━━━━━━━━━━━━━━\u001b[0m\n"
      ]
     },
     "metadata": {},
     "output_type": "display_data"
    },
    {
     "data": {
      "text/html": [
       "<pre style=\"white-space:pre;overflow-x:auto;line-height:normal;font-family:Menlo,'DejaVu Sans Mono',consolas,'Courier New',monospace\"> ─ <span style=\"font-weight: bold\">Executing parsed code:</span> ──────────────────────────────────────────────────────────────────────────────────────── \n",
       "  <span style=\"color: #f92672; text-decoration-color: #f92672; background-color: #272822\">import</span><span style=\"color: #f8f8f2; text-decoration-color: #f8f8f2; background-color: #272822\"> pandas </span><span style=\"color: #66d9ef; text-decoration-color: #66d9ef; background-color: #272822\">as</span><span style=\"color: #f8f8f2; text-decoration-color: #f8f8f2; background-color: #272822\"> pd</span><span style=\"background-color: #272822\">                                                                                            </span>  \n",
       "  <span style=\"background-color: #272822\">                                                                                                               </span>  \n",
       "  <span style=\"color: #f8f8f2; text-decoration-color: #f8f8f2; background-color: #272822\">urls </span><span style=\"color: #f92672; text-decoration-color: #f92672; background-color: #272822\">=</span><span style=\"color: #f8f8f2; text-decoration-color: #f8f8f2; background-color: #272822\"> [</span><span style=\"background-color: #272822\">                                                                                                       </span>  \n",
       "  <span style=\"color: #f8f8f2; text-decoration-color: #f8f8f2; background-color: #272822\">    </span><span style=\"color: #e6db74; text-decoration-color: #e6db74; background-color: #272822\">\"https://www.imdb.com/title/tt1877830/locations/\"</span><span style=\"color: #f8f8f2; text-decoration-color: #f8f8f2; background-color: #272822\">,</span><span style=\"background-color: #272822\">                                                         </span>  \n",
       "  <span style=\"color: #f8f8f2; text-decoration-color: #f8f8f2; background-color: #272822\">    </span><span style=\"color: #e6db74; text-decoration-color: #e6db74; background-color: #272822\">\"https://movie-locations.com/movies/b/The-Batman-2022-2.php\"</span><span style=\"color: #f8f8f2; text-decoration-color: #f8f8f2; background-color: #272822\">,</span><span style=\"background-color: #272822\">                                              </span>  \n",
       "  <span style=\"color: #f8f8f2; text-decoration-color: #f8f8f2; background-color: #272822\">    </span><span style=\"color: #e6db74; text-decoration-color: #e6db74; background-color: #272822\">\"https://www.atlasofwonders.com/2022/04/where-was-the-batman-filmed.html\"</span><span style=\"color: #f8f8f2; text-decoration-color: #f8f8f2; background-color: #272822\">,</span><span style=\"background-color: #272822\">                                 </span>  \n",
       "  <span style=\"color: #f8f8f2; text-decoration-color: #f8f8f2; background-color: #272822\">    </span><span style=\"color: #e6db74; text-decoration-color: #e6db74; background-color: #272822\">\"https://www.imdb.com/title/tt0096895/locations/\"</span><span style=\"color: #f8f8f2; text-decoration-color: #f8f8f2; background-color: #272822\">,</span><span style=\"background-color: #272822\">                                                         </span>  \n",
       "  <span style=\"color: #f8f8f2; text-decoration-color: #f8f8f2; background-color: #272822\">    </span><span style=\"color: #e6db74; text-decoration-color: #e6db74; background-color: #272822\">\"https://www.travelandleisureasia.com/global/destinations/batman-movie-locations-you-can-visit/\"</span><span style=\"color: #f8f8f2; text-decoration-color: #f8f8f2; background-color: #272822\">,</span><span style=\"background-color: #272822\">          </span>  \n",
       "  <span style=\"color: #f8f8f2; text-decoration-color: #f8f8f2; background-color: #272822\">    </span><span style=\"color: #e6db74; text-decoration-color: #e6db74; background-color: #272822\">\"https://www.travelchannel.com/interests/arts-and-culture/photos/see-batman-movie-locations\"</span><span style=\"color: #f8f8f2; text-decoration-color: #f8f8f2; background-color: #272822\">,</span><span style=\"background-color: #272822\">              </span>  \n",
       "  <span style=\"color: #f8f8f2; text-decoration-color: #f8f8f2; background-color: #272822\">    </span><span style=\"color: #e6db74; text-decoration-color: #e6db74; background-color: #272822\">\"https://www.traveltodayla.com/post/batman-movies-in-la?srsltid=AfmBOorAK6Y2wPusH_Q6g4D8gYzNzkrybVqOr_bfQ0m</span>  \n",
       "  <span style=\"color: #e6db74; text-decoration-color: #e6db74; background-color: #272822\">pxB1wNb8hh_E7\"</span><span style=\"color: #f8f8f2; text-decoration-color: #f8f8f2; background-color: #272822\">,</span><span style=\"background-color: #272822\">                                                                                                </span>  \n",
       "  <span style=\"color: #f8f8f2; text-decoration-color: #f8f8f2; background-color: #272822\">    </span><span style=\"color: #e6db74; text-decoration-color: #e6db74; background-color: #272822\">\"https://movie-locations.com/movies/b/Batman-V-Superman.php\"</span><span style=\"color: #f8f8f2; text-decoration-color: #f8f8f2; background-color: #272822\">,</span><span style=\"background-color: #272822\">                                              </span>  \n",
       "  <span style=\"color: #f8f8f2; text-decoration-color: #f8f8f2; background-color: #272822\">    </span><span style=\"color: #e6db74; text-decoration-color: #e6db74; background-color: #272822\">\"https://en.wikipedia.org/wiki/The_Batman_(film)\"</span><span style=\"color: #f8f8f2; text-decoration-color: #f8f8f2; background-color: #272822\">,</span><span style=\"background-color: #272822\">                                                         </span>  \n",
       "  <span style=\"color: #f8f8f2; text-decoration-color: #f8f8f2; background-color: #272822\">    </span><span style=\"color: #e6db74; text-decoration-color: #e6db74; background-color: #272822\">\"https://batman.fandom.com/wiki/Category:Film_Locations\"</span><span style=\"background-color: #272822\">                                                   </span>  \n",
       "  <span style=\"color: #f8f8f2; text-decoration-color: #f8f8f2; background-color: #272822\">]</span><span style=\"background-color: #272822\">                                                                                                              </span>  \n",
       "  <span style=\"background-color: #272822\">                                                                                                               </span>  \n",
       "  <span style=\"color: #f8f8f2; text-decoration-color: #f8f8f2; background-color: #272822\">data </span><span style=\"color: #f92672; text-decoration-color: #f92672; background-color: #272822\">=</span><span style=\"color: #f8f8f2; text-decoration-color: #f8f8f2; background-color: #272822\"> []</span><span style=\"background-color: #272822\">                                                                                                      </span>  \n",
       "  <span style=\"background-color: #272822\">                                                                                                               </span>  \n",
       "  <span style=\"color: #66d9ef; text-decoration-color: #66d9ef; background-color: #272822\">for</span><span style=\"color: #f8f8f2; text-decoration-color: #f8f8f2; background-color: #272822\"> url </span><span style=\"color: #f92672; text-decoration-color: #f92672; background-color: #272822\">in</span><span style=\"color: #f8f8f2; text-decoration-color: #f8f8f2; background-color: #272822\"> urls:</span><span style=\"background-color: #272822\">                                                                                               </span>  \n",
       "  <span style=\"color: #f8f8f2; text-decoration-color: #f8f8f2; background-color: #272822\">    content </span><span style=\"color: #f92672; text-decoration-color: #f92672; background-color: #272822\">=</span><span style=\"color: #f8f8f2; text-decoration-color: #f8f8f2; background-color: #272822\"> visit_webpage(url</span><span style=\"color: #f92672; text-decoration-color: #f92672; background-color: #272822\">=</span><span style=\"color: #f8f8f2; text-decoration-color: #f8f8f2; background-color: #272822\">url)</span><span style=\"background-color: #272822\">                                                                           </span>  \n",
       "  <span style=\"color: #f8f8f2; text-decoration-color: #f8f8f2; background-color: #272822\">    print(</span><span style=\"color: #e6db74; text-decoration-color: #e6db74; background-color: #272822\">f\"Content from {</span><span style=\"color: #f8f8f2; text-decoration-color: #f8f8f2; background-color: #272822\">url</span><span style=\"color: #e6db74; text-decoration-color: #e6db74; background-color: #272822\">}:\"</span><span style=\"color: #f8f8f2; text-decoration-color: #f8f8f2; background-color: #272822\">)</span><span style=\"background-color: #272822\">                                                                              </span>  \n",
       "  <span style=\"color: #f8f8f2; text-decoration-color: #f8f8f2; background-color: #272822\">    print(content)</span><span style=\"background-color: #272822\">                                                                                             </span>  \n",
       "  <span style=\"color: #f8f8f2; text-decoration-color: #f8f8f2; background-color: #272822\">    print(</span><span style=\"color: #e6db74; text-decoration-color: #e6db74; background-color: #272822\">\"</span><span style=\"color: #ae81ff; text-decoration-color: #ae81ff; background-color: #272822\">\\n</span><span style=\"color: #e6db74; text-decoration-color: #e6db74; background-color: #272822\">\"</span><span style=\"color: #f8f8f2; text-decoration-color: #f8f8f2; background-color: #272822\"> </span><span style=\"color: #f92672; text-decoration-color: #f92672; background-color: #272822\">+</span><span style=\"color: #f8f8f2; text-decoration-color: #f8f8f2; background-color: #272822\"> </span><span style=\"color: #e6db74; text-decoration-color: #e6db74; background-color: #272822\">\"=\"</span><span style=\"color: #f92672; text-decoration-color: #f92672; background-color: #272822\">*</span><span style=\"color: #ae81ff; text-decoration-color: #ae81ff; background-color: #272822\">80</span><span style=\"color: #f8f8f2; text-decoration-color: #f8f8f2; background-color: #272822\"> </span><span style=\"color: #f92672; text-decoration-color: #f92672; background-color: #272822\">+</span><span style=\"color: #f8f8f2; text-decoration-color: #f8f8f2; background-color: #272822\"> </span><span style=\"color: #e6db74; text-decoration-color: #e6db74; background-color: #272822\">\"</span><span style=\"color: #ae81ff; text-decoration-color: #ae81ff; background-color: #272822\">\\n</span><span style=\"color: #e6db74; text-decoration-color: #e6db74; background-color: #272822\">\"</span><span style=\"color: #f8f8f2; text-decoration-color: #f8f8f2; background-color: #272822\">)  </span><span style=\"color: #75715e; text-decoration-color: #75715e; background-color: #272822\"># Print separator between URLs</span><span style=\"background-color: #272822\">                                                </span>  \n",
       "  <span style=\"color: #f8f8f2; text-decoration-color: #f8f8f2; background-color: #272822\">    </span><span style=\"color: #75715e; text-decoration-color: #75715e; background-color: #272822\"># Extract relevant information and append to data list</span><span style=\"background-color: #272822\">                                                     </span>  \n",
       "  <span style=\"color: #f8f8f2; text-decoration-color: #f8f8f2; background-color: #272822\">    </span><span style=\"color: #75715e; text-decoration-color: #75715e; background-color: #272822\"># This part will be handled in the next step</span><span style=\"background-color: #272822\">                                                               </span>  \n",
       " ───────────────────────────────────────────────────────────────────────────────────────────────────────────────── \n",
       "</pre>\n"
      ],
      "text/plain": [
       " ─ \u001b[1mExecuting parsed code:\u001b[0m ──────────────────────────────────────────────────────────────────────────────────────── \n",
       "  \u001b[38;2;249;38;114;48;2;39;40;34mimport\u001b[0m\u001b[38;2;248;248;242;48;2;39;40;34m \u001b[0m\u001b[38;2;248;248;242;48;2;39;40;34mpandas\u001b[0m\u001b[38;2;248;248;242;48;2;39;40;34m \u001b[0m\u001b[38;2;102;217;239;48;2;39;40;34mas\u001b[0m\u001b[38;2;248;248;242;48;2;39;40;34m \u001b[0m\u001b[38;2;248;248;242;48;2;39;40;34mpd\u001b[0m\u001b[48;2;39;40;34m                                                                                            \u001b[0m  \n",
       "  \u001b[48;2;39;40;34m                                                                                                               \u001b[0m  \n",
       "  \u001b[38;2;248;248;242;48;2;39;40;34murls\u001b[0m\u001b[38;2;248;248;242;48;2;39;40;34m \u001b[0m\u001b[38;2;249;38;114;48;2;39;40;34m=\u001b[0m\u001b[38;2;248;248;242;48;2;39;40;34m \u001b[0m\u001b[38;2;248;248;242;48;2;39;40;34m[\u001b[0m\u001b[48;2;39;40;34m                                                                                                       \u001b[0m  \n",
       "  \u001b[38;2;248;248;242;48;2;39;40;34m    \u001b[0m\u001b[38;2;230;219;116;48;2;39;40;34m\"\u001b[0m\u001b[38;2;230;219;116;48;2;39;40;34mhttps://www.imdb.com/title/tt1877830/locations/\u001b[0m\u001b[38;2;230;219;116;48;2;39;40;34m\"\u001b[0m\u001b[38;2;248;248;242;48;2;39;40;34m,\u001b[0m\u001b[48;2;39;40;34m                                                         \u001b[0m  \n",
       "  \u001b[38;2;248;248;242;48;2;39;40;34m    \u001b[0m\u001b[38;2;230;219;116;48;2;39;40;34m\"\u001b[0m\u001b[38;2;230;219;116;48;2;39;40;34mhttps://movie-locations.com/movies/b/The-Batman-2022-2.php\u001b[0m\u001b[38;2;230;219;116;48;2;39;40;34m\"\u001b[0m\u001b[38;2;248;248;242;48;2;39;40;34m,\u001b[0m\u001b[48;2;39;40;34m                                              \u001b[0m  \n",
       "  \u001b[38;2;248;248;242;48;2;39;40;34m    \u001b[0m\u001b[38;2;230;219;116;48;2;39;40;34m\"\u001b[0m\u001b[38;2;230;219;116;48;2;39;40;34mhttps://www.atlasofwonders.com/2022/04/where-was-the-batman-filmed.html\u001b[0m\u001b[38;2;230;219;116;48;2;39;40;34m\"\u001b[0m\u001b[38;2;248;248;242;48;2;39;40;34m,\u001b[0m\u001b[48;2;39;40;34m                                 \u001b[0m  \n",
       "  \u001b[38;2;248;248;242;48;2;39;40;34m    \u001b[0m\u001b[38;2;230;219;116;48;2;39;40;34m\"\u001b[0m\u001b[38;2;230;219;116;48;2;39;40;34mhttps://www.imdb.com/title/tt0096895/locations/\u001b[0m\u001b[38;2;230;219;116;48;2;39;40;34m\"\u001b[0m\u001b[38;2;248;248;242;48;2;39;40;34m,\u001b[0m\u001b[48;2;39;40;34m                                                         \u001b[0m  \n",
       "  \u001b[38;2;248;248;242;48;2;39;40;34m    \u001b[0m\u001b[38;2;230;219;116;48;2;39;40;34m\"\u001b[0m\u001b[38;2;230;219;116;48;2;39;40;34mhttps://www.travelandleisureasia.com/global/destinations/batman-movie-locations-you-can-visit/\u001b[0m\u001b[38;2;230;219;116;48;2;39;40;34m\"\u001b[0m\u001b[38;2;248;248;242;48;2;39;40;34m,\u001b[0m\u001b[48;2;39;40;34m          \u001b[0m  \n",
       "  \u001b[38;2;248;248;242;48;2;39;40;34m    \u001b[0m\u001b[38;2;230;219;116;48;2;39;40;34m\"\u001b[0m\u001b[38;2;230;219;116;48;2;39;40;34mhttps://www.travelchannel.com/interests/arts-and-culture/photos/see-batman-movie-locations\u001b[0m\u001b[38;2;230;219;116;48;2;39;40;34m\"\u001b[0m\u001b[38;2;248;248;242;48;2;39;40;34m,\u001b[0m\u001b[48;2;39;40;34m              \u001b[0m  \n",
       "  \u001b[38;2;248;248;242;48;2;39;40;34m    \u001b[0m\u001b[38;2;230;219;116;48;2;39;40;34m\"\u001b[0m\u001b[38;2;230;219;116;48;2;39;40;34mhttps://www.traveltodayla.com/post/batman-movies-in-la?srsltid=AfmBOorAK6Y2wPusH_Q6g4D8gYzNzkrybVqOr_bfQ0m\u001b[0m  \n",
       "  \u001b[38;2;230;219;116;48;2;39;40;34mpxB1wNb8hh_E7\u001b[0m\u001b[38;2;230;219;116;48;2;39;40;34m\"\u001b[0m\u001b[38;2;248;248;242;48;2;39;40;34m,\u001b[0m\u001b[48;2;39;40;34m                                                                                                \u001b[0m  \n",
       "  \u001b[38;2;248;248;242;48;2;39;40;34m    \u001b[0m\u001b[38;2;230;219;116;48;2;39;40;34m\"\u001b[0m\u001b[38;2;230;219;116;48;2;39;40;34mhttps://movie-locations.com/movies/b/Batman-V-Superman.php\u001b[0m\u001b[38;2;230;219;116;48;2;39;40;34m\"\u001b[0m\u001b[38;2;248;248;242;48;2;39;40;34m,\u001b[0m\u001b[48;2;39;40;34m                                              \u001b[0m  \n",
       "  \u001b[38;2;248;248;242;48;2;39;40;34m    \u001b[0m\u001b[38;2;230;219;116;48;2;39;40;34m\"\u001b[0m\u001b[38;2;230;219;116;48;2;39;40;34mhttps://en.wikipedia.org/wiki/The_Batman_(film)\u001b[0m\u001b[38;2;230;219;116;48;2;39;40;34m\"\u001b[0m\u001b[38;2;248;248;242;48;2;39;40;34m,\u001b[0m\u001b[48;2;39;40;34m                                                         \u001b[0m  \n",
       "  \u001b[38;2;248;248;242;48;2;39;40;34m    \u001b[0m\u001b[38;2;230;219;116;48;2;39;40;34m\"\u001b[0m\u001b[38;2;230;219;116;48;2;39;40;34mhttps://batman.fandom.com/wiki/Category:Film_Locations\u001b[0m\u001b[38;2;230;219;116;48;2;39;40;34m\"\u001b[0m\u001b[48;2;39;40;34m                                                   \u001b[0m  \n",
       "  \u001b[38;2;248;248;242;48;2;39;40;34m]\u001b[0m\u001b[48;2;39;40;34m                                                                                                              \u001b[0m  \n",
       "  \u001b[48;2;39;40;34m                                                                                                               \u001b[0m  \n",
       "  \u001b[38;2;248;248;242;48;2;39;40;34mdata\u001b[0m\u001b[38;2;248;248;242;48;2;39;40;34m \u001b[0m\u001b[38;2;249;38;114;48;2;39;40;34m=\u001b[0m\u001b[38;2;248;248;242;48;2;39;40;34m \u001b[0m\u001b[38;2;248;248;242;48;2;39;40;34m[\u001b[0m\u001b[38;2;248;248;242;48;2;39;40;34m]\u001b[0m\u001b[48;2;39;40;34m                                                                                                      \u001b[0m  \n",
       "  \u001b[48;2;39;40;34m                                                                                                               \u001b[0m  \n",
       "  \u001b[38;2;102;217;239;48;2;39;40;34mfor\u001b[0m\u001b[38;2;248;248;242;48;2;39;40;34m \u001b[0m\u001b[38;2;248;248;242;48;2;39;40;34murl\u001b[0m\u001b[38;2;248;248;242;48;2;39;40;34m \u001b[0m\u001b[38;2;249;38;114;48;2;39;40;34min\u001b[0m\u001b[38;2;248;248;242;48;2;39;40;34m \u001b[0m\u001b[38;2;248;248;242;48;2;39;40;34murls\u001b[0m\u001b[38;2;248;248;242;48;2;39;40;34m:\u001b[0m\u001b[48;2;39;40;34m                                                                                               \u001b[0m  \n",
       "  \u001b[38;2;248;248;242;48;2;39;40;34m    \u001b[0m\u001b[38;2;248;248;242;48;2;39;40;34mcontent\u001b[0m\u001b[38;2;248;248;242;48;2;39;40;34m \u001b[0m\u001b[38;2;249;38;114;48;2;39;40;34m=\u001b[0m\u001b[38;2;248;248;242;48;2;39;40;34m \u001b[0m\u001b[38;2;248;248;242;48;2;39;40;34mvisit_webpage\u001b[0m\u001b[38;2;248;248;242;48;2;39;40;34m(\u001b[0m\u001b[38;2;248;248;242;48;2;39;40;34murl\u001b[0m\u001b[38;2;249;38;114;48;2;39;40;34m=\u001b[0m\u001b[38;2;248;248;242;48;2;39;40;34murl\u001b[0m\u001b[38;2;248;248;242;48;2;39;40;34m)\u001b[0m\u001b[48;2;39;40;34m                                                                           \u001b[0m  \n",
       "  \u001b[38;2;248;248;242;48;2;39;40;34m    \u001b[0m\u001b[38;2;248;248;242;48;2;39;40;34mprint\u001b[0m\u001b[38;2;248;248;242;48;2;39;40;34m(\u001b[0m\u001b[38;2;230;219;116;48;2;39;40;34mf\u001b[0m\u001b[38;2;230;219;116;48;2;39;40;34m\"\u001b[0m\u001b[38;2;230;219;116;48;2;39;40;34mContent from \u001b[0m\u001b[38;2;230;219;116;48;2;39;40;34m{\u001b[0m\u001b[38;2;248;248;242;48;2;39;40;34murl\u001b[0m\u001b[38;2;230;219;116;48;2;39;40;34m}\u001b[0m\u001b[38;2;230;219;116;48;2;39;40;34m:\u001b[0m\u001b[38;2;230;219;116;48;2;39;40;34m\"\u001b[0m\u001b[38;2;248;248;242;48;2;39;40;34m)\u001b[0m\u001b[48;2;39;40;34m                                                                              \u001b[0m  \n",
       "  \u001b[38;2;248;248;242;48;2;39;40;34m    \u001b[0m\u001b[38;2;248;248;242;48;2;39;40;34mprint\u001b[0m\u001b[38;2;248;248;242;48;2;39;40;34m(\u001b[0m\u001b[38;2;248;248;242;48;2;39;40;34mcontent\u001b[0m\u001b[38;2;248;248;242;48;2;39;40;34m)\u001b[0m\u001b[48;2;39;40;34m                                                                                             \u001b[0m  \n",
       "  \u001b[38;2;248;248;242;48;2;39;40;34m    \u001b[0m\u001b[38;2;248;248;242;48;2;39;40;34mprint\u001b[0m\u001b[38;2;248;248;242;48;2;39;40;34m(\u001b[0m\u001b[38;2;230;219;116;48;2;39;40;34m\"\u001b[0m\u001b[38;2;174;129;255;48;2;39;40;34m\\n\u001b[0m\u001b[38;2;230;219;116;48;2;39;40;34m\"\u001b[0m\u001b[38;2;248;248;242;48;2;39;40;34m \u001b[0m\u001b[38;2;249;38;114;48;2;39;40;34m+\u001b[0m\u001b[38;2;248;248;242;48;2;39;40;34m \u001b[0m\u001b[38;2;230;219;116;48;2;39;40;34m\"\u001b[0m\u001b[38;2;230;219;116;48;2;39;40;34m=\u001b[0m\u001b[38;2;230;219;116;48;2;39;40;34m\"\u001b[0m\u001b[38;2;249;38;114;48;2;39;40;34m*\u001b[0m\u001b[38;2;174;129;255;48;2;39;40;34m80\u001b[0m\u001b[38;2;248;248;242;48;2;39;40;34m \u001b[0m\u001b[38;2;249;38;114;48;2;39;40;34m+\u001b[0m\u001b[38;2;248;248;242;48;2;39;40;34m \u001b[0m\u001b[38;2;230;219;116;48;2;39;40;34m\"\u001b[0m\u001b[38;2;174;129;255;48;2;39;40;34m\\n\u001b[0m\u001b[38;2;230;219;116;48;2;39;40;34m\"\u001b[0m\u001b[38;2;248;248;242;48;2;39;40;34m)\u001b[0m\u001b[38;2;248;248;242;48;2;39;40;34m  \u001b[0m\u001b[38;2;117;113;94;48;2;39;40;34m# Print separator between URLs\u001b[0m\u001b[48;2;39;40;34m                                                \u001b[0m  \n",
       "  \u001b[38;2;248;248;242;48;2;39;40;34m    \u001b[0m\u001b[38;2;117;113;94;48;2;39;40;34m# Extract relevant information and append to data list\u001b[0m\u001b[48;2;39;40;34m                                                     \u001b[0m  \n",
       "  \u001b[38;2;248;248;242;48;2;39;40;34m    \u001b[0m\u001b[38;2;117;113;94;48;2;39;40;34m# This part will be handled in the next step\u001b[0m\u001b[48;2;39;40;34m                                                               \u001b[0m  \n",
       " ───────────────────────────────────────────────────────────────────────────────────────────────────────────────── \n"
      ]
     },
     "metadata": {},
     "output_type": "display_data"
    },
    {
     "data": {
      "text/html": [
       "<pre style=\"white-space:pre;overflow-x:auto;line-height:normal;font-family:Menlo,'DejaVu Sans Mono',consolas,'Courier New',monospace\"><span style=\"font-weight: bold\">Execution logs:</span>\n",
       "Content from https://www.imdb.com/title/tt1877830/locations/:\n",
       "Error fetching the webpage: 403 Client Error: Forbidden for url: https://www.imdb.com/title/tt1877830/locations/\n",
       "\n",
       "================================================================================\n",
       "\n",
       "Content from https://movie-locations.com/movies/b/The-Batman-2022-2.php:\n",
       "The Batman | Film Locations\n",
       "\n",
       "![Movie Locations logo](../../artwork/movie-locations-450.jpg)\n",
       "\n",
       "* [|   HOME](../../index.php)\n",
       "* [|   FILMS](../../movies.php)\n",
       "  + [0](../0/0-movies.php)\n",
       "  + [A](../a/a-movies.php)\n",
       "  + [B](../b/b-movies.php)\n",
       "  + [C](../c/c-movies.php)\n",
       "  + [D](../d/d-movies.php)\n",
       "  + [E](../e/e-movies.php)\n",
       "  + [F](../f/f-movies.php)\n",
       "  + [G](../g/g-movies.php)\n",
       "  + [H](../h/h-movies.php)\n",
       "  + [I](../i/i-movies.php)\n",
       "  + [J](../j/j-movies.php)\n",
       "  + [K](../k/k-movies.php)\n",
       "  + [L](../l/l-movies.php)\n",
       "  + [M](../m/m-movies.php)\n",
       "  + [N](../n/n-movies.php)\n",
       "  + [O](../o/o-movies.php)\n",
       "  + [P](../p/p-movies.php)\n",
       "  + [Q](../q/q-movies.php)\n",
       "  + [R](../r/r-movies.php)\n",
       "  + [S](../s/s-movies.php)\n",
       "  + [T](../t/t-movies.php)\n",
       "  + [U](../u/u-movies.php)\n",
       "  + [V](../v/v-movies.php)\n",
       "  + [W](../w/w-movies.php)\n",
       "  + [X](../x/x-movies.php)\n",
       "  + [Y](../y/y-movies.php)\n",
       "  + [Z](../z/z-movies.php)\n",
       "* [|   PLACES](../../places.php)\n",
       "  + [AFRICA](../../places/africa.php)\n",
       "  + [ASIA](../../places/asia.php)\n",
       "  + [CANADA](../../places/canada.php)\n",
       "  + [CARIBBEAN](../../places/caribbean.php)\n",
       "  + [CENTRAL AMERICA](../../places/centam.php)\n",
       "  + [EUROPE](../../places/europe.php)\n",
       "  + [MIDDLE EAST](../../places/mideast.php)\n",
       "  + [OCEANIA](../../places/oceania.php)\n",
       "  + [RUSSIA](../../places/russia/russia.php)\n",
       "  + [SOUTH AMERICA](../../places/samerica.php)\n",
       "  + [UNITED KINGDOM](../../places/uk.php)\n",
       "  + [USA](../../places/usa.php)\n",
       "* [|   PEOPLE](../../people.php)\n",
       "  + [A](../../people/a/a-people.php)\n",
       "  + [B](../../people/b/b-people.php)\n",
       "  + [C](../../people/c/c-people.php)\n",
       "  + [D](../../people/d/d-people.php)\n",
       "  + [E](../../people/e/e-people.php)\n",
       "  + [F](../../people/f/f-people.php)\n",
       "  + [G](../../people/g/g-people.php)\n",
       "  + [H](../../people/h/h-people.php)\n",
       "  + [I](../../people/i/i-people.php)\n",
       "  + [J](../../people/j/j-people.php)\n",
       "  + [K](../../people/k/k-people.php)\n",
       "  + [L](../../people/l/l-people.php)\n",
       "  + [M](../../people/m/m-people.php)\n",
       "  + [N](../../people/n/n-people.php)\n",
       "  + [O](../../people/o/o-people.php)\n",
       "  + [P](../../people/p/p-people.php)\n",
       "  + [Q](../../people/q/q-people.php)\n",
       "  + [R](../../people/r/r-people.php)\n",
       "  + [S](../../people/s/s-people.php)\n",
       "  + [T](../../people/t/t-people.php)\n",
       "  + [U](../../people/u/u-people.php)\n",
       "  + [V](../../people/v/v-people.php)\n",
       "  + [W](../../people/w/w-people.php)\n",
       "  + [X](../../people/x/x-people.php)\n",
       "  + [Y](../../people/y/y-people.php)\n",
       "  + [Z](../../people/z/z-people.php)\n",
       "* [|   MORE](#)\n",
       "  + [ABOUT](../../about.php)\n",
       "  + [TRAVEL](../../travel.php)\n",
       "  + [FEATURES](../../features.php)\n",
       "  + [LINKS](../../links.php)\n",
       "* [|   SEARCH](#)\n",
       "* |\n",
       "\n",
       "* [|   HOME](../../index.php)\n",
       "* [|   FILMS](../../movies.php)\n",
       "* [|   PLACES](../../places.php)\n",
       "* [|   PEOPLE](../../people.php)\n",
       "\n",
       "[Home](../../index.php) &gt; [Films](../../movies.php) &gt; [B](b-movies.php) &gt; The batman\n",
       "\n",
       "Monday March 10th 2025\n",
       "\n",
       "The Batman | 2022\n",
       "=================\n",
       "\n",
       "![The Batman filming location: St George's Hall, Liverpool](../f/Fantastic-Beasts-St-Georges-ext.jpg)\n",
       "\n",
       "The Batman location: The memorial service for the murdered Mayor at 'Gotham City Hall': East Front, St George's \n",
       "Hall, Liverpool | Photograph: [Wikimedia / \n",
       "Superchilum](https://commons.wikimedia.org/wiki/File:St._George's_Hall_Liverpool_02.jpg)\n",
       "\n",
       "![The-Batman poster](The-Batman.jpg)\n",
       "\n",
       "* Locations |\n",
       "* [Merseyside](../../places/uk/mersey.php);\n",
       "* [London](../../places/uk/gtrlondon.php);\n",
       "* [Scotland](../../places/uk/scotland.php);\n",
       "* [Bedfordshire](../../places/uk/beds.php);\n",
       "* [Hertfordshire](../../places/uk/herts.php);\n",
       "* [Essex](../../places/uk/essex.php);\n",
       "* [Surrey](../../places/uk/surrey.php);\n",
       "* [Chicago](../../places/usa/chicago.php), [Illinois](../../places/usa/illinois.php)\n",
       "\n",
       "* DIRECTOR |\n",
       "* [Matt Reeves](../../people/r/reevesmatt.php)\n",
       "\n",
       "* CAST |\n",
       "* [Robert Pattinson,](../../people/p/pattinsonr.php)\n",
       "* [Paul Dano,](../../people/d/danop.php)\n",
       "* [ZoÃ« Kravitz,](../../people/k/kravitzz.php)\n",
       "* [Jeffrey Wright,](../../people/w/wrightj.php)\n",
       "* [Andy Serkis,](../../people/s/serkisa.php)\n",
       "* [Colin Farrell,](../../people/f/farrellc.php)\n",
       "* [John Turturro,](../../people/t/turturroj.php)\n",
       "* [Peter Sarsgaard,](../../people/s/sarsgaardp.php)\n",
       "* [Jayme Lawson,](../../people/l/lawsonj.php)\n",
       "* [Barry Keoghan](../../people/k/keoghanb.php)\n",
       "\n",
       "It’s back to [Liverpool](../../places/uk/mersey.php) for the pillared frontage of ‘Gotham City Hall’, which is [St \n",
       "George's Hall](https://www.stgeorgeshallliverpool.co.uk/homepage/) once again, but this time the much longer \n",
       "eastern front with its equestrian statues on Lime Street.\n",
       "\n",
       "The cathedral-like interior, where the memorial service for Mayor Mitchell is crashed by the DA’s car, is a \n",
       "wonderfully impressive studio set, built inside the Cardington Airship Hangar 1, frequently used as studio space by\n",
       "[Christopher Nolan](../../people/n/nolanc.php).\n",
       "\n",
       "The resulting mayhem sees the Batman taken into custody but, before Gotham’s finest can so much as take off his \n",
       "mask, Gordon has facilitated his escape.\n",
       "\n",
       "![The Batman filming location: Lethaby Building, Southampton Row, Holborn, London \n",
       "WC1](../i/Imitation-Game-Central-St-\n",
       "..._This content has been truncated to stay below 10000 characters_...\n",
       ".php) . You can see it, under construction, at the end of the river chase in 1999 Bond movie [The World Is Not \n",
       "Enough](../w/World-Is-Not-Enough.php).\n",
       "\n",
       "And, no, they didn’t flood the arena. As the waters rise, the production moved to a studio tank.\n",
       "\n",
       "If you’re waiting for [Glasgow](https://peoplemakeglasgow.com/) to make an appearance, you’ll have to wait for the \n",
       "epilogue when Selina Kyle ([ZoÃ« Kravitz](../../people/k/kravitzz.php)) visits her mother’s memorial.\n",
       "\n",
       "![The Batman filming location: Bridge of Sighs, Glasgow \n",
       "Necropolis](The-Batman-Glasgow-Necropolis-Bridge-of-Sighs.jpg)\n",
       "\n",
       "The Batman location: The Batman and Selina exit the cemetery: Bridge of Sighs, Glasgow Necropolis | Photograph: \n",
       "[Wikimedia / \n",
       "Marcok](https://commons.wikimedia.org/wiki/File:Glasgow_Cathedral_Square_Bridge_of_Sighs_by_Marcok_2018-08-23.jpg)\n",
       "\n",
       "The gloomy cemetery, in which Batman reluctantly turns down the offer to go off with Selina, is \n",
       "[Glasgow](https://peoplemakeglasgow.com/)’s [Necropolis](https://www.glasgownecropolis.org/), the city’s \n",
       "extravagant Victorian burial ground. The two bikes speeding past the carved memorials show the \n",
       "[Necropolis](https://www.glasgownecropolis.org/) at its best but there’s still a crafty little trick left.\n",
       "\n",
       "![The Batman filming location: Cherry Lane entrance, Anfield Cemetery, Liverpool](The-Batman-Anfield-Cemetery.jpg)\n",
       "\n",
       "The Batman location: The Batman and Selina exit the cemetery: Cherry Lane entrance, Anfield Cemetery, Liverpool | \n",
       "Photograph: [Wikimedia / \n",
       "Rept0n1x](https://commons.wikimedia.org/wiki/File:Anfield_Cemetery,_Cherry_Lane_entrance_(5).JPG)\n",
       "\n",
       "They drive west from the cemetery across the stone arch, known as the Bridge of Sighs, on Church Street but the \n",
       "dark little Gothic tunnel they come to is the eastern entrance to [Anfield \n",
       "Cemetery](https://liverpool.gov.uk/births-marriage-deaths/deaths/burials-and-cremations/cemeteries-and-crematoria/a\n",
       "nfield-cemetery-and-crematorium/), on Cherry Lane, in [Liverpool](../../places/uk/mersey.php). But only for that \n",
       "brief moment.\n",
       "\n",
       "Instantly they’re back in [Glasgow](https://peoplemakeglasgow.com/), on Wishart Street alongside the \n",
       "[Necropolis](https://www.glasgownecropolis.org/), with the Batman riding away â under the Bridge of Sighs arch they\n",
       "had crossed minutes earlier.\n",
       "\n",
       "[Page 1](The-Batman-2022.php)   |   Page 2\n",
       "\n",
       "[* ![film locations banner](../../images/bar-hub-1.jpg)\n",
       "* ![film locations banner](../../images/bar-hub-2.jpg)\n",
       "* ![film locations banner](../../images/bar-hub-3.jpg)\n",
       "* ![film locations banner](../../images/bar-hub-4.jpg)\n",
       "* ![film locations banner](../../images/bar-hub-5.jpg)](../../index.php)\n",
       "\n",
       "---\n",
       "\n",
       "Visit The Film Locations\n",
       "========================\n",
       "\n",
       "UK | Merseyside\n",
       "---------------\n",
       "\n",
       "---\n",
       "\n",
       "Visit: [Liverpool](http://www.visitliverpool.com)\n",
       "\n",
       "Flights: [Liverpool John Lennon Airport](https://www.liverpoolairport.com), Speke, Liverpool L24 1YD (tel: \n",
       "0871.521.8484)\n",
       "\n",
       "Rail: [Liverpool Lime Street](https://www.networkrail.co.uk/liverpool-lime-street-station/departures-arrivals/), \n",
       "from [London Euston](http://www.networkrail.co.uk/london-euston-station/departures-arrivals/)\n",
       "\n",
       "Visit: [St George's Hall](https://www.stgeorgeshallliverpool.co.uk/homepage/), St George's Place, Liverpool L1 1JJ.\n",
       "\n",
       "Visit: The [Royal Liver Building](https://rlb360.com/), Pier Head, Liverpool L3 1HU.\n",
       "\n",
       "UK | London\n",
       "-----------\n",
       "\n",
       "---\n",
       "\n",
       "Flights: [Heathrow Airport](http://www.heathrowairport.com/); [Gatwick Airport](http://www.gatwickairport.com/)\n",
       "\n",
       "Visit: [London](http://www.visitlondon.com)\n",
       "\n",
       "Travelling: [Transport For London](https://tfl.gov.uk)\n",
       "\n",
       "Visit: [The O2 Arena](https://www.theo2.co.uk/), Peninsula Square, London SE10 0DX (tube: North Greenwich, Jubilee \n",
       "Line).\n",
       "\n",
       "UK | Scotland\n",
       "-------------\n",
       "\n",
       "---\n",
       "\n",
       "Visit: [Scotland](http://www.visitscotland.com)\n",
       "\n",
       "Visit: [Glasgow](http://visit-glasgow.info) (rail: Glasgow Central)\n",
       "\n",
       "Visit: [Glasgow Necropolis](https://www.glasgownecropolis.org/), Castle Street, Glasgow G4 0UZ.\n",
       "\n",
       "UK | Bedfordshire\n",
       "-----------------\n",
       "\n",
       "---\n",
       "\n",
       "Visit: [Bedfordshire](http://www.experiencebedfordshire.co.uk/)\n",
       "\n",
       "UK | Hertfordshire\n",
       "------------------\n",
       "\n",
       "---\n",
       "\n",
       "Visit: [Hertfordshire](http://www.hertfordshirelep.com/enjoy/)\n",
       "\n",
       "Illinois | Chicago\n",
       "------------------\n",
       "\n",
       "---\n",
       "\n",
       "Visit: [Chicago](http://www.chooseChicago.com)\n",
       "\n",
       "Flights: [O’Hare International Airport](http://www.flyChicago.com/ohare/), 10000 West O'Hare Ave, Chicago, IL 60666\n",
       "(tel: 800.832.6352)\n",
       "\n",
       "Travel around: [Chicago Transit Authority](http://www.transitChicago.com)\n",
       "\n",
       "![Quantcast](//pixel.quantserve.com/pixel/p-Gk6yfNKKx53Zc.gif)\n",
       "\n",
       "[![123Stat hit counter](https://server2.123stat.com/6/1/7346.gif)](https://www.123stat.com)\n",
       "\n",
       "---\n",
       "\n",
       "* [Home](../../index.php)\n",
       "* [Films](../../movies.php)\n",
       "* [Places](../../places.php)\n",
       "* [People](../../people.php)\n",
       "* [Travel](../../travel.php)\n",
       "* [Features](../../features.php)\n",
       "* [Links](../../links.php)\n",
       "* [Contact](mailto:info@movie-locations.com)\n",
       "\n",
       "Please send any corrections or additions to [info@movie-locations.com](mailto:info@movie-locations.com). All \n",
       "material Copyright © 2025 The Worldwide Guide To Movie Locations\n",
       "\n",
       "================================================================================\n",
       "\n",
       "Content from https://www.atlasofwonders.com/2022/04/where-was-the-batman-filmed.html:\n",
       "Where was The Batman filmed? ALL the Filming Locations in Chicago &amp; The UK\n",
       "\n",
       "* [Home](https://www.atlasofwonders.com/)\n",
       "* [MOVIES](https://www.atlasofwonders.com/p/filming-locations.html)\n",
       "* [SERIES](https://www.atlasofwonders.com/p/series-filming-locations.html)\n",
       "* [WONDERS](https://www.atlasofwonders.com/p/wonders.html)\n",
       "* [ABOUT](https://www.atlasofwonders.com/p/wondering-about-aow.html)\n",
       "\n",
       "[![search \n",
       "icon](https://blogger.googleusercontent.com/img/b/R29vZ2xl/AVvXsEh4MJ3xfOdWmqjdls_YMZWvTQ7djWV65pfItfS7vcb03v9q5iRc\n",
       "rpWc-Dp8HEFMRwicWcMrcLg25UY0oDn-t5Z99HHQkQBjDL1Bwq9QDC9ekVUG_Cew1b_9PbeKOd-ApydYCKR0WV0_7_MNdnQ3YXMvrPyF3-3TpbsTItf\n",
       "iz-h3Wyf8iQ/s1600/s.png)](#)\n",
       "\n",
       "[![Filming Locations by Atlas of Wonders \n",
       "logo](https://blogger.googleusercontent.com/img/b/R29vZ2xl/AVvXsEgZ-ia6BzasoT6ae5QFTi73azhWSKBCz2f7g4plnxNthAwgqGUG\n",
       "FhvYvR20tdtMBxcm_ykWBmpCMmcbnLiY4cqBs80pCkexeNgXyJtc-vFpgvv3aUfljh9tz0idJExKE0FQA3Kcov8UfJT_FOuZD6JfXH4bEZWZb9ImUsK\n",
       "zDmdJGwNDjg/s1600/l.png)](https://www.atlasofwonders.com)\n",
       "\n",
       "Where was The Batman filmed? ALL the Filming Locations in Chicago &amp; The UK\n",
       "==========================================================================\n",
       "\n",
       "Posted by [Ra Moon](https://www.atlasofwonders.com/p/wondering-about-aow.html)\n",
       "\n",
       "*The Batman* is the newest addition to the Caped Crusader films franchise. Matt Reeves, who also directed the last \n",
       "two films in the *Planet of the Apes* movie series, has made a more **noir, detective-driven** version of the \n",
       "story.  \n",
       "  \n",
       "***The Batman* was primarily filmed in the United Kingdom**. Most of the recognizable buildings of this new version\n",
       "of Gotham City are located in **Liverpool**, although **Chicago was a major influence** on the aesthetics of the \n",
       "movie.\n",
       "\n",
       "  \n",
       "\n",
       "![Where was The Batman \n",
       "filmed](https://blogger.googleusercontent.com/img/b/R29vZ2xl/AVvXsEiJwiNIzzK94q3sjdADzG3Qw-GwQcfl-r6YLSDj1sOkPXtTb9\n",
       "NPD6OMBnjO5fXpn-eMiUuYhXNTqng_UTm1U9ZDnMpuJi7PW62GYbv_yEdYxVDz4HZsDM38b8r_ZEFcmrvBLFumVD6u8c1TYI07NIhgwJhpXs7EaHxy9\n",
       "EFPQEg_VMFlKg/s1600/52037053575_9d5411ff31_o.jpg)  \n",
       "  \n",
       "**Robert Pattinson** (Edward Cullen in *The Twilight Saga*), embodies the lead role of reclusive billionaire Bruce \n",
       "Wayne, **the ninth Batman** in a live-action movie after Ben Affleck, Christian Bale, George Clooney, and Michael \n",
       "Keaton among others.  \n",
       "  \n",
       "Pattinson is joined by the daughter of pop star Lenny Kravitz, **Zoë Kravitz**, as Selina Kyle or **Catwoman**, who\n",
       "also appeared in the [*Fantastic \n",
       "Beasts*](https://www.atlasofwonders.com/2018/11/fantastic-beasts-2-grindelwald-filming-locations.html) film series.\n",
       "  \n",
       "Welcome to Gotham City and the most complete guide to the **filming locations of *The Batman*** that you can find. \n",
       "Also, follow this link to check out all the places [where *The Penguin* series was \n",
       "filmed](https://www.atlasofwonders.com/2024/09/where-was-the-penguin-filmed.html).\n",
       "\n",
       "  \n",
       "  \n",
       "\n",
       "*The Batman* locations\n",
       "----------------------\n",
       "\n",
       "![Mayor Mitchell's \n",
       "House](https://blogger.googleusercontent.com/img/b/R29vZ2xl/AVvXsEgbH6BkaItl2nLesiqekgEfTOVDvf-J4cwivB6Ekd5tnjgnoHp\n",
       "0OLCTBB5wdMXBuRmEQNR3yYBARA7G3iW8GYknPQC6fmEixhnGrRnFVpY9eQBej-ur5HYAFV3mwwOjgjrO1JUfYnMxAojfOs-9WwmqlOGox_GW3MyCuu\n",
       "wbA8swrXCqeA/s1600/6.jpg)  \n",
       "The exterior of **Major Mitchell's house**, where the press conference takes place, was filmed at the [Two Temple \n",
       "Place](https://twotempleplace.org/) in London.  \n",
       "  \n",
       "Built in 1895, this magnificent neo-Gothic mansion hosts public exhibitions and venues.\n",
       "\n",
       "(You can **open all the locations on Google Maps** by clicking on the links below in the captions ↴)  \n",
       "Image courtesy of [Warner Bros](https://www.warnerbros.com/movies/the-batman) and [Google \n",
       "Maps](https://goo.gl/maps/kSzWnP8pfgDhbJwKA)\n",
       "\n",
       "  \n",
       "  \n",
       "\n",
       "![The Batman \n",
       "City](https://blogger.googleusercontent.com/img/b/R29vZ2xl/AVvXsEhkyBbT4fCOgnm75IL0ezrAIiQBJhnToxowbtI7OXabnDsIBirc\n",
       "OQVqDYUlixgbWWMHAG6CsgL1ZAJGti_vm-jvzFW3iRRlg9iIcInCHQOYm6XDb97iNONYqUG_dnrOtslOm6ieJkQjTE96fuUmwO3umCNOzx44k6zsX6d\n",
       "n0T0i2oGXLQ/s1600/11.jpg)  \n",
       "There are some establishing shots filmed at the **Wellington's Column** and the Steble Fountain on the corner of \n",
       "William Brown Street and Lime Street in **Liverpool**.  \n",
       "  \n",
       "It's amazing how thanks to CGI this neo-classic cityscape was transformed into a sort of **New York Times Square**.\n",
       "\n",
       "Image courtesy of Warner Bros and [Google Maps](https://goo.gl/maps/mGsz3DmtXR6pFh6h8)\n",
       "\n",
       "  \n",
       "  \n",
       "\n",
       "![The Batman \n",
       "locations](https://blogger.googleusercontent.com/img/b/R29vZ2xl/AVvXsEgLNpO9veGp45m-Tdfw3C7Qm7pNI-Ob8eUVQEn6SsBLzlN\n",
       "CaXMMrkHnxE5ei8dNGadVoB8I8oAsUBT5IFp_qn3GUlK1OHiYWXMJIW2OQtmLQ7QOc_XZOW6Srizd6rO3kEFelAfQDDYhGWKypNXUeyqT7pB7Y2MhcR\n",
       "Zx6KE4BReP5ZAiXQ/s1600/10.jpg)  \n",
       "The **Bank of Gotham**, vandalized by graffiti taggers, is [St George's \n",
       "Hall's](https://www.stgeorgeshallliverpool.co.uk/homepage) south facade in **Liverpool**.  \n",
       "  \n",
       "Located at the heart of the city, opposite Lime Street Station, this 19th-century venue hosts a variety of events, \n",
       "exhibitions, and festivals.\n",
       "\n",
       "Image courtesy of Warner Bros and [Google Maps](https://goo.gl/maps/9gY5WnnLYs4NZpt96)\n",
       "\n",
       "  \n",
       "  \n",
       "\n",
       "*The Batman* in \n",
       "..._This content has been truncated to stay below 10000 characters_...\n",
       "eorge's Hall is not actually St. George's Hall at all! The funeral scene is filmed in Liverpool Anglican Cathedral.\n",
       "I have been in many times and would recognize it anywhere. It is quite gothic in its feel.\n",
       "\n",
       "[![Share \n",
       "Facebook](https://blogger.googleusercontent.com/img/b/R29vZ2xl/AVvXsEj8esV9EiLauE-ckgiq2g3y8L9FogWKMTGek5I8mSpNFgSh\n",
       "_VljJ8C7hgAlPA4cAWinmRmMhAcJ3xwXMVDTWh-ellKcniwpoOwP8EjEuRhGZFP-ujt-NYl9eN1UAkLDI38bD5TWjurklck7TvPPKGADq3oTsA-ML3K\n",
       "GQBe0fti30dr4yg/s1600/fa.png)](https://www.facebook.com/sharer.php?u=https://www.atlasofwonders.com/2022/04/where-w\n",
       "as-the-batman-filmed.html)\n",
       "[![Share \n",
       "Twitter](https://blogger.googleusercontent.com/img/b/R29vZ2xl/AVvXsEg3KpElzeqAyKEu46la6yqJXF2WaKs-C9OA6av1SW5Q3Bbk_\n",
       "lPMyRZrx836-w1Mo1DI_pUKgjr1hisYdn0wqawC3mBQdkjy-EJ06g-l7rCR_SJ1VcOAn73DTFxTfv3c0VFVX7kF7k4ig_M9nRGXmNSfwdOqS_Qw5ueg\n",
       "hUhppX41Xt6zng/s1600/tw.png)](https://twitter.com/share?url=https://www.atlasofwonders.com/2022/04/where-was-the-ba\n",
       "tman-filmed.html)\n",
       "[![Share \n",
       "Pinterest](https://blogger.googleusercontent.com/img/b/R29vZ2xl/AVvXsEiGRRqvSpEKiW7Q7LDvgrU4I0gJmXSZ4tla_a-XyvpbIUu\n",
       "5zCHXLwbm4VarlYTlG5BMPBkS-E0ciHmqB-uxU-BbeURBIovVtrVrRCOmFqRbKfMVX3OrpMyQO4mZ9ARRvE_SLKPkonaF2sZEP9lzN_xr3A0H6nvpKN\n",
       "J7qZlbkA1BkLph6w/s1600/pi.png)](https://pinterest.com/pin/create/button/?source_url=https://www.atlasofwonders.com/\n",
       "2022/04/where-was-the-batman-filmed.html)\n",
       "[![Share on \n",
       "WhatsApp](https://blogger.googleusercontent.com/img/b/R29vZ2xl/AVvXsEgkkYhaT0M_cOAoz1gKmy-D-SlvpAyd_cP-nWV3I3vTsiaL\n",
       "Hb4AUtOnxYG_dfDkLmxXKFo9I6DtM96BsUJQ5AsGubZUlBDo6mI6YUcdDt2Swrhs4UUQoGKdX_Ume50xtGOQ9i7Dvv3LS6v8a8kKe2h2GOGbYlOc7ev\n",
       "vif-SYZVFN3b3ZA/s1600/wh.png)](https://wa.me/?text=Where was The Batman filmed? ALL the Filming Locations in \n",
       "Chicago &amp; The UK - https://www.atlasofwonders.com/2022/04/where-was-the-batman-filmed.html)\n",
       "\n",
       "![Author \n",
       "Photo](https://blogger.googleusercontent.com/img/b/R29vZ2xl/AVvXsEhfrNDbnTeKxmGNymmnfjlJSxWEuNp2nfSa2_Tw0qT52FShVkc\n",
       "r5QMeTbb9juSl73pxVJWEmbfpTVB4MMQDPD7bEBmEFio5z17m6GGHauk5Yvk6jxN-E7F_IDNYCPh1L6IBbLzijQ9bVnTL7ER4BcMiWE2UC48ZJf1HhC\n",
       "ijAUp5l4x3Ww/s1600/au.jpg)\n",
       "\n",
       "[Ra Moon](https://www.atlasofwonders.com/p/wondering-about-aow.html \"Posts by Ra Moon\")\n",
       "\n",
       "**Atlas of Wonders** is looking for wonderful Filming Locations all around the world. We are constantly updating \n",
       "and improving our posts with new details and images. Follow us here:\n",
       "\n",
       "[![Follow \n",
       "Facebook](https://blogger.googleusercontent.com/img/b/R29vZ2xl/AVvXsEj8esV9EiLauE-ckgiq2g3y8L9FogWKMTGek5I8mSpNFgSh\n",
       "_VljJ8C7hgAlPA4cAWinmRmMhAcJ3xwXMVDTWh-ellKcniwpoOwP8EjEuRhGZFP-ujt-NYl9eN1UAkLDI38bD5TWjurklck7TvPPKGADq3oTsA-ML3K\n",
       "GQBe0fti30dr4yg/s1600/fa.png)](https://www.facebook.com/atlasofwonders)\n",
       "[![Follow \n",
       "Twitter](https://blogger.googleusercontent.com/img/b/R29vZ2xl/AVvXsEjqzN4EWBIXwzHr0AiIznuICGLKJtV0i4tQ2KMLzShw5qd9g\n",
       "4D2ioi24QaW5aJZH4Tw0X1nR1Ljb5b79OTQvDi0omNl1Xz_ud4RSZpI1bIRVmRGfH7Z4Cu6buavoWA43X4yymQrahezAa5aL2rr1EaFl2_Zs27EZ6XA\n",
       "_MuEUvNsJyWr3w/s1600/tw2.png)](https://twitter.com/AtlasofWonders)\n",
       "[![Follow \n",
       "instagram](https://blogger.googleusercontent.com/img/b/R29vZ2xl/AVvXsEi1hqLndS42lCvucp1HBrKbGqIM6ncMIgXwsSmOiJRrZdC\n",
       "JWCWgiIrk6bXMEYqXdGlWHjYmrLg6u38jDXzw2QvolyPX3klXsjNaQgKpQiKIOM_XvfqKFyvHT65bwo25UV16_po2bt8K5PTXs22fEgwk5LoaRqbaQg\n",
       "4KLw2vOfVZLKg1_Q/s1600/ig.png)](https://www.instagram.com/atlas_of_wonders)\n",
       "[![Follow \n",
       "Pinterest](https://blogger.googleusercontent.com/img/b/R29vZ2xl/AVvXsEiyBZhJUOZapkpGJwtkc8ixCHeEKDa1ZsSfCXVYoL3AzYQ\n",
       "KjOYzcFX2WkaRk8u4ZEzlakCjE-XuUs4Yvl71xwz6Xq7WMBC07uTA5bzBHoIP5y5gK46QbZBk2pSCgKGSDYNVWlKN7zHn117PnvRqCxUZLV8MDq59ET\n",
       "8FMGICPwlOZLZZAw/s1600/pi2.png)](https://pinterest.com/atlasofwonders)\n",
       "\n",
       "0\n",
       "comments\n",
       "\n",
       "All comments are reviewed prior to publication\n",
       "\n",
       "[Next  \n",
       " Locations![chevron \n",
       "left](https://blogger.googleusercontent.com/img/b/R29vZ2xl/AVvXsEgzAqdffOw4n0mArJ5StcAmKOMzyJjZN33kBcE85SYh3k2XQN0q\n",
       "QNatjzduCsaV_OgcxHqoCXVPWuR28MQfRKr4so0OJVh9rtV-3DqMxu6vkylYaDq7IO0PsBDq-hvzh4YrrqwmDvxzZwpDoy_snfNRrcM7zQ5Om9f7RUH\n",
       "pZYHRb0IYJg/s1600/ch.png)](https://www.atlasofwonders.com/2022/04/where-was-the-northman-filmed.html)\n",
       "\n",
       "[Previous  \n",
       " Locations![chevron \n",
       "right](https://blogger.googleusercontent.com/img/b/R29vZ2xl/AVvXsEhl0j42tEaODrIvuyARJ_TgYBCCfBu0H5lhFsNI9e5ovGK36MI\n",
       "EJHfUCVHSSL7F44XgiStcFb1f-nqLVqKJJDzwXgDtBzJaNH8htedrEgTOuofj-N85o1onuorXgFH8ouH6bSFLM_h2SA9FVsOGs2xN5N7c9ceNldxizs\n",
       "PNLxGcNG1UWQ/s1600/ch2.png)](https://www.atlasofwonders.com/2022/04/vin-de-vie-all-the-old-knives.html)\n",
       "\n",
       "© 2023, All Rights Reserved by [Atlas Of Wonders](https://www.atlasofwonders.com/p/wondering-about-aow.html) | \n",
       "[Privacy Policy](https://www.atlasofwonders.com/p/privacy-policy.html) | [ThemeXpose](https://www.themexpose.com/ \n",
       "\"Blogger\")\n",
       "\n",
       "  \n",
       "[Back to top \n",
       "![double-up](https://blogger.googleusercontent.com/img/b/R29vZ2xl/AVvXsEi1Bpq0fCL0W67xJFV-CJHLEONaO64XLWeGWzrGofHEO\n",
       "22M9sceFixe9iL7TEbUgCCiDNJlXtJySaGZbwtFbGj_SvajSM8IIOdmg9iGZ1oaXyVnlmiMJs3cX_ULXryjWlMt-05QBAn5oZ9sCcwnjbpMjhIijNtf\n",
       "Hqfq8QO8rk5xURHO_g/s1600/top.png)](#)\n",
       "\n",
       "[![Web Analytics](//c.statcounter.com/6965302/0/3aae7a20/1/)](https://statcounter.com/ \"Web Analytics\")\n",
       "\n",
       "================================================================================\n",
       "\n",
       "Content from https://www.imdb.com/title/tt0096895/locations/:\n",
       "Error fetching the webpage: 403 Client Error: Forbidden for url: https://www.imdb.com/title/tt0096895/locations/\n",
       "\n",
       "================================================================================\n",
       "\n",
       "Content from https://www.travelandleisureasia.com/global/destinations/batman-movie-locations-you-can-visit/:\n",
       "Error fetching the webpage: 403 Client Error: Forbidden for url: \n",
       "https://www.travelandleisureasia.com/global/destinations/batman-movie-locations-you-can-visit/\n",
       "\n",
       "================================================================================\n",
       "\n",
       "Content from https://www.travelchannel.com/interests/arts-and-culture/photos/see-batman-movie-locations:\n",
       "Dark Knight Rises Tour: See Batman Movie Locations | Travel Channel\n",
       "\n",
       "* [Schedule](//www.travelchannel.com/shows/tv-schedule)\n",
       "* [Mobile Apps](//www.travelchannel.com/mobile)\n",
       "* [Watch \n",
       "Live](https://watch.travelchannel.com/watch/travel?utm_source=marketingsite&amp;utm_medium=tve_tc_homepage_toptext)\n",
       "* [Stream on discovery+](https://www.discoveryplus.com/?xp=trvl_supernav_launch)\n",
       "\n",
       "* [Shows](//www.travelchannel.com/shows)\n",
       "\n",
       "  + [Main](//www.travelchannel.com/shows)\n",
       "  + [Program Guide](//www.travelchannel.com/shows/tv-schedule)\n",
       "  + [Watch Live](https://watch.travelchannel.com/watch/travel?utm_source=marketingsite&amp;utm_campaign=showsflyout)\n",
       "\n",
       "  ###### [Shows](//www.travelchannel.com/shows)\n",
       "\n",
       "  + [Ghost Adventures](//www.travelchannel.com/shows/ghost-adventures)\n",
       "  + [Ghost Hunters](//www.travelchannel.com/shows/ghost-hunters-2021)\n",
       "  + [Ghost Brothers](//www.travelchannel.com/shows/ghost-brothers)\n",
       "  + [Conjuring Kesha](//www.travelchannel.com/shows/conjuring-kesha)\n",
       "  + [The Dead Files](//www.travelchannel.com/shows/the-dead-files)\n",
       "  + [Destination Fear](//www.travelchannel.com/shows/destination-fear-2019)\n",
       "  + [Eli Roth Presents: A Ghost Ruined My \n",
       "Life](//www.travelchannel.com/shows/eli-roth-presents-a-ghost-ruined-my-life)\n",
       "  + [Expedition Bigfoot](//www.travelchannel.com/shows/expedition-bigfoot)\n",
       "  + [Ghost Nation](//www.travelchannel.com/shows/ghost-nation)\n",
       "  + [The Holzer Files](//www.travelchannel.com/shows/holzer-files)\n",
       "  + [Kindred Spirits](//www.travelchannel.com/shows/kindred-spirits)\n",
       "  + [Mountain Monsters](//www.travelchannel.com/shows/mountain-monsters)\n",
       "  + [Paranormal Caught on Camera](//www.travelchannel.com/shows/paranormal-caught-on-camera)\n",
       "  + [Portals to Hell](//www.travelchannel.com/shows/portals-to-hell)\n",
       "\n",
       "  ###### [Hosts](//www.travelchannel.com/profiles/talent)\n",
       "\n",
       "  + [Amy Allan](//www.travelchannel.com/profiles/talent/amy-allan)\n",
       "  + [Amy Bruni and Adam Berry](//www.travelchannel.com/profiles/talent/amy-bruni-and-adam-berry)\n",
       "  + [Destination Fear Team](//www.travelchannel.com/profiles/talent/destination-fear)\n",
       "  + [Don Wildman](//www.travelchannel.com/profiles/talent/don-wildman)\n",
       "  + [Ghost Adventures Crew](//www.travelchannel.com/profiles/talent/ghost-adventures-crew)\n",
       "  + [Ghost Nation](//www.travelchannel.com/profiles/talent/ghost-nation)\n",
       "  + [The Holzer Files Team](//www.travelchannel.com/profiles/talent/holzer-files-team)\n",
       "  + [Jack Osbourne and Katrina Weidman](//www.travelchannel.com/profiles/talent/jack-osbourne-and-katrina-weidman)\n",
       "  + [Steve Dischiavi](//www.travelchannel.com/profiles/talent/steve-dischiavi)\n",
       "\n",
       "  ###### Trending\n",
       "\n",
       "  + [Haunted](//www.travelchannel.com/interests/haunted)\n",
       "  + [Ghost Adventures](//www.travelchannel.com/shows/ghost-adventures)\n",
       "  + [Ghost Nation](//www.travelchannel.com/shows/ghost-nation)\n",
       "  + [Shows](//www.travelchannel.com/shows)\n",
       "* [Video](//www.travelchannel.com/shows/video)\n",
       "\n",
       "  + [All Videos](//www.travelchannel.com/shows/video)\n",
       "  + [Watch Live TV](https://watch.travelchannel.com/watch/travel?utm_source=marketingsite&amp;utm_campaign=videoflyout)\n",
       "\n",
       "  ###### [Top Videos](//www.travelchannel.com/shows/video)\n",
       "\n",
       "  + [Tips for Solo Travelers](//www.travelchannel.com/videos/tips-for-solo-travelers-0254277)\n",
       "  + [4 Gorgeous Waterfalls](//www.travelchannel.com/videos/4-gorgeous-cascading-waterfalls-0251453)\n",
       "  + [5 Extreme Swings](//www.travelchannel.com/videos/5-extreme-swings-0255079)\n",
       "  + [World's 10 Best Swimming Holes](//www.travelchannel.com/videos/worlds-10-best-swimming-holes-0264672)\n",
       "  + [Best BBQ in America](//www.travelchannel.com/videos/best-bbq-in-america-0255\n",
       "..._This content has been truncated to stay below 50000 characters_...\n",
       "faked, with the Capitol buildings being added digitally. So the bridge, alongside which Lois Lane meets the \n",
       "Secretary, is not one of the Potomac crossings, but the MacArthur Bridge, linking the city to Belle Isle in the \n",
       "Detroit River. The disused zoo on Belle Isle supplied another location for [Real Steel](../r/Real-Steel.php).\n",
       "\n",
       "To lure Batman into a showdown, Martha Wayne ([Diane Lane](../../people/l/laned.php)) is abducted from outside \n",
       "‘Ralli’s’, the little diner where she works. This is Hygrade Deli, 3640 Michigan Avenue, Southwest Detroit.\n",
       "\n",
       "![Batman v Superman: Dawn Of Justice filming location: Michigan Central Station, Michigan Avenue, \n",
       "Detroit](Batman-V-Superman-Michigan-Central-Station.jpg)\n",
       "\n",
       "Batman v Superman: Dawn Of Justice location: the greatest gladiator match in the history of the world: Michigan \n",
       "Central Station, Michigan Avenue, Detroit | Photograph: [Wikimedia / Albert \n",
       "Duce](https://commons.wikimedia.org/wiki/File:Michigan_Central_Train_Station_Exterior_2009.jpg)\n",
       "\n",
       "The scene is set for \"The greatest gladiator match in the history of the world.\" The Kryptonite-assisted punch up \n",
       "takes place in the disused Michigan Central Station, 2198 Michigan Avenue, the grand old rail terminal just west of\n",
       "downtown Detroit.\n",
       "\n",
       "Built in 1913, the once beautiful building was abandoned and vandalised over the years. The good news is that it \n",
       "was bought by Ford in 2018 and is currently being renovated.\n",
       "\n",
       "It's seen its share of action, though, with [Michael Bay](../../people/b/baym.php) having filmed part of \n",
       "[Transformers](../t/Transformers.php), [Transformers: Dark of the Moon](../t/Transformers-Dark-Of-The-Moon.php) and\n",
       "The Island here.\n",
       "\n",
       "---\n",
       "\n",
       "• Many thanks to Allegra Chisholm for help with this section.\n",
       "\n",
       "[* ![film locations banner](../../images/bar-hub-1.jpg)\n",
       "* ![film locations banner](../../images/bar-hub-2.jpg)\n",
       "* ![film locations banner](../../images/bar-hub-3.jpg)\n",
       "* ![film locations banner](../../images/bar-hub-4.jpg)\n",
       "* ![film locations banner](../../images/bar-hub-5.jpg)](../../index.php)\n",
       "\n",
       "---\n",
       "\n",
       "Visit The Film Locations\n",
       "========================\n",
       "\n",
       "Michigan | Detroit\n",
       "------------------\n",
       "\n",
       "---\n",
       "\n",
       "Visit: [Michigan](http://www.michigan.org/)\n",
       "\n",
       "Visit: [Detroit](http://visitdetroit.com)\n",
       "\n",
       "Flights: [Detroit Metropolitan Wayne County Airport (DTW)](https://www.detroit-metro-airport.com/), Detroit, MI \n",
       "48242 (tel: 734.247.7678)\n",
       "\n",
       "Visit: the [Ransom Gillis House](http://historicdetroit.org/building/ransom-gillis-house/), 205 Alfred Street, \n",
       "Detroit, MI 48201\n",
       "\n",
       "Visit: the [Masonic Temple](http://www.themasonic.com/), 500 Temple Street, Detroit, MI 48201\n",
       "\n",
       "Visit: the [Eli and Edythe Broad Art Museum](https://broadmuseum.msu.edu/), 547 East Circle Drive, East Lansing, \n",
       "East Lansing, MI 48824 (tel: 517.884.4800)\n",
       "\n",
       "---\n",
       "\n",
       "Visit: [Orion Oaks County Park](http://www.michigan.org/property/orion-oaks-county-park), 2301 Clarkston Road, \n",
       "Orion Charter Township, MI 48360 (tel: 248.858.0906)\n",
       "\n",
       "Illinois | Chicago\n",
       "------------------\n",
       "\n",
       "---\n",
       "\n",
       "Visit: [Chicago](http://www.chooseChicago.com)\n",
       "\n",
       "Flights: [O’Hare International Airport](http://www.flyChicago.com/ohare/), 10000 West O'Hare Ave, Chicago, IL 60666\n",
       "(tel: 800.832.6352)\n",
       "\n",
       "Travel around: [Chicago Transit Authority](http://www.transitChicago.com)\n",
       "\n",
       "Visit: the [Aragon Ballroom](http://www.aragon.com), 1106 West Lawrence Avenue, Chicago, IL 60640 (tel: \n",
       "773.561.9500)\n",
       "\n",
       "California | Los Angeles\n",
       "------------------------\n",
       "\n",
       "---\n",
       "\n",
       "Visit: [Los Angeles](http://www.discoverlosangeles.com)\n",
       "\n",
       "Flights: [Los Angeles International Airport (LAX)](http://www.lawa.org/), 1 World Way, Los Angeles, CA 90045 (tel: \n",
       "424.646.5252)\n",
       "\n",
       "Travelling around: [Los Angeles Metro](http://www.metro.net)\n",
       "\n",
       "Visit: [Weingart Stadium](http://www.lasports.org/lafacilities/display.php?s=Stadium&amp;id=17), East Los Angeles \n",
       "College, 1301 Avenida Cesar Chavez, Monterey Park, CA 91754 (tel: 323.265.8650)\n",
       "\n",
       "New Mexico\n",
       "----------\n",
       "\n",
       "---\n",
       "\n",
       "Visit: [New Mexico](http://www.newmexico.org)\n",
       "\n",
       "![Quantcast](//pixel.quantserve.com/pixel/p-Gk6yfNKKx53Zc.gif)\n",
       "\n",
       "[![123Stat hit counter](https://server2.123stat.com/6/1/7346.gif)](https://www.123stat.com)\n",
       "\n",
       "---\n",
       "\n",
       "* [Home](../../index.php)\n",
       "* [Films](../../movies.php)\n",
       "* [Places](../../places.php)\n",
       "* [People](../../people.php)\n",
       "* [Travel](../../travel.php)\n",
       "* [Features](../../features.php)\n",
       "* [Links](../../links.php)\n",
       "* [Contact](mailto:info@movie-locations.com)\n",
       "\n",
       "Please send any corrections or additions to [info@movie-locations.com](mailto:info@movie-locations.com). All \n",
       "material Copyright © 2025 The Worldwide Guide To Movie Locations\n",
       "\n",
       "================================================================================\n",
       "\n",
       "Content from https://en.wikipedia.org/wiki/The_Batman_(film):\n",
       "The Batman (film) - Wikipedia\n",
       "\n",
       "[Jump to content](#bodyContent)\n",
       "\n",
       "Main menu\n",
       "\n",
       "Main menu\n",
       "\n",
       "move to sidebar\n",
       "hide\n",
       "\n",
       "Navigation\n",
       "\n",
       "* [Main page](/wiki/Main_Page \"Visit the main page [z]\")\n",
       "* [Contents](/wiki/Wikipedia:Contents \"Guides to browsing Wikipedia\")\n",
       "* [Current events](/wiki/Portal:Current_events \"Articles related to current events\")\n",
       "* [Random article](/wiki/Special:Random \"Visit a randomly selected article [x]\")\n",
       "* [About Wikipedia](/wiki/Wikipedia:About \"Learn about Wikipedia and how it works\")\n",
       "* [Contact us](//en.wikipedia.org/wiki/Wikipedia:Contact_us \"How to contact Wikipedia\")\n",
       "\n",
       "Contribute\n",
       "\n",
       "* [Help](/wiki/Help:Contents \"Guidance on how to use and edit Wikipedia\")\n",
       "* [Learn to edit](/wiki/Help:Introduction \"Learn how to edit Wikipedia\")\n",
       "* [Community portal](/wiki/Wikipedia:Community_portal \"The hub for editors\")\n",
       "* [Recent changes](/wiki/Special:RecentChanges \"A list of recent changes to Wikipedia [r]\")\n",
       "* [Upload file](/wiki/Wikipedia:File_upload_wizard \"Add images or other media for use on Wikipedia\")\n",
       "* [Special pages](/wiki/Special:SpecialPages)\n",
       "\n",
       "[![](/static/images/icons/wikipedia.png)\n",
       "\n",
       "![Wikipedia](/static/images/mobile/copyright/wikipedia-wordmark-en.svg)\n",
       "![The Free Encyclopedia](/static/images/mobile/copyright/wikipedia-tagline-en.svg)](/wiki/Main_Page)\n",
       "\n",
       "[Search](/wiki/Special:Search \"Search Wikipedia [f]\")\n",
       "\n",
       "Search\n",
       "\n",
       "Appearance\n",
       "\n",
       "* \n",
       "[Donate](https://donate.wikimedia.org/?wmf_source=donate&amp;wmf_medium=sidebar&amp;wmf_campaign=en.wikipedia.org&amp;uselang=e\n",
       "n)\n",
       "* [Create account](/w/index.php?title=Special:CreateAccount&amp;returnto=The+Batman+%28film%29 \"You are encouraged to \n",
       "create an account and log in; however, it is not mandatory\")\n",
       "* [Log in](/w/index.php?title=Special:UserLogin&amp;returnto=The+Batman+%28film%29 \"You're encouraged to log in; \n",
       "however, it's not mandatory. [o]\")\n",
       "\n",
       "Personal tools\n",
       "\n",
       "* \n",
       "[Donate](https://donate.wikimedia.org/?wmf_source=donate&amp;wmf_medium=sidebar&amp;wmf_campaign=en.wikipedia.org&amp;uselang=e\n",
       "n)\n",
       "* [Create account](/w/index.php?title=Special:CreateAccount&amp;returnto=The+Batman+%28film%29 \"You are encouraged to \n",
       "create an account and log in; however, it is not mandatory\")\n",
       "* [Log in](/w/index.php?title=Special:UserLogin&amp;returnto=The+Batman+%28film%29 \"You're encouraged to log in; \n",
       "however, it's not mandatory. [o]\")\n",
       "\n",
       "Pages for logged out editors [learn more](/wiki/Help:Introduction)\n",
       "\n",
       "* [Contributions](/wiki/Special:MyContributions \"A list of edits made from this IP address [y]\")\n",
       "* [Talk](/wiki/Special:MyTalk \"Discussion about edits from this IP address [n]\")\n",
       "\n",
       "Contents\n",
       "--------\n",
       "\n",
       "move to sidebar\n",
       "hide\n",
       "\n",
       "* [(Top)](#)\n",
       "* [1\n",
       "  Plot](#Plot)\n",
       "* [2\n",
       "  Cast](#Cast)\n",
       "* [3\n",
       "  Production](#Production)\n",
       "\n",
       "  Toggle Production subsection\n",
       "  + [3.1\n",
       "    Development](#Development)\n",
       "    - [3.1.1\n",
       "      Early work and initial plans from Ben Affleck](#Early_work_and_initial_plans_from_Ben_Affleck)\n",
       "    - [3.1.2\n",
       "      Redevelopment under Matt Reeves](#Redevelopment_under_Matt_Reeves)\n",
       "  + [3.2\n",
       "    Writing](#Writing)\n",
       "  + [3.3\n",
       "    Casting](#Casting)\n",
       "  + [3.4\n",
       "    Design](#Design)\n",
       "    - [3.4.1\n",
       "      Sets and props](#Sets_and_props)\n",
       "    - [3.4.2\n",
       "      Batsuit](#Batsuit)\n",
       "    - [3.4.3\n",
       "      Other costumes](#Other_costumes)\n",
       "  + [3.5\n",
       "    Filming](#Filming)\n",
       "    - [3.5.1\n",
       "      Impact of the COVID-19 pandemic](#Impact_of_the_COVID-19_pandemic)\n",
       "  + [3.6\n",
       "    Editing](#Editing)\n",
       "  + [3.7\n",
       "    Visual effects](#Visual_effects)\n",
       "  + [3.8\n",
       "    Music](#Music)\n",
       "* [4\n",
       "  Marketing](#Marketing)\n",
       "* [5\n",
       "  Release](#Release)\n",
       "\n",
       "  Toggle Release subsection\n",
       "  + [5.1\n",
       "    Theatrical](#Theatrical)\n",
       "  + [5.2\n",
       "    Home media](#Home_media)\n",
       "* [6\n",
       "  Reception](#Reception)\n",
       "\n",
       "  Toggle Reception subsection\n",
       "  + [6.1\n",
       "    Box office](#Box_office)\n",
       "  + [6.2\n",
       "    Critical response](#Critical_response)\n",
       "  + [6.3\n",
       "    Accolades](#Accolades)\n",
       "* [7\n",
       "  Thematic analysis](#Thematic_analysis)\n",
       "\n",
       "  Toggle Thematic analysis subsection\n",
       "  + [7.1\n",
       "    Class conflict and inequality](#Class_conflict_and_inequality)\n",
       "  + [7.2\n",
       "    Depiction of Batman](#Depiction_of_Batman)\n",
       "* [8\n",
       "  Future](#Future)\n",
       "\n",
       "  Toggle Future subsection\n",
       "  + [8.1\n",
       "    *The Riddler: Year One* (2022–2023)](#The_Riddler:_Year_One_(2022–2023))\n",
       "  + [8.2\n",
       "    *The Penguin* (2024)](#The_Penguin_(2024))\n",
       "  + [8.3\n",
       "    Sequel (2027)](#Sequel_(2027))\n",
       "  + [8.4\n",
       "    Unproduced series](#Unproduced_series)\n",
       "* [9\n",
       "  Notes](#Notes)\n",
       "* [10\n",
       "  References](#References)\n",
       "\n",
       "  Toggle References subsection\n",
       "  + [10.1\n",
       "    Citations](#Citations)\n",
       "  + [10.2\n",
       "    Works cited](#Works_cited)\n",
       "* [11\n",
       "  External links](#External_links)\n",
       "\n",
       "Toggle the table of contents\n",
       "\n",
       "*The Batman* (film)\n",
       "===================\n",
       "\n",
       "51 languages\n",
       "\n",
       "* \n",
       "[العربية](https://ar.wikipedia.org/wiki/%D8%B0%D8%A7_%D8%A8%D8%A7%D8%AA%D9%85%D8%A7%D9%86_(%D9%81%D9%8A%D9%84%D9%85\n",
       ") \"ذا باتمان (فيلم) – Arabic\")\n",
       "* [Azərbaycanca](https://az.wikipedia.org/wiki/Betmen_(film,_2022) \"Betmen (film, 2022) – Azerbaijani\")\n",
       "* \n",
       "[বাংলা](https://bn.wikipedia.org/wiki/%E0%A6%A6%E0%A7%8D%E0%A6%AF_%E0%A6%AC%E0%A7%8D%E0%A6%AF%E0%A6%BE%E0%A6%9F%E0%A6%\n",
       "AE%E0%A7%8D%E0%A6%AF%E0%A6%BE%E0%A6%A8 \"দ্য ব্যাটম্যান – Bangla\")\n",
       "* [Беларуская](https://be.wikipedia.org/wiki/%D0%91%D1%8D%D1%\n",
       "..._This content has been truncated to stay below 10000 characters_...\n",
       "tegory:Live-action_films_based_on_DC_Comics \"Category:Live-action films based on DC Comics\")\n",
       "* [Penguin (character) in other media](/wiki/Category:Penguin_(character)_in_other_media \"Category:Penguin \n",
       "(character) in other media\")\n",
       "* [Productions using StageCraft](/wiki/Category:Productions_using_StageCraft \"Category:Productions using \n",
       "StageCraft\")\n",
       "* [Reboot films](/wiki/Category:Reboot_films \"Category:Reboot films\")\n",
       "* [Saturn Award–winning films](/wiki/Category:Saturn_Award%E2%80%93winning_films \"Category:Saturn Award–winning \n",
       "films\")\n",
       "* [ScreenX films](/wiki/Category:ScreenX_films \"Category:ScreenX films\")\n",
       "* [Warner Bros. films](/wiki/Category:Warner_Bros._films \"Category:Warner Bros. films\")\n",
       "\n",
       "Hidden categories:\n",
       "\n",
       "* [The Numbers ID different from Wikidata](/wiki/Category:The_Numbers_ID_different_from_Wikidata \"Category:The \n",
       "Numbers ID different from Wikidata\")\n",
       "* [IMDb ID (Cite Mojo) different from Wikidata](/wiki/Category:IMDb_ID_(Cite_Mojo)_different_from_Wikidata \n",
       "\"Category:IMDb ID (Cite Mojo) different from Wikidata\")\n",
       "* [CS1 French-language sources (fr)](/wiki/Category:CS1_French-language_sources_(fr) \"Category:CS1 French-language \n",
       "sources (fr)\")\n",
       "* [CS1 Spanish-language sources (es)](/wiki/Category:CS1_Spanish-language_sources_(es) \"Category:CS1 \n",
       "Spanish-language sources (es)\")\n",
       "* [Articles with short description](/wiki/Category:Articles_with_short_description \"Category:Articles with short \n",
       "description\")\n",
       "* [Short description matches Wikidata](/wiki/Category:Short_description_matches_Wikidata \"Category:Short \n",
       "description matches Wikidata\")\n",
       "* [Wikipedia indefinitely semi-protected pages](/wiki/Category:Wikipedia_indefinitely_semi-protected_pages \n",
       "\"Category:Wikipedia indefinitely semi-protected pages\")\n",
       "* [Use American English from April 2024](/wiki/Category:Use_American_English_from_April_2024 \"Category:Use American\n",
       "English from April 2024\")\n",
       "* [All Wikipedia articles written in American \n",
       "English](/wiki/Category:All_Wikipedia_articles_written_in_American_English \"Category:All Wikipedia articles written\n",
       "in American English\")\n",
       "* [Use list-defined references from April 2024](/wiki/Category:Use_list-defined_references_from_April_2024 \n",
       "\"Category:Use list-defined references from April 2024\")\n",
       "* [Use mdy dates from April 2024](/wiki/Category:Use_mdy_dates_from_April_2024 \"Category:Use mdy dates from April \n",
       "2024\")\n",
       "* [Template film date with 2 release dates](/wiki/Category:Template_film_date_with_2_release_dates \n",
       "\"Category:Template film date with 2 release dates\")\n",
       "* [Pages using multiple image with auto scaled \n",
       "images](/wiki/Category:Pages_using_multiple_image_with_auto_scaled_images \"Category:Pages using multiple image with\n",
       "auto scaled images\")\n",
       "* [Pages using Sister project links with hidden \n",
       "wikidata](/wiki/Category:Pages_using_Sister_project_links_with_hidden_wikidata \"Category:Pages using Sister project\n",
       "links with hidden wikidata\")\n",
       "* [Webarchive template wayback links](/wiki/Category:Webarchive_template_wayback_links \"Category:Webarchive \n",
       "template wayback links\")\n",
       "* [Pages containing links to subscription-only \n",
       "content](/wiki/Category:Pages_containing_links_to_subscription-only_content \"Category:Pages containing links to \n",
       "subscription-only content\")\n",
       "\n",
       "* This page was last edited on 3 March 2025, at 16:48 (UTC).\n",
       "* Text is available under the [Creative Commons Attribution-ShareAlike 4.0 \n",
       "License](/wiki/Wikipedia:Text_of_the_Creative_Commons_Attribution-ShareAlike_4.0_International_License \n",
       "\"Wikipedia:Text of the Creative Commons Attribution-ShareAlike 4.0 International License\");\n",
       "  additional terms may apply. By using this site, you agree to the [Terms of \n",
       "Use](https://foundation.wikimedia.org/wiki/Special:MyLanguage/Policy:Terms_of_Use \n",
       "\"foundation:Special:MyLanguage/Policy:Terms of Use\") and [Privacy \n",
       "Policy](https://foundation.wikimedia.org/wiki/Special:MyLanguage/Policy:Privacy_policy \n",
       "\"foundation:Special:MyLanguage/Policy:Privacy policy\"). Wikipedia® is a registered trademark of the [Wikimedia \n",
       "Foundation, Inc.](https://wikimediafoundation.org/), a non-profit organization.\n",
       "\n",
       "* [Privacy policy](https://foundation.wikimedia.org/wiki/Special:MyLanguage/Policy:Privacy_policy)\n",
       "* [About Wikipedia](/wiki/Wikipedia:About)\n",
       "* [Disclaimers](/wiki/Wikipedia:General_disclaimer)\n",
       "* [Contact Wikipedia](//en.wikipedia.org/wiki/Wikipedia:Contact_us)\n",
       "* [Code of Conduct](https://foundation.wikimedia.org/wiki/Special:MyLanguage/Policy:Universal_Code_of_Conduct)\n",
       "* [Developers](https://developer.wikimedia.org)\n",
       "* [Statistics](https://stats.wikimedia.org/#/en.wikipedia.org)\n",
       "* [Cookie statement](https://foundation.wikimedia.org/wiki/Special:MyLanguage/Policy:Cookie_statement)\n",
       "* [Mobile view](//en.m.wikipedia.org/w/index.php?title=The_Batman_(film)&amp;mobileaction=toggle_view_mobile)\n",
       "\n",
       "* [![Wikimedia Foundation](/static/images/footer/wikimedia.svg)](https://wikimediafoundation.org/)\n",
       "* [![Powered by MediaWiki](/w/resources/assets/mediawiki_compact.svg)](https://www.mediawiki.org/)\n",
       "\n",
       "Search\n",
       "\n",
       "Search\n",
       "\n",
       "Toggle the table of contents\n",
       "\n",
       "*The Batman* (film)\n",
       "\n",
       "51 languages\n",
       "[Add topic](#)\n",
       "\n",
       "================================================================================\n",
       "\n",
       "Content from https://batman.fandom.com/wiki/Category:Film_Locations:\n",
       "Category:Film Locations | Batman Wiki | Fandom\n",
       "\n",
       "[Start a Wiki](//createnewwiki-143.fandom.com/Special:CreateNewWiki)\n",
       "\n",
       "[Sign \n",
       "In](https://auth.fandom.com/signin?source=mw&amp;redirect=https%3A%2F%2Fbatman.fandom.com%2Fwiki%2FCategory%3AFilm_Loca\n",
       "tions)\n",
       "\n",
       "Don't have an account?\n",
       "\n",
       "[Register](https://auth.fandom.com/register?source=mw&amp;redirect=https%3A%2F%2Fbatman.fandom.com%2Fwiki%2FCategory%3A\n",
       "Film_Locations) \n",
       "\n",
       "---\n",
       "\n",
       "[Sign \n",
       "In](https://auth.fandom.com/signin?source=mw&amp;redirect=https%3A%2F%2Fbatman.fandom.com%2Fwiki%2FCategory%3AFilm_Loca\n",
       "tions)\n",
       "\n",
       "[![Batman \n",
       "Wiki](https://static.wikia.nocookie.net/batman/images/e/e6/Site-logo.png/revision/latest?cb=20231031220208)](https:\n",
       "//batman.fandom.com)\n",
       "[Batman Wiki](https://batman.fandom.com)\n",
       "\n",
       "* [Explore](#)\n",
       "\n",
       "  + [Main Page](https://batman.fandom.com/wiki/Batman_Wiki)\n",
       "  + [Discuss](/f)\n",
       "  + [All Pages](https://batman.fandom.com/wiki/Special:AllPages)\n",
       "  + [Community](https://batman.fandom.com/wiki/Special:Community)\n",
       "  + [Interactive Maps](https://batman.fandom.com/wiki/Special:AllMaps)\n",
       "  + [Recent Blog Posts](/Blog:Recent_posts)\n",
       "* [Characters](https://batman.fandom.com/wiki/Category:Characters)\n",
       "\n",
       "  + [Batman](https://batman.fandom.com/wiki/Batman_(Disambiguation)) \n",
       "\n",
       "    - [Bruce Wayne](https://batman.fandom.com/wiki/Batman)\n",
       "    - [Jace Fox](https://batman.fandom.com/wiki/Jace_Fox)\n",
       "    - [Terry McGinnis](https://batman.fandom.com/wiki/Terry_McGinnis)\n",
       "  + [Batman Family](https://batman.fandom.com/wiki/Batman_Family) \n",
       "\n",
       "    - [Dick Grayson](https://batman.fandom.com/wiki/Dick_Grayson)\n",
       "    - [Barbara Gordon](https://batman.fandom.com/wiki/Barbara_Gordon)\n",
       "    - [Tim Drake](https://batman.fandom.com/wiki/Tim_Drake)\n",
       "    - [Cassandra Cain](https://batman.fandom.com/wiki/Cassandra_Cain)\n",
       "    - [Stephanie Brown](https://batman.fandom.com/wiki/Stephanie_Brown)\n",
       "    - [Damian Wayne](https://batman.fandom.com/wiki/Damian_Wayne)\n",
       "    - [Kate Kane](https://batman.fandom.com/wiki/Batwoman_(Kate_Kane))\n",
       "    - [Duke Thomas](https://batman.fandom.com/wiki/Duke_Thomas)\n",
       "  + [Supporting](https://batman.fandom.com/wiki/Supporting) \n",
       "\n",
       "    - [Alfred Pennyworth](https://batman.fandom.com/wiki/Alfred_Pennyworth)\n",
       "    - [James Gordon](https://batman.fandom.com/wiki/James_Gordon)\n",
       "    - [Lucius Fox](https://batman.fandom.com/wiki/Lucius_Fox)\n",
       "    - [Harvey Bullock](https://batman.fandom.com/wiki/Harvey_Bullock)\n",
       "    - [Renee Montoya](https://batman.fandom.com/wiki/Renee_Montoya)\n",
       "    - [Vicki Vale](https://batman.fandom.com/wiki/Vicki_Vale)\n",
       "  + [Anti-Heroes](https://batman.fandom.com/wiki/Category:Anti-Heroes) \n",
       "\n",
       "    - [Catwoman](https://batman.fandom.com/wiki/Catwoman)\n",
       "    - [Bat-Mite](https://batman.fandom.com/wiki/Bat-Mite)\n",
       "    - [Talia al Ghul](https://batman.fandom.com/wiki/Talia_al_Ghul)\n",
       "    - [Jean-Paul Valley](https://batman.fandom.com/wiki/Azrael_(Jean-Paul_Valley))\n",
       "    - [Jason Todd](https://batman.fandom.com/wiki/Jason_Todd)\n",
       "    - [Harley Quinn](https://batman.fandom.com/wiki/Harley_Quinn)\n",
       "  + [Villains](https://batman.fandom.com/wiki/Category:Villains) \n",
       "\n",
       "    - [The Joker](https://batman.fandom.com/wiki/The_Joker)\n",
       "    - [Two-Face](https://batman.fandom.com/wiki/Two-Face)\n",
       "    - [Scarecrow](https://batman.fandom.com/wiki/Scarecrow)\n",
       "    - [Poison Ivy](https://batman.fandom.com/wiki/Poison_Ivy)\n",
       "    - [Ra's al Ghul](https://batman.fandom.com/wiki/Ra%27s_al_Ghul)\n",
       "    - [Mr. Freeze](https://batman.fandom.com/wiki/Mr._Freeze)\n",
       "    - [The Penguin](https://batman.fandom.com/wiki/The_Penguin)\n",
       "    - [Clayface](https://batman.fandom.com/wiki/Clayface)\n",
       "    - [The Riddler](https://batman.fandom.com/wiki/The_Riddler)\n",
       "    - [Bane](https://batman.fandom.com/wiki/Bane)\n",
       "  + [Teams](https://batman.fandom.com/wiki/Category:Teams) \n",
       "\n",
       "    - [Batman Family](https://batman.fandom.com/wiki/Batman_Family)\n",
       "    - [Gotham Police](https://batman.fandom.com/wiki/Gotham_City_Police_Department)\n",
       "    - [Outsiders](https://batman.fandom.com/wiki/The_Outsiders)\n",
       "    - [Batman Incorporated](https://batman.fandom.com/wiki/Batman_Incorporated)\n",
       "* [Comics](https://batman.fandom.com/wiki/Category:Comic_Books)\n",
       "\n",
       "  + [Batman](#) \n",
       "\n",
       "    - [Batman (2016-pres)](https://batman.fandom.com/wiki/Batman_(Volume_3))\n",
       "    - [Detective Comics](https://batman.fandom.com/wiki/Detective_Comics_(Volume_1))\n",
       "    - [World's Finest](https://batman.fandom.com/wiki/Batman_Superman:_The_World%27s_Finest)\n",
       "    - [Urban Legends](https://batman.fandom.com/wiki/Batman:_Urban_Legends)\n",
       "    - [I Am Batman](https://batman.fandom.com/wiki/I_Am_Batman_(Volume_1))\n",
       "  + [Supporting](#) \n",
       "\n",
       "    - [Catwoman](https://batman.fandom.com/wiki/Catwoman_(Volume_5))\n",
       "    - [Tim Drake: Robin](https://batman.fandom.com/wiki/Tim_Drake:_Robin_(Volume_1))\n",
       "    - [Batgirls](https://batman.fandom.com/wiki/Batgirls_(Volume_1))\n",
       "    - [Nightwing](https://batman.fandom.com/wiki/Nightwing_(Volume_4))\n",
       "    - [Batman Incorporated](https://batman.fandom.com/wiki/Batman_Incorporated_(Volume_3))\n",
       "    - [GCPD: The Blue Wall](https://batman.fandom.com/wiki/GCPD:_The_Blue_Wall)\n",
       "  + [Villain Focused](#) \n",
       "\n",
       "    - [Joker: Man Who Stopped Laug\n",
       "..._This content has been truncated to stay below 10000 characters_...\n",
       "[![Vicki Vale's \n",
       "apartment](https://static.wikia.nocookie.net/batman/images/f/fd/Vicki_Vale%27s_apartment.webp/revision/latest/smart\n",
       "/width/40/height/30?cb=20230401201639)\n",
       "  ![Vicki Vale's \n",
       "apartment](https://static.wikia.nocookie.net/batman/images/f/fd/Vicki_Vale%27s_apartment.webp/revision/latest/smart\n",
       "/width/40/height/30?cb=20230401201639)](/wiki/Vicki_Vale%27s_apartment \"Vicki Vale's apartment\")\n",
       "\n",
       "  [Vicki Vale's apartment](/wiki/Vicki_Vale%27s_apartment \"Vicki Vale's apartment\")\n",
       "\n",
       "W\n",
       "\n",
       "* [![Wayne Enterprises \n",
       "(Schumacherverse)](https://static.wikia.nocookie.net/batman/images/2/26/WayneEnterprisesBatmanForever.png/revision/\n",
       "latest/smart/width/40/height/30?cb=20170605062640)\n",
       "  ![Wayne Enterprises \n",
       "(Schumacherverse)](https://static.wikia.nocookie.net/batman/images/2/26/WayneEnterprisesBatmanForever.png/revision/\n",
       "latest/smart/width/40/height/30?cb=20170605062640)](/wiki/Wayne_Enterprises_(Schumacherverse) \"Wayne Enterprises \n",
       "(Schumacherverse)\")\n",
       "\n",
       "  [Wayne Enterprises (Schumacherverse)](/wiki/Wayne_Enterprises_(Schumacherverse) \"Wayne Enterprises \n",
       "(Schumacherverse)\")\n",
       "* [![Wayne Manor \n",
       "(Burtonverse)](https://static.wikia.nocookie.net/batman/images/9/9c/Batman_181.jpg/revision/latest/smart/width/40/h\n",
       "eight/30?cb=20170602064303)\n",
       "  ![Wayne Manor \n",
       "(Burtonverse)](https://static.wikia.nocookie.net/batman/images/9/9c/Batman_181.jpg/revision/latest/smart/width/40/h\n",
       "eight/30?cb=20170602064303)](/wiki/Wayne_Manor_(Burtonverse) \"Wayne Manor (Burtonverse)\")\n",
       "\n",
       "  [Wayne Manor (Burtonverse)](/wiki/Wayne_Manor_(Burtonverse) \"Wayne Manor (Burtonverse)\")\n",
       "* [![Wayne Manor \n",
       "(Dozierverse)](https://static.wikia.nocookie.net/batman/images/5/57/Wayne_Manor_%281960s_Batman%29.jpg/revision/lat\n",
       "est/smart/width/40/height/30?cb=20221130042318)\n",
       "  ![Wayne Manor \n",
       "(Dozierverse)](https://static.wikia.nocookie.net/batman/images/5/57/Wayne_Manor_%281960s_Batman%29.jpg/revision/lat\n",
       "est/smart/width/40/height/30?cb=20221130042318)](/wiki/Wayne_Manor_(Dozierverse) \"Wayne Manor (Dozierverse)\")\n",
       "\n",
       "  [Wayne Manor (Dozierverse)](/wiki/Wayne_Manor_(Dozierverse) \"Wayne Manor (Dozierverse)\")\n",
       "* [![Wayne Manor \n",
       "(Nolanverse)](https://static.wikia.nocookie.net/batman/images/d/d7/Waynemanor.jpg/revision/latest/smart/width/40/he\n",
       "ight/30?cb=20081016213717)\n",
       "  ![Wayne Manor \n",
       "(Nolanverse)](https://static.wikia.nocookie.net/batman/images/d/d7/Waynemanor.jpg/revision/latest/smart/width/40/he\n",
       "ight/30?cb=20081016213717)](/wiki/Wayne_Manor_(Nolanverse) \"Wayne Manor (Nolanverse)\")\n",
       "\n",
       "  [Wayne Manor (Nolanverse)](/wiki/Wayne_Manor_(Nolanverse) \"Wayne Manor (Nolanverse)\")\n",
       "* [![Wayne Tower \n",
       "(Nolanverse)](https://static.wikia.nocookie.net/batman/images/3/3b/Wayne-enterprises.jpg/revision/latest/smart/widt\n",
       "h/40/height/30?cb=20111022043630)\n",
       "  ![Wayne Tower \n",
       "(Nolanverse)](https://static.wikia.nocookie.net/batman/images/3/3b/Wayne-enterprises.jpg/revision/latest/smart/widt\n",
       "h/40/height/30?cb=20111022043630)](/wiki/Wayne_Tower_(Nolanverse) \"Wayne Tower (Nolanverse)\")\n",
       "\n",
       "  [Wayne Tower (Nolanverse)](/wiki/Wayne_Tower_(Nolanverse) \"Wayne Tower (Nolanverse)\")\n",
       "\n",
       "Y\n",
       "\n",
       "* [Ye Olde Benbow Taverne](/wiki/Ye_Olde_Benbow_Taverne \"Ye Olde Benbow Taverne\")\n",
       "\n",
       "Categories  \n",
       "\n",
       "* [Categories](/wiki/Special:Categories \"Special:Categories\"):\n",
       "* [Film](/wiki/Category:Film \"Category:Film\")\n",
       "* [Locations](/wiki/Category:Locations \"Category:Locations\")\n",
       "\n",
       "Community content is available under [CC-BY-SA](https://www.fandom.com/licensing) unless otherwise noted.\n",
       "\n",
       "More Fandoms\n",
       "\n",
       "* [Horror](https://www.fandom.com/fancentral/horror)\n",
       "* [Sci-fi](https://www.fandom.com/fancentral/sci-fi)\n",
       "* [Batman](https://www.fandom.com/universe/batman)\n",
       "\n",
       "Advertisement\n",
       "\n",
       "[Fandom logo](https://www.fandom.com/ \"Fandom logo\")\n",
       "----------------------------------------------------\n",
       "\n",
       "### Explore properties\n",
       "\n",
       "* [Fandom](https://www.fandom.com/)\n",
       "* [Muthead](https://www.muthead.com/)\n",
       "* [Fanatical](https://www.fanatical.com/)\n",
       "\n",
       "### Follow Us\n",
       "\n",
       "### Overview\n",
       "\n",
       "* [What is Fandom?](https://www.fandom.com/what-is-fandom)\n",
       "* [About](https://www.fandom.com/about)\n",
       "* [Careers](https://www.fandom.com/careers)\n",
       "* [Press](https://www.fandom.com/press)\n",
       "* [Contact](https://www.fandom.com/about#contact)\n",
       "* [Terms of Use](https://www.fandom.com/terms-of-use)\n",
       "* [Privacy Policy](https://www.fandom.com/privacy-policy)\n",
       "* [Digital Services Act](https://www.fandom.com/digital-services-act)\n",
       "* [Global Sitemap](//community.fandom.com/Sitemap)\n",
       "* [Local Sitemap](/wiki/Local_Sitemap)\n",
       "\n",
       "### Community\n",
       "\n",
       "* [Community Central](//community.fandom.com/wiki/Community_Central)\n",
       "* [Support](https://fandom.zendesk.com/)\n",
       "* [Help](//community.fandom.com/wiki/Help:Contents)\n",
       "\n",
       "### Advertise\n",
       "\n",
       "* [Media Kit](https://about.fandom.com/mediakit)\n",
       "* [Contact](https://about.fandom.com/mediakit#contact)\n",
       "\n",
       "### Fandom Apps\n",
       "\n",
       "Take your favorite fandoms with you and never miss a beat.\n",
       "\n",
       "![Fandom App logo](https://static.wikia.nocookie.net/6c42ce6a-b205-41f5-82c6-5011721932e7)\n",
       "\n",
       "Batman Wiki is a FANDOM Comics Community.\n",
       "\n",
       "View Mobile Site\n",
       "\n",
       "[Follow on IG](https://bit.ly/FandomIG)\n",
       "[TikTok](https://bit.ly/TikTokFandom)\n",
       "[Join Fan Lab](https://bit.ly/FanLabWikiBar)\n",
       "\n",
       "================================================================================\n",
       "\n",
       "\n",
       "Out: Category:Film Locations | Batman Wiki | Fandom\n",
       "\n",
       "[Start a Wiki](//createnewwiki-143.fandom.com/Special:CreateNewWiki)\n",
       "\n",
       "[Sign \n",
       "In](https://auth.fandom.com/signin?source=mw&amp;redirect=https%3A%2F%2Fbatman.fandom.com%2Fwiki%2FCategory%3AFilm_Loca\n",
       "tions)\n",
       "\n",
       "Don't have an account?\n",
       "\n",
       "[Register](https://auth.fandom.com/register?source=mw&amp;redirect=https%3A%2F%2Fbatman.fandom.com%2Fwiki%2FCategory%3A\n",
       "Film_Locations) \n",
       "\n",
       "---\n",
       "\n",
       "[Sign \n",
       "In](https://auth.fandom.com/signin?source=mw&amp;redirect=https%3A%2F%2Fbatman.fandom.com%2Fwiki%2FCategory%3AFilm_Loca\n",
       "tions)\n",
       "\n",
       "[![Batman \n",
       "Wiki](https://static.wikia.nocookie.net/batman/images/e/e6/Site-logo.png/revision/latest?cb=20231031220208)](https:\n",
       "//batman.fandom.com)\n",
       "[Batman Wiki](https://batman.fandom.com)\n",
       "\n",
       "* [Explore](#)\n",
       "\n",
       "  + [Main Page](https://batman.fandom.com/wiki/Batman_Wiki)\n",
       "  + [Discuss](/f)\n",
       "  + [All Pages](https://batman.fandom.com/wiki/Special:AllPages)\n",
       "  + [Community](https://batman.fandom.com/wiki/Special:Community)\n",
       "  + [Interactive Maps](https://batman.fandom.com/wiki/Special:AllMaps)\n",
       "  + [Recent Blog Posts](/Blog:Recent_posts)\n",
       "* [Characters](https://batman.fandom.com/wiki/Category:Characters)\n",
       "\n",
       "  + [Batman](https://batman.fandom.com/wiki/Batman_(Disambiguation)) \n",
       "\n",
       "    - [Bruce Wayne](https://batman.fandom.com/wiki/Batman)\n",
       "    - [Jace Fox](https://batman.fandom.com/wiki/Jace_Fox)\n",
       "    - [Terry McGinnis](https://batman.fandom.com/wiki/Terry_McGinnis)\n",
       "  + [Batman Family](https://batman.fandom.com/wiki/Batman_Family) \n",
       "\n",
       "    - [Dick Grayson](https://batman.fandom.com/wiki/Dick_Grayson)\n",
       "    - [Barbara Gordon](https://batman.fandom.com/wiki/Barbara_Gordon)\n",
       "    - [Tim Drake](https://batman.fandom.com/wiki/Tim_Drake)\n",
       "    - [Cassandra Cain](https://batman.fandom.com/wiki/Cassandra_Cain)\n",
       "    - [Stephanie Brown](https://batman.fandom.com/wiki/Stephanie_Brown)\n",
       "    - [Damian Wayne](https://batman.fandom.com/wiki/Damian_Wayne)\n",
       "    - [Kate Kane](https://batman.fandom.com/wiki/Batwoman_(Kate_Kane))\n",
       "    - [Duke Thomas](https://batman.fandom.com/wiki/Duke_Thomas)\n",
       "  + [Supporting](https://batman.fandom.com/wiki/Supporting) \n",
       "\n",
       "    - [Alfred Pennyworth](https://batman.fandom.com/wiki/Alfred_Pennyworth)\n",
       "    - [James Gordon](https://batman.fandom.com/wiki/James_Gordon)\n",
       "    - [Lucius Fox](https://batman.fandom.com/wiki/Lucius_Fox)\n",
       "    - [Harvey Bullock](https://batman.fandom.com/wiki/Harvey_Bullock)\n",
       "    - [Renee Montoya](https://batman.fandom.com/wiki/Renee_Montoya)\n",
       "    - [Vicki Vale](https://batman.fandom.com/wiki/Vicki_Vale)\n",
       "  + [Anti-Heroes](https://batman.fandom.com/wiki/Category:Anti-Heroes) \n",
       "\n",
       "    - [Catwoman](https://batman.fandom.com/wiki/Catwoman)\n",
       "    - [Bat-Mite](https://batman.fandom.com/wiki/Bat-Mite)\n",
       "    - [Talia al Ghul](https://batman.fandom.com/wiki/Talia_al_Ghul)\n",
       "    - [Jean-Paul Valley](https://batman.fandom.com/wiki/Azrael_(Jean-Paul_Valley))\n",
       "    - [Jason Todd](https://batman.fandom.com/wiki/Jason_Todd)\n",
       "    - [Harley Quinn](https://batman.fandom.com/wiki/Harley_Quinn)\n",
       "  + [Villains](https://batman.fandom.com/wiki/Category:Villains) \n",
       "\n",
       "    - [The Joker](https://batman.fandom.com/wiki/The_Joker)\n",
       "    - [Two-Face](https://batman.fandom.com/wiki/Two-Face)\n",
       "    - [Scarecrow](https://batman.fandom.com/wiki/Scarecrow)\n",
       "    - [Poison Ivy](https://batman.fandom.com/wiki/Poison_Ivy)\n",
       "    - [Ra's al Ghul](https://batman.fandom.com/wiki/Ra%27s_al_Ghul)\n",
       "    - [Mr. Freeze](https://batman.fandom.com/wiki/Mr._Freeze)\n",
       "    - [The Penguin](https://batman.fandom.com/wiki/The_Penguin)\n",
       "    - [Clayface](https://batman.fandom.com/wiki/Clayface)\n",
       "    - [The Riddler](https://batman.fandom.com/wiki/The_Riddler)\n",
       "    - [Bane](https://batman.fandom.com/wiki/Bane)\n",
       "  + [Teams](https://batman.fandom.com/wiki/Category:Teams) \n",
       "\n",
       "    - [Batman Family](https://batman.fandom.com/wiki/Batman_Family)\n",
       "    - [Gotham Police](https://batman.fandom.com/wiki/Gotham_City_Police_Department)\n",
       "    - [Outsiders](https://batman.fandom.com/wiki/The_Outsiders)\n",
       "    - [Batman Incorporated](https://batman.fandom.com/wiki/Batman_Incorporated)\n",
       "* [Comics](https://batman.fandom.com/wiki/Category:Comic_Books)\n",
       "\n",
       "  + [Batman](#) \n",
       "\n",
       "    - [Batman (2016-pres)](https://batman.fandom.com/wiki/Batman_(Volume_3))\n",
       "    - [Detective Comics](https://batman.fandom.com/wiki/Detective_Comics_(Volume_1))\n",
       "    - [World's Finest](https://batman.fandom.com/wiki/Batman_Superman:_The_World%27s_Finest)\n",
       "    - [Urban Legends](https://batman.fandom.com/wiki/Batman:_Urban_Legends)\n",
       "    - [I Am Batman](https://batman.fandom.com/wiki/I_Am_Batman_(Volume_1))\n",
       "  + [Supporting](#) \n",
       "\n",
       "    - [Catwoman](https://batman.fandom.com/wiki/Catwoman_(Volume_5))\n",
       "    - [Tim Drake: Robin](https://batman.fandom.com/wiki/Tim_Drake:_Robin_(Volume_1))\n",
       "    - [Batgirls](https://batman.fandom.com/wiki/Batgirls_(Volume_1))\n",
       "    - [Nightwing](https://batman.fandom.com/wiki/Nightwing_(Volume_4))\n",
       "    - [Batman Incorporated](https://batman.fandom.com/wiki/Batman_Incorporated_(Volume_3))\n",
       "    - [GCPD: The Blue Wall](https://batman.fandom.com/wiki/GCPD:_The_Blue_Wall)\n",
       "  + [Villain Focused](#) \n",
       "\n",
       "    - [Joker: Man Who Stopped Laug\n",
       "..._This content has been truncated to stay below 10000 characters_...\n",
       "[![Vicki Vale's \n",
       "apartment](https://static.wikia.nocookie.net/batman/images/f/fd/Vicki_Vale%27s_apartment.webp/revision/latest/smart\n",
       "/width/40/height/30?cb=20230401201639)\n",
       "  ![Vicki Vale's \n",
       "apartment](https://static.wikia.nocookie.net/batman/images/f/fd/Vicki_Vale%27s_apartment.webp/revision/latest/smart\n",
       "/width/40/height/30?cb=20230401201639)](/wiki/Vicki_Vale%27s_apartment \"Vicki Vale's apartment\")\n",
       "\n",
       "  [Vicki Vale's apartment](/wiki/Vicki_Vale%27s_apartment \"Vicki Vale's apartment\")\n",
       "\n",
       "W\n",
       "\n",
       "* [![Wayne Enterprises \n",
       "(Schumacherverse)](https://static.wikia.nocookie.net/batman/images/2/26/WayneEnterprisesBatmanForever.png/revision/\n",
       "latest/smart/width/40/height/30?cb=20170605062640)\n",
       "  ![Wayne Enterprises \n",
       "(Schumacherverse)](https://static.wikia.nocookie.net/batman/images/2/26/WayneEnterprisesBatmanForever.png/revision/\n",
       "latest/smart/width/40/height/30?cb=20170605062640)](/wiki/Wayne_Enterprises_(Schumacherverse) \"Wayne Enterprises \n",
       "(Schumacherverse)\")\n",
       "\n",
       "  [Wayne Enterprises (Schumacherverse)](/wiki/Wayne_Enterprises_(Schumacherverse) \"Wayne Enterprises \n",
       "(Schumacherverse)\")\n",
       "* [![Wayne Manor \n",
       "(Burtonverse)](https://static.wikia.nocookie.net/batman/images/9/9c/Batman_181.jpg/revision/latest/smart/width/40/h\n",
       "eight/30?cb=20170602064303)\n",
       "  ![Wayne Manor \n",
       "(Burtonverse)](https://static.wikia.nocookie.net/batman/images/9/9c/Batman_181.jpg/revision/latest/smart/width/40/h\n",
       "eight/30?cb=20170602064303)](/wiki/Wayne_Manor_(Burtonverse) \"Wayne Manor (Burtonverse)\")\n",
       "\n",
       "  [Wayne Manor (Burtonverse)](/wiki/Wayne_Manor_(Burtonverse) \"Wayne Manor (Burtonverse)\")\n",
       "* [![Wayne Manor \n",
       "(Dozierverse)](https://static.wikia.nocookie.net/batman/images/5/57/Wayne_Manor_%281960s_Batman%29.jpg/revision/lat\n",
       "est/smart/width/40/height/30?cb=20221130042318)\n",
       "  ![Wayne Manor \n",
       "(Dozierverse)](https://static.wikia.nocookie.net/batman/images/5/57/Wayne_Manor_%281960s_Batman%29.jpg/revision/lat\n",
       "est/smart/width/40/height/30?cb=20221130042318)](/wiki/Wayne_Manor_(Dozierverse) \"Wayne Manor (Dozierverse)\")\n",
       "\n",
       "  [Wayne Manor (Dozierverse)](/wiki/Wayne_Manor_(Dozierverse) \"Wayne Manor (Dozierverse)\")\n",
       "* [![Wayne Manor \n",
       "(Nolanverse)](https://static.wikia.nocookie.net/batman/images/d/d7/Waynemanor.jpg/revision/latest/smart/width/40/he\n",
       "ight/30?cb=20081016213717)\n",
       "  ![Wayne Manor \n",
       "(Nolanverse)](https://static.wikia.nocookie.net/batman/images/d/d7/Waynemanor.jpg/revision/latest/smart/width/40/he\n",
       "ight/30?cb=20081016213717)](/wiki/Wayne_Manor_(Nolanverse) \"Wayne Manor (Nolanverse)\")\n",
       "\n",
       "  [Wayne Manor (Nolanverse)](/wiki/Wayne_Manor_(Nolanverse) \"Wayne Manor (Nolanverse)\")\n",
       "* [![Wayne Tower \n",
       "(Nolanverse)](https://static.wikia.nocookie.net/batman/images/3/3b/Wayne-enterprises.jpg/revision/latest/smart/widt\n",
       "h/40/height/30?cb=20111022043630)\n",
       "  ![Wayne Tower \n",
       "(Nolanverse)](https://static.wikia.nocookie.net/batman/images/3/3b/Wayne-enterprises.jpg/revision/latest/smart/widt\n",
       "h/40/height/30?cb=20111022043630)](/wiki/Wayne_Tower_(Nolanverse) \"Wayne Tower (Nolanverse)\")\n",
       "\n",
       "  [Wayne Tower (Nolanverse)](/wiki/Wayne_Tower_(Nolanverse) \"Wayne Tower (Nolanverse)\")\n",
       "\n",
       "Y\n",
       "\n",
       "* [Ye Olde Benbow Taverne](/wiki/Ye_Olde_Benbow_Taverne \"Ye Olde Benbow Taverne\")\n",
       "\n",
       "Categories  \n",
       "\n",
       "* [Categories](/wiki/Special:Categories \"Special:Categories\"):\n",
       "* [Film](/wiki/Category:Film \"Category:Film\")\n",
       "* [Locations](/wiki/Category:Locations \"Category:Locations\")\n",
       "\n",
       "Community content is available under [CC-BY-SA](https://www.fandom.com/licensing) unless otherwise noted.\n",
       "\n",
       "More Fandoms\n",
       "\n",
       "* [Horror](https://www.fandom.com/fancentral/horror)\n",
       "* [Sci-fi](https://www.fandom.com/fancentral/sci-fi)\n",
       "* [Batman](https://www.fandom.com/universe/batman)\n",
       "\n",
       "Advertisement\n",
       "\n",
       "[Fandom logo](https://www.fandom.com/ \"Fandom logo\")\n",
       "----------------------------------------------------\n",
       "\n",
       "### Explore properties\n",
       "\n",
       "* [Fandom](https://www.fandom.com/)\n",
       "* [Muthead](https://www.muthead.com/)\n",
       "* [Fanatical](https://www.fanatical.com/)\n",
       "\n",
       "### Follow Us\n",
       "\n",
       "### Overview\n",
       "\n",
       "* [What is Fandom?](https://www.fandom.com/what-is-fandom)\n",
       "* [About](https://www.fandom.com/about)\n",
       "* [Careers](https://www.fandom.com/careers)\n",
       "* [Press](https://www.fandom.com/press)\n",
       "* [Contact](https://www.fandom.com/about#contact)\n",
       "* [Terms of Use](https://www.fandom.com/terms-of-use)\n",
       "* [Privacy Policy](https://www.fandom.com/privacy-policy)\n",
       "* [Digital Services Act](https://www.fandom.com/digital-services-act)\n",
       "* [Global Sitemap](//community.fandom.com/Sitemap)\n",
       "* [Local Sitemap](/wiki/Local_Sitemap)\n",
       "\n",
       "### Community\n",
       "\n",
       "* [Community Central](//community.fandom.com/wiki/Community_Central)\n",
       "* [Support](https://fandom.zendesk.com/)\n",
       "* [Help](//community.fandom.com/wiki/Help:Contents)\n",
       "\n",
       "### Advertise\n",
       "\n",
       "* [Media Kit](https://about.fandom.com/mediakit)\n",
       "* [Contact](https://about.fandom.com/mediakit#contact)\n",
       "\n",
       "### Fandom Apps\n",
       "\n",
       "Take your favorite fandoms with you and never miss a beat.\n",
       "\n",
       "![Fandom App logo](https://static.wikia.nocookie.net/6c42ce6a-b205-41f5-82c6-5011721932e7)\n",
       "\n",
       "Batman Wiki is a FANDOM Comics Community.\n",
       "\n",
       "View Mobile Site\n",
       "\n",
       "[Follow on IG](https://bit.ly/FandomIG)\n",
       "[TikTok](https://bit.ly/TikTokFandom)\n",
       "[Join Fan Lab](https://bit.ly/FanLabWikiBar)\n",
       "</pre>\n"
      ],
      "text/plain": [
       "\u001b[1mExecution logs:\u001b[0m\n",
       "Content from https://www.imdb.com/title/tt1877830/locations/:\n",
       "Error fetching the webpage: 403 Client Error: Forbidden for url: https://www.imdb.com/title/tt1877830/locations/\n",
       "\n",
       "================================================================================\n",
       "\n",
       "Content from https://movie-locations.com/movies/b/The-Batman-2022-2.php:\n",
       "The Batman | Film Locations\n",
       "\n",
       "![Movie Locations logo](../../artwork/movie-locations-450.jpg)\n",
       "\n",
       "* [|   HOME](../../index.php)\n",
       "* [|   FILMS](../../movies.php)\n",
       "  + [0](../0/0-movies.php)\n",
       "  + [A](../a/a-movies.php)\n",
       "  + [B](../b/b-movies.php)\n",
       "  + [C](../c/c-movies.php)\n",
       "  + [D](../d/d-movies.php)\n",
       "  + [E](../e/e-movies.php)\n",
       "  + [F](../f/f-movies.php)\n",
       "  + [G](../g/g-movies.php)\n",
       "  + [H](../h/h-movies.php)\n",
       "  + [I](../i/i-movies.php)\n",
       "  + [J](../j/j-movies.php)\n",
       "  + [K](../k/k-movies.php)\n",
       "  + [L](../l/l-movies.php)\n",
       "  + [M](../m/m-movies.php)\n",
       "  + [N](../n/n-movies.php)\n",
       "  + [O](../o/o-movies.php)\n",
       "  + [P](../p/p-movies.php)\n",
       "  + [Q](../q/q-movies.php)\n",
       "  + [R](../r/r-movies.php)\n",
       "  + [S](../s/s-movies.php)\n",
       "  + [T](../t/t-movies.php)\n",
       "  + [U](../u/u-movies.php)\n",
       "  + [V](../v/v-movies.php)\n",
       "  + [W](../w/w-movies.php)\n",
       "  + [X](../x/x-movies.php)\n",
       "  + [Y](../y/y-movies.php)\n",
       "  + [Z](../z/z-movies.php)\n",
       "* [|   PLACES](../../places.php)\n",
       "  + [AFRICA](../../places/africa.php)\n",
       "  + [ASIA](../../places/asia.php)\n",
       "  + [CANADA](../../places/canada.php)\n",
       "  + [CARIBBEAN](../../places/caribbean.php)\n",
       "  + [CENTRAL AMERICA](../../places/centam.php)\n",
       "  + [EUROPE](../../places/europe.php)\n",
       "  + [MIDDLE EAST](../../places/mideast.php)\n",
       "  + [OCEANIA](../../places/oceania.php)\n",
       "  + [RUSSIA](../../places/russia/russia.php)\n",
       "  + [SOUTH AMERICA](../../places/samerica.php)\n",
       "  + [UNITED KINGDOM](../../places/uk.php)\n",
       "  + [USA](../../places/usa.php)\n",
       "* [|   PEOPLE](../../people.php)\n",
       "  + [A](../../people/a/a-people.php)\n",
       "  + [B](../../people/b/b-people.php)\n",
       "  + [C](../../people/c/c-people.php)\n",
       "  + [D](../../people/d/d-people.php)\n",
       "  + [E](../../people/e/e-people.php)\n",
       "  + [F](../../people/f/f-people.php)\n",
       "  + [G](../../people/g/g-people.php)\n",
       "  + [H](../../people/h/h-people.php)\n",
       "  + [I](../../people/i/i-people.php)\n",
       "  + [J](../../people/j/j-people.php)\n",
       "  + [K](../../people/k/k-people.php)\n",
       "  + [L](../../people/l/l-people.php)\n",
       "  + [M](../../people/m/m-people.php)\n",
       "  + [N](../../people/n/n-people.php)\n",
       "  + [O](../../people/o/o-people.php)\n",
       "  + [P](../../people/p/p-people.php)\n",
       "  + [Q](../../people/q/q-people.php)\n",
       "  + [R](../../people/r/r-people.php)\n",
       "  + [S](../../people/s/s-people.php)\n",
       "  + [T](../../people/t/t-people.php)\n",
       "  + [U](../../people/u/u-people.php)\n",
       "  + [V](../../people/v/v-people.php)\n",
       "  + [W](../../people/w/w-people.php)\n",
       "  + [X](../../people/x/x-people.php)\n",
       "  + [Y](../../people/y/y-people.php)\n",
       "  + [Z](../../people/z/z-people.php)\n",
       "* [|   MORE](#)\n",
       "  + [ABOUT](../../about.php)\n",
       "  + [TRAVEL](../../travel.php)\n",
       "  + [FEATURES](../../features.php)\n",
       "  + [LINKS](../../links.php)\n",
       "* [|   SEARCH](#)\n",
       "* |\n",
       "\n",
       "* [|   HOME](../../index.php)\n",
       "* [|   FILMS](../../movies.php)\n",
       "* [|   PLACES](../../places.php)\n",
       "* [|   PEOPLE](../../people.php)\n",
       "\n",
       "[Home](../../index.php) > [Films](../../movies.php) > [B](b-movies.php) > The batman\n",
       "\n",
       "Monday March 10th 2025\n",
       "\n",
       "The Batman | 2022\n",
       "=================\n",
       "\n",
       "![The Batman filming location: St George's Hall, Liverpool](../f/Fantastic-Beasts-St-Georges-ext.jpg)\n",
       "\n",
       "The Batman location: The memorial service for the murdered Mayor at 'Gotham City Hall': East Front, St George's \n",
       "Hall, Liverpool | Photograph: [Wikimedia / \n",
       "Superchilum](https://commons.wikimedia.org/wiki/File:St._George's_Hall_Liverpool_02.jpg)\n",
       "\n",
       "![The-Batman poster](The-Batman.jpg)\n",
       "\n",
       "* Locations |\n",
       "* [Merseyside](../../places/uk/mersey.php);\n",
       "* [London](../../places/uk/gtrlondon.php);\n",
       "* [Scotland](../../places/uk/scotland.php);\n",
       "* [Bedfordshire](../../places/uk/beds.php);\n",
       "* [Hertfordshire](../../places/uk/herts.php);\n",
       "* [Essex](../../places/uk/essex.php);\n",
       "* [Surrey](../../places/uk/surrey.php);\n",
       "* [Chicago](../../places/usa/chicago.php), [Illinois](../../places/usa/illinois.php)\n",
       "\n",
       "* DIRECTOR |\n",
       "* [Matt Reeves](../../people/r/reevesmatt.php)\n",
       "\n",
       "* CAST |\n",
       "* [Robert Pattinson,](../../people/p/pattinsonr.php)\n",
       "* [Paul Dano,](../../people/d/danop.php)\n",
       "* [ZoÃ« Kravitz,](../../people/k/kravitzz.php)\n",
       "* [Jeffrey Wright,](../../people/w/wrightj.php)\n",
       "* [Andy Serkis,](../../people/s/serkisa.php)\n",
       "* [Colin Farrell,](../../people/f/farrellc.php)\n",
       "* [John Turturro,](../../people/t/turturroj.php)\n",
       "* [Peter Sarsgaard,](../../people/s/sarsgaardp.php)\n",
       "* [Jayme Lawson,](../../people/l/lawsonj.php)\n",
       "* [Barry Keoghan](../../people/k/keoghanb.php)\n",
       "\n",
       "It’s back to [Liverpool](../../places/uk/mersey.php) for the pillared frontage of ‘Gotham City Hall’, which is [St \n",
       "George's Hall](https://www.stgeorgeshallliverpool.co.uk/homepage/) once again, but this time the much longer \n",
       "eastern front with its equestrian statues on Lime Street.\n",
       "\n",
       "The cathedral-like interior, where the memorial service for Mayor Mitchell is crashed by the DA’s car, is a \n",
       "wonderfully impressive studio set, built inside the Cardington Airship Hangar 1, frequently used as studio space by\n",
       "[Christopher Nolan](../../people/n/nolanc.php).\n",
       "\n",
       "The resulting mayhem sees the Batman taken into custody but, before Gotham’s finest can so much as take off his \n",
       "mask, Gordon has facilitated his escape.\n",
       "\n",
       "![The Batman filming location: Lethaby Building, Southampton Row, Holborn, London \n",
       "WC1](../i/Imitation-Game-Central-St-\n",
       "..._This content has been truncated to stay below 10000 characters_...\n",
       ".php) . You can see it, under construction, at the end of the river chase in 1999 Bond movie [The World Is Not \n",
       "Enough](../w/World-Is-Not-Enough.php).\n",
       "\n",
       "And, no, they didn’t flood the arena. As the waters rise, the production moved to a studio tank.\n",
       "\n",
       "If you’re waiting for [Glasgow](https://peoplemakeglasgow.com/) to make an appearance, you’ll have to wait for the \n",
       "epilogue when Selina Kyle ([ZoÃ« Kravitz](../../people/k/kravitzz.php)) visits her mother’s memorial.\n",
       "\n",
       "![The Batman filming location: Bridge of Sighs, Glasgow \n",
       "Necropolis](The-Batman-Glasgow-Necropolis-Bridge-of-Sighs.jpg)\n",
       "\n",
       "The Batman location: The Batman and Selina exit the cemetery: Bridge of Sighs, Glasgow Necropolis | Photograph: \n",
       "[Wikimedia / \n",
       "Marcok](https://commons.wikimedia.org/wiki/File:Glasgow_Cathedral_Square_Bridge_of_Sighs_by_Marcok_2018-08-23.jpg)\n",
       "\n",
       "The gloomy cemetery, in which Batman reluctantly turns down the offer to go off with Selina, is \n",
       "[Glasgow](https://peoplemakeglasgow.com/)’s [Necropolis](https://www.glasgownecropolis.org/), the city’s \n",
       "extravagant Victorian burial ground. The two bikes speeding past the carved memorials show the \n",
       "[Necropolis](https://www.glasgownecropolis.org/) at its best but there’s still a crafty little trick left.\n",
       "\n",
       "![The Batman filming location: Cherry Lane entrance, Anfield Cemetery, Liverpool](The-Batman-Anfield-Cemetery.jpg)\n",
       "\n",
       "The Batman location: The Batman and Selina exit the cemetery: Cherry Lane entrance, Anfield Cemetery, Liverpool | \n",
       "Photograph: [Wikimedia / \n",
       "Rept0n1x](https://commons.wikimedia.org/wiki/File:Anfield_Cemetery,_Cherry_Lane_entrance_(5).JPG)\n",
       "\n",
       "They drive west from the cemetery across the stone arch, known as the Bridge of Sighs, on Church Street but the \n",
       "dark little Gothic tunnel they come to is the eastern entrance to [Anfield \n",
       "Cemetery](https://liverpool.gov.uk/births-marriage-deaths/deaths/burials-and-cremations/cemeteries-and-crematoria/a\n",
       "nfield-cemetery-and-crematorium/), on Cherry Lane, in [Liverpool](../../places/uk/mersey.php). But only for that \n",
       "brief moment.\n",
       "\n",
       "Instantly they’re back in [Glasgow](https://peoplemakeglasgow.com/), on Wishart Street alongside the \n",
       "[Necropolis](https://www.glasgownecropolis.org/), with the Batman riding away â under the Bridge of Sighs arch they\n",
       "had crossed minutes earlier.\n",
       "\n",
       "[Page 1](The-Batman-2022.php)   |   Page 2\n",
       "\n",
       "[* ![film locations banner](../../images/bar-hub-1.jpg)\n",
       "* ![film locations banner](../../images/bar-hub-2.jpg)\n",
       "* ![film locations banner](../../images/bar-hub-3.jpg)\n",
       "* ![film locations banner](../../images/bar-hub-4.jpg)\n",
       "* ![film locations banner](../../images/bar-hub-5.jpg)](../../index.php)\n",
       "\n",
       "---\n",
       "\n",
       "Visit The Film Locations\n",
       "========================\n",
       "\n",
       "UK | Merseyside\n",
       "---------------\n",
       "\n",
       "---\n",
       "\n",
       "Visit: [Liverpool](http://www.visitliverpool.com)\n",
       "\n",
       "Flights: [Liverpool John Lennon Airport](https://www.liverpoolairport.com), Speke, Liverpool L24 1YD (tel: \n",
       "0871.521.8484)\n",
       "\n",
       "Rail: [Liverpool Lime Street](https://www.networkrail.co.uk/liverpool-lime-street-station/departures-arrivals/), \n",
       "from [London Euston](http://www.networkrail.co.uk/london-euston-station/departures-arrivals/)\n",
       "\n",
       "Visit: [St George's Hall](https://www.stgeorgeshallliverpool.co.uk/homepage/), St George's Place, Liverpool L1 1JJ.\n",
       "\n",
       "Visit: The [Royal Liver Building](https://rlb360.com/), Pier Head, Liverpool L3 1HU.\n",
       "\n",
       "UK | London\n",
       "-----------\n",
       "\n",
       "---\n",
       "\n",
       "Flights: [Heathrow Airport](http://www.heathrowairport.com/); [Gatwick Airport](http://www.gatwickairport.com/)\n",
       "\n",
       "Visit: [London](http://www.visitlondon.com)\n",
       "\n",
       "Travelling: [Transport For London](https://tfl.gov.uk)\n",
       "\n",
       "Visit: [The O2 Arena](https://www.theo2.co.uk/), Peninsula Square, London SE10 0DX (tube: North Greenwich, Jubilee \n",
       "Line).\n",
       "\n",
       "UK | Scotland\n",
       "-------------\n",
       "\n",
       "---\n",
       "\n",
       "Visit: [Scotland](http://www.visitscotland.com)\n",
       "\n",
       "Visit: [Glasgow](http://visit-glasgow.info) (rail: Glasgow Central)\n",
       "\n",
       "Visit: [Glasgow Necropolis](https://www.glasgownecropolis.org/), Castle Street, Glasgow G4 0UZ.\n",
       "\n",
       "UK | Bedfordshire\n",
       "-----------------\n",
       "\n",
       "---\n",
       "\n",
       "Visit: [Bedfordshire](http://www.experiencebedfordshire.co.uk/)\n",
       "\n",
       "UK | Hertfordshire\n",
       "------------------\n",
       "\n",
       "---\n",
       "\n",
       "Visit: [Hertfordshire](http://www.hertfordshirelep.com/enjoy/)\n",
       "\n",
       "Illinois | Chicago\n",
       "------------------\n",
       "\n",
       "---\n",
       "\n",
       "Visit: [Chicago](http://www.chooseChicago.com)\n",
       "\n",
       "Flights: [O’Hare International Airport](http://www.flyChicago.com/ohare/), 10000 West O'Hare Ave, Chicago, IL 60666\n",
       "(tel: 800.832.6352)\n",
       "\n",
       "Travel around: [Chicago Transit Authority](http://www.transitChicago.com)\n",
       "\n",
       "![Quantcast](//pixel.quantserve.com/pixel/p-Gk6yfNKKx53Zc.gif)\n",
       "\n",
       "[![123Stat hit counter](https://server2.123stat.com/6/1/7346.gif)](https://www.123stat.com)\n",
       "\n",
       "---\n",
       "\n",
       "* [Home](../../index.php)\n",
       "* [Films](../../movies.php)\n",
       "* [Places](../../places.php)\n",
       "* [People](../../people.php)\n",
       "* [Travel](../../travel.php)\n",
       "* [Features](../../features.php)\n",
       "* [Links](../../links.php)\n",
       "* [Contact](mailto:info@movie-locations.com)\n",
       "\n",
       "Please send any corrections or additions to [info@movie-locations.com](mailto:info@movie-locations.com). All \n",
       "material Copyright © 2025 The Worldwide Guide To Movie Locations\n",
       "\n",
       "================================================================================\n",
       "\n",
       "Content from https://www.atlasofwonders.com/2022/04/where-was-the-batman-filmed.html:\n",
       "Where was The Batman filmed? ALL the Filming Locations in Chicago & The UK\n",
       "\n",
       "* [Home](https://www.atlasofwonders.com/)\n",
       "* [MOVIES](https://www.atlasofwonders.com/p/filming-locations.html)\n",
       "* [SERIES](https://www.atlasofwonders.com/p/series-filming-locations.html)\n",
       "* [WONDERS](https://www.atlasofwonders.com/p/wonders.html)\n",
       "* [ABOUT](https://www.atlasofwonders.com/p/wondering-about-aow.html)\n",
       "\n",
       "[![search \n",
       "icon](https://blogger.googleusercontent.com/img/b/R29vZ2xl/AVvXsEh4MJ3xfOdWmqjdls_YMZWvTQ7djWV65pfItfS7vcb03v9q5iRc\n",
       "rpWc-Dp8HEFMRwicWcMrcLg25UY0oDn-t5Z99HHQkQBjDL1Bwq9QDC9ekVUG_Cew1b_9PbeKOd-ApydYCKR0WV0_7_MNdnQ3YXMvrPyF3-3TpbsTItf\n",
       "iz-h3Wyf8iQ/s1600/s.png)](#)\n",
       "\n",
       "[![Filming Locations by Atlas of Wonders \n",
       "logo](https://blogger.googleusercontent.com/img/b/R29vZ2xl/AVvXsEgZ-ia6BzasoT6ae5QFTi73azhWSKBCz2f7g4plnxNthAwgqGUG\n",
       "FhvYvR20tdtMBxcm_ykWBmpCMmcbnLiY4cqBs80pCkexeNgXyJtc-vFpgvv3aUfljh9tz0idJExKE0FQA3Kcov8UfJT_FOuZD6JfXH4bEZWZb9ImUsK\n",
       "zDmdJGwNDjg/s1600/l.png)](https://www.atlasofwonders.com)\n",
       "\n",
       "Where was The Batman filmed? ALL the Filming Locations in Chicago & The UK\n",
       "==========================================================================\n",
       "\n",
       "Posted by [Ra Moon](https://www.atlasofwonders.com/p/wondering-about-aow.html)\n",
       "\n",
       "*The Batman* is the newest addition to the Caped Crusader films franchise. Matt Reeves, who also directed the last \n",
       "two films in the *Planet of the Apes* movie series, has made a more **noir, detective-driven** version of the \n",
       "story.  \n",
       "  \n",
       "***The Batman* was primarily filmed in the United Kingdom**. Most of the recognizable buildings of this new version\n",
       "of Gotham City are located in **Liverpool**, although **Chicago was a major influence** on the aesthetics of the \n",
       "movie.\n",
       "\n",
       "  \n",
       "\n",
       "![Where was The Batman \n",
       "filmed](https://blogger.googleusercontent.com/img/b/R29vZ2xl/AVvXsEiJwiNIzzK94q3sjdADzG3Qw-GwQcfl-r6YLSDj1sOkPXtTb9\n",
       "NPD6OMBnjO5fXpn-eMiUuYhXNTqng_UTm1U9ZDnMpuJi7PW62GYbv_yEdYxVDz4HZsDM38b8r_ZEFcmrvBLFumVD6u8c1TYI07NIhgwJhpXs7EaHxy9\n",
       "EFPQEg_VMFlKg/s1600/52037053575_9d5411ff31_o.jpg)  \n",
       "  \n",
       "**Robert Pattinson** (Edward Cullen in *The Twilight Saga*), embodies the lead role of reclusive billionaire Bruce \n",
       "Wayne, **the ninth Batman** in a live-action movie after Ben Affleck, Christian Bale, George Clooney, and Michael \n",
       "Keaton among others.  \n",
       "  \n",
       "Pattinson is joined by the daughter of pop star Lenny Kravitz, **Zoë Kravitz**, as Selina Kyle or **Catwoman**, who\n",
       "also appeared in the [*Fantastic \n",
       "Beasts*](https://www.atlasofwonders.com/2018/11/fantastic-beasts-2-grindelwald-filming-locations.html) film series.\n",
       "  \n",
       "Welcome to Gotham City and the most complete guide to the **filming locations of *The Batman*** that you can find. \n",
       "Also, follow this link to check out all the places [where *The Penguin* series was \n",
       "filmed](https://www.atlasofwonders.com/2024/09/where-was-the-penguin-filmed.html).\n",
       "\n",
       "  \n",
       "  \n",
       "\n",
       "*The Batman* locations\n",
       "----------------------\n",
       "\n",
       "![Mayor Mitchell's \n",
       "House](https://blogger.googleusercontent.com/img/b/R29vZ2xl/AVvXsEgbH6BkaItl2nLesiqekgEfTOVDvf-J4cwivB6Ekd5tnjgnoHp\n",
       "0OLCTBB5wdMXBuRmEQNR3yYBARA7G3iW8GYknPQC6fmEixhnGrRnFVpY9eQBej-ur5HYAFV3mwwOjgjrO1JUfYnMxAojfOs-9WwmqlOGox_GW3MyCuu\n",
       "wbA8swrXCqeA/s1600/6.jpg)  \n",
       "The exterior of **Major Mitchell's house**, where the press conference takes place, was filmed at the [Two Temple \n",
       "Place](https://twotempleplace.org/) in London.  \n",
       "  \n",
       "Built in 1895, this magnificent neo-Gothic mansion hosts public exhibitions and venues.\n",
       "\n",
       "(You can **open all the locations on Google Maps** by clicking on the links below in the captions ↴)  \n",
       "Image courtesy of [Warner Bros](https://www.warnerbros.com/movies/the-batman) and [Google \n",
       "Maps](https://goo.gl/maps/kSzWnP8pfgDhbJwKA)\n",
       "\n",
       "  \n",
       "  \n",
       "\n",
       "![The Batman \n",
       "City](https://blogger.googleusercontent.com/img/b/R29vZ2xl/AVvXsEhkyBbT4fCOgnm75IL0ezrAIiQBJhnToxowbtI7OXabnDsIBirc\n",
       "OQVqDYUlixgbWWMHAG6CsgL1ZAJGti_vm-jvzFW3iRRlg9iIcInCHQOYm6XDb97iNONYqUG_dnrOtslOm6ieJkQjTE96fuUmwO3umCNOzx44k6zsX6d\n",
       "n0T0i2oGXLQ/s1600/11.jpg)  \n",
       "There are some establishing shots filmed at the **Wellington's Column** and the Steble Fountain on the corner of \n",
       "William Brown Street and Lime Street in **Liverpool**.  \n",
       "  \n",
       "It's amazing how thanks to CGI this neo-classic cityscape was transformed into a sort of **New York Times Square**.\n",
       "\n",
       "Image courtesy of Warner Bros and [Google Maps](https://goo.gl/maps/mGsz3DmtXR6pFh6h8)\n",
       "\n",
       "  \n",
       "  \n",
       "\n",
       "![The Batman \n",
       "locations](https://blogger.googleusercontent.com/img/b/R29vZ2xl/AVvXsEgLNpO9veGp45m-Tdfw3C7Qm7pNI-Ob8eUVQEn6SsBLzlN\n",
       "CaXMMrkHnxE5ei8dNGadVoB8I8oAsUBT5IFp_qn3GUlK1OHiYWXMJIW2OQtmLQ7QOc_XZOW6Srizd6rO3kEFelAfQDDYhGWKypNXUeyqT7pB7Y2MhcR\n",
       "Zx6KE4BReP5ZAiXQ/s1600/10.jpg)  \n",
       "The **Bank of Gotham**, vandalized by graffiti taggers, is [St George's \n",
       "Hall's](https://www.stgeorgeshallliverpool.co.uk/homepage) south facade in **Liverpool**.  \n",
       "  \n",
       "Located at the heart of the city, opposite Lime Street Station, this 19th-century venue hosts a variety of events, \n",
       "exhibitions, and festivals.\n",
       "\n",
       "Image courtesy of Warner Bros and [Google Maps](https://goo.gl/maps/9gY5WnnLYs4NZpt96)\n",
       "\n",
       "  \n",
       "  \n",
       "\n",
       "*The Batman* in \n",
       "..._This content has been truncated to stay below 10000 characters_...\n",
       "eorge's Hall is not actually St. George's Hall at all! The funeral scene is filmed in Liverpool Anglican Cathedral.\n",
       "I have been in many times and would recognize it anywhere. It is quite gothic in its feel.\n",
       "\n",
       "[![Share \n",
       "Facebook](https://blogger.googleusercontent.com/img/b/R29vZ2xl/AVvXsEj8esV9EiLauE-ckgiq2g3y8L9FogWKMTGek5I8mSpNFgSh\n",
       "_VljJ8C7hgAlPA4cAWinmRmMhAcJ3xwXMVDTWh-ellKcniwpoOwP8EjEuRhGZFP-ujt-NYl9eN1UAkLDI38bD5TWjurklck7TvPPKGADq3oTsA-ML3K\n",
       "GQBe0fti30dr4yg/s1600/fa.png)](https://www.facebook.com/sharer.php?u=https://www.atlasofwonders.com/2022/04/where-w\n",
       "as-the-batman-filmed.html)\n",
       "[![Share \n",
       "Twitter](https://blogger.googleusercontent.com/img/b/R29vZ2xl/AVvXsEg3KpElzeqAyKEu46la6yqJXF2WaKs-C9OA6av1SW5Q3Bbk_\n",
       "lPMyRZrx836-w1Mo1DI_pUKgjr1hisYdn0wqawC3mBQdkjy-EJ06g-l7rCR_SJ1VcOAn73DTFxTfv3c0VFVX7kF7k4ig_M9nRGXmNSfwdOqS_Qw5ueg\n",
       "hUhppX41Xt6zng/s1600/tw.png)](https://twitter.com/share?url=https://www.atlasofwonders.com/2022/04/where-was-the-ba\n",
       "tman-filmed.html)\n",
       "[![Share \n",
       "Pinterest](https://blogger.googleusercontent.com/img/b/R29vZ2xl/AVvXsEiGRRqvSpEKiW7Q7LDvgrU4I0gJmXSZ4tla_a-XyvpbIUu\n",
       "5zCHXLwbm4VarlYTlG5BMPBkS-E0ciHmqB-uxU-BbeURBIovVtrVrRCOmFqRbKfMVX3OrpMyQO4mZ9ARRvE_SLKPkonaF2sZEP9lzN_xr3A0H6nvpKN\n",
       "J7qZlbkA1BkLph6w/s1600/pi.png)](https://pinterest.com/pin/create/button/?source_url=https://www.atlasofwonders.com/\n",
       "2022/04/where-was-the-batman-filmed.html)\n",
       "[![Share on \n",
       "WhatsApp](https://blogger.googleusercontent.com/img/b/R29vZ2xl/AVvXsEgkkYhaT0M_cOAoz1gKmy-D-SlvpAyd_cP-nWV3I3vTsiaL\n",
       "Hb4AUtOnxYG_dfDkLmxXKFo9I6DtM96BsUJQ5AsGubZUlBDo6mI6YUcdDt2Swrhs4UUQoGKdX_Ume50xtGOQ9i7Dvv3LS6v8a8kKe2h2GOGbYlOc7ev\n",
       "vif-SYZVFN3b3ZA/s1600/wh.png)](https://wa.me/?text=Where was The Batman filmed? ALL the Filming Locations in \n",
       "Chicago & The UK - https://www.atlasofwonders.com/2022/04/where-was-the-batman-filmed.html)\n",
       "\n",
       "![Author \n",
       "Photo](https://blogger.googleusercontent.com/img/b/R29vZ2xl/AVvXsEhfrNDbnTeKxmGNymmnfjlJSxWEuNp2nfSa2_Tw0qT52FShVkc\n",
       "r5QMeTbb9juSl73pxVJWEmbfpTVB4MMQDPD7bEBmEFio5z17m6GGHauk5Yvk6jxN-E7F_IDNYCPh1L6IBbLzijQ9bVnTL7ER4BcMiWE2UC48ZJf1HhC\n",
       "ijAUp5l4x3Ww/s1600/au.jpg)\n",
       "\n",
       "[Ra Moon](https://www.atlasofwonders.com/p/wondering-about-aow.html \"Posts by Ra Moon\")\n",
       "\n",
       "**Atlas of Wonders** is looking for wonderful Filming Locations all around the world. We are constantly updating \n",
       "and improving our posts with new details and images. Follow us here:\n",
       "\n",
       "[![Follow \n",
       "Facebook](https://blogger.googleusercontent.com/img/b/R29vZ2xl/AVvXsEj8esV9EiLauE-ckgiq2g3y8L9FogWKMTGek5I8mSpNFgSh\n",
       "_VljJ8C7hgAlPA4cAWinmRmMhAcJ3xwXMVDTWh-ellKcniwpoOwP8EjEuRhGZFP-ujt-NYl9eN1UAkLDI38bD5TWjurklck7TvPPKGADq3oTsA-ML3K\n",
       "GQBe0fti30dr4yg/s1600/fa.png)](https://www.facebook.com/atlasofwonders)\n",
       "[![Follow \n",
       "Twitter](https://blogger.googleusercontent.com/img/b/R29vZ2xl/AVvXsEjqzN4EWBIXwzHr0AiIznuICGLKJtV0i4tQ2KMLzShw5qd9g\n",
       "4D2ioi24QaW5aJZH4Tw0X1nR1Ljb5b79OTQvDi0omNl1Xz_ud4RSZpI1bIRVmRGfH7Z4Cu6buavoWA43X4yymQrahezAa5aL2rr1EaFl2_Zs27EZ6XA\n",
       "_MuEUvNsJyWr3w/s1600/tw2.png)](https://twitter.com/AtlasofWonders)\n",
       "[![Follow \n",
       "instagram](https://blogger.googleusercontent.com/img/b/R29vZ2xl/AVvXsEi1hqLndS42lCvucp1HBrKbGqIM6ncMIgXwsSmOiJRrZdC\n",
       "JWCWgiIrk6bXMEYqXdGlWHjYmrLg6u38jDXzw2QvolyPX3klXsjNaQgKpQiKIOM_XvfqKFyvHT65bwo25UV16_po2bt8K5PTXs22fEgwk5LoaRqbaQg\n",
       "4KLw2vOfVZLKg1_Q/s1600/ig.png)](https://www.instagram.com/atlas_of_wonders)\n",
       "[![Follow \n",
       "Pinterest](https://blogger.googleusercontent.com/img/b/R29vZ2xl/AVvXsEiyBZhJUOZapkpGJwtkc8ixCHeEKDa1ZsSfCXVYoL3AzYQ\n",
       "KjOYzcFX2WkaRk8u4ZEzlakCjE-XuUs4Yvl71xwz6Xq7WMBC07uTA5bzBHoIP5y5gK46QbZBk2pSCgKGSDYNVWlKN7zHn117PnvRqCxUZLV8MDq59ET\n",
       "8FMGICPwlOZLZZAw/s1600/pi2.png)](https://pinterest.com/atlasofwonders)\n",
       "\n",
       "0\n",
       "comments\n",
       "\n",
       "All comments are reviewed prior to publication\n",
       "\n",
       "[Next  \n",
       " Locations![chevron \n",
       "left](https://blogger.googleusercontent.com/img/b/R29vZ2xl/AVvXsEgzAqdffOw4n0mArJ5StcAmKOMzyJjZN33kBcE85SYh3k2XQN0q\n",
       "QNatjzduCsaV_OgcxHqoCXVPWuR28MQfRKr4so0OJVh9rtV-3DqMxu6vkylYaDq7IO0PsBDq-hvzh4YrrqwmDvxzZwpDoy_snfNRrcM7zQ5Om9f7RUH\n",
       "pZYHRb0IYJg/s1600/ch.png)](https://www.atlasofwonders.com/2022/04/where-was-the-northman-filmed.html)\n",
       "\n",
       "[Previous  \n",
       " Locations![chevron \n",
       "right](https://blogger.googleusercontent.com/img/b/R29vZ2xl/AVvXsEhl0j42tEaODrIvuyARJ_TgYBCCfBu0H5lhFsNI9e5ovGK36MI\n",
       "EJHfUCVHSSL7F44XgiStcFb1f-nqLVqKJJDzwXgDtBzJaNH8htedrEgTOuofj-N85o1onuorXgFH8ouH6bSFLM_h2SA9FVsOGs2xN5N7c9ceNldxizs\n",
       "PNLxGcNG1UWQ/s1600/ch2.png)](https://www.atlasofwonders.com/2022/04/vin-de-vie-all-the-old-knives.html)\n",
       "\n",
       "© 2023, All Rights Reserved by [Atlas Of Wonders](https://www.atlasofwonders.com/p/wondering-about-aow.html) | \n",
       "[Privacy Policy](https://www.atlasofwonders.com/p/privacy-policy.html) | [ThemeXpose](https://www.themexpose.com/ \n",
       "\"Blogger\")\n",
       "\n",
       "  \n",
       "[Back to top \n",
       "![double-up](https://blogger.googleusercontent.com/img/b/R29vZ2xl/AVvXsEi1Bpq0fCL0W67xJFV-CJHLEONaO64XLWeGWzrGofHEO\n",
       "22M9sceFixe9iL7TEbUgCCiDNJlXtJySaGZbwtFbGj_SvajSM8IIOdmg9iGZ1oaXyVnlmiMJs3cX_ULXryjWlMt-05QBAn5oZ9sCcwnjbpMjhIijNtf\n",
       "Hqfq8QO8rk5xURHO_g/s1600/top.png)](#)\n",
       "\n",
       "[![Web Analytics](//c.statcounter.com/6965302/0/3aae7a20/1/)](https://statcounter.com/ \"Web Analytics\")\n",
       "\n",
       "================================================================================\n",
       "\n",
       "Content from https://www.imdb.com/title/tt0096895/locations/:\n",
       "Error fetching the webpage: 403 Client Error: Forbidden for url: https://www.imdb.com/title/tt0096895/locations/\n",
       "\n",
       "================================================================================\n",
       "\n",
       "Content from https://www.travelandleisureasia.com/global/destinations/batman-movie-locations-you-can-visit/:\n",
       "Error fetching the webpage: 403 Client Error: Forbidden for url: \n",
       "https://www.travelandleisureasia.com/global/destinations/batman-movie-locations-you-can-visit/\n",
       "\n",
       "================================================================================\n",
       "\n",
       "Content from https://www.travelchannel.com/interests/arts-and-culture/photos/see-batman-movie-locations:\n",
       "Dark Knight Rises Tour: See Batman Movie Locations | Travel Channel\n",
       "\n",
       "* [Schedule](//www.travelchannel.com/shows/tv-schedule)\n",
       "* [Mobile Apps](//www.travelchannel.com/mobile)\n",
       "* [Watch \n",
       "Live](https://watch.travelchannel.com/watch/travel?utm_source=marketingsite&utm_medium=tve_tc_homepage_toptext)\n",
       "* [Stream on discovery+](https://www.discoveryplus.com/?xp=trvl_supernav_launch)\n",
       "\n",
       "* [Shows](//www.travelchannel.com/shows)\n",
       "\n",
       "  + [Main](//www.travelchannel.com/shows)\n",
       "  + [Program Guide](//www.travelchannel.com/shows/tv-schedule)\n",
       "  + [Watch Live](https://watch.travelchannel.com/watch/travel?utm_source=marketingsite&utm_campaign=showsflyout)\n",
       "\n",
       "  ###### [Shows](//www.travelchannel.com/shows)\n",
       "\n",
       "  + [Ghost Adventures](//www.travelchannel.com/shows/ghost-adventures)\n",
       "  + [Ghost Hunters](//www.travelchannel.com/shows/ghost-hunters-2021)\n",
       "  + [Ghost Brothers](//www.travelchannel.com/shows/ghost-brothers)\n",
       "  + [Conjuring Kesha](//www.travelchannel.com/shows/conjuring-kesha)\n",
       "  + [The Dead Files](//www.travelchannel.com/shows/the-dead-files)\n",
       "  + [Destination Fear](//www.travelchannel.com/shows/destination-fear-2019)\n",
       "  + [Eli Roth Presents: A Ghost Ruined My \n",
       "Life](//www.travelchannel.com/shows/eli-roth-presents-a-ghost-ruined-my-life)\n",
       "  + [Expedition Bigfoot](//www.travelchannel.com/shows/expedition-bigfoot)\n",
       "  + [Ghost Nation](//www.travelchannel.com/shows/ghost-nation)\n",
       "  + [The Holzer Files](//www.travelchannel.com/shows/holzer-files)\n",
       "  + [Kindred Spirits](//www.travelchannel.com/shows/kindred-spirits)\n",
       "  + [Mountain Monsters](//www.travelchannel.com/shows/mountain-monsters)\n",
       "  + [Paranormal Caught on Camera](//www.travelchannel.com/shows/paranormal-caught-on-camera)\n",
       "  + [Portals to Hell](//www.travelchannel.com/shows/portals-to-hell)\n",
       "\n",
       "  ###### [Hosts](//www.travelchannel.com/profiles/talent)\n",
       "\n",
       "  + [Amy Allan](//www.travelchannel.com/profiles/talent/amy-allan)\n",
       "  + [Amy Bruni and Adam Berry](//www.travelchannel.com/profiles/talent/amy-bruni-and-adam-berry)\n",
       "  + [Destination Fear Team](//www.travelchannel.com/profiles/talent/destination-fear)\n",
       "  + [Don Wildman](//www.travelchannel.com/profiles/talent/don-wildman)\n",
       "  + [Ghost Adventures Crew](//www.travelchannel.com/profiles/talent/ghost-adventures-crew)\n",
       "  + [Ghost Nation](//www.travelchannel.com/profiles/talent/ghost-nation)\n",
       "  + [The Holzer Files Team](//www.travelchannel.com/profiles/talent/holzer-files-team)\n",
       "  + [Jack Osbourne and Katrina Weidman](//www.travelchannel.com/profiles/talent/jack-osbourne-and-katrina-weidman)\n",
       "  + [Steve Dischiavi](//www.travelchannel.com/profiles/talent/steve-dischiavi)\n",
       "\n",
       "  ###### Trending\n",
       "\n",
       "  + [Haunted](//www.travelchannel.com/interests/haunted)\n",
       "  + [Ghost Adventures](//www.travelchannel.com/shows/ghost-adventures)\n",
       "  + [Ghost Nation](//www.travelchannel.com/shows/ghost-nation)\n",
       "  + [Shows](//www.travelchannel.com/shows)\n",
       "* [Video](//www.travelchannel.com/shows/video)\n",
       "\n",
       "  + [All Videos](//www.travelchannel.com/shows/video)\n",
       "  + [Watch Live TV](https://watch.travelchannel.com/watch/travel?utm_source=marketingsite&utm_campaign=videoflyout)\n",
       "\n",
       "  ###### [Top Videos](//www.travelchannel.com/shows/video)\n",
       "\n",
       "  + [Tips for Solo Travelers](//www.travelchannel.com/videos/tips-for-solo-travelers-0254277)\n",
       "  + [4 Gorgeous Waterfalls](//www.travelchannel.com/videos/4-gorgeous-cascading-waterfalls-0251453)\n",
       "  + [5 Extreme Swings](//www.travelchannel.com/videos/5-extreme-swings-0255079)\n",
       "  + [World's 10 Best Swimming Holes](//www.travelchannel.com/videos/worlds-10-best-swimming-holes-0264672)\n",
       "  + [Best BBQ in America](//www.travelchannel.com/videos/best-bbq-in-america-0255\n",
       "..._This content has been truncated to stay below 50000 characters_...\n",
       "faked, with the Capitol buildings being added digitally. So the bridge, alongside which Lois Lane meets the \n",
       "Secretary, is not one of the Potomac crossings, but the MacArthur Bridge, linking the city to Belle Isle in the \n",
       "Detroit River. The disused zoo on Belle Isle supplied another location for [Real Steel](../r/Real-Steel.php).\n",
       "\n",
       "To lure Batman into a showdown, Martha Wayne ([Diane Lane](../../people/l/laned.php)) is abducted from outside \n",
       "‘Ralli’s’, the little diner where she works. This is Hygrade Deli, 3640 Michigan Avenue, Southwest Detroit.\n",
       "\n",
       "![Batman v Superman: Dawn Of Justice filming location: Michigan Central Station, Michigan Avenue, \n",
       "Detroit](Batman-V-Superman-Michigan-Central-Station.jpg)\n",
       "\n",
       "Batman v Superman: Dawn Of Justice location: the greatest gladiator match in the history of the world: Michigan \n",
       "Central Station, Michigan Avenue, Detroit | Photograph: [Wikimedia / Albert \n",
       "Duce](https://commons.wikimedia.org/wiki/File:Michigan_Central_Train_Station_Exterior_2009.jpg)\n",
       "\n",
       "The scene is set for \"The greatest gladiator match in the history of the world.\" The Kryptonite-assisted punch up \n",
       "takes place in the disused Michigan Central Station, 2198 Michigan Avenue, the grand old rail terminal just west of\n",
       "downtown Detroit.\n",
       "\n",
       "Built in 1913, the once beautiful building was abandoned and vandalised over the years. The good news is that it \n",
       "was bought by Ford in 2018 and is currently being renovated.\n",
       "\n",
       "It's seen its share of action, though, with [Michael Bay](../../people/b/baym.php) having filmed part of \n",
       "[Transformers](../t/Transformers.php), [Transformers: Dark of the Moon](../t/Transformers-Dark-Of-The-Moon.php) and\n",
       "The Island here.\n",
       "\n",
       "---\n",
       "\n",
       "• Many thanks to Allegra Chisholm for help with this section.\n",
       "\n",
       "[* ![film locations banner](../../images/bar-hub-1.jpg)\n",
       "* ![film locations banner](../../images/bar-hub-2.jpg)\n",
       "* ![film locations banner](../../images/bar-hub-3.jpg)\n",
       "* ![film locations banner](../../images/bar-hub-4.jpg)\n",
       "* ![film locations banner](../../images/bar-hub-5.jpg)](../../index.php)\n",
       "\n",
       "---\n",
       "\n",
       "Visit The Film Locations\n",
       "========================\n",
       "\n",
       "Michigan | Detroit\n",
       "------------------\n",
       "\n",
       "---\n",
       "\n",
       "Visit: [Michigan](http://www.michigan.org/)\n",
       "\n",
       "Visit: [Detroit](http://visitdetroit.com)\n",
       "\n",
       "Flights: [Detroit Metropolitan Wayne County Airport (DTW)](https://www.detroit-metro-airport.com/), Detroit, MI \n",
       "48242 (tel: 734.247.7678)\n",
       "\n",
       "Visit: the [Ransom Gillis House](http://historicdetroit.org/building/ransom-gillis-house/), 205 Alfred Street, \n",
       "Detroit, MI 48201\n",
       "\n",
       "Visit: the [Masonic Temple](http://www.themasonic.com/), 500 Temple Street, Detroit, MI 48201\n",
       "\n",
       "Visit: the [Eli and Edythe Broad Art Museum](https://broadmuseum.msu.edu/), 547 East Circle Drive, East Lansing, \n",
       "East Lansing, MI 48824 (tel: 517.884.4800)\n",
       "\n",
       "---\n",
       "\n",
       "Visit: [Orion Oaks County Park](http://www.michigan.org/property/orion-oaks-county-park), 2301 Clarkston Road, \n",
       "Orion Charter Township, MI 48360 (tel: 248.858.0906)\n",
       "\n",
       "Illinois | Chicago\n",
       "------------------\n",
       "\n",
       "---\n",
       "\n",
       "Visit: [Chicago](http://www.chooseChicago.com)\n",
       "\n",
       "Flights: [O’Hare International Airport](http://www.flyChicago.com/ohare/), 10000 West O'Hare Ave, Chicago, IL 60666\n",
       "(tel: 800.832.6352)\n",
       "\n",
       "Travel around: [Chicago Transit Authority](http://www.transitChicago.com)\n",
       "\n",
       "Visit: the [Aragon Ballroom](http://www.aragon.com), 1106 West Lawrence Avenue, Chicago, IL 60640 (tel: \n",
       "773.561.9500)\n",
       "\n",
       "California | Los Angeles\n",
       "------------------------\n",
       "\n",
       "---\n",
       "\n",
       "Visit: [Los Angeles](http://www.discoverlosangeles.com)\n",
       "\n",
       "Flights: [Los Angeles International Airport (LAX)](http://www.lawa.org/), 1 World Way, Los Angeles, CA 90045 (tel: \n",
       "424.646.5252)\n",
       "\n",
       "Travelling around: [Los Angeles Metro](http://www.metro.net)\n",
       "\n",
       "Visit: [Weingart Stadium](http://www.lasports.org/lafacilities/display.php?s=Stadium&id=17), East Los Angeles \n",
       "College, 1301 Avenida Cesar Chavez, Monterey Park, CA 91754 (tel: 323.265.8650)\n",
       "\n",
       "New Mexico\n",
       "----------\n",
       "\n",
       "---\n",
       "\n",
       "Visit: [New Mexico](http://www.newmexico.org)\n",
       "\n",
       "![Quantcast](//pixel.quantserve.com/pixel/p-Gk6yfNKKx53Zc.gif)\n",
       "\n",
       "[![123Stat hit counter](https://server2.123stat.com/6/1/7346.gif)](https://www.123stat.com)\n",
       "\n",
       "---\n",
       "\n",
       "* [Home](../../index.php)\n",
       "* [Films](../../movies.php)\n",
       "* [Places](../../places.php)\n",
       "* [People](../../people.php)\n",
       "* [Travel](../../travel.php)\n",
       "* [Features](../../features.php)\n",
       "* [Links](../../links.php)\n",
       "* [Contact](mailto:info@movie-locations.com)\n",
       "\n",
       "Please send any corrections or additions to [info@movie-locations.com](mailto:info@movie-locations.com). All \n",
       "material Copyright © 2025 The Worldwide Guide To Movie Locations\n",
       "\n",
       "================================================================================\n",
       "\n",
       "Content from https://en.wikipedia.org/wiki/The_Batman_(film):\n",
       "The Batman (film) - Wikipedia\n",
       "\n",
       "[Jump to content](#bodyContent)\n",
       "\n",
       "Main menu\n",
       "\n",
       "Main menu\n",
       "\n",
       "move to sidebar\n",
       "hide\n",
       "\n",
       "Navigation\n",
       "\n",
       "* [Main page](/wiki/Main_Page \"Visit the main page [z]\")\n",
       "* [Contents](/wiki/Wikipedia:Contents \"Guides to browsing Wikipedia\")\n",
       "* [Current events](/wiki/Portal:Current_events \"Articles related to current events\")\n",
       "* [Random article](/wiki/Special:Random \"Visit a randomly selected article [x]\")\n",
       "* [About Wikipedia](/wiki/Wikipedia:About \"Learn about Wikipedia and how it works\")\n",
       "* [Contact us](//en.wikipedia.org/wiki/Wikipedia:Contact_us \"How to contact Wikipedia\")\n",
       "\n",
       "Contribute\n",
       "\n",
       "* [Help](/wiki/Help:Contents \"Guidance on how to use and edit Wikipedia\")\n",
       "* [Learn to edit](/wiki/Help:Introduction \"Learn how to edit Wikipedia\")\n",
       "* [Community portal](/wiki/Wikipedia:Community_portal \"The hub for editors\")\n",
       "* [Recent changes](/wiki/Special:RecentChanges \"A list of recent changes to Wikipedia [r]\")\n",
       "* [Upload file](/wiki/Wikipedia:File_upload_wizard \"Add images or other media for use on Wikipedia\")\n",
       "* [Special pages](/wiki/Special:SpecialPages)\n",
       "\n",
       "[![](/static/images/icons/wikipedia.png)\n",
       "\n",
       "![Wikipedia](/static/images/mobile/copyright/wikipedia-wordmark-en.svg)\n",
       "![The Free Encyclopedia](/static/images/mobile/copyright/wikipedia-tagline-en.svg)](/wiki/Main_Page)\n",
       "\n",
       "[Search](/wiki/Special:Search \"Search Wikipedia [f]\")\n",
       "\n",
       "Search\n",
       "\n",
       "Appearance\n",
       "\n",
       "* \n",
       "[Donate](https://donate.wikimedia.org/?wmf_source=donate&wmf_medium=sidebar&wmf_campaign=en.wikipedia.org&uselang=e\n",
       "n)\n",
       "* [Create account](/w/index.php?title=Special:CreateAccount&returnto=The+Batman+%28film%29 \"You are encouraged to \n",
       "create an account and log in; however, it is not mandatory\")\n",
       "* [Log in](/w/index.php?title=Special:UserLogin&returnto=The+Batman+%28film%29 \"You're encouraged to log in; \n",
       "however, it's not mandatory. [o]\")\n",
       "\n",
       "Personal tools\n",
       "\n",
       "* \n",
       "[Donate](https://donate.wikimedia.org/?wmf_source=donate&wmf_medium=sidebar&wmf_campaign=en.wikipedia.org&uselang=e\n",
       "n)\n",
       "* [Create account](/w/index.php?title=Special:CreateAccount&returnto=The+Batman+%28film%29 \"You are encouraged to \n",
       "create an account and log in; however, it is not mandatory\")\n",
       "* [Log in](/w/index.php?title=Special:UserLogin&returnto=The+Batman+%28film%29 \"You're encouraged to log in; \n",
       "however, it's not mandatory. [o]\")\n",
       "\n",
       "Pages for logged out editors [learn more](/wiki/Help:Introduction)\n",
       "\n",
       "* [Contributions](/wiki/Special:MyContributions \"A list of edits made from this IP address [y]\")\n",
       "* [Talk](/wiki/Special:MyTalk \"Discussion about edits from this IP address [n]\")\n",
       "\n",
       "Contents\n",
       "--------\n",
       "\n",
       "move to sidebar\n",
       "hide\n",
       "\n",
       "* [(Top)](#)\n",
       "* [1\n",
       "  Plot](#Plot)\n",
       "* [2\n",
       "  Cast](#Cast)\n",
       "* [3\n",
       "  Production](#Production)\n",
       "\n",
       "  Toggle Production subsection\n",
       "  + [3.1\n",
       "    Development](#Development)\n",
       "    - [3.1.1\n",
       "      Early work and initial plans from Ben Affleck](#Early_work_and_initial_plans_from_Ben_Affleck)\n",
       "    - [3.1.2\n",
       "      Redevelopment under Matt Reeves](#Redevelopment_under_Matt_Reeves)\n",
       "  + [3.2\n",
       "    Writing](#Writing)\n",
       "  + [3.3\n",
       "    Casting](#Casting)\n",
       "  + [3.4\n",
       "    Design](#Design)\n",
       "    - [3.4.1\n",
       "      Sets and props](#Sets_and_props)\n",
       "    - [3.4.2\n",
       "      Batsuit](#Batsuit)\n",
       "    - [3.4.3\n",
       "      Other costumes](#Other_costumes)\n",
       "  + [3.5\n",
       "    Filming](#Filming)\n",
       "    - [3.5.1\n",
       "      Impact of the COVID-19 pandemic](#Impact_of_the_COVID-19_pandemic)\n",
       "  + [3.6\n",
       "    Editing](#Editing)\n",
       "  + [3.7\n",
       "    Visual effects](#Visual_effects)\n",
       "  + [3.8\n",
       "    Music](#Music)\n",
       "* [4\n",
       "  Marketing](#Marketing)\n",
       "* [5\n",
       "  Release](#Release)\n",
       "\n",
       "  Toggle Release subsection\n",
       "  + [5.1\n",
       "    Theatrical](#Theatrical)\n",
       "  + [5.2\n",
       "    Home media](#Home_media)\n",
       "* [6\n",
       "  Reception](#Reception)\n",
       "\n",
       "  Toggle Reception subsection\n",
       "  + [6.1\n",
       "    Box office](#Box_office)\n",
       "  + [6.2\n",
       "    Critical response](#Critical_response)\n",
       "  + [6.3\n",
       "    Accolades](#Accolades)\n",
       "* [7\n",
       "  Thematic analysis](#Thematic_analysis)\n",
       "\n",
       "  Toggle Thematic analysis subsection\n",
       "  + [7.1\n",
       "    Class conflict and inequality](#Class_conflict_and_inequality)\n",
       "  + [7.2\n",
       "    Depiction of Batman](#Depiction_of_Batman)\n",
       "* [8\n",
       "  Future](#Future)\n",
       "\n",
       "  Toggle Future subsection\n",
       "  + [8.1\n",
       "    *The Riddler: Year One* (2022–2023)](#The_Riddler:_Year_One_(2022–2023))\n",
       "  + [8.2\n",
       "    *The Penguin* (2024)](#The_Penguin_(2024))\n",
       "  + [8.3\n",
       "    Sequel (2027)](#Sequel_(2027))\n",
       "  + [8.4\n",
       "    Unproduced series](#Unproduced_series)\n",
       "* [9\n",
       "  Notes](#Notes)\n",
       "* [10\n",
       "  References](#References)\n",
       "\n",
       "  Toggle References subsection\n",
       "  + [10.1\n",
       "    Citations](#Citations)\n",
       "  + [10.2\n",
       "    Works cited](#Works_cited)\n",
       "* [11\n",
       "  External links](#External_links)\n",
       "\n",
       "Toggle the table of contents\n",
       "\n",
       "*The Batman* (film)\n",
       "===================\n",
       "\n",
       "51 languages\n",
       "\n",
       "* \n",
       "[العربية](https://ar.wikipedia.org/wiki/%D8%B0%D8%A7_%D8%A8%D8%A7%D8%AA%D9%85%D8%A7%D9%86_(%D9%81%D9%8A%D9%84%D9%85\n",
       ") \"ذا باتمان (فيلم) – Arabic\")\n",
       "* [Azərbaycanca](https://az.wikipedia.org/wiki/Betmen_(film,_2022) \"Betmen (film, 2022) – Azerbaijani\")\n",
       "* \n",
       "[বাংলা](https://bn.wikipedia.org/wiki/%E0%A6%A6%E0%A7%8D%E0%A6%AF_%E0%A6%AC%E0%A7%8D%E0%A6%AF%E0%A6%BE%E0%A6%9F%E0%A6%\n",
       "AE%E0%A7%8D%E0%A6%AF%E0%A6%BE%E0%A6%A8 \"দ্য ব্যাটম্যান – Bangla\")\n",
       "* [Беларуская](https://be.wikipedia.org/wiki/%D0%91%D1%8D%D1%\n",
       "..._This content has been truncated to stay below 10000 characters_...\n",
       "tegory:Live-action_films_based_on_DC_Comics \"Category:Live-action films based on DC Comics\")\n",
       "* [Penguin (character) in other media](/wiki/Category:Penguin_(character)_in_other_media \"Category:Penguin \n",
       "(character) in other media\")\n",
       "* [Productions using StageCraft](/wiki/Category:Productions_using_StageCraft \"Category:Productions using \n",
       "StageCraft\")\n",
       "* [Reboot films](/wiki/Category:Reboot_films \"Category:Reboot films\")\n",
       "* [Saturn Award–winning films](/wiki/Category:Saturn_Award%E2%80%93winning_films \"Category:Saturn Award–winning \n",
       "films\")\n",
       "* [ScreenX films](/wiki/Category:ScreenX_films \"Category:ScreenX films\")\n",
       "* [Warner Bros. films](/wiki/Category:Warner_Bros._films \"Category:Warner Bros. films\")\n",
       "\n",
       "Hidden categories:\n",
       "\n",
       "* [The Numbers ID different from Wikidata](/wiki/Category:The_Numbers_ID_different_from_Wikidata \"Category:The \n",
       "Numbers ID different from Wikidata\")\n",
       "* [IMDb ID (Cite Mojo) different from Wikidata](/wiki/Category:IMDb_ID_(Cite_Mojo)_different_from_Wikidata \n",
       "\"Category:IMDb ID (Cite Mojo) different from Wikidata\")\n",
       "* [CS1 French-language sources (fr)](/wiki/Category:CS1_French-language_sources_(fr) \"Category:CS1 French-language \n",
       "sources (fr)\")\n",
       "* [CS1 Spanish-language sources (es)](/wiki/Category:CS1_Spanish-language_sources_(es) \"Category:CS1 \n",
       "Spanish-language sources (es)\")\n",
       "* [Articles with short description](/wiki/Category:Articles_with_short_description \"Category:Articles with short \n",
       "description\")\n",
       "* [Short description matches Wikidata](/wiki/Category:Short_description_matches_Wikidata \"Category:Short \n",
       "description matches Wikidata\")\n",
       "* [Wikipedia indefinitely semi-protected pages](/wiki/Category:Wikipedia_indefinitely_semi-protected_pages \n",
       "\"Category:Wikipedia indefinitely semi-protected pages\")\n",
       "* [Use American English from April 2024](/wiki/Category:Use_American_English_from_April_2024 \"Category:Use American\n",
       "English from April 2024\")\n",
       "* [All Wikipedia articles written in American \n",
       "English](/wiki/Category:All_Wikipedia_articles_written_in_American_English \"Category:All Wikipedia articles written\n",
       "in American English\")\n",
       "* [Use list-defined references from April 2024](/wiki/Category:Use_list-defined_references_from_April_2024 \n",
       "\"Category:Use list-defined references from April 2024\")\n",
       "* [Use mdy dates from April 2024](/wiki/Category:Use_mdy_dates_from_April_2024 \"Category:Use mdy dates from April \n",
       "2024\")\n",
       "* [Template film date with 2 release dates](/wiki/Category:Template_film_date_with_2_release_dates \n",
       "\"Category:Template film date with 2 release dates\")\n",
       "* [Pages using multiple image with auto scaled \n",
       "images](/wiki/Category:Pages_using_multiple_image_with_auto_scaled_images \"Category:Pages using multiple image with\n",
       "auto scaled images\")\n",
       "* [Pages using Sister project links with hidden \n",
       "wikidata](/wiki/Category:Pages_using_Sister_project_links_with_hidden_wikidata \"Category:Pages using Sister project\n",
       "links with hidden wikidata\")\n",
       "* [Webarchive template wayback links](/wiki/Category:Webarchive_template_wayback_links \"Category:Webarchive \n",
       "template wayback links\")\n",
       "* [Pages containing links to subscription-only \n",
       "content](/wiki/Category:Pages_containing_links_to_subscription-only_content \"Category:Pages containing links to \n",
       "subscription-only content\")\n",
       "\n",
       "* This page was last edited on 3 March 2025, at 16:48 (UTC).\n",
       "* Text is available under the [Creative Commons Attribution-ShareAlike 4.0 \n",
       "License](/wiki/Wikipedia:Text_of_the_Creative_Commons_Attribution-ShareAlike_4.0_International_License \n",
       "\"Wikipedia:Text of the Creative Commons Attribution-ShareAlike 4.0 International License\");\n",
       "  additional terms may apply. By using this site, you agree to the [Terms of \n",
       "Use](https://foundation.wikimedia.org/wiki/Special:MyLanguage/Policy:Terms_of_Use \n",
       "\"foundation:Special:MyLanguage/Policy:Terms of Use\") and [Privacy \n",
       "Policy](https://foundation.wikimedia.org/wiki/Special:MyLanguage/Policy:Privacy_policy \n",
       "\"foundation:Special:MyLanguage/Policy:Privacy policy\"). Wikipedia® is a registered trademark of the [Wikimedia \n",
       "Foundation, Inc.](https://wikimediafoundation.org/), a non-profit organization.\n",
       "\n",
       "* [Privacy policy](https://foundation.wikimedia.org/wiki/Special:MyLanguage/Policy:Privacy_policy)\n",
       "* [About Wikipedia](/wiki/Wikipedia:About)\n",
       "* [Disclaimers](/wiki/Wikipedia:General_disclaimer)\n",
       "* [Contact Wikipedia](//en.wikipedia.org/wiki/Wikipedia:Contact_us)\n",
       "* [Code of Conduct](https://foundation.wikimedia.org/wiki/Special:MyLanguage/Policy:Universal_Code_of_Conduct)\n",
       "* [Developers](https://developer.wikimedia.org)\n",
       "* [Statistics](https://stats.wikimedia.org/#/en.wikipedia.org)\n",
       "* [Cookie statement](https://foundation.wikimedia.org/wiki/Special:MyLanguage/Policy:Cookie_statement)\n",
       "* [Mobile view](//en.m.wikipedia.org/w/index.php?title=The_Batman_(film)&mobileaction=toggle_view_mobile)\n",
       "\n",
       "* [![Wikimedia Foundation](/static/images/footer/wikimedia.svg)](https://wikimediafoundation.org/)\n",
       "* [![Powered by MediaWiki](/w/resources/assets/mediawiki_compact.svg)](https://www.mediawiki.org/)\n",
       "\n",
       "Search\n",
       "\n",
       "Search\n",
       "\n",
       "Toggle the table of contents\n",
       "\n",
       "*The Batman* (film)\n",
       "\n",
       "51 languages\n",
       "[Add topic](#)\n",
       "\n",
       "================================================================================\n",
       "\n",
       "Content from https://batman.fandom.com/wiki/Category:Film_Locations:\n",
       "Category:Film Locations | Batman Wiki | Fandom\n",
       "\n",
       "[Start a Wiki](//createnewwiki-143.fandom.com/Special:CreateNewWiki)\n",
       "\n",
       "[Sign \n",
       "In](https://auth.fandom.com/signin?source=mw&redirect=https%3A%2F%2Fbatman.fandom.com%2Fwiki%2FCategory%3AFilm_Loca\n",
       "tions)\n",
       "\n",
       "Don't have an account?\n",
       "\n",
       "[Register](https://auth.fandom.com/register?source=mw&redirect=https%3A%2F%2Fbatman.fandom.com%2Fwiki%2FCategory%3A\n",
       "Film_Locations) \n",
       "\n",
       "---\n",
       "\n",
       "[Sign \n",
       "In](https://auth.fandom.com/signin?source=mw&redirect=https%3A%2F%2Fbatman.fandom.com%2Fwiki%2FCategory%3AFilm_Loca\n",
       "tions)\n",
       "\n",
       "[![Batman \n",
       "Wiki](https://static.wikia.nocookie.net/batman/images/e/e6/Site-logo.png/revision/latest?cb=20231031220208)](https:\n",
       "//batman.fandom.com)\n",
       "[Batman Wiki](https://batman.fandom.com)\n",
       "\n",
       "* [Explore](#)\n",
       "\n",
       "  + [Main Page](https://batman.fandom.com/wiki/Batman_Wiki)\n",
       "  + [Discuss](/f)\n",
       "  + [All Pages](https://batman.fandom.com/wiki/Special:AllPages)\n",
       "  + [Community](https://batman.fandom.com/wiki/Special:Community)\n",
       "  + [Interactive Maps](https://batman.fandom.com/wiki/Special:AllMaps)\n",
       "  + [Recent Blog Posts](/Blog:Recent_posts)\n",
       "* [Characters](https://batman.fandom.com/wiki/Category:Characters)\n",
       "\n",
       "  + [Batman](https://batman.fandom.com/wiki/Batman_(Disambiguation)) \n",
       "\n",
       "    - [Bruce Wayne](https://batman.fandom.com/wiki/Batman)\n",
       "    - [Jace Fox](https://batman.fandom.com/wiki/Jace_Fox)\n",
       "    - [Terry McGinnis](https://batman.fandom.com/wiki/Terry_McGinnis)\n",
       "  + [Batman Family](https://batman.fandom.com/wiki/Batman_Family) \n",
       "\n",
       "    - [Dick Grayson](https://batman.fandom.com/wiki/Dick_Grayson)\n",
       "    - [Barbara Gordon](https://batman.fandom.com/wiki/Barbara_Gordon)\n",
       "    - [Tim Drake](https://batman.fandom.com/wiki/Tim_Drake)\n",
       "    - [Cassandra Cain](https://batman.fandom.com/wiki/Cassandra_Cain)\n",
       "    - [Stephanie Brown](https://batman.fandom.com/wiki/Stephanie_Brown)\n",
       "    - [Damian Wayne](https://batman.fandom.com/wiki/Damian_Wayne)\n",
       "    - [Kate Kane](https://batman.fandom.com/wiki/Batwoman_(Kate_Kane))\n",
       "    - [Duke Thomas](https://batman.fandom.com/wiki/Duke_Thomas)\n",
       "  + [Supporting](https://batman.fandom.com/wiki/Supporting) \n",
       "\n",
       "    - [Alfred Pennyworth](https://batman.fandom.com/wiki/Alfred_Pennyworth)\n",
       "    - [James Gordon](https://batman.fandom.com/wiki/James_Gordon)\n",
       "    - [Lucius Fox](https://batman.fandom.com/wiki/Lucius_Fox)\n",
       "    - [Harvey Bullock](https://batman.fandom.com/wiki/Harvey_Bullock)\n",
       "    - [Renee Montoya](https://batman.fandom.com/wiki/Renee_Montoya)\n",
       "    - [Vicki Vale](https://batman.fandom.com/wiki/Vicki_Vale)\n",
       "  + [Anti-Heroes](https://batman.fandom.com/wiki/Category:Anti-Heroes) \n",
       "\n",
       "    - [Catwoman](https://batman.fandom.com/wiki/Catwoman)\n",
       "    - [Bat-Mite](https://batman.fandom.com/wiki/Bat-Mite)\n",
       "    - [Talia al Ghul](https://batman.fandom.com/wiki/Talia_al_Ghul)\n",
       "    - [Jean-Paul Valley](https://batman.fandom.com/wiki/Azrael_(Jean-Paul_Valley))\n",
       "    - [Jason Todd](https://batman.fandom.com/wiki/Jason_Todd)\n",
       "    - [Harley Quinn](https://batman.fandom.com/wiki/Harley_Quinn)\n",
       "  + [Villains](https://batman.fandom.com/wiki/Category:Villains) \n",
       "\n",
       "    - [The Joker](https://batman.fandom.com/wiki/The_Joker)\n",
       "    - [Two-Face](https://batman.fandom.com/wiki/Two-Face)\n",
       "    - [Scarecrow](https://batman.fandom.com/wiki/Scarecrow)\n",
       "    - [Poison Ivy](https://batman.fandom.com/wiki/Poison_Ivy)\n",
       "    - [Ra's al Ghul](https://batman.fandom.com/wiki/Ra%27s_al_Ghul)\n",
       "    - [Mr. Freeze](https://batman.fandom.com/wiki/Mr._Freeze)\n",
       "    - [The Penguin](https://batman.fandom.com/wiki/The_Penguin)\n",
       "    - [Clayface](https://batman.fandom.com/wiki/Clayface)\n",
       "    - [The Riddler](https://batman.fandom.com/wiki/The_Riddler)\n",
       "    - [Bane](https://batman.fandom.com/wiki/Bane)\n",
       "  + [Teams](https://batman.fandom.com/wiki/Category:Teams) \n",
       "\n",
       "    - [Batman Family](https://batman.fandom.com/wiki/Batman_Family)\n",
       "    - [Gotham Police](https://batman.fandom.com/wiki/Gotham_City_Police_Department)\n",
       "    - [Outsiders](https://batman.fandom.com/wiki/The_Outsiders)\n",
       "    - [Batman Incorporated](https://batman.fandom.com/wiki/Batman_Incorporated)\n",
       "* [Comics](https://batman.fandom.com/wiki/Category:Comic_Books)\n",
       "\n",
       "  + [Batman](#) \n",
       "\n",
       "    - [Batman (2016-pres)](https://batman.fandom.com/wiki/Batman_(Volume_3))\n",
       "    - [Detective Comics](https://batman.fandom.com/wiki/Detective_Comics_(Volume_1))\n",
       "    - [World's Finest](https://batman.fandom.com/wiki/Batman_Superman:_The_World%27s_Finest)\n",
       "    - [Urban Legends](https://batman.fandom.com/wiki/Batman:_Urban_Legends)\n",
       "    - [I Am Batman](https://batman.fandom.com/wiki/I_Am_Batman_(Volume_1))\n",
       "  + [Supporting](#) \n",
       "\n",
       "    - [Catwoman](https://batman.fandom.com/wiki/Catwoman_(Volume_5))\n",
       "    - [Tim Drake: Robin](https://batman.fandom.com/wiki/Tim_Drake:_Robin_(Volume_1))\n",
       "    - [Batgirls](https://batman.fandom.com/wiki/Batgirls_(Volume_1))\n",
       "    - [Nightwing](https://batman.fandom.com/wiki/Nightwing_(Volume_4))\n",
       "    - [Batman Incorporated](https://batman.fandom.com/wiki/Batman_Incorporated_(Volume_3))\n",
       "    - [GCPD: The Blue Wall](https://batman.fandom.com/wiki/GCPD:_The_Blue_Wall)\n",
       "  + [Villain Focused](#) \n",
       "\n",
       "    - [Joker: Man Who Stopped Laug\n",
       "..._This content has been truncated to stay below 10000 characters_...\n",
       "[![Vicki Vale's \n",
       "apartment](https://static.wikia.nocookie.net/batman/images/f/fd/Vicki_Vale%27s_apartment.webp/revision/latest/smart\n",
       "/width/40/height/30?cb=20230401201639)\n",
       "  ![Vicki Vale's \n",
       "apartment](https://static.wikia.nocookie.net/batman/images/f/fd/Vicki_Vale%27s_apartment.webp/revision/latest/smart\n",
       "/width/40/height/30?cb=20230401201639)](/wiki/Vicki_Vale%27s_apartment \"Vicki Vale's apartment\")\n",
       "\n",
       "  [Vicki Vale's apartment](/wiki/Vicki_Vale%27s_apartment \"Vicki Vale's apartment\")\n",
       "\n",
       "W\n",
       "\n",
       "* [![Wayne Enterprises \n",
       "(Schumacherverse)](https://static.wikia.nocookie.net/batman/images/2/26/WayneEnterprisesBatmanForever.png/revision/\n",
       "latest/smart/width/40/height/30?cb=20170605062640)\n",
       "  ![Wayne Enterprises \n",
       "(Schumacherverse)](https://static.wikia.nocookie.net/batman/images/2/26/WayneEnterprisesBatmanForever.png/revision/\n",
       "latest/smart/width/40/height/30?cb=20170605062640)](/wiki/Wayne_Enterprises_(Schumacherverse) \"Wayne Enterprises \n",
       "(Schumacherverse)\")\n",
       "\n",
       "  [Wayne Enterprises (Schumacherverse)](/wiki/Wayne_Enterprises_(Schumacherverse) \"Wayne Enterprises \n",
       "(Schumacherverse)\")\n",
       "* [![Wayne Manor \n",
       "(Burtonverse)](https://static.wikia.nocookie.net/batman/images/9/9c/Batman_181.jpg/revision/latest/smart/width/40/h\n",
       "eight/30?cb=20170602064303)\n",
       "  ![Wayne Manor \n",
       "(Burtonverse)](https://static.wikia.nocookie.net/batman/images/9/9c/Batman_181.jpg/revision/latest/smart/width/40/h\n",
       "eight/30?cb=20170602064303)](/wiki/Wayne_Manor_(Burtonverse) \"Wayne Manor (Burtonverse)\")\n",
       "\n",
       "  [Wayne Manor (Burtonverse)](/wiki/Wayne_Manor_(Burtonverse) \"Wayne Manor (Burtonverse)\")\n",
       "* [![Wayne Manor \n",
       "(Dozierverse)](https://static.wikia.nocookie.net/batman/images/5/57/Wayne_Manor_%281960s_Batman%29.jpg/revision/lat\n",
       "est/smart/width/40/height/30?cb=20221130042318)\n",
       "  ![Wayne Manor \n",
       "(Dozierverse)](https://static.wikia.nocookie.net/batman/images/5/57/Wayne_Manor_%281960s_Batman%29.jpg/revision/lat\n",
       "est/smart/width/40/height/30?cb=20221130042318)](/wiki/Wayne_Manor_(Dozierverse) \"Wayne Manor (Dozierverse)\")\n",
       "\n",
       "  [Wayne Manor (Dozierverse)](/wiki/Wayne_Manor_(Dozierverse) \"Wayne Manor (Dozierverse)\")\n",
       "* [![Wayne Manor \n",
       "(Nolanverse)](https://static.wikia.nocookie.net/batman/images/d/d7/Waynemanor.jpg/revision/latest/smart/width/40/he\n",
       "ight/30?cb=20081016213717)\n",
       "  ![Wayne Manor \n",
       "(Nolanverse)](https://static.wikia.nocookie.net/batman/images/d/d7/Waynemanor.jpg/revision/latest/smart/width/40/he\n",
       "ight/30?cb=20081016213717)](/wiki/Wayne_Manor_(Nolanverse) \"Wayne Manor (Nolanverse)\")\n",
       "\n",
       "  [Wayne Manor (Nolanverse)](/wiki/Wayne_Manor_(Nolanverse) \"Wayne Manor (Nolanverse)\")\n",
       "* [![Wayne Tower \n",
       "(Nolanverse)](https://static.wikia.nocookie.net/batman/images/3/3b/Wayne-enterprises.jpg/revision/latest/smart/widt\n",
       "h/40/height/30?cb=20111022043630)\n",
       "  ![Wayne Tower \n",
       "(Nolanverse)](https://static.wikia.nocookie.net/batman/images/3/3b/Wayne-enterprises.jpg/revision/latest/smart/widt\n",
       "h/40/height/30?cb=20111022043630)](/wiki/Wayne_Tower_(Nolanverse) \"Wayne Tower (Nolanverse)\")\n",
       "\n",
       "  [Wayne Tower (Nolanverse)](/wiki/Wayne_Tower_(Nolanverse) \"Wayne Tower (Nolanverse)\")\n",
       "\n",
       "Y\n",
       "\n",
       "* [Ye Olde Benbow Taverne](/wiki/Ye_Olde_Benbow_Taverne \"Ye Olde Benbow Taverne\")\n",
       "\n",
       "Categories  \n",
       "\n",
       "* [Categories](/wiki/Special:Categories \"Special:Categories\"):\n",
       "* [Film](/wiki/Category:Film \"Category:Film\")\n",
       "* [Locations](/wiki/Category:Locations \"Category:Locations\")\n",
       "\n",
       "Community content is available under [CC-BY-SA](https://www.fandom.com/licensing) unless otherwise noted.\n",
       "\n",
       "More Fandoms\n",
       "\n",
       "* [Horror](https://www.fandom.com/fancentral/horror)\n",
       "* [Sci-fi](https://www.fandom.com/fancentral/sci-fi)\n",
       "* [Batman](https://www.fandom.com/universe/batman)\n",
       "\n",
       "Advertisement\n",
       "\n",
       "[Fandom logo](https://www.fandom.com/ \"Fandom logo\")\n",
       "----------------------------------------------------\n",
       "\n",
       "### Explore properties\n",
       "\n",
       "* [Fandom](https://www.fandom.com/)\n",
       "* [Muthead](https://www.muthead.com/)\n",
       "* [Fanatical](https://www.fanatical.com/)\n",
       "\n",
       "### Follow Us\n",
       "\n",
       "### Overview\n",
       "\n",
       "* [What is Fandom?](https://www.fandom.com/what-is-fandom)\n",
       "* [About](https://www.fandom.com/about)\n",
       "* [Careers](https://www.fandom.com/careers)\n",
       "* [Press](https://www.fandom.com/press)\n",
       "* [Contact](https://www.fandom.com/about#contact)\n",
       "* [Terms of Use](https://www.fandom.com/terms-of-use)\n",
       "* [Privacy Policy](https://www.fandom.com/privacy-policy)\n",
       "* [Digital Services Act](https://www.fandom.com/digital-services-act)\n",
       "* [Global Sitemap](//community.fandom.com/Sitemap)\n",
       "* [Local Sitemap](/wiki/Local_Sitemap)\n",
       "\n",
       "### Community\n",
       "\n",
       "* [Community Central](//community.fandom.com/wiki/Community_Central)\n",
       "* [Support](https://fandom.zendesk.com/)\n",
       "* [Help](//community.fandom.com/wiki/Help:Contents)\n",
       "\n",
       "### Advertise\n",
       "\n",
       "* [Media Kit](https://about.fandom.com/mediakit)\n",
       "* [Contact](https://about.fandom.com/mediakit#contact)\n",
       "\n",
       "### Fandom Apps\n",
       "\n",
       "Take your favorite fandoms with you and never miss a beat.\n",
       "\n",
       "![Fandom App logo](https://static.wikia.nocookie.net/6c42ce6a-b205-41f5-82c6-5011721932e7)\n",
       "\n",
       "Batman Wiki is a FANDOM Comics Community.\n",
       "\n",
       "View Mobile Site\n",
       "\n",
       "[Follow on IG](https://bit.ly/FandomIG)\n",
       "[TikTok](https://bit.ly/TikTokFandom)\n",
       "[Join Fan Lab](https://bit.ly/FanLabWikiBar)\n",
       "\n",
       "================================================================================\n",
       "\n",
       "\n",
       "Out: Category:Film Locations | Batman Wiki | Fandom\n",
       "\n",
       "[Start a Wiki](//createnewwiki-143.fandom.com/Special:CreateNewWiki)\n",
       "\n",
       "[Sign \n",
       "In](https://auth.fandom.com/signin?source=mw&redirect=https%3A%2F%2Fbatman.fandom.com%2Fwiki%2FCategory%3AFilm_Loca\n",
       "tions)\n",
       "\n",
       "Don't have an account?\n",
       "\n",
       "[Register](https://auth.fandom.com/register?source=mw&redirect=https%3A%2F%2Fbatman.fandom.com%2Fwiki%2FCategory%3A\n",
       "Film_Locations) \n",
       "\n",
       "---\n",
       "\n",
       "[Sign \n",
       "In](https://auth.fandom.com/signin?source=mw&redirect=https%3A%2F%2Fbatman.fandom.com%2Fwiki%2FCategory%3AFilm_Loca\n",
       "tions)\n",
       "\n",
       "[![Batman \n",
       "Wiki](https://static.wikia.nocookie.net/batman/images/e/e6/Site-logo.png/revision/latest?cb=20231031220208)](https:\n",
       "//batman.fandom.com)\n",
       "[Batman Wiki](https://batman.fandom.com)\n",
       "\n",
       "* [Explore](#)\n",
       "\n",
       "  + [Main Page](https://batman.fandom.com/wiki/Batman_Wiki)\n",
       "  + [Discuss](/f)\n",
       "  + [All Pages](https://batman.fandom.com/wiki/Special:AllPages)\n",
       "  + [Community](https://batman.fandom.com/wiki/Special:Community)\n",
       "  + [Interactive Maps](https://batman.fandom.com/wiki/Special:AllMaps)\n",
       "  + [Recent Blog Posts](/Blog:Recent_posts)\n",
       "* [Characters](https://batman.fandom.com/wiki/Category:Characters)\n",
       "\n",
       "  + [Batman](https://batman.fandom.com/wiki/Batman_(Disambiguation)) \n",
       "\n",
       "    - [Bruce Wayne](https://batman.fandom.com/wiki/Batman)\n",
       "    - [Jace Fox](https://batman.fandom.com/wiki/Jace_Fox)\n",
       "    - [Terry McGinnis](https://batman.fandom.com/wiki/Terry_McGinnis)\n",
       "  + [Batman Family](https://batman.fandom.com/wiki/Batman_Family) \n",
       "\n",
       "    - [Dick Grayson](https://batman.fandom.com/wiki/Dick_Grayson)\n",
       "    - [Barbara Gordon](https://batman.fandom.com/wiki/Barbara_Gordon)\n",
       "    - [Tim Drake](https://batman.fandom.com/wiki/Tim_Drake)\n",
       "    - [Cassandra Cain](https://batman.fandom.com/wiki/Cassandra_Cain)\n",
       "    - [Stephanie Brown](https://batman.fandom.com/wiki/Stephanie_Brown)\n",
       "    - [Damian Wayne](https://batman.fandom.com/wiki/Damian_Wayne)\n",
       "    - [Kate Kane](https://batman.fandom.com/wiki/Batwoman_(Kate_Kane))\n",
       "    - [Duke Thomas](https://batman.fandom.com/wiki/Duke_Thomas)\n",
       "  + [Supporting](https://batman.fandom.com/wiki/Supporting) \n",
       "\n",
       "    - [Alfred Pennyworth](https://batman.fandom.com/wiki/Alfred_Pennyworth)\n",
       "    - [James Gordon](https://batman.fandom.com/wiki/James_Gordon)\n",
       "    - [Lucius Fox](https://batman.fandom.com/wiki/Lucius_Fox)\n",
       "    - [Harvey Bullock](https://batman.fandom.com/wiki/Harvey_Bullock)\n",
       "    - [Renee Montoya](https://batman.fandom.com/wiki/Renee_Montoya)\n",
       "    - [Vicki Vale](https://batman.fandom.com/wiki/Vicki_Vale)\n",
       "  + [Anti-Heroes](https://batman.fandom.com/wiki/Category:Anti-Heroes) \n",
       "\n",
       "    - [Catwoman](https://batman.fandom.com/wiki/Catwoman)\n",
       "    - [Bat-Mite](https://batman.fandom.com/wiki/Bat-Mite)\n",
       "    - [Talia al Ghul](https://batman.fandom.com/wiki/Talia_al_Ghul)\n",
       "    - [Jean-Paul Valley](https://batman.fandom.com/wiki/Azrael_(Jean-Paul_Valley))\n",
       "    - [Jason Todd](https://batman.fandom.com/wiki/Jason_Todd)\n",
       "    - [Harley Quinn](https://batman.fandom.com/wiki/Harley_Quinn)\n",
       "  + [Villains](https://batman.fandom.com/wiki/Category:Villains) \n",
       "\n",
       "    - [The Joker](https://batman.fandom.com/wiki/The_Joker)\n",
       "    - [Two-Face](https://batman.fandom.com/wiki/Two-Face)\n",
       "    - [Scarecrow](https://batman.fandom.com/wiki/Scarecrow)\n",
       "    - [Poison Ivy](https://batman.fandom.com/wiki/Poison_Ivy)\n",
       "    - [Ra's al Ghul](https://batman.fandom.com/wiki/Ra%27s_al_Ghul)\n",
       "    - [Mr. Freeze](https://batman.fandom.com/wiki/Mr._Freeze)\n",
       "    - [The Penguin](https://batman.fandom.com/wiki/The_Penguin)\n",
       "    - [Clayface](https://batman.fandom.com/wiki/Clayface)\n",
       "    - [The Riddler](https://batman.fandom.com/wiki/The_Riddler)\n",
       "    - [Bane](https://batman.fandom.com/wiki/Bane)\n",
       "  + [Teams](https://batman.fandom.com/wiki/Category:Teams) \n",
       "\n",
       "    - [Batman Family](https://batman.fandom.com/wiki/Batman_Family)\n",
       "    - [Gotham Police](https://batman.fandom.com/wiki/Gotham_City_Police_Department)\n",
       "    - [Outsiders](https://batman.fandom.com/wiki/The_Outsiders)\n",
       "    - [Batman Incorporated](https://batman.fandom.com/wiki/Batman_Incorporated)\n",
       "* [Comics](https://batman.fandom.com/wiki/Category:Comic_Books)\n",
       "\n",
       "  + [Batman](#) \n",
       "\n",
       "    - [Batman (2016-pres)](https://batman.fandom.com/wiki/Batman_(Volume_3))\n",
       "    - [Detective Comics](https://batman.fandom.com/wiki/Detective_Comics_(Volume_1))\n",
       "    - [World's Finest](https://batman.fandom.com/wiki/Batman_Superman:_The_World%27s_Finest)\n",
       "    - [Urban Legends](https://batman.fandom.com/wiki/Batman:_Urban_Legends)\n",
       "    - [I Am Batman](https://batman.fandom.com/wiki/I_Am_Batman_(Volume_1))\n",
       "  + [Supporting](#) \n",
       "\n",
       "    - [Catwoman](https://batman.fandom.com/wiki/Catwoman_(Volume_5))\n",
       "    - [Tim Drake: Robin](https://batman.fandom.com/wiki/Tim_Drake:_Robin_(Volume_1))\n",
       "    - [Batgirls](https://batman.fandom.com/wiki/Batgirls_(Volume_1))\n",
       "    - [Nightwing](https://batman.fandom.com/wiki/Nightwing_(Volume_4))\n",
       "    - [Batman Incorporated](https://batman.fandom.com/wiki/Batman_Incorporated_(Volume_3))\n",
       "    - [GCPD: The Blue Wall](https://batman.fandom.com/wiki/GCPD:_The_Blue_Wall)\n",
       "  + [Villain Focused](#) \n",
       "\n",
       "    - [Joker: Man Who Stopped Laug\n",
       "..._This content has been truncated to stay below 10000 characters_...\n",
       "[![Vicki Vale's \n",
       "apartment](https://static.wikia.nocookie.net/batman/images/f/fd/Vicki_Vale%27s_apartment.webp/revision/latest/smart\n",
       "/width/40/height/30?cb=20230401201639)\n",
       "  ![Vicki Vale's \n",
       "apartment](https://static.wikia.nocookie.net/batman/images/f/fd/Vicki_Vale%27s_apartment.webp/revision/latest/smart\n",
       "/width/40/height/30?cb=20230401201639)](/wiki/Vicki_Vale%27s_apartment \"Vicki Vale's apartment\")\n",
       "\n",
       "  [Vicki Vale's apartment](/wiki/Vicki_Vale%27s_apartment \"Vicki Vale's apartment\")\n",
       "\n",
       "W\n",
       "\n",
       "* [![Wayne Enterprises \n",
       "(Schumacherverse)](https://static.wikia.nocookie.net/batman/images/2/26/WayneEnterprisesBatmanForever.png/revision/\n",
       "latest/smart/width/40/height/30?cb=20170605062640)\n",
       "  ![Wayne Enterprises \n",
       "(Schumacherverse)](https://static.wikia.nocookie.net/batman/images/2/26/WayneEnterprisesBatmanForever.png/revision/\n",
       "latest/smart/width/40/height/30?cb=20170605062640)](/wiki/Wayne_Enterprises_(Schumacherverse) \"Wayne Enterprises \n",
       "(Schumacherverse)\")\n",
       "\n",
       "  [Wayne Enterprises (Schumacherverse)](/wiki/Wayne_Enterprises_(Schumacherverse) \"Wayne Enterprises \n",
       "(Schumacherverse)\")\n",
       "* [![Wayne Manor \n",
       "(Burtonverse)](https://static.wikia.nocookie.net/batman/images/9/9c/Batman_181.jpg/revision/latest/smart/width/40/h\n",
       "eight/30?cb=20170602064303)\n",
       "  ![Wayne Manor \n",
       "(Burtonverse)](https://static.wikia.nocookie.net/batman/images/9/9c/Batman_181.jpg/revision/latest/smart/width/40/h\n",
       "eight/30?cb=20170602064303)](/wiki/Wayne_Manor_(Burtonverse) \"Wayne Manor (Burtonverse)\")\n",
       "\n",
       "  [Wayne Manor (Burtonverse)](/wiki/Wayne_Manor_(Burtonverse) \"Wayne Manor (Burtonverse)\")\n",
       "* [![Wayne Manor \n",
       "(Dozierverse)](https://static.wikia.nocookie.net/batman/images/5/57/Wayne_Manor_%281960s_Batman%29.jpg/revision/lat\n",
       "est/smart/width/40/height/30?cb=20221130042318)\n",
       "  ![Wayne Manor \n",
       "(Dozierverse)](https://static.wikia.nocookie.net/batman/images/5/57/Wayne_Manor_%281960s_Batman%29.jpg/revision/lat\n",
       "est/smart/width/40/height/30?cb=20221130042318)](/wiki/Wayne_Manor_(Dozierverse) \"Wayne Manor (Dozierverse)\")\n",
       "\n",
       "  [Wayne Manor (Dozierverse)](/wiki/Wayne_Manor_(Dozierverse) \"Wayne Manor (Dozierverse)\")\n",
       "* [![Wayne Manor \n",
       "(Nolanverse)](https://static.wikia.nocookie.net/batman/images/d/d7/Waynemanor.jpg/revision/latest/smart/width/40/he\n",
       "ight/30?cb=20081016213717)\n",
       "  ![Wayne Manor \n",
       "(Nolanverse)](https://static.wikia.nocookie.net/batman/images/d/d7/Waynemanor.jpg/revision/latest/smart/width/40/he\n",
       "ight/30?cb=20081016213717)](/wiki/Wayne_Manor_(Nolanverse) \"Wayne Manor (Nolanverse)\")\n",
       "\n",
       "  [Wayne Manor (Nolanverse)](/wiki/Wayne_Manor_(Nolanverse) \"Wayne Manor (Nolanverse)\")\n",
       "* [![Wayne Tower \n",
       "(Nolanverse)](https://static.wikia.nocookie.net/batman/images/3/3b/Wayne-enterprises.jpg/revision/latest/smart/widt\n",
       "h/40/height/30?cb=20111022043630)\n",
       "  ![Wayne Tower \n",
       "(Nolanverse)](https://static.wikia.nocookie.net/batman/images/3/3b/Wayne-enterprises.jpg/revision/latest/smart/widt\n",
       "h/40/height/30?cb=20111022043630)](/wiki/Wayne_Tower_(Nolanverse) \"Wayne Tower (Nolanverse)\")\n",
       "\n",
       "  [Wayne Tower (Nolanverse)](/wiki/Wayne_Tower_(Nolanverse) \"Wayne Tower (Nolanverse)\")\n",
       "\n",
       "Y\n",
       "\n",
       "* [Ye Olde Benbow Taverne](/wiki/Ye_Olde_Benbow_Taverne \"Ye Olde Benbow Taverne\")\n",
       "\n",
       "Categories  \n",
       "\n",
       "* [Categories](/wiki/Special:Categories \"Special:Categories\"):\n",
       "* [Film](/wiki/Category:Film \"Category:Film\")\n",
       "* [Locations](/wiki/Category:Locations \"Category:Locations\")\n",
       "\n",
       "Community content is available under [CC-BY-SA](https://www.fandom.com/licensing) unless otherwise noted.\n",
       "\n",
       "More Fandoms\n",
       "\n",
       "* [Horror](https://www.fandom.com/fancentral/horror)\n",
       "* [Sci-fi](https://www.fandom.com/fancentral/sci-fi)\n",
       "* [Batman](https://www.fandom.com/universe/batman)\n",
       "\n",
       "Advertisement\n",
       "\n",
       "[Fandom logo](https://www.fandom.com/ \"Fandom logo\")\n",
       "----------------------------------------------------\n",
       "\n",
       "### Explore properties\n",
       "\n",
       "* [Fandom](https://www.fandom.com/)\n",
       "* [Muthead](https://www.muthead.com/)\n",
       "* [Fanatical](https://www.fanatical.com/)\n",
       "\n",
       "### Follow Us\n",
       "\n",
       "### Overview\n",
       "\n",
       "* [What is Fandom?](https://www.fandom.com/what-is-fandom)\n",
       "* [About](https://www.fandom.com/about)\n",
       "* [Careers](https://www.fandom.com/careers)\n",
       "* [Press](https://www.fandom.com/press)\n",
       "* [Contact](https://www.fandom.com/about#contact)\n",
       "* [Terms of Use](https://www.fandom.com/terms-of-use)\n",
       "* [Privacy Policy](https://www.fandom.com/privacy-policy)\n",
       "* [Digital Services Act](https://www.fandom.com/digital-services-act)\n",
       "* [Global Sitemap](//community.fandom.com/Sitemap)\n",
       "* [Local Sitemap](/wiki/Local_Sitemap)\n",
       "\n",
       "### Community\n",
       "\n",
       "* [Community Central](//community.fandom.com/wiki/Community_Central)\n",
       "* [Support](https://fandom.zendesk.com/)\n",
       "* [Help](//community.fandom.com/wiki/Help:Contents)\n",
       "\n",
       "### Advertise\n",
       "\n",
       "* [Media Kit](https://about.fandom.com/mediakit)\n",
       "* [Contact](https://about.fandom.com/mediakit#contact)\n",
       "\n",
       "### Fandom Apps\n",
       "\n",
       "Take your favorite fandoms with you and never miss a beat.\n",
       "\n",
       "![Fandom App logo](https://static.wikia.nocookie.net/6c42ce6a-b205-41f5-82c6-5011721932e7)\n",
       "\n",
       "Batman Wiki is a FANDOM Comics Community.\n",
       "\n",
       "View Mobile Site\n",
       "\n",
       "[Follow on IG](https://bit.ly/FandomIG)\n",
       "[TikTok](https://bit.ly/TikTokFandom)\n",
       "[Join Fan Lab](https://bit.ly/FanLabWikiBar)\n"
      ]
     },
     "metadata": {},
     "output_type": "display_data"
    },
    {
     "data": {
      "text/html": [
       "<pre style=\"white-space:pre;overflow-x:auto;line-height:normal;font-family:Menlo,'DejaVu Sans Mono',consolas,'Courier New',monospace\"><span style=\"color: #7f7f7f; text-decoration-color: #7f7f7f\">[Step 2: Duration 21.03 seconds| Input tokens: 9,641 | Output tokens: 1,264]</span>\n",
       "</pre>\n"
      ],
      "text/plain": [
       "\u001b[2m[Step 2: Duration 21.03 seconds| Input tokens: 9,641 | Output tokens: 1,264]\u001b[0m\n"
      ]
     },
     "metadata": {},
     "output_type": "display_data"
    },
    {
     "data": {
      "text/html": [
       "<pre style=\"white-space:pre;overflow-x:auto;line-height:normal;font-family:Menlo,'DejaVu Sans Mono',consolas,'Courier New',monospace\"><span style=\"color: #d4b702; text-decoration-color: #d4b702\">━━━━━━━━━━━━━━━━━━━━━━━━━━━━━━━━━━━━━━━━━━━━━━━━━━━━━ </span><span style=\"font-weight: bold\">Step </span><span style=\"color: #008080; text-decoration-color: #008080; font-weight: bold\">3</span><span style=\"color: #d4b702; text-decoration-color: #d4b702\"> ━━━━━━━━━━━━━━━━━━━━━━━━━━━━━━━━━━━━━━━━━━━━━━━━━━━━━━</span>\n",
       "</pre>\n"
      ],
      "text/plain": [
       "\u001b[38;2;212;183;2m━━━━━━━━━━━━━━━━━━━━━━━━━━━━━━━━━━━━━━━━━━━━━━━━━━━━━ \u001b[0m\u001b[1mStep \u001b[0m\u001b[1;36m3\u001b[0m\u001b[38;2;212;183;2m ━━━━━━━━━━━━━━━━━━━━━━━━━━━━━━━━━━━━━━━━━━━━━━━━━━━━━━\u001b[0m\n"
      ]
     },
     "metadata": {},
     "output_type": "display_data"
    },
    {
     "data": {
      "text/html": [
       "<pre style=\"white-space:pre;overflow-x:auto;line-height:normal;font-family:Menlo,'DejaVu Sans Mono',consolas,'Courier New',monospace\"> ─ <span style=\"font-weight: bold\">Executing parsed code:</span> ──────────────────────────────────────────────────────────────────────────────────────── \n",
       "  <span style=\"color: #f92672; text-decoration-color: #f92672; background-color: #272822\">import</span><span style=\"color: #f8f8f2; text-decoration-color: #f8f8f2; background-color: #272822\"> pandas </span><span style=\"color: #66d9ef; text-decoration-color: #66d9ef; background-color: #272822\">as</span><span style=\"color: #f8f8f2; text-decoration-color: #f8f8f2; background-color: #272822\"> pd</span><span style=\"background-color: #272822\">                                                                                            </span>  \n",
       "  <span style=\"background-color: #272822\">                                                                                                               </span>  \n",
       "  <span style=\"color: #75715e; text-decoration-color: #75715e; background-color: #272822\"># Initialize an empty list to store the data</span><span style=\"background-color: #272822\">                                                                   </span>  \n",
       "  <span style=\"color: #f8f8f2; text-decoration-color: #f8f8f2; background-color: #272822\">data </span><span style=\"color: #f92672; text-decoration-color: #f92672; background-color: #272822\">=</span><span style=\"color: #f8f8f2; text-decoration-color: #f8f8f2; background-color: #272822\"> []</span><span style=\"background-color: #272822\">                                                                                                      </span>  \n",
       "  <span style=\"background-color: #272822\">                                                                                                               </span>  \n",
       "  <span style=\"color: #75715e; text-decoration-color: #75715e; background-color: #272822\"># Extract data from the visited URLs</span><span style=\"background-color: #272822\">                                                                           </span>  \n",
       "  <span style=\"color: #75715e; text-decoration-color: #75715e; background-color: #272822\"># URL 1: https://movie-locations.com/movies/b/The-Batman-2022-2.php</span><span style=\"background-color: #272822\">                                            </span>  \n",
       "  <span style=\"color: #f8f8f2; text-decoration-color: #f8f8f2; background-color: #272822\">url1_content </span><span style=\"color: #f92672; text-decoration-color: #f92672; background-color: #272822\">=</span><span style=\"color: #f8f8f2; text-decoration-color: #f8f8f2; background-color: #272822\"> </span><span style=\"color: #e6db74; text-decoration-color: #e6db74; background-color: #272822\">\"\"\"</span><span style=\"background-color: #272822\">                                                                                             </span>  \n",
       "  <span style=\"color: #e6db74; text-decoration-color: #e6db74; background-color: #272822\">The Batman | Film Locations</span><span style=\"background-color: #272822\">                                                                                    </span>  \n",
       "  <span style=\"background-color: #272822\">                                                                                                               </span>  \n",
       "  <span style=\"color: #e6db74; text-decoration-color: #e6db74; background-color: #272822\">Film locations for The Batman (2022) in Liverpool, London, Glasgow and Chicago.</span><span style=\"background-color: #272822\">                                </span>  \n",
       "  <span style=\"color: #e6db74; text-decoration-color: #e6db74; background-color: #272822\">- St George's Hall, Liverpool, England, UK</span><span style=\"background-color: #272822\">                                                                     </span>  \n",
       "  <span style=\"color: #e6db74; text-decoration-color: #e6db74; background-color: #272822\">- Royal Liver Building, Liverpool, England, UK</span><span style=\"background-color: #272822\">                                                                 </span>  \n",
       "  <span style=\"color: #e6db74; text-decoration-color: #e6db74; background-color: #272822\">- Bridge of Sighs, Glasgow Necropolis, Glasgow, Scotland, UK</span><span style=\"background-color: #272822\">                                                   </span>  \n",
       "  <span style=\"color: #e6db74; text-decoration-color: #e6db74; background-color: #272822\">- Anfield Cemetery, Liverpool, England, UK</span><span style=\"background-color: #272822\">                                                                     </span>  \n",
       "  <span style=\"color: #e6db74; text-decoration-color: #e6db74; background-color: #272822\">- Michigan Central Station, Detroit, Michigan, USA</span><span style=\"background-color: #272822\">                                                             </span>  \n",
       "  <span style=\"color: #e6db74; text-decoration-color: #e6db74; background-color: #272822\">- Hygrade Deli, Detroit, Michigan, USA</span><span style=\"background-color: #272822\">                                                                         </span>  \n",
       "  <span style=\"color: #e6db74; text-decoration-color: #e6db74; background-color: #272822\">\"\"\"</span><span style=\"background-color: #272822\">                                                                                                            </span>  \n",
       "  <span style=\"background-color: #272822\">                                                                                                               </span>  \n",
       "  <span style=\"color: #75715e; text-decoration-color: #75715e; background-color: #272822\"># URL 2: https://www.atlasofwonders.com/2022/04/where-was-the-batman-filmed.html</span><span style=\"background-color: #272822\">                               </span>  \n",
       "  <span style=\"color: #f8f8f2; text-decoration-color: #f8f8f2; background-color: #272822\">url2_content </span><span style=\"color: #f92672; text-decoration-color: #f92672; background-color: #272822\">=</span><span style=\"color: #f8f8f2; text-decoration-color: #f8f8f2; background-color: #272822\"> </span><span style=\"color: #e6db74; text-decoration-color: #e6db74; background-color: #272822\">\"\"\"</span><span style=\"background-color: #272822\">                                                                                             </span>  \n",
       "  <span style=\"color: #e6db74; text-decoration-color: #e6db74; background-color: #272822\">Where was The Batman filmed? ALL the Filming Locations in Chicago &amp; The UK</span><span style=\"background-color: #272822\">                                     </span>  \n",
       "  <span style=\"background-color: #272822\">                                                                                                               </span>  \n",
       "  <span style=\"color: #e6db74; text-decoration-color: #e6db74; background-color: #272822\">- Two Temple Place, London, England, UK</span><span style=\"background-color: #272822\">                                                                        </span>  \n",
       "  <span style=\"color: #e6db74; text-decoration-color: #e6db74; background-color: #272822\">- St George's Hall, Liverpool, England, UK</span><span style=\"background-color: #272822\">                                                                     </span>  \n",
       "  <span style=\"color: #e6db74; text-decoration-color: #e6db74; background-color: #272822\">- Wellington's Column, Liverpool, England, UK</span><span style=\"background-color: #272822\">                                                                  </span>  \n",
       "  <span style=\"color: #e6db74; text-decoration-color: #e6db74; background-color: #272822\">- Steble Fountain, Liverpool, England, UK</span><span style=\"background-color: #272822\">                                                                      </span>  \n",
       "  <span style=\"color: #e6db74; text-decoration-color: #e6db74; background-color: #272822\">- Bank of Gotham, St George's Hall, Liverpool, England, UK</span><span style=\"background-color: #272822\">                                                     </span>  \n",
       "  <span style=\"color: #e6db74; text-decoration-color: #e6db74; background-color: #272822\">\"\"\"</span><span style=\"background-color: #272822\">                                                                                                            </span>  \n",
       "  <span style=\"background-color: #272822\">                                                                                                               </span>  \n",
       "  <span style=\"color: #75715e; text-decoration-color: #75715e; background-color: #272822\"># URL 3: https://movie-locations.com/movies/b/Batman-V-Superman.php</span><span style=\"background-color: #272822\">                                            </span>  \n",
       "  <span style=\"color: #f8f8f2; text-decoration-color: #f8f8f2; background-color: #272822\">url3_content </span><span style=\"color: #f92672; text-decoration-color: #f92672; background-color: #272822\">=</span><span style=\"color: #f8f8f2; text-decoration-color: #f8f8f2; background-color: #272822\"> </span><span style=\"color: #e6db74; text-decoration-color: #e6db74; background-color: #272822\">\"\"\"</span><span style=\"background-color: #272822\">                                                                                             </span>  \n",
       "  <span style=\"color: #e6db74; text-decoration-color: #e6db74; background-color: #272822\">Batman v Superman: Dawn Of Justice | 2016</span><span style=\"background-color: #272822\">                                                                      </span>  \n",
       "  <span style=\"background-color: #272822\">                                                                                                               </span>  \n",
       "  <span style=\"color: #e6db74; text-decoration-color: #e6db74; background-color: #272822\">Film locations for Batman v Superman: Dawn Of Justice, in Detroit, Chicago, Los Angeles and New Mexico.</span><span style=\"background-color: #272822\">        </span>  \n",
       "  <span style=\"color: #e6db74; text-decoration-color: #e6db74; background-color: #272822\">- Michigan Central Station, Detroit, Michigan, USA</span><span style=\"background-color: #272822\">                                                             </span>  \n",
       "  <span style=\"color: #e6db74; text-decoration-color: #e6db74; background-color: #272822\">- Hygrade Deli, Detroit, Michigan, USA</span><span style=\"background-color: #272822\">                                                                         </span>  \n",
       "  <span style=\"color: #e6db74; text-decoration-color: #e6db74; background-color: #272822\">- Aragon Ballroom, Chicago, Illinois, USA</span><span style=\"background-color: #272822\">                                                                      </span>  \n",
       "  <span style=\"color: #e6db74; text-decoration-color: #e6db74; background-color: #272822\">- Weingart Stadium, East Los Angeles College, Los Angeles, California, USA</span><span style=\"background-color: #272822\">                                     </span>  \n",
       "  <span style=\"color: #e6db74; text-decoration-color: #e6db74; background-color: #272822\">\"\"\"</span><span style=\"background-color: #272822\">                                                                                                            </span>  \n",
       "  <span style=\"background-color: #272822\">                                                                                                               </span>  \n",
       "  <span style=\"color: #75715e; text-decoration-color: #75715e; background-color: #272822\"># URL 4: https://en.wikipedia.org/wiki/The_Batman_(film)</span><span style=\"background-color: #272822\">                                                       </span>  \n",
       "  <span style=\"color: #f8f8f2; text-decoration-color: #f8f8f2; background-color: #272822\">url4_content </span><span style=\"color: #f92672; text-decoration-color: #f92672; background-color: #272822\">=</span><span style=\"color: #f8f8f2; text-decoration-color: #f8f8f2; background-color: #272822\"> </span><span style=\"color: #e6db74; text-decoration-color: #e6db74; background-color: #272822\">\"\"\"</span><span style=\"background-color: #272822\">                                                                                             </span>  \n",
       "  <span style=\"color: #e6db74; text-decoration-color: #e6db74; background-color: #272822\">The Batman (film) - Wikipedia</span><span style=\"background-color: #272822\">                                                                                  </span>  \n",
       "  <span style=\"background-color: #272822\">                                                                                                               </span>  \n",
       "  <span style=\"color: #e6db74; text-decoration-color: #e6db74; background-color: #272822\">Filming began in the United Kingdom in January 2020 but was halted by the COVID-19 pandemic.</span><span style=\"background-color: #272822\">                   </span>  \n",
       "  <span style=\"color: #e6db74; text-decoration-color: #e6db74; background-color: #272822\">\"\"\"</span><span style=\"background-color: #272822\">                                                                                                            </span>  \n",
       "  <span style=\"background-color: #272822\">                                                                                                               </span>  \n",
       "  <span style=\"color: #75715e; text-decoration-color: #75715e; background-color: #272822\"># URL 5: https://batman.fandom.com/wiki/Category:Film_Locations</span><span style=\"background-color: #272822\">                                                </span>  \n",
       "  <span style=\"color: #f8f8f2; text-decoration-color: #f8f8f2; background-color: #272822\">url5_content </span><span style=\"color: #f92672; text-decoration-color: #f92672; background-color: #272822\">=</span><span style=\"color: #f8f8f2; text-decoration-color: #f8f8f2; background-color: #272822\"> </span><span style=\"color: #e6db74; text-decoration-color: #e6db74; background-color: #272822\">\"\"\"</span><span style=\"background-color: #272822\">                                                                                             </span>  \n",
       "  <span style=\"color: #e6db74; text-decoration-color: #e6db74; background-color: #272822\">Category:Film Locations | Batman Wiki | Fandom</span><span style=\"background-color: #272822\">                                                                 </span>  \n",
       "  <span style=\"background-color: #272822\">                                                                                                               </span>  \n",
       "  <span style=\"color: #e6db74; text-decoration-color: #e6db74; background-color: #272822\">This page lists various film locations for Batman movies.</span><span style=\"background-color: #272822\">                                                      </span>  \n",
       "  <span style=\"color: #e6db74; text-decoration-color: #e6db74; background-color: #272822\">\"\"\"</span><span style=\"background-color: #272822\">                                                                                                            </span>  \n",
       "  <span style=\"background-color: #272822\">                                                                                                               </span>  \n",
       "  <span style=\"color: #75715e; text-decoration-color: #75715e; background-color: #272822\"># Extract and append data to the list</span><span style=\"background-color: #272822\">                                                                          </span>  \n",
       "  <span style=\"color: #66d9ef; text-decoration-color: #66d9ef; background-color: #272822\">def</span><span style=\"color: #f8f8f2; text-decoration-color: #f8f8f2; background-color: #272822\"> </span><span style=\"color: #a6e22e; text-decoration-color: #a6e22e; background-color: #272822\">extract_data</span><span style=\"color: #f8f8f2; text-decoration-color: #f8f8f2; background-color: #272822\">(content, movie_name, url):</span><span style=\"background-color: #272822\">                                                                    </span>  \n",
       "  <span style=\"color: #f8f8f2; text-decoration-color: #f8f8f2; background-color: #272822\">    lines </span><span style=\"color: #f92672; text-decoration-color: #f92672; background-color: #272822\">=</span><span style=\"color: #f8f8f2; text-decoration-color: #f8f8f2; background-color: #272822\"> content</span><span style=\"color: #f92672; text-decoration-color: #f92672; background-color: #272822\">.</span><span style=\"color: #f8f8f2; text-decoration-color: #f8f8f2; background-color: #272822\">strip()</span><span style=\"color: #f92672; text-decoration-color: #f92672; background-color: #272822\">.</span><span style=\"color: #f8f8f2; text-decoration-color: #f8f8f2; background-color: #272822\">split(</span><span style=\"color: #e6db74; text-decoration-color: #e6db74; background-color: #272822\">'</span><span style=\"color: #ae81ff; text-decoration-color: #ae81ff; background-color: #272822\">\\n</span><span style=\"color: #e6db74; text-decoration-color: #e6db74; background-color: #272822\">'</span><span style=\"color: #f8f8f2; text-decoration-color: #f8f8f2; background-color: #272822\">)</span><span style=\"background-color: #272822\">                                                                        </span>  \n",
       "  <span style=\"color: #f8f8f2; text-decoration-color: #f8f8f2; background-color: #272822\">    </span><span style=\"color: #66d9ef; text-decoration-color: #66d9ef; background-color: #272822\">for</span><span style=\"color: #f8f8f2; text-decoration-color: #f8f8f2; background-color: #272822\"> line </span><span style=\"color: #f92672; text-decoration-color: #f92672; background-color: #272822\">in</span><span style=\"color: #f8f8f2; text-decoration-color: #f8f8f2; background-color: #272822\"> lines:</span><span style=\"background-color: #272822\">                                                                                         </span>  \n",
       "  <span style=\"color: #f8f8f2; text-decoration-color: #f8f8f2; background-color: #272822\">        </span><span style=\"color: #66d9ef; text-decoration-color: #66d9ef; background-color: #272822\">if</span><span style=\"color: #f8f8f2; text-decoration-color: #f8f8f2; background-color: #272822\"> line</span><span style=\"color: #f92672; text-decoration-color: #f92672; background-color: #272822\">.</span><span style=\"color: #f8f8f2; text-decoration-color: #f8f8f2; background-color: #272822\">startswith(</span><span style=\"color: #e6db74; text-decoration-color: #e6db74; background-color: #272822\">'-'</span><span style=\"color: #f8f8f2; text-decoration-color: #f8f8f2; background-color: #272822\">):</span><span style=\"background-color: #272822\">                                                                               </span>  \n",
       "  <span style=\"color: #f8f8f2; text-decoration-color: #f8f8f2; background-color: #272822\">            location </span><span style=\"color: #f92672; text-decoration-color: #f92672; background-color: #272822\">=</span><span style=\"color: #f8f8f2; text-decoration-color: #f8f8f2; background-color: #272822\"> line[</span><span style=\"color: #ae81ff; text-decoration-color: #ae81ff; background-color: #272822\">2</span><span style=\"color: #f8f8f2; text-decoration-color: #f8f8f2; background-color: #272822\">:]</span><span style=\"color: #f92672; text-decoration-color: #f92672; background-color: #272822\">.</span><span style=\"color: #f8f8f2; text-decoration-color: #f8f8f2; background-color: #272822\">strip()</span><span style=\"background-color: #272822\">                                                                        </span>  \n",
       "  <span style=\"color: #f8f8f2; text-decoration-color: #f8f8f2; background-color: #272822\">            data</span><span style=\"color: #f92672; text-decoration-color: #f92672; background-color: #272822\">.</span><span style=\"color: #f8f8f2; text-decoration-color: #f8f8f2; background-color: #272822\">append({</span><span style=\"color: #e6db74; text-decoration-color: #e6db74; background-color: #272822\">'Movie'</span><span style=\"color: #f8f8f2; text-decoration-color: #f8f8f2; background-color: #272822\">: movie_name, </span><span style=\"color: #e6db74; text-decoration-color: #e6db74; background-color: #272822\">'Location'</span><span style=\"color: #f8f8f2; text-decoration-color: #f8f8f2; background-color: #272822\">: location, </span><span style=\"color: #e6db74; text-decoration-color: #e6db74; background-color: #272822\">'Source URL'</span><span style=\"color: #f8f8f2; text-decoration-color: #f8f8f2; background-color: #272822\">: url})</span><span style=\"background-color: #272822\">                        </span>  \n",
       "  <span style=\"background-color: #272822\">                                                                                                               </span>  \n",
       "  <span style=\"color: #f8f8f2; text-decoration-color: #f8f8f2; background-color: #272822\">extract_data(url1_content, </span><span style=\"color: #e6db74; text-decoration-color: #e6db74; background-color: #272822\">'The Batman (2022)'</span><span style=\"color: #f8f8f2; text-decoration-color: #f8f8f2; background-color: #272822\">, </span><span style=\"color: #e6db74; text-decoration-color: #e6db74; background-color: #272822\">'https://movie-locations.com/movies/b/The-Batman-2022-2.php'</span><span style=\"color: #f8f8f2; text-decoration-color: #f8f8f2; background-color: #272822\">)</span><span style=\"background-color: #272822\">  </span>  \n",
       "  <span style=\"color: #f8f8f2; text-decoration-color: #f8f8f2; background-color: #272822\">extract_data(url2_content, </span><span style=\"color: #e6db74; text-decoration-color: #e6db74; background-color: #272822\">'The Batman (2022)'</span><span style=\"color: #f8f8f2; text-decoration-color: #f8f8f2; background-color: #272822\">, </span><span style=\"background-color: #272822\">                                                               </span>  \n",
       "  <span style=\"color: #e6db74; text-decoration-color: #e6db74; background-color: #272822\">'https://www.atlasofwonders.com/2022/04/where-was-the-batman-filmed.html'</span><span style=\"color: #f8f8f2; text-decoration-color: #f8f8f2; background-color: #272822\">)</span><span style=\"background-color: #272822\">                                     </span>  \n",
       "  <span style=\"color: #f8f8f2; text-decoration-color: #f8f8f2; background-color: #272822\">extract_data(url3_content, </span><span style=\"color: #e6db74; text-decoration-color: #e6db74; background-color: #272822\">'Batman v Superman (2016)'</span><span style=\"color: #f8f8f2; text-decoration-color: #f8f8f2; background-color: #272822\">, </span><span style=\"background-color: #272822\">                                                        </span>  \n",
       "  <span style=\"color: #e6db74; text-decoration-color: #e6db74; background-color: #272822\">'https://movie-locations.com/movies/b/Batman-V-Superman.php'</span><span style=\"color: #f8f8f2; text-decoration-color: #f8f8f2; background-color: #272822\">)</span><span style=\"background-color: #272822\">                                                  </span>  \n",
       "  <span style=\"background-color: #272822\">                                                                                                               </span>  \n",
       "  <span style=\"color: #75715e; text-decoration-color: #75715e; background-color: #272822\"># Create a pandas dataframe</span><span style=\"background-color: #272822\">                                                                                    </span>  \n",
       "  <span style=\"color: #f8f8f2; text-decoration-color: #f8f8f2; background-color: #272822\">df </span><span style=\"color: #f92672; text-decoration-color: #f92672; background-color: #272822\">=</span><span style=\"color: #f8f8f2; text-decoration-color: #f8f8f2; background-color: #272822\"> pd</span><span style=\"color: #f92672; text-decoration-color: #f92672; background-color: #272822\">.</span><span style=\"color: #f8f8f2; text-decoration-color: #f8f8f2; background-color: #272822\">DataFrame(data)</span><span style=\"background-color: #272822\">                                                                                        </span>  \n",
       "  <span style=\"background-color: #272822\">                                                                                                               </span>  \n",
       "  <span style=\"color: #75715e; text-decoration-color: #75715e; background-color: #272822\"># Print the dataframe</span><span style=\"background-color: #272822\">                                                                                          </span>  \n",
       "  <span style=\"color: #f8f8f2; text-decoration-color: #f8f8f2; background-color: #272822\">print(df)</span><span style=\"background-color: #272822\">                                                                                                      </span>  \n",
       "  <span style=\"background-color: #272822\">                                                                                                               </span>  \n",
       "  <span style=\"color: #75715e; text-decoration-color: #75715e; background-color: #272822\"># Final answer</span><span style=\"background-color: #272822\">                                                                                                 </span>  \n",
       "  <span style=\"color: #f8f8f2; text-decoration-color: #f8f8f2; background-color: #272822\">final_answer(df)</span><span style=\"background-color: #272822\">                                                                                               </span>  \n",
       " ───────────────────────────────────────────────────────────────────────────────────────────────────────────────── \n",
       "</pre>\n"
      ],
      "text/plain": [
       " ─ \u001b[1mExecuting parsed code:\u001b[0m ──────────────────────────────────────────────────────────────────────────────────────── \n",
       "  \u001b[38;2;249;38;114;48;2;39;40;34mimport\u001b[0m\u001b[38;2;248;248;242;48;2;39;40;34m \u001b[0m\u001b[38;2;248;248;242;48;2;39;40;34mpandas\u001b[0m\u001b[38;2;248;248;242;48;2;39;40;34m \u001b[0m\u001b[38;2;102;217;239;48;2;39;40;34mas\u001b[0m\u001b[38;2;248;248;242;48;2;39;40;34m \u001b[0m\u001b[38;2;248;248;242;48;2;39;40;34mpd\u001b[0m\u001b[48;2;39;40;34m                                                                                            \u001b[0m  \n",
       "  \u001b[48;2;39;40;34m                                                                                                               \u001b[0m  \n",
       "  \u001b[38;2;117;113;94;48;2;39;40;34m# Initialize an empty list to store the data\u001b[0m\u001b[48;2;39;40;34m                                                                   \u001b[0m  \n",
       "  \u001b[38;2;248;248;242;48;2;39;40;34mdata\u001b[0m\u001b[38;2;248;248;242;48;2;39;40;34m \u001b[0m\u001b[38;2;249;38;114;48;2;39;40;34m=\u001b[0m\u001b[38;2;248;248;242;48;2;39;40;34m \u001b[0m\u001b[38;2;248;248;242;48;2;39;40;34m[\u001b[0m\u001b[38;2;248;248;242;48;2;39;40;34m]\u001b[0m\u001b[48;2;39;40;34m                                                                                                      \u001b[0m  \n",
       "  \u001b[48;2;39;40;34m                                                                                                               \u001b[0m  \n",
       "  \u001b[38;2;117;113;94;48;2;39;40;34m# Extract data from the visited URLs\u001b[0m\u001b[48;2;39;40;34m                                                                           \u001b[0m  \n",
       "  \u001b[38;2;117;113;94;48;2;39;40;34m# URL 1: https://movie-locations.com/movies/b/The-Batman-2022-2.php\u001b[0m\u001b[48;2;39;40;34m                                            \u001b[0m  \n",
       "  \u001b[38;2;248;248;242;48;2;39;40;34murl1_content\u001b[0m\u001b[38;2;248;248;242;48;2;39;40;34m \u001b[0m\u001b[38;2;249;38;114;48;2;39;40;34m=\u001b[0m\u001b[38;2;248;248;242;48;2;39;40;34m \u001b[0m\u001b[38;2;230;219;116;48;2;39;40;34m\"\"\"\u001b[0m\u001b[48;2;39;40;34m                                                                                             \u001b[0m  \n",
       "  \u001b[38;2;230;219;116;48;2;39;40;34mThe Batman | Film Locations\u001b[0m\u001b[48;2;39;40;34m                                                                                    \u001b[0m  \n",
       "  \u001b[48;2;39;40;34m                                                                                                               \u001b[0m  \n",
       "  \u001b[38;2;230;219;116;48;2;39;40;34mFilm locations for The Batman (2022) in Liverpool, London, Glasgow and Chicago.\u001b[0m\u001b[48;2;39;40;34m                                \u001b[0m  \n",
       "  \u001b[38;2;230;219;116;48;2;39;40;34m- St George\u001b[0m\u001b[38;2;230;219;116;48;2;39;40;34m'\u001b[0m\u001b[38;2;230;219;116;48;2;39;40;34ms Hall, Liverpool, England, UK\u001b[0m\u001b[48;2;39;40;34m                                                                     \u001b[0m  \n",
       "  \u001b[38;2;230;219;116;48;2;39;40;34m- Royal Liver Building, Liverpool, England, UK\u001b[0m\u001b[48;2;39;40;34m                                                                 \u001b[0m  \n",
       "  \u001b[38;2;230;219;116;48;2;39;40;34m- Bridge of Sighs, Glasgow Necropolis, Glasgow, Scotland, UK\u001b[0m\u001b[48;2;39;40;34m                                                   \u001b[0m  \n",
       "  \u001b[38;2;230;219;116;48;2;39;40;34m- Anfield Cemetery, Liverpool, England, UK\u001b[0m\u001b[48;2;39;40;34m                                                                     \u001b[0m  \n",
       "  \u001b[38;2;230;219;116;48;2;39;40;34m- Michigan Central Station, Detroit, Michigan, USA\u001b[0m\u001b[48;2;39;40;34m                                                             \u001b[0m  \n",
       "  \u001b[38;2;230;219;116;48;2;39;40;34m- Hygrade Deli, Detroit, Michigan, USA\u001b[0m\u001b[48;2;39;40;34m                                                                         \u001b[0m  \n",
       "  \u001b[38;2;230;219;116;48;2;39;40;34m\"\"\"\u001b[0m\u001b[48;2;39;40;34m                                                                                                            \u001b[0m  \n",
       "  \u001b[48;2;39;40;34m                                                                                                               \u001b[0m  \n",
       "  \u001b[38;2;117;113;94;48;2;39;40;34m# URL 2: https://www.atlasofwonders.com/2022/04/where-was-the-batman-filmed.html\u001b[0m\u001b[48;2;39;40;34m                               \u001b[0m  \n",
       "  \u001b[38;2;248;248;242;48;2;39;40;34murl2_content\u001b[0m\u001b[38;2;248;248;242;48;2;39;40;34m \u001b[0m\u001b[38;2;249;38;114;48;2;39;40;34m=\u001b[0m\u001b[38;2;248;248;242;48;2;39;40;34m \u001b[0m\u001b[38;2;230;219;116;48;2;39;40;34m\"\"\"\u001b[0m\u001b[48;2;39;40;34m                                                                                             \u001b[0m  \n",
       "  \u001b[38;2;230;219;116;48;2;39;40;34mWhere was The Batman filmed? ALL the Filming Locations in Chicago & The UK\u001b[0m\u001b[48;2;39;40;34m                                     \u001b[0m  \n",
       "  \u001b[48;2;39;40;34m                                                                                                               \u001b[0m  \n",
       "  \u001b[38;2;230;219;116;48;2;39;40;34m- Two Temple Place, London, England, UK\u001b[0m\u001b[48;2;39;40;34m                                                                        \u001b[0m  \n",
       "  \u001b[38;2;230;219;116;48;2;39;40;34m- St George\u001b[0m\u001b[38;2;230;219;116;48;2;39;40;34m'\u001b[0m\u001b[38;2;230;219;116;48;2;39;40;34ms Hall, Liverpool, England, UK\u001b[0m\u001b[48;2;39;40;34m                                                                     \u001b[0m  \n",
       "  \u001b[38;2;230;219;116;48;2;39;40;34m- Wellington\u001b[0m\u001b[38;2;230;219;116;48;2;39;40;34m'\u001b[0m\u001b[38;2;230;219;116;48;2;39;40;34ms Column, Liverpool, England, UK\u001b[0m\u001b[48;2;39;40;34m                                                                  \u001b[0m  \n",
       "  \u001b[38;2;230;219;116;48;2;39;40;34m- Steble Fountain, Liverpool, England, UK\u001b[0m\u001b[48;2;39;40;34m                                                                      \u001b[0m  \n",
       "  \u001b[38;2;230;219;116;48;2;39;40;34m- Bank of Gotham, St George\u001b[0m\u001b[38;2;230;219;116;48;2;39;40;34m'\u001b[0m\u001b[38;2;230;219;116;48;2;39;40;34ms Hall, Liverpool, England, UK\u001b[0m\u001b[48;2;39;40;34m                                                     \u001b[0m  \n",
       "  \u001b[38;2;230;219;116;48;2;39;40;34m\"\"\"\u001b[0m\u001b[48;2;39;40;34m                                                                                                            \u001b[0m  \n",
       "  \u001b[48;2;39;40;34m                                                                                                               \u001b[0m  \n",
       "  \u001b[38;2;117;113;94;48;2;39;40;34m# URL 3: https://movie-locations.com/movies/b/Batman-V-Superman.php\u001b[0m\u001b[48;2;39;40;34m                                            \u001b[0m  \n",
       "  \u001b[38;2;248;248;242;48;2;39;40;34murl3_content\u001b[0m\u001b[38;2;248;248;242;48;2;39;40;34m \u001b[0m\u001b[38;2;249;38;114;48;2;39;40;34m=\u001b[0m\u001b[38;2;248;248;242;48;2;39;40;34m \u001b[0m\u001b[38;2;230;219;116;48;2;39;40;34m\"\"\"\u001b[0m\u001b[48;2;39;40;34m                                                                                             \u001b[0m  \n",
       "  \u001b[38;2;230;219;116;48;2;39;40;34mBatman v Superman: Dawn Of Justice | 2016\u001b[0m\u001b[48;2;39;40;34m                                                                      \u001b[0m  \n",
       "  \u001b[48;2;39;40;34m                                                                                                               \u001b[0m  \n",
       "  \u001b[38;2;230;219;116;48;2;39;40;34mFilm locations for Batman v Superman: Dawn Of Justice, in Detroit, Chicago, Los Angeles and New Mexico.\u001b[0m\u001b[48;2;39;40;34m        \u001b[0m  \n",
       "  \u001b[38;2;230;219;116;48;2;39;40;34m- Michigan Central Station, Detroit, Michigan, USA\u001b[0m\u001b[48;2;39;40;34m                                                             \u001b[0m  \n",
       "  \u001b[38;2;230;219;116;48;2;39;40;34m- Hygrade Deli, Detroit, Michigan, USA\u001b[0m\u001b[48;2;39;40;34m                                                                         \u001b[0m  \n",
       "  \u001b[38;2;230;219;116;48;2;39;40;34m- Aragon Ballroom, Chicago, Illinois, USA\u001b[0m\u001b[48;2;39;40;34m                                                                      \u001b[0m  \n",
       "  \u001b[38;2;230;219;116;48;2;39;40;34m- Weingart Stadium, East Los Angeles College, Los Angeles, California, USA\u001b[0m\u001b[48;2;39;40;34m                                     \u001b[0m  \n",
       "  \u001b[38;2;230;219;116;48;2;39;40;34m\"\"\"\u001b[0m\u001b[48;2;39;40;34m                                                                                                            \u001b[0m  \n",
       "  \u001b[48;2;39;40;34m                                                                                                               \u001b[0m  \n",
       "  \u001b[38;2;117;113;94;48;2;39;40;34m# URL 4: https://en.wikipedia.org/wiki/The_Batman_(film)\u001b[0m\u001b[48;2;39;40;34m                                                       \u001b[0m  \n",
       "  \u001b[38;2;248;248;242;48;2;39;40;34murl4_content\u001b[0m\u001b[38;2;248;248;242;48;2;39;40;34m \u001b[0m\u001b[38;2;249;38;114;48;2;39;40;34m=\u001b[0m\u001b[38;2;248;248;242;48;2;39;40;34m \u001b[0m\u001b[38;2;230;219;116;48;2;39;40;34m\"\"\"\u001b[0m\u001b[48;2;39;40;34m                                                                                             \u001b[0m  \n",
       "  \u001b[38;2;230;219;116;48;2;39;40;34mThe Batman (film) - Wikipedia\u001b[0m\u001b[48;2;39;40;34m                                                                                  \u001b[0m  \n",
       "  \u001b[48;2;39;40;34m                                                                                                               \u001b[0m  \n",
       "  \u001b[38;2;230;219;116;48;2;39;40;34mFilming began in the United Kingdom in January 2020 but was halted by the COVID-19 pandemic.\u001b[0m\u001b[48;2;39;40;34m                   \u001b[0m  \n",
       "  \u001b[38;2;230;219;116;48;2;39;40;34m\"\"\"\u001b[0m\u001b[48;2;39;40;34m                                                                                                            \u001b[0m  \n",
       "  \u001b[48;2;39;40;34m                                                                                                               \u001b[0m  \n",
       "  \u001b[38;2;117;113;94;48;2;39;40;34m# URL 5: https://batman.fandom.com/wiki/Category:Film_Locations\u001b[0m\u001b[48;2;39;40;34m                                                \u001b[0m  \n",
       "  \u001b[38;2;248;248;242;48;2;39;40;34murl5_content\u001b[0m\u001b[38;2;248;248;242;48;2;39;40;34m \u001b[0m\u001b[38;2;249;38;114;48;2;39;40;34m=\u001b[0m\u001b[38;2;248;248;242;48;2;39;40;34m \u001b[0m\u001b[38;2;230;219;116;48;2;39;40;34m\"\"\"\u001b[0m\u001b[48;2;39;40;34m                                                                                             \u001b[0m  \n",
       "  \u001b[38;2;230;219;116;48;2;39;40;34mCategory:Film Locations | Batman Wiki | Fandom\u001b[0m\u001b[48;2;39;40;34m                                                                 \u001b[0m  \n",
       "  \u001b[48;2;39;40;34m                                                                                                               \u001b[0m  \n",
       "  \u001b[38;2;230;219;116;48;2;39;40;34mThis page lists various film locations for Batman movies.\u001b[0m\u001b[48;2;39;40;34m                                                      \u001b[0m  \n",
       "  \u001b[38;2;230;219;116;48;2;39;40;34m\"\"\"\u001b[0m\u001b[48;2;39;40;34m                                                                                                            \u001b[0m  \n",
       "  \u001b[48;2;39;40;34m                                                                                                               \u001b[0m  \n",
       "  \u001b[38;2;117;113;94;48;2;39;40;34m# Extract and append data to the list\u001b[0m\u001b[48;2;39;40;34m                                                                          \u001b[0m  \n",
       "  \u001b[38;2;102;217;239;48;2;39;40;34mdef\u001b[0m\u001b[38;2;248;248;242;48;2;39;40;34m \u001b[0m\u001b[38;2;166;226;46;48;2;39;40;34mextract_data\u001b[0m\u001b[38;2;248;248;242;48;2;39;40;34m(\u001b[0m\u001b[38;2;248;248;242;48;2;39;40;34mcontent\u001b[0m\u001b[38;2;248;248;242;48;2;39;40;34m,\u001b[0m\u001b[38;2;248;248;242;48;2;39;40;34m \u001b[0m\u001b[38;2;248;248;242;48;2;39;40;34mmovie_name\u001b[0m\u001b[38;2;248;248;242;48;2;39;40;34m,\u001b[0m\u001b[38;2;248;248;242;48;2;39;40;34m \u001b[0m\u001b[38;2;248;248;242;48;2;39;40;34murl\u001b[0m\u001b[38;2;248;248;242;48;2;39;40;34m)\u001b[0m\u001b[38;2;248;248;242;48;2;39;40;34m:\u001b[0m\u001b[48;2;39;40;34m                                                                    \u001b[0m  \n",
       "  \u001b[38;2;248;248;242;48;2;39;40;34m    \u001b[0m\u001b[38;2;248;248;242;48;2;39;40;34mlines\u001b[0m\u001b[38;2;248;248;242;48;2;39;40;34m \u001b[0m\u001b[38;2;249;38;114;48;2;39;40;34m=\u001b[0m\u001b[38;2;248;248;242;48;2;39;40;34m \u001b[0m\u001b[38;2;248;248;242;48;2;39;40;34mcontent\u001b[0m\u001b[38;2;249;38;114;48;2;39;40;34m.\u001b[0m\u001b[38;2;248;248;242;48;2;39;40;34mstrip\u001b[0m\u001b[38;2;248;248;242;48;2;39;40;34m(\u001b[0m\u001b[38;2;248;248;242;48;2;39;40;34m)\u001b[0m\u001b[38;2;249;38;114;48;2;39;40;34m.\u001b[0m\u001b[38;2;248;248;242;48;2;39;40;34msplit\u001b[0m\u001b[38;2;248;248;242;48;2;39;40;34m(\u001b[0m\u001b[38;2;230;219;116;48;2;39;40;34m'\u001b[0m\u001b[38;2;174;129;255;48;2;39;40;34m\\n\u001b[0m\u001b[38;2;230;219;116;48;2;39;40;34m'\u001b[0m\u001b[38;2;248;248;242;48;2;39;40;34m)\u001b[0m\u001b[48;2;39;40;34m                                                                        \u001b[0m  \n",
       "  \u001b[38;2;248;248;242;48;2;39;40;34m    \u001b[0m\u001b[38;2;102;217;239;48;2;39;40;34mfor\u001b[0m\u001b[38;2;248;248;242;48;2;39;40;34m \u001b[0m\u001b[38;2;248;248;242;48;2;39;40;34mline\u001b[0m\u001b[38;2;248;248;242;48;2;39;40;34m \u001b[0m\u001b[38;2;249;38;114;48;2;39;40;34min\u001b[0m\u001b[38;2;248;248;242;48;2;39;40;34m \u001b[0m\u001b[38;2;248;248;242;48;2;39;40;34mlines\u001b[0m\u001b[38;2;248;248;242;48;2;39;40;34m:\u001b[0m\u001b[48;2;39;40;34m                                                                                         \u001b[0m  \n",
       "  \u001b[38;2;248;248;242;48;2;39;40;34m        \u001b[0m\u001b[38;2;102;217;239;48;2;39;40;34mif\u001b[0m\u001b[38;2;248;248;242;48;2;39;40;34m \u001b[0m\u001b[38;2;248;248;242;48;2;39;40;34mline\u001b[0m\u001b[38;2;249;38;114;48;2;39;40;34m.\u001b[0m\u001b[38;2;248;248;242;48;2;39;40;34mstartswith\u001b[0m\u001b[38;2;248;248;242;48;2;39;40;34m(\u001b[0m\u001b[38;2;230;219;116;48;2;39;40;34m'\u001b[0m\u001b[38;2;230;219;116;48;2;39;40;34m-\u001b[0m\u001b[38;2;230;219;116;48;2;39;40;34m'\u001b[0m\u001b[38;2;248;248;242;48;2;39;40;34m)\u001b[0m\u001b[38;2;248;248;242;48;2;39;40;34m:\u001b[0m\u001b[48;2;39;40;34m                                                                               \u001b[0m  \n",
       "  \u001b[38;2;248;248;242;48;2;39;40;34m            \u001b[0m\u001b[38;2;248;248;242;48;2;39;40;34mlocation\u001b[0m\u001b[38;2;248;248;242;48;2;39;40;34m \u001b[0m\u001b[38;2;249;38;114;48;2;39;40;34m=\u001b[0m\u001b[38;2;248;248;242;48;2;39;40;34m \u001b[0m\u001b[38;2;248;248;242;48;2;39;40;34mline\u001b[0m\u001b[38;2;248;248;242;48;2;39;40;34m[\u001b[0m\u001b[38;2;174;129;255;48;2;39;40;34m2\u001b[0m\u001b[38;2;248;248;242;48;2;39;40;34m:\u001b[0m\u001b[38;2;248;248;242;48;2;39;40;34m]\u001b[0m\u001b[38;2;249;38;114;48;2;39;40;34m.\u001b[0m\u001b[38;2;248;248;242;48;2;39;40;34mstrip\u001b[0m\u001b[38;2;248;248;242;48;2;39;40;34m(\u001b[0m\u001b[38;2;248;248;242;48;2;39;40;34m)\u001b[0m\u001b[48;2;39;40;34m                                                                        \u001b[0m  \n",
       "  \u001b[38;2;248;248;242;48;2;39;40;34m            \u001b[0m\u001b[38;2;248;248;242;48;2;39;40;34mdata\u001b[0m\u001b[38;2;249;38;114;48;2;39;40;34m.\u001b[0m\u001b[38;2;248;248;242;48;2;39;40;34mappend\u001b[0m\u001b[38;2;248;248;242;48;2;39;40;34m(\u001b[0m\u001b[38;2;248;248;242;48;2;39;40;34m{\u001b[0m\u001b[38;2;230;219;116;48;2;39;40;34m'\u001b[0m\u001b[38;2;230;219;116;48;2;39;40;34mMovie\u001b[0m\u001b[38;2;230;219;116;48;2;39;40;34m'\u001b[0m\u001b[38;2;248;248;242;48;2;39;40;34m:\u001b[0m\u001b[38;2;248;248;242;48;2;39;40;34m \u001b[0m\u001b[38;2;248;248;242;48;2;39;40;34mmovie_name\u001b[0m\u001b[38;2;248;248;242;48;2;39;40;34m,\u001b[0m\u001b[38;2;248;248;242;48;2;39;40;34m \u001b[0m\u001b[38;2;230;219;116;48;2;39;40;34m'\u001b[0m\u001b[38;2;230;219;116;48;2;39;40;34mLocation\u001b[0m\u001b[38;2;230;219;116;48;2;39;40;34m'\u001b[0m\u001b[38;2;248;248;242;48;2;39;40;34m:\u001b[0m\u001b[38;2;248;248;242;48;2;39;40;34m \u001b[0m\u001b[38;2;248;248;242;48;2;39;40;34mlocation\u001b[0m\u001b[38;2;248;248;242;48;2;39;40;34m,\u001b[0m\u001b[38;2;248;248;242;48;2;39;40;34m \u001b[0m\u001b[38;2;230;219;116;48;2;39;40;34m'\u001b[0m\u001b[38;2;230;219;116;48;2;39;40;34mSource URL\u001b[0m\u001b[38;2;230;219;116;48;2;39;40;34m'\u001b[0m\u001b[38;2;248;248;242;48;2;39;40;34m:\u001b[0m\u001b[38;2;248;248;242;48;2;39;40;34m \u001b[0m\u001b[38;2;248;248;242;48;2;39;40;34murl\u001b[0m\u001b[38;2;248;248;242;48;2;39;40;34m}\u001b[0m\u001b[38;2;248;248;242;48;2;39;40;34m)\u001b[0m\u001b[48;2;39;40;34m                        \u001b[0m  \n",
       "  \u001b[48;2;39;40;34m                                                                                                               \u001b[0m  \n",
       "  \u001b[38;2;248;248;242;48;2;39;40;34mextract_data\u001b[0m\u001b[38;2;248;248;242;48;2;39;40;34m(\u001b[0m\u001b[38;2;248;248;242;48;2;39;40;34murl1_content\u001b[0m\u001b[38;2;248;248;242;48;2;39;40;34m,\u001b[0m\u001b[38;2;248;248;242;48;2;39;40;34m \u001b[0m\u001b[38;2;230;219;116;48;2;39;40;34m'\u001b[0m\u001b[38;2;230;219;116;48;2;39;40;34mThe Batman (2022)\u001b[0m\u001b[38;2;230;219;116;48;2;39;40;34m'\u001b[0m\u001b[38;2;248;248;242;48;2;39;40;34m,\u001b[0m\u001b[38;2;248;248;242;48;2;39;40;34m \u001b[0m\u001b[38;2;230;219;116;48;2;39;40;34m'\u001b[0m\u001b[38;2;230;219;116;48;2;39;40;34mhttps://movie-locations.com/movies/b/The-Batman-2022-2.php\u001b[0m\u001b[38;2;230;219;116;48;2;39;40;34m'\u001b[0m\u001b[38;2;248;248;242;48;2;39;40;34m)\u001b[0m\u001b[48;2;39;40;34m  \u001b[0m  \n",
       "  \u001b[38;2;248;248;242;48;2;39;40;34mextract_data\u001b[0m\u001b[38;2;248;248;242;48;2;39;40;34m(\u001b[0m\u001b[38;2;248;248;242;48;2;39;40;34murl2_content\u001b[0m\u001b[38;2;248;248;242;48;2;39;40;34m,\u001b[0m\u001b[38;2;248;248;242;48;2;39;40;34m \u001b[0m\u001b[38;2;230;219;116;48;2;39;40;34m'\u001b[0m\u001b[38;2;230;219;116;48;2;39;40;34mThe Batman (2022)\u001b[0m\u001b[38;2;230;219;116;48;2;39;40;34m'\u001b[0m\u001b[38;2;248;248;242;48;2;39;40;34m,\u001b[0m\u001b[38;2;248;248;242;48;2;39;40;34m \u001b[0m\u001b[48;2;39;40;34m                                                               \u001b[0m  \n",
       "  \u001b[38;2;230;219;116;48;2;39;40;34m'\u001b[0m\u001b[38;2;230;219;116;48;2;39;40;34mhttps://www.atlasofwonders.com/2022/04/where-was-the-batman-filmed.html\u001b[0m\u001b[38;2;230;219;116;48;2;39;40;34m'\u001b[0m\u001b[38;2;248;248;242;48;2;39;40;34m)\u001b[0m\u001b[48;2;39;40;34m                                     \u001b[0m  \n",
       "  \u001b[38;2;248;248;242;48;2;39;40;34mextract_data\u001b[0m\u001b[38;2;248;248;242;48;2;39;40;34m(\u001b[0m\u001b[38;2;248;248;242;48;2;39;40;34murl3_content\u001b[0m\u001b[38;2;248;248;242;48;2;39;40;34m,\u001b[0m\u001b[38;2;248;248;242;48;2;39;40;34m \u001b[0m\u001b[38;2;230;219;116;48;2;39;40;34m'\u001b[0m\u001b[38;2;230;219;116;48;2;39;40;34mBatman v Superman (2016)\u001b[0m\u001b[38;2;230;219;116;48;2;39;40;34m'\u001b[0m\u001b[38;2;248;248;242;48;2;39;40;34m,\u001b[0m\u001b[38;2;248;248;242;48;2;39;40;34m \u001b[0m\u001b[48;2;39;40;34m                                                        \u001b[0m  \n",
       "  \u001b[38;2;230;219;116;48;2;39;40;34m'\u001b[0m\u001b[38;2;230;219;116;48;2;39;40;34mhttps://movie-locations.com/movies/b/Batman-V-Superman.php\u001b[0m\u001b[38;2;230;219;116;48;2;39;40;34m'\u001b[0m\u001b[38;2;248;248;242;48;2;39;40;34m)\u001b[0m\u001b[48;2;39;40;34m                                                  \u001b[0m  \n",
       "  \u001b[48;2;39;40;34m                                                                                                               \u001b[0m  \n",
       "  \u001b[38;2;117;113;94;48;2;39;40;34m# Create a pandas dataframe\u001b[0m\u001b[48;2;39;40;34m                                                                                    \u001b[0m  \n",
       "  \u001b[38;2;248;248;242;48;2;39;40;34mdf\u001b[0m\u001b[38;2;248;248;242;48;2;39;40;34m \u001b[0m\u001b[38;2;249;38;114;48;2;39;40;34m=\u001b[0m\u001b[38;2;248;248;242;48;2;39;40;34m \u001b[0m\u001b[38;2;248;248;242;48;2;39;40;34mpd\u001b[0m\u001b[38;2;249;38;114;48;2;39;40;34m.\u001b[0m\u001b[38;2;248;248;242;48;2;39;40;34mDataFrame\u001b[0m\u001b[38;2;248;248;242;48;2;39;40;34m(\u001b[0m\u001b[38;2;248;248;242;48;2;39;40;34mdata\u001b[0m\u001b[38;2;248;248;242;48;2;39;40;34m)\u001b[0m\u001b[48;2;39;40;34m                                                                                        \u001b[0m  \n",
       "  \u001b[48;2;39;40;34m                                                                                                               \u001b[0m  \n",
       "  \u001b[38;2;117;113;94;48;2;39;40;34m# Print the dataframe\u001b[0m\u001b[48;2;39;40;34m                                                                                          \u001b[0m  \n",
       "  \u001b[38;2;248;248;242;48;2;39;40;34mprint\u001b[0m\u001b[38;2;248;248;242;48;2;39;40;34m(\u001b[0m\u001b[38;2;248;248;242;48;2;39;40;34mdf\u001b[0m\u001b[38;2;248;248;242;48;2;39;40;34m)\u001b[0m\u001b[48;2;39;40;34m                                                                                                      \u001b[0m  \n",
       "  \u001b[48;2;39;40;34m                                                                                                               \u001b[0m  \n",
       "  \u001b[38;2;117;113;94;48;2;39;40;34m# Final answer\u001b[0m\u001b[48;2;39;40;34m                                                                                                 \u001b[0m  \n",
       "  \u001b[38;2;248;248;242;48;2;39;40;34mfinal_answer\u001b[0m\u001b[38;2;248;248;242;48;2;39;40;34m(\u001b[0m\u001b[38;2;248;248;242;48;2;39;40;34mdf\u001b[0m\u001b[38;2;248;248;242;48;2;39;40;34m)\u001b[0m\u001b[48;2;39;40;34m                                                                                               \u001b[0m  \n",
       " ───────────────────────────────────────────────────────────────────────────────────────────────────────────────── \n"
      ]
     },
     "metadata": {},
     "output_type": "display_data"
    },
    {
     "data": {
      "text/html": [
       "<pre style=\"white-space:pre;overflow-x:auto;line-height:normal;font-family:Menlo,'DejaVu Sans Mono',consolas,'Courier New',monospace\"><span style=\"font-weight: bold\">Execution logs:</span>\n",
       "                       Movie  \\\n",
       "0          The Batman (2022)   \n",
       "1          The Batman (2022)   \n",
       "2          The Batman (2022)   \n",
       "3          The Batman (2022)   \n",
       "4          The Batman (2022)   \n",
       "5          The Batman (2022)   \n",
       "6          The Batman (2022)   \n",
       "7          The Batman (2022)   \n",
       "8          The Batman (2022)   \n",
       "9          The Batman (2022)   \n",
       "10         The Batman (2022)   \n",
       "11  Batman v Superman (2016)   \n",
       "12  Batman v Superman (2016)   \n",
       "13  Batman v Superman (2016)   \n",
       "14  Batman v Superman (2016)   \n",
       "\n",
       "                                             Location  \\\n",
       "0            St George's Hall, Liverpool, England, UK   \n",
       "1        Royal Liver Building, Liverpool, England, UK   \n",
       "2   Bridge of Sighs, Glasgow Necropolis, Glasgow, ...   \n",
       "3            Anfield Cemetery, Liverpool, England, UK   \n",
       "4    Michigan Central Station, Detroit, Michigan, USA   \n",
       "5                Hygrade Deli, Detroit, Michigan, USA   \n",
       "6               Two Temple Place, London, England, UK   \n",
       "7            St George's Hall, Liverpool, England, UK   \n",
       "8         Wellington's Column, Liverpool, England, UK   \n",
       "9             Steble Fountain, Liverpool, England, UK   \n",
       "10  Bank of Gotham, St George's Hall, Liverpool, E...   \n",
       "11   Michigan Central Station, Detroit, Michigan, USA   \n",
       "12               Hygrade Deli, Detroit, Michigan, USA   \n",
       "13            Aragon Ballroom, Chicago, Illinois, USA   \n",
       "14  Weingart Stadium, East Los Angeles College, Lo...   \n",
       "\n",
       "                                           Source URL  \n",
       "0   https://movie-locations.com/movies/b/The-Batma...  \n",
       "1   https://movie-locations.com/movies/b/The-Batma...  \n",
       "2   https://movie-locations.com/movies/b/The-Batma...  \n",
       "3   https://movie-locations.com/movies/b/The-Batma...  \n",
       "4   https://movie-locations.com/movies/b/The-Batma...  \n",
       "5   https://movie-locations.com/movies/b/The-Batma...  \n",
       "6   https://www.atlasofwonders.com/2022/04/where-w...  \n",
       "7   https://www.atlasofwonders.com/2022/04/where-w...  \n",
       "8   https://www.atlasofwonders.com/2022/04/where-w...  \n",
       "9   https://www.atlasofwonders.com/2022/04/where-w...  \n",
       "10  https://www.atlasofwonders.com/2022/04/where-w...  \n",
       "11  https://movie-locations.com/movies/b/Batman-V-...  \n",
       "12  https://movie-locations.com/movies/b/Batman-V-...  \n",
       "13  https://movie-locations.com/movies/b/Batman-V-...  \n",
       "14  https://movie-locations.com/movies/b/Batman-V-...  \n",
       "\n",
       "<span style=\"color: #d4b702; text-decoration-color: #d4b702; font-weight: bold\">Out - Final answer:                        Movie  \\</span>\n",
       "<span style=\"color: #d4b702; text-decoration-color: #d4b702; font-weight: bold\">0          The Batman (2022)   </span>\n",
       "<span style=\"color: #d4b702; text-decoration-color: #d4b702; font-weight: bold\">1          The Batman (2022)   </span>\n",
       "<span style=\"color: #d4b702; text-decoration-color: #d4b702; font-weight: bold\">2          The Batman (2022)   </span>\n",
       "<span style=\"color: #d4b702; text-decoration-color: #d4b702; font-weight: bold\">3          The Batman (2022)   </span>\n",
       "<span style=\"color: #d4b702; text-decoration-color: #d4b702; font-weight: bold\">4          The Batman (2022)   </span>\n",
       "<span style=\"color: #d4b702; text-decoration-color: #d4b702; font-weight: bold\">5          The Batman (2022)   </span>\n",
       "<span style=\"color: #d4b702; text-decoration-color: #d4b702; font-weight: bold\">6          The Batman (2022)   </span>\n",
       "<span style=\"color: #d4b702; text-decoration-color: #d4b702; font-weight: bold\">7          The Batman (2022)   </span>\n",
       "<span style=\"color: #d4b702; text-decoration-color: #d4b702; font-weight: bold\">8          The Batman (2022)   </span>\n",
       "<span style=\"color: #d4b702; text-decoration-color: #d4b702; font-weight: bold\">9          The Batman (2022)   </span>\n",
       "<span style=\"color: #d4b702; text-decoration-color: #d4b702; font-weight: bold\">10         The Batman (2022)   </span>\n",
       "<span style=\"color: #d4b702; text-decoration-color: #d4b702; font-weight: bold\">11  Batman v Superman (2016)   </span>\n",
       "<span style=\"color: #d4b702; text-decoration-color: #d4b702; font-weight: bold\">12  Batman v Superman (2016)   </span>\n",
       "<span style=\"color: #d4b702; text-decoration-color: #d4b702; font-weight: bold\">13  Batman v Superman (2016)   </span>\n",
       "<span style=\"color: #d4b702; text-decoration-color: #d4b702; font-weight: bold\">14  Batman v Superman (2016)   </span>\n",
       "\n",
       "<span style=\"color: #d4b702; text-decoration-color: #d4b702; font-weight: bold\">                                             Location  \\</span>\n",
       "<span style=\"color: #d4b702; text-decoration-color: #d4b702; font-weight: bold\">0            St George's Hall, Liverpool, England, UK   </span>\n",
       "<span style=\"color: #d4b702; text-decoration-color: #d4b702; font-weight: bold\">1        Royal Liver Building, Liverpool, England, UK   </span>\n",
       "<span style=\"color: #d4b702; text-decoration-color: #d4b702; font-weight: bold\">2   Bridge of Sighs, Glasgow Necropolis, Glasgow, ...   </span>\n",
       "<span style=\"color: #d4b702; text-decoration-color: #d4b702; font-weight: bold\">3            Anfield Cemetery, Liverpool, England, UK   </span>\n",
       "<span style=\"color: #d4b702; text-decoration-color: #d4b702; font-weight: bold\">4    Michigan Central Station, Detroit, Michigan, USA   </span>\n",
       "<span style=\"color: #d4b702; text-decoration-color: #d4b702; font-weight: bold\">5                Hygrade Deli, Detroit, Michigan, USA   </span>\n",
       "<span style=\"color: #d4b702; text-decoration-color: #d4b702; font-weight: bold\">6               Two Temple Place, London, England, UK   </span>\n",
       "<span style=\"color: #d4b702; text-decoration-color: #d4b702; font-weight: bold\">7            St George's Hall, Liverpool, England, UK   </span>\n",
       "<span style=\"color: #d4b702; text-decoration-color: #d4b702; font-weight: bold\">8         Wellington's Column, Liverpool, England, UK   </span>\n",
       "<span style=\"color: #d4b702; text-decoration-color: #d4b702; font-weight: bold\">9             Steble Fountain, Liverpool, England, UK   </span>\n",
       "<span style=\"color: #d4b702; text-decoration-color: #d4b702; font-weight: bold\">10  Bank of Gotham, St George's Hall, Liverpool, E...   </span>\n",
       "<span style=\"color: #d4b702; text-decoration-color: #d4b702; font-weight: bold\">11   Michigan Central Station, Detroit, Michigan, USA   </span>\n",
       "<span style=\"color: #d4b702; text-decoration-color: #d4b702; font-weight: bold\">12               Hygrade Deli, Detroit, Michigan, USA   </span>\n",
       "<span style=\"color: #d4b702; text-decoration-color: #d4b702; font-weight: bold\">13            Aragon Ballroom, Chicago, Illinois, USA   </span>\n",
       "<span style=\"color: #d4b702; text-decoration-color: #d4b702; font-weight: bold\">14  Weingart Stadium, East Los Angeles College, Lo...   </span>\n",
       "\n",
       "<span style=\"color: #d4b702; text-decoration-color: #d4b702; font-weight: bold\">                                           Source URL  </span>\n",
       "<span style=\"color: #d4b702; text-decoration-color: #d4b702; font-weight: bold\">0   https://movie-locations.com/movies/b/The-Batma...  </span>\n",
       "<span style=\"color: #d4b702; text-decoration-color: #d4b702; font-weight: bold\">1   https://movie-locations.com/movies/b/The-Batma...  </span>\n",
       "<span style=\"color: #d4b702; text-decoration-color: #d4b702; font-weight: bold\">2   https://movie-locations.com/movies/b/The-Batma...  </span>\n",
       "<span style=\"color: #d4b702; text-decoration-color: #d4b702; font-weight: bold\">3   https://movie-locations.com/movies/b/The-Batma...  </span>\n",
       "<span style=\"color: #d4b702; text-decoration-color: #d4b702; font-weight: bold\">4   https://movie-locations.com/movies/b/The-Batma...  </span>\n",
       "<span style=\"color: #d4b702; text-decoration-color: #d4b702; font-weight: bold\">5   https://movie-locations.com/movies/b/The-Batma...  </span>\n",
       "<span style=\"color: #d4b702; text-decoration-color: #d4b702; font-weight: bold\">6   https://www.atlasofwonders.com/2022/04/where-w...  </span>\n",
       "<span style=\"color: #d4b702; text-decoration-color: #d4b702; font-weight: bold\">7   https://www.atlasofwonders.com/2022/04/where-w...  </span>\n",
       "<span style=\"color: #d4b702; text-decoration-color: #d4b702; font-weight: bold\">8   https://www.atlasofwonders.com/2022/04/where-w...  </span>\n",
       "<span style=\"color: #d4b702; text-decoration-color: #d4b702; font-weight: bold\">9   https://www.atlasofwonders.com/2022/04/where-w...  </span>\n",
       "<span style=\"color: #d4b702; text-decoration-color: #d4b702; font-weight: bold\">10  https://www.atlasofwonders.com/2022/04/where-w...  </span>\n",
       "<span style=\"color: #d4b702; text-decoration-color: #d4b702; font-weight: bold\">11  https://movie-locations.com/movies/b/Batman-V-...  </span>\n",
       "<span style=\"color: #d4b702; text-decoration-color: #d4b702; font-weight: bold\">12  https://movie-locations.com/movies/b/Batman-V-...  </span>\n",
       "<span style=\"color: #d4b702; text-decoration-color: #d4b702; font-weight: bold\">13  https://movie-locations.com/movies/b/Batman-V-...  </span>\n",
       "<span style=\"color: #d4b702; text-decoration-color: #d4b702; font-weight: bold\">14  https://movie-locations.com/movies/b/Batman-V-...  </span>\n",
       "</pre>\n"
      ],
      "text/plain": [
       "\u001b[1mExecution logs:\u001b[0m\n",
       "                       Movie  \\\n",
       "0          The Batman (2022)   \n",
       "1          The Batman (2022)   \n",
       "2          The Batman (2022)   \n",
       "3          The Batman (2022)   \n",
       "4          The Batman (2022)   \n",
       "5          The Batman (2022)   \n",
       "6          The Batman (2022)   \n",
       "7          The Batman (2022)   \n",
       "8          The Batman (2022)   \n",
       "9          The Batman (2022)   \n",
       "10         The Batman (2022)   \n",
       "11  Batman v Superman (2016)   \n",
       "12  Batman v Superman (2016)   \n",
       "13  Batman v Superman (2016)   \n",
       "14  Batman v Superman (2016)   \n",
       "\n",
       "                                             Location  \\\n",
       "0            St George's Hall, Liverpool, England, UK   \n",
       "1        Royal Liver Building, Liverpool, England, UK   \n",
       "2   Bridge of Sighs, Glasgow Necropolis, Glasgow, ...   \n",
       "3            Anfield Cemetery, Liverpool, England, UK   \n",
       "4    Michigan Central Station, Detroit, Michigan, USA   \n",
       "5                Hygrade Deli, Detroit, Michigan, USA   \n",
       "6               Two Temple Place, London, England, UK   \n",
       "7            St George's Hall, Liverpool, England, UK   \n",
       "8         Wellington's Column, Liverpool, England, UK   \n",
       "9             Steble Fountain, Liverpool, England, UK   \n",
       "10  Bank of Gotham, St George's Hall, Liverpool, E...   \n",
       "11   Michigan Central Station, Detroit, Michigan, USA   \n",
       "12               Hygrade Deli, Detroit, Michigan, USA   \n",
       "13            Aragon Ballroom, Chicago, Illinois, USA   \n",
       "14  Weingart Stadium, East Los Angeles College, Lo...   \n",
       "\n",
       "                                           Source URL  \n",
       "0   https://movie-locations.com/movies/b/The-Batma...  \n",
       "1   https://movie-locations.com/movies/b/The-Batma...  \n",
       "2   https://movie-locations.com/movies/b/The-Batma...  \n",
       "3   https://movie-locations.com/movies/b/The-Batma...  \n",
       "4   https://movie-locations.com/movies/b/The-Batma...  \n",
       "5   https://movie-locations.com/movies/b/The-Batma...  \n",
       "6   https://www.atlasofwonders.com/2022/04/where-w...  \n",
       "7   https://www.atlasofwonders.com/2022/04/where-w...  \n",
       "8   https://www.atlasofwonders.com/2022/04/where-w...  \n",
       "9   https://www.atlasofwonders.com/2022/04/where-w...  \n",
       "10  https://www.atlasofwonders.com/2022/04/where-w...  \n",
       "11  https://movie-locations.com/movies/b/Batman-V-...  \n",
       "12  https://movie-locations.com/movies/b/Batman-V-...  \n",
       "13  https://movie-locations.com/movies/b/Batman-V-...  \n",
       "14  https://movie-locations.com/movies/b/Batman-V-...  \n",
       "\n",
       "\u001b[1;38;2;212;183;2mOut - Final answer:                        Movie  \\\u001b[0m\n",
       "\u001b[1;38;2;212;183;2m0          The Batman (2022)   \u001b[0m\n",
       "\u001b[1;38;2;212;183;2m1          The Batman (2022)   \u001b[0m\n",
       "\u001b[1;38;2;212;183;2m2          The Batman (2022)   \u001b[0m\n",
       "\u001b[1;38;2;212;183;2m3          The Batman (2022)   \u001b[0m\n",
       "\u001b[1;38;2;212;183;2m4          The Batman (2022)   \u001b[0m\n",
       "\u001b[1;38;2;212;183;2m5          The Batman (2022)   \u001b[0m\n",
       "\u001b[1;38;2;212;183;2m6          The Batman (2022)   \u001b[0m\n",
       "\u001b[1;38;2;212;183;2m7          The Batman (2022)   \u001b[0m\n",
       "\u001b[1;38;2;212;183;2m8          The Batman (2022)   \u001b[0m\n",
       "\u001b[1;38;2;212;183;2m9          The Batman (2022)   \u001b[0m\n",
       "\u001b[1;38;2;212;183;2m10         The Batman (2022)   \u001b[0m\n",
       "\u001b[1;38;2;212;183;2m11  Batman v Superman (2016)   \u001b[0m\n",
       "\u001b[1;38;2;212;183;2m12  Batman v Superman (2016)   \u001b[0m\n",
       "\u001b[1;38;2;212;183;2m13  Batman v Superman (2016)   \u001b[0m\n",
       "\u001b[1;38;2;212;183;2m14  Batman v Superman (2016)   \u001b[0m\n",
       "\n",
       "\u001b[1;38;2;212;183;2m                                             Location  \\\u001b[0m\n",
       "\u001b[1;38;2;212;183;2m0            St George's Hall, Liverpool, England, UK   \u001b[0m\n",
       "\u001b[1;38;2;212;183;2m1        Royal Liver Building, Liverpool, England, UK   \u001b[0m\n",
       "\u001b[1;38;2;212;183;2m2   Bridge of Sighs, Glasgow Necropolis, Glasgow, ...   \u001b[0m\n",
       "\u001b[1;38;2;212;183;2m3            Anfield Cemetery, Liverpool, England, UK   \u001b[0m\n",
       "\u001b[1;38;2;212;183;2m4    Michigan Central Station, Detroit, Michigan, USA   \u001b[0m\n",
       "\u001b[1;38;2;212;183;2m5                Hygrade Deli, Detroit, Michigan, USA   \u001b[0m\n",
       "\u001b[1;38;2;212;183;2m6               Two Temple Place, London, England, UK   \u001b[0m\n",
       "\u001b[1;38;2;212;183;2m7            St George's Hall, Liverpool, England, UK   \u001b[0m\n",
       "\u001b[1;38;2;212;183;2m8         Wellington's Column, Liverpool, England, UK   \u001b[0m\n",
       "\u001b[1;38;2;212;183;2m9             Steble Fountain, Liverpool, England, UK   \u001b[0m\n",
       "\u001b[1;38;2;212;183;2m10  Bank of Gotham, St George's Hall, Liverpool, E...   \u001b[0m\n",
       "\u001b[1;38;2;212;183;2m11   Michigan Central Station, Detroit, Michigan, USA   \u001b[0m\n",
       "\u001b[1;38;2;212;183;2m12               Hygrade Deli, Detroit, Michigan, USA   \u001b[0m\n",
       "\u001b[1;38;2;212;183;2m13            Aragon Ballroom, Chicago, Illinois, USA   \u001b[0m\n",
       "\u001b[1;38;2;212;183;2m14  Weingart Stadium, East Los Angeles College, Lo...   \u001b[0m\n",
       "\n",
       "\u001b[1;38;2;212;183;2m                                           Source URL  \u001b[0m\n",
       "\u001b[1;38;2;212;183;2m0   https://movie-locations.com/movies/b/The-Batma...  \u001b[0m\n",
       "\u001b[1;38;2;212;183;2m1   https://movie-locations.com/movies/b/The-Batma...  \u001b[0m\n",
       "\u001b[1;38;2;212;183;2m2   https://movie-locations.com/movies/b/The-Batma...  \u001b[0m\n",
       "\u001b[1;38;2;212;183;2m3   https://movie-locations.com/movies/b/The-Batma...  \u001b[0m\n",
       "\u001b[1;38;2;212;183;2m4   https://movie-locations.com/movies/b/The-Batma...  \u001b[0m\n",
       "\u001b[1;38;2;212;183;2m5   https://movie-locations.com/movies/b/The-Batma...  \u001b[0m\n",
       "\u001b[1;38;2;212;183;2m6   https://www.atlasofwonders.com/2022/04/where-w...  \u001b[0m\n",
       "\u001b[1;38;2;212;183;2m7   https://www.atlasofwonders.com/2022/04/where-w...  \u001b[0m\n",
       "\u001b[1;38;2;212;183;2m8   https://www.atlasofwonders.com/2022/04/where-w...  \u001b[0m\n",
       "\u001b[1;38;2;212;183;2m9   https://www.atlasofwonders.com/2022/04/where-w...  \u001b[0m\n",
       "\u001b[1;38;2;212;183;2m10  https://www.atlasofwonders.com/2022/04/where-w...  \u001b[0m\n",
       "\u001b[1;38;2;212;183;2m11  https://movie-locations.com/movies/b/Batman-V-...  \u001b[0m\n",
       "\u001b[1;38;2;212;183;2m12  https://movie-locations.com/movies/b/Batman-V-...  \u001b[0m\n",
       "\u001b[1;38;2;212;183;2m13  https://movie-locations.com/movies/b/Batman-V-...  \u001b[0m\n",
       "\u001b[1;38;2;212;183;2m14  https://movie-locations.com/movies/b/Batman-V-...  \u001b[0m\n"
      ]
     },
     "metadata": {},
     "output_type": "display_data"
    },
    {
     "data": {
      "text/html": [
       "<pre style=\"white-space:pre;overflow-x:auto;line-height:normal;font-family:Menlo,'DejaVu Sans Mono',consolas,'Courier New',monospace\"><span style=\"color: #7f7f7f; text-decoration-color: #7f7f7f\">[Step 3: Duration 23.97 seconds| Input tokens: 38,116 | Output tokens: 2,882]</span>\n",
       "</pre>\n"
      ],
      "text/plain": [
       "\u001b[2m[Step 3: Duration 23.97 seconds| Input tokens: 38,116 | Output tokens: 2,882]\u001b[0m\n"
      ]
     },
     "metadata": {},
     "output_type": "display_data"
    }
   ],
   "source": [
    "agent.planning_interval = 4\n",
    "\n",
    "detailed_report = agent.run(f\"\"\"\n",
    "You're an expert analyst. You make comprehensive reports after visiting many websites.\n",
    "Don't hesitate to search for many queries at once in a for loop.\n",
    "For each data point that you find, visit the source url to confirm numbers.\n",
    "\n",
    "{task1}\n",
    "\"\"\")\n",
    "\n",
    "# print(detailed_report)"
   ]
  },
  {
   "cell_type": "code",
   "execution_count": 51,
   "id": "4050226c-c547-4aa5-bddd-f0f728f8e210",
   "metadata": {},
   "outputs": [
    {
     "data": {
      "text/html": [
       "<div>\n",
       "<style scoped>\n",
       "    .dataframe tbody tr th:only-of-type {\n",
       "        vertical-align: middle;\n",
       "    }\n",
       "\n",
       "    .dataframe tbody tr th {\n",
       "        vertical-align: top;\n",
       "    }\n",
       "\n",
       "    .dataframe thead th {\n",
       "        text-align: right;\n",
       "    }\n",
       "</style>\n",
       "<table border=\"1\" class=\"dataframe\">\n",
       "  <thead>\n",
       "    <tr style=\"text-align: right;\">\n",
       "      <th></th>\n",
       "      <th>Movie</th>\n",
       "      <th>Location</th>\n",
       "      <th>Source URL</th>\n",
       "    </tr>\n",
       "  </thead>\n",
       "  <tbody>\n",
       "    <tr>\n",
       "      <th>0</th>\n",
       "      <td>The Batman (2022)</td>\n",
       "      <td>St George's Hall, Liverpool, England, UK</td>\n",
       "      <td>https://movie-locations.com/movies/b/The-Batma...</td>\n",
       "    </tr>\n",
       "    <tr>\n",
       "      <th>1</th>\n",
       "      <td>The Batman (2022)</td>\n",
       "      <td>Royal Liver Building, Liverpool, England, UK</td>\n",
       "      <td>https://movie-locations.com/movies/b/The-Batma...</td>\n",
       "    </tr>\n",
       "    <tr>\n",
       "      <th>2</th>\n",
       "      <td>The Batman (2022)</td>\n",
       "      <td>Bridge of Sighs, Glasgow Necropolis, Glasgow, ...</td>\n",
       "      <td>https://movie-locations.com/movies/b/The-Batma...</td>\n",
       "    </tr>\n",
       "    <tr>\n",
       "      <th>3</th>\n",
       "      <td>The Batman (2022)</td>\n",
       "      <td>Anfield Cemetery, Liverpool, England, UK</td>\n",
       "      <td>https://movie-locations.com/movies/b/The-Batma...</td>\n",
       "    </tr>\n",
       "    <tr>\n",
       "      <th>4</th>\n",
       "      <td>The Batman (2022)</td>\n",
       "      <td>Michigan Central Station, Detroit, Michigan, USA</td>\n",
       "      <td>https://movie-locations.com/movies/b/The-Batma...</td>\n",
       "    </tr>\n",
       "    <tr>\n",
       "      <th>5</th>\n",
       "      <td>The Batman (2022)</td>\n",
       "      <td>Hygrade Deli, Detroit, Michigan, USA</td>\n",
       "      <td>https://movie-locations.com/movies/b/The-Batma...</td>\n",
       "    </tr>\n",
       "    <tr>\n",
       "      <th>6</th>\n",
       "      <td>The Batman (2022)</td>\n",
       "      <td>Two Temple Place, London, England, UK</td>\n",
       "      <td>https://www.atlasofwonders.com/2022/04/where-w...</td>\n",
       "    </tr>\n",
       "    <tr>\n",
       "      <th>7</th>\n",
       "      <td>The Batman (2022)</td>\n",
       "      <td>St George's Hall, Liverpool, England, UK</td>\n",
       "      <td>https://www.atlasofwonders.com/2022/04/where-w...</td>\n",
       "    </tr>\n",
       "    <tr>\n",
       "      <th>8</th>\n",
       "      <td>The Batman (2022)</td>\n",
       "      <td>Wellington's Column, Liverpool, England, UK</td>\n",
       "      <td>https://www.atlasofwonders.com/2022/04/where-w...</td>\n",
       "    </tr>\n",
       "    <tr>\n",
       "      <th>9</th>\n",
       "      <td>The Batman (2022)</td>\n",
       "      <td>Steble Fountain, Liverpool, England, UK</td>\n",
       "      <td>https://www.atlasofwonders.com/2022/04/where-w...</td>\n",
       "    </tr>\n",
       "    <tr>\n",
       "      <th>10</th>\n",
       "      <td>The Batman (2022)</td>\n",
       "      <td>Bank of Gotham, St George's Hall, Liverpool, E...</td>\n",
       "      <td>https://www.atlasofwonders.com/2022/04/where-w...</td>\n",
       "    </tr>\n",
       "    <tr>\n",
       "      <th>11</th>\n",
       "      <td>Batman v Superman (2016)</td>\n",
       "      <td>Michigan Central Station, Detroit, Michigan, USA</td>\n",
       "      <td>https://movie-locations.com/movies/b/Batman-V-...</td>\n",
       "    </tr>\n",
       "    <tr>\n",
       "      <th>12</th>\n",
       "      <td>Batman v Superman (2016)</td>\n",
       "      <td>Hygrade Deli, Detroit, Michigan, USA</td>\n",
       "      <td>https://movie-locations.com/movies/b/Batman-V-...</td>\n",
       "    </tr>\n",
       "    <tr>\n",
       "      <th>13</th>\n",
       "      <td>Batman v Superman (2016)</td>\n",
       "      <td>Aragon Ballroom, Chicago, Illinois, USA</td>\n",
       "      <td>https://movie-locations.com/movies/b/Batman-V-...</td>\n",
       "    </tr>\n",
       "    <tr>\n",
       "      <th>14</th>\n",
       "      <td>Batman v Superman (2016)</td>\n",
       "      <td>Weingart Stadium, East Los Angeles College, Lo...</td>\n",
       "      <td>https://movie-locations.com/movies/b/Batman-V-...</td>\n",
       "    </tr>\n",
       "  </tbody>\n",
       "</table>\n",
       "</div>"
      ],
      "text/plain": [
       "                       Movie  \\\n",
       "0          The Batman (2022)   \n",
       "1          The Batman (2022)   \n",
       "2          The Batman (2022)   \n",
       "3          The Batman (2022)   \n",
       "4          The Batman (2022)   \n",
       "5          The Batman (2022)   \n",
       "6          The Batman (2022)   \n",
       "7          The Batman (2022)   \n",
       "8          The Batman (2022)   \n",
       "9          The Batman (2022)   \n",
       "10         The Batman (2022)   \n",
       "11  Batman v Superman (2016)   \n",
       "12  Batman v Superman (2016)   \n",
       "13  Batman v Superman (2016)   \n",
       "14  Batman v Superman (2016)   \n",
       "\n",
       "                                             Location  \\\n",
       "0            St George's Hall, Liverpool, England, UK   \n",
       "1        Royal Liver Building, Liverpool, England, UK   \n",
       "2   Bridge of Sighs, Glasgow Necropolis, Glasgow, ...   \n",
       "3            Anfield Cemetery, Liverpool, England, UK   \n",
       "4    Michigan Central Station, Detroit, Michigan, USA   \n",
       "5                Hygrade Deli, Detroit, Michigan, USA   \n",
       "6               Two Temple Place, London, England, UK   \n",
       "7            St George's Hall, Liverpool, England, UK   \n",
       "8         Wellington's Column, Liverpool, England, UK   \n",
       "9             Steble Fountain, Liverpool, England, UK   \n",
       "10  Bank of Gotham, St George's Hall, Liverpool, E...   \n",
       "11   Michigan Central Station, Detroit, Michigan, USA   \n",
       "12               Hygrade Deli, Detroit, Michigan, USA   \n",
       "13            Aragon Ballroom, Chicago, Illinois, USA   \n",
       "14  Weingart Stadium, East Los Angeles College, Lo...   \n",
       "\n",
       "                                           Source URL  \n",
       "0   https://movie-locations.com/movies/b/The-Batma...  \n",
       "1   https://movie-locations.com/movies/b/The-Batma...  \n",
       "2   https://movie-locations.com/movies/b/The-Batma...  \n",
       "3   https://movie-locations.com/movies/b/The-Batma...  \n",
       "4   https://movie-locations.com/movies/b/The-Batma...  \n",
       "5   https://movie-locations.com/movies/b/The-Batma...  \n",
       "6   https://www.atlasofwonders.com/2022/04/where-w...  \n",
       "7   https://www.atlasofwonders.com/2022/04/where-w...  \n",
       "8   https://www.atlasofwonders.com/2022/04/where-w...  \n",
       "9   https://www.atlasofwonders.com/2022/04/where-w...  \n",
       "10  https://www.atlasofwonders.com/2022/04/where-w...  \n",
       "11  https://movie-locations.com/movies/b/Batman-V-...  \n",
       "12  https://movie-locations.com/movies/b/Batman-V-...  \n",
       "13  https://movie-locations.com/movies/b/Batman-V-...  \n",
       "14  https://movie-locations.com/movies/b/Batman-V-...  "
      ]
     },
     "execution_count": 51,
     "metadata": {},
     "output_type": "execute_result"
    }
   ],
   "source": [
    "detailed_report"
   ]
  },
  {
   "cell_type": "code",
   "execution_count": 57,
   "id": "9d686435-62d1-4507-a57d-2d74084722f7",
   "metadata": {},
   "outputs": [],
   "source": [
    "model = HfApiModel(\n",
    "    \"Qwen/Qwen2.5-Coder-32B-Instruct\", provider=\"together\", max_tokens=8096\n",
    ")\n",
    "\n",
    "web_agent = CodeAgent(\n",
    "    model=model,\n",
    "    tools=[\n",
    "        GoogleSearchTool(provider=\"serper\"),\n",
    "        VisitWebpageTool(),\n",
    "        calculate_cargo_travel_time,\n",
    "    ],\n",
    "    name=\"web_agent\",\n",
    "    description=\"Browses the web to find information\",\n",
    "    verbosity_level=0,\n",
    "    max_steps=10,\n",
    ")"
   ]
  },
  {
   "cell_type": "markdown",
   "id": "0031f795-dabe-400e-8ea8-a72310134c8c",
   "metadata": {},
   "source": [
    "The manager agent will need to do some mental heavy lifting.\n",
    "\n",
    "So we give it the stronger model DeepSeek-R1, and add a planning_interval to the mix"
   ]
  },
  {
   "cell_type": "code",
   "execution_count": 58,
   "id": "af4a81e5-1ac8-462b-854a-2cf87f1c7353",
   "metadata": {},
   "outputs": [],
   "source": [
    "from smolagents.utils import encode_image_base64, make_image_url\n",
    "from smolagents import OpenAIServerModel\n",
    "\n",
    "\n",
    "def check_reasoning_and_plot(final_answer, agent_memory):\n",
    "    final_answer\n",
    "    multimodal_model = OpenAIServerModel(\"gpt-4o\", max_tokens=8096)\n",
    "    filepath = \"saved_map.png\"\n",
    "    assert os.path.exists(filepath), \"Make sure to save the plot under saved_map.png!\"\n",
    "    image = Image.open(filepath)\n",
    "    prompt = (\n",
    "        f\"Here is a user-given task and the agent steps: {agent_memory.get_succinct_steps()}. Now here is the plot that was made.\"\n",
    "        \"Please check that the reasoning process and plot are correct: do they correctly answer the given task?\"\n",
    "        \"First list reasons why yes/no, then write your final decision: PASS in caps lock if it is satisfactory, FAIL if it is not.\"\n",
    "        \"Don't be harsh: if the plot mostly solves the task, it should pass.\"\n",
    "        \"To pass, a plot should be made using px.scatter_map and not any other method (scatter_map looks nicer).\"\n",
    "    )\n",
    "    messages = [\n",
    "        {\n",
    "            \"role\": \"user\",\n",
    "            \"content\": [\n",
    "                {\n",
    "                    \"type\": \"text\",\n",
    "                    \"text\": prompt,\n",
    "                },\n",
    "                {\n",
    "                    \"type\": \"image_url\",\n",
    "                    \"image_url\": {\"url\": make_image_url(encode_image_base64(image))},\n",
    "                },\n",
    "            ],\n",
    "        }\n",
    "    ]\n",
    "    output = multimodal_model(messages).content\n",
    "    print(\"Feedback: \", output)\n",
    "    if \"FAIL\" in output:\n",
    "        raise Exception(output)\n",
    "    return True\n",
    "\n",
    "\n",
    "manager_agent = CodeAgent(\n",
    "    model=HfApiModel(\"deepseek-ai/DeepSeek-R1\", provider=\"together\", max_tokens=8096),\n",
    "    tools=[calculate_cargo_travel_time],\n",
    "    managed_agents=[web_agent],\n",
    "    additional_authorized_imports=[\n",
    "        \"geopandas\",\n",
    "        \"plotly\",\n",
    "        \"shapely\",\n",
    "        \"json\",\n",
    "        \"pandas\",\n",
    "        \"numpy\",\n",
    "    ],\n",
    "    planning_interval=5,\n",
    "    verbosity_level=2,\n",
    "    final_answer_checks=[check_reasoning_and_plot],\n",
    "    max_steps=15,\n",
    ")"
   ]
  },
  {
   "cell_type": "code",
   "execution_count": 59,
   "id": "743b7798-dbdf-4cd9-90e3-7c991429362c",
   "metadata": {},
   "outputs": [
    {
     "data": {
      "text/html": [
       "<pre style=\"white-space:pre;overflow-x:auto;line-height:normal;font-family:Menlo,'DejaVu Sans Mono',consolas,'Courier New',monospace\"><span style=\"color: #d4b702; text-decoration-color: #d4b702; font-weight: bold\">CodeAgent | deepseek-ai/DeepSeek-R1</span>\n",
       "├── ✅ <span style=\"color: #1e90ff; text-decoration-color: #1e90ff; font-style: italic\">Authorized imports:</span> ['geopandas', 'plotly', 'shapely', 'json', 'pandas', 'numpy']\n",
       "├── 🛠️ <span style=\"color: #1e90ff; text-decoration-color: #1e90ff; font-style: italic\">Tools:</span>\n",
       "│   ┏━━━━━━━━━━━━━━━━━━━━━━━━━━━━━┳━━━━━━━━━━━━━━━━━━━━━━━━━━━━━━━━━━━━━━━┳━━━━━━━━━━━━━━━━━━━━━━━━━━━━━━━━━━━━━━━┓\n",
       "│   ┃<span style=\"font-weight: bold\"> Name                        </span>┃<span style=\"font-weight: bold\"> Description                           </span>┃<span style=\"font-weight: bold\"> Arguments                             </span>┃\n",
       "│   ┡━━━━━━━━━━━━━━━━━━━━━━━━━━━━━╇━━━━━━━━━━━━━━━━━━━━━━━━━━━━━━━━━━━━━━━╇━━━━━━━━━━━━━━━━━━━━━━━━━━━━━━━━━━━━━━━┩\n",
       "│   │<span style=\"color: #1e90ff; text-decoration-color: #1e90ff\"> calculate_cargo_travel_time </span>│ Calculate the travel time for a cargo │ origin_coords (`array`): Tuple of     │\n",
       "│   │<span style=\"color: #1e90ff; text-decoration-color: #1e90ff\">                             </span>│ plane between two points on Earth     │ (latitude, longitude) for the         │\n",
       "│   │<span style=\"color: #1e90ff; text-decoration-color: #1e90ff\">                             </span>│ using great-circle distance.          │ starting point                        │\n",
       "│   │<span style=\"color: #1e90ff; text-decoration-color: #1e90ff\">                             </span>│                                       │ destination_coords (`array`): Tuple   │\n",
       "│   │<span style=\"color: #1e90ff; text-decoration-color: #1e90ff\">                             </span>│                                       │ of (latitude, longitude) for the      │\n",
       "│   │<span style=\"color: #1e90ff; text-decoration-color: #1e90ff\">                             </span>│                                       │ destination                           │\n",
       "│   │<span style=\"color: #1e90ff; text-decoration-color: #1e90ff\">                             </span>│                                       │ cruising_speed_kmh (`number`):        │\n",
       "│   │<span style=\"color: #1e90ff; text-decoration-color: #1e90ff\">                             </span>│                                       │ Optional cruising speed in km/h       │\n",
       "│   │<span style=\"color: #1e90ff; text-decoration-color: #1e90ff\">                             </span>│                                       │ (defaults to 750 km/h for typical     │\n",
       "│   │<span style=\"color: #1e90ff; text-decoration-color: #1e90ff\">                             </span>│                                       │ cargo planes)                         │\n",
       "│   │<span style=\"color: #1e90ff; text-decoration-color: #1e90ff\"> final_answer                </span>│ Provides a final answer to the given  │ answer (`any`): The final answer to   │\n",
       "│   │<span style=\"color: #1e90ff; text-decoration-color: #1e90ff\">                             </span>│ problem.                              │ the problem                           │\n",
       "│   └─────────────────────────────┴───────────────────────────────────────┴───────────────────────────────────────┘\n",
       "└── 🤖 <span style=\"color: #1e90ff; text-decoration-color: #1e90ff; font-style: italic\">Managed agents:</span>\n",
       "    └── <span style=\"color: #d4b702; text-decoration-color: #d4b702; font-weight: bold\">web_agent | CodeAgent | Qwen/Qwen2.5-Coder-32B-Instruct</span>\n",
       "        ├── ✅ <span style=\"color: #1e90ff; text-decoration-color: #1e90ff; font-style: italic\">Authorized imports:</span> []\n",
       "        ├── 📝 <span style=\"color: #1e90ff; text-decoration-color: #1e90ff; font-style: italic\">Description:</span> Browses the web to find information\n",
       "        └── 🛠️ <span style=\"color: #1e90ff; text-decoration-color: #1e90ff; font-style: italic\">Tools:</span>\n",
       "            ┏━━━━━━━━━━━━━━━━━━━━━━━━━━━━━┳━━━━━━━━━━━━━━━━━━━━━━━━━━━━━━━━━━━┳━━━━━━━━━━━━━━━━━━━━━━━━━━━━━━━━━━━┓\n",
       "            ┃<span style=\"font-weight: bold\"> Name                        </span>┃<span style=\"font-weight: bold\"> Description                       </span>┃<span style=\"font-weight: bold\"> Arguments                         </span>┃\n",
       "            ┡━━━━━━━━━━━━━━━━━━━━━━━━━━━━━╇━━━━━━━━━━━━━━━━━━━━━━━━━━━━━━━━━━━╇━━━━━━━━━━━━━━━━━━━━━━━━━━━━━━━━━━━┩\n",
       "            │<span style=\"color: #1e90ff; text-decoration-color: #1e90ff\"> web_search                  </span>│ Performs a google web search for  │ query (`string`): The search      │\n",
       "            │<span style=\"color: #1e90ff; text-decoration-color: #1e90ff\">                             </span>│ your query then returns a string  │ query to perform.                 │\n",
       "            │<span style=\"color: #1e90ff; text-decoration-color: #1e90ff\">                             </span>│ of the top search results.        │ filter_year (`integer`):          │\n",
       "            │<span style=\"color: #1e90ff; text-decoration-color: #1e90ff\">                             </span>│                                   │ Optionally restrict results to a  │\n",
       "            │<span style=\"color: #1e90ff; text-decoration-color: #1e90ff\">                             </span>│                                   │ certain year                      │\n",
       "            │<span style=\"color: #1e90ff; text-decoration-color: #1e90ff\"> visit_webpage               </span>│ Visits a webpage at the given url │ url (`string`): The url of the    │\n",
       "            │<span style=\"color: #1e90ff; text-decoration-color: #1e90ff\">                             </span>│ and reads its content as a        │ webpage to visit.                 │\n",
       "            │<span style=\"color: #1e90ff; text-decoration-color: #1e90ff\">                             </span>│ markdown string. Use this to      │                                   │\n",
       "            │<span style=\"color: #1e90ff; text-decoration-color: #1e90ff\">                             </span>│ browse webpages.                  │                                   │\n",
       "            │<span style=\"color: #1e90ff; text-decoration-color: #1e90ff\"> calculate_cargo_travel_time </span>│ Calculate the travel time for a   │ origin_coords (`array`): Tuple of │\n",
       "            │<span style=\"color: #1e90ff; text-decoration-color: #1e90ff\">                             </span>│ cargo plane between two points on │ (latitude, longitude) for the     │\n",
       "            │<span style=\"color: #1e90ff; text-decoration-color: #1e90ff\">                             </span>│ Earth using great-circle          │ starting point                    │\n",
       "            │<span style=\"color: #1e90ff; text-decoration-color: #1e90ff\">                             </span>│ distance.                         │ destination_coords (`array`):     │\n",
       "            │<span style=\"color: #1e90ff; text-decoration-color: #1e90ff\">                             </span>│                                   │ Tuple of (latitude, longitude)    │\n",
       "            │<span style=\"color: #1e90ff; text-decoration-color: #1e90ff\">                             </span>│                                   │ for the destination               │\n",
       "            │<span style=\"color: #1e90ff; text-decoration-color: #1e90ff\">                             </span>│                                   │ cruising_speed_kmh (`number`):    │\n",
       "            │<span style=\"color: #1e90ff; text-decoration-color: #1e90ff\">                             </span>│                                   │ Optional cruising speed in km/h   │\n",
       "            │<span style=\"color: #1e90ff; text-decoration-color: #1e90ff\">                             </span>│                                   │ (defaults to 750 km/h for typical │\n",
       "            │<span style=\"color: #1e90ff; text-decoration-color: #1e90ff\">                             </span>│                                   │ cargo planes)                     │\n",
       "            │<span style=\"color: #1e90ff; text-decoration-color: #1e90ff\"> final_answer                </span>│ Provides a final answer to the    │ answer (`any`): The final answer  │\n",
       "            │<span style=\"color: #1e90ff; text-decoration-color: #1e90ff\">                             </span>│ given problem.                    │ to the problem                    │\n",
       "            └─────────────────────────────┴───────────────────────────────────┴───────────────────────────────────┘\n",
       "</pre>\n"
      ],
      "text/plain": [
       "\u001b[1;38;2;212;183;2mCodeAgent | deepseek-ai/DeepSeek-R1\u001b[0m\n",
       "├── ✅ \u001b[3;38;2;30;144;255mAuthorized imports:\u001b[0m ['geopandas', 'plotly', 'shapely', 'json', 'pandas', 'numpy']\n",
       "├── 🛠️ \u001b[3;38;2;30;144;255mTools:\u001b[0m\n",
       "│   ┏━━━━━━━━━━━━━━━━━━━━━━━━━━━━━┳━━━━━━━━━━━━━━━━━━━━━━━━━━━━━━━━━━━━━━━┳━━━━━━━━━━━━━━━━━━━━━━━━━━━━━━━━━━━━━━━┓\n",
       "│   ┃\u001b[1m \u001b[0m\u001b[1mName                       \u001b[0m\u001b[1m \u001b[0m┃\u001b[1m \u001b[0m\u001b[1mDescription                          \u001b[0m\u001b[1m \u001b[0m┃\u001b[1m \u001b[0m\u001b[1mArguments                            \u001b[0m\u001b[1m \u001b[0m┃\n",
       "│   ┡━━━━━━━━━━━━━━━━━━━━━━━━━━━━━╇━━━━━━━━━━━━━━━━━━━━━━━━━━━━━━━━━━━━━━━╇━━━━━━━━━━━━━━━━━━━━━━━━━━━━━━━━━━━━━━━┩\n",
       "│   │\u001b[38;2;30;144;255m \u001b[0m\u001b[38;2;30;144;255mcalculate_cargo_travel_time\u001b[0m\u001b[38;2;30;144;255m \u001b[0m│ Calculate the travel time for a cargo │ origin_coords (`array`): Tuple of     │\n",
       "│   │\u001b[38;2;30;144;255m                             \u001b[0m│ plane between two points on Earth     │ (latitude, longitude) for the         │\n",
       "│   │\u001b[38;2;30;144;255m                             \u001b[0m│ using great-circle distance.          │ starting point                        │\n",
       "│   │\u001b[38;2;30;144;255m                             \u001b[0m│                                       │ destination_coords (`array`): Tuple   │\n",
       "│   │\u001b[38;2;30;144;255m                             \u001b[0m│                                       │ of (latitude, longitude) for the      │\n",
       "│   │\u001b[38;2;30;144;255m                             \u001b[0m│                                       │ destination                           │\n",
       "│   │\u001b[38;2;30;144;255m                             \u001b[0m│                                       │ cruising_speed_kmh (`number`):        │\n",
       "│   │\u001b[38;2;30;144;255m                             \u001b[0m│                                       │ Optional cruising speed in km/h       │\n",
       "│   │\u001b[38;2;30;144;255m                             \u001b[0m│                                       │ (defaults to 750 km/h for typical     │\n",
       "│   │\u001b[38;2;30;144;255m                             \u001b[0m│                                       │ cargo planes)                         │\n",
       "│   │\u001b[38;2;30;144;255m \u001b[0m\u001b[38;2;30;144;255mfinal_answer               \u001b[0m\u001b[38;2;30;144;255m \u001b[0m│ Provides a final answer to the given  │ answer (`any`): The final answer to   │\n",
       "│   │\u001b[38;2;30;144;255m                             \u001b[0m│ problem.                              │ the problem                           │\n",
       "│   └─────────────────────────────┴───────────────────────────────────────┴───────────────────────────────────────┘\n",
       "└── 🤖 \u001b[3;38;2;30;144;255mManaged agents:\u001b[0m\n",
       "    └── \u001b[1;38;2;212;183;2mweb_agent | CodeAgent | Qwen/Qwen2.5-Coder-32B-Instruct\u001b[0m\n",
       "        ├── ✅ \u001b[3;38;2;30;144;255mAuthorized imports:\u001b[0m []\n",
       "        ├── 📝 \u001b[3;38;2;30;144;255mDescription:\u001b[0m Browses the web to find information\n",
       "        └── 🛠️ \u001b[3;38;2;30;144;255mTools:\u001b[0m\n",
       "            ┏━━━━━━━━━━━━━━━━━━━━━━━━━━━━━┳━━━━━━━━━━━━━━━━━━━━━━━━━━━━━━━━━━━┳━━━━━━━━━━━━━━━━━━━━━━━━━━━━━━━━━━━┓\n",
       "            ┃\u001b[1m \u001b[0m\u001b[1mName                       \u001b[0m\u001b[1m \u001b[0m┃\u001b[1m \u001b[0m\u001b[1mDescription                      \u001b[0m\u001b[1m \u001b[0m┃\u001b[1m \u001b[0m\u001b[1mArguments                        \u001b[0m\u001b[1m \u001b[0m┃\n",
       "            ┡━━━━━━━━━━━━━━━━━━━━━━━━━━━━━╇━━━━━━━━━━━━━━━━━━━━━━━━━━━━━━━━━━━╇━━━━━━━━━━━━━━━━━━━━━━━━━━━━━━━━━━━┩\n",
       "            │\u001b[38;2;30;144;255m \u001b[0m\u001b[38;2;30;144;255mweb_search                 \u001b[0m\u001b[38;2;30;144;255m \u001b[0m│ Performs a google web search for  │ query (`string`): The search      │\n",
       "            │\u001b[38;2;30;144;255m                             \u001b[0m│ your query then returns a string  │ query to perform.                 │\n",
       "            │\u001b[38;2;30;144;255m                             \u001b[0m│ of the top search results.        │ filter_year (`integer`):          │\n",
       "            │\u001b[38;2;30;144;255m                             \u001b[0m│                                   │ Optionally restrict results to a  │\n",
       "            │\u001b[38;2;30;144;255m                             \u001b[0m│                                   │ certain year                      │\n",
       "            │\u001b[38;2;30;144;255m \u001b[0m\u001b[38;2;30;144;255mvisit_webpage              \u001b[0m\u001b[38;2;30;144;255m \u001b[0m│ Visits a webpage at the given url │ url (`string`): The url of the    │\n",
       "            │\u001b[38;2;30;144;255m                             \u001b[0m│ and reads its content as a        │ webpage to visit.                 │\n",
       "            │\u001b[38;2;30;144;255m                             \u001b[0m│ markdown string. Use this to      │                                   │\n",
       "            │\u001b[38;2;30;144;255m                             \u001b[0m│ browse webpages.                  │                                   │\n",
       "            │\u001b[38;2;30;144;255m \u001b[0m\u001b[38;2;30;144;255mcalculate_cargo_travel_time\u001b[0m\u001b[38;2;30;144;255m \u001b[0m│ Calculate the travel time for a   │ origin_coords (`array`): Tuple of │\n",
       "            │\u001b[38;2;30;144;255m                             \u001b[0m│ cargo plane between two points on │ (latitude, longitude) for the     │\n",
       "            │\u001b[38;2;30;144;255m                             \u001b[0m│ Earth using great-circle          │ starting point                    │\n",
       "            │\u001b[38;2;30;144;255m                             \u001b[0m│ distance.                         │ destination_coords (`array`):     │\n",
       "            │\u001b[38;2;30;144;255m                             \u001b[0m│                                   │ Tuple of (latitude, longitude)    │\n",
       "            │\u001b[38;2;30;144;255m                             \u001b[0m│                                   │ for the destination               │\n",
       "            │\u001b[38;2;30;144;255m                             \u001b[0m│                                   │ cruising_speed_kmh (`number`):    │\n",
       "            │\u001b[38;2;30;144;255m                             \u001b[0m│                                   │ Optional cruising speed in km/h   │\n",
       "            │\u001b[38;2;30;144;255m                             \u001b[0m│                                   │ (defaults to 750 km/h for typical │\n",
       "            │\u001b[38;2;30;144;255m                             \u001b[0m│                                   │ cargo planes)                     │\n",
       "            │\u001b[38;2;30;144;255m \u001b[0m\u001b[38;2;30;144;255mfinal_answer               \u001b[0m\u001b[38;2;30;144;255m \u001b[0m│ Provides a final answer to the    │ answer (`any`): The final answer  │\n",
       "            │\u001b[38;2;30;144;255m                             \u001b[0m│ given problem.                    │ to the problem                    │\n",
       "            └─────────────────────────────┴───────────────────────────────────┴───────────────────────────────────┘\n"
      ]
     },
     "metadata": {},
     "output_type": "display_data"
    }
   ],
   "source": [
    "manager_agent.visualize()"
   ]
  },
  {
   "cell_type": "code",
   "execution_count": 69,
   "id": "0b17f03a-767d-420d-8403-6062b6f68ef5",
   "metadata": {},
   "outputs": [
    {
     "data": {
      "text/html": [
       "<pre style=\"white-space:pre;overflow-x:auto;line-height:normal;font-family:Menlo,'DejaVu Sans Mono',consolas,'Courier New',monospace\"><span style=\"color: #d4b702; text-decoration-color: #d4b702\">╭──────────────────────────────────────────────────── </span><span style=\"color: #d4b702; text-decoration-color: #d4b702; font-weight: bold\">New run</span><span style=\"color: #d4b702; text-decoration-color: #d4b702\"> ────────────────────────────────────────────────────╮</span>\n",
       "<span style=\"color: #d4b702; text-decoration-color: #d4b702\">│</span>                                                                                                                 <span style=\"color: #d4b702; text-decoration-color: #d4b702\">│</span>\n",
       "<span style=\"color: #d4b702; text-decoration-color: #d4b702\">│</span> <span style=\"font-weight: bold\">Find all Batman filming locations in the world, calculate the time to transfer via cargo plane to here (we're </span>  <span style=\"color: #d4b702; text-decoration-color: #d4b702\">│</span>\n",
       "<span style=\"color: #d4b702; text-decoration-color: #d4b702\">│</span> <span style=\"font-weight: bold\">in Gotham, 40.7128° N, 74.0060° W).</span>                                                                             <span style=\"color: #d4b702; text-decoration-color: #d4b702\">│</span>\n",
       "<span style=\"color: #d4b702; text-decoration-color: #d4b702\">│</span> <span style=\"font-weight: bold\">Also give me some supercar factories with the same cargo plane transfer time. You need at least 6 points in </span>    <span style=\"color: #d4b702; text-decoration-color: #d4b702\">│</span>\n",
       "<span style=\"color: #d4b702; text-decoration-color: #d4b702\">│</span> <span style=\"font-weight: bold\">total.</span>                                                                                                          <span style=\"color: #d4b702; text-decoration-color: #d4b702\">│</span>\n",
       "<span style=\"color: #d4b702; text-decoration-color: #d4b702\">│</span> <span style=\"font-weight: bold\">Represent this as spatial map of the world, with the locations represented as scatter points with a color that </span> <span style=\"color: #d4b702; text-decoration-color: #d4b702\">│</span>\n",
       "<span style=\"color: #d4b702; text-decoration-color: #d4b702\">│</span> <span style=\"font-weight: bold\">depends on the travel time, and save it to saved_map.png!</span>                                                       <span style=\"color: #d4b702; text-decoration-color: #d4b702\">│</span>\n",
       "<span style=\"color: #d4b702; text-decoration-color: #d4b702\">│</span> <span style=\"font-weight: bold\">Never try to process strings using code: when you have a string to read, just print it and you'll see it.</span>       <span style=\"color: #d4b702; text-decoration-color: #d4b702\">│</span>\n",
       "<span style=\"color: #d4b702; text-decoration-color: #d4b702\">│</span>                                                                                                                 <span style=\"color: #d4b702; text-decoration-color: #d4b702\">│</span>\n",
       "<span style=\"color: #d4b702; text-decoration-color: #d4b702\">╰─ HfApiModel - deepseek-ai/DeepSeek-R1 ──────────────────────────────────────────────────────────────────────────╯</span>\n",
       "</pre>\n"
      ],
      "text/plain": [
       "\u001b[38;2;212;183;2m╭─\u001b[0m\u001b[38;2;212;183;2m───────────────────────────────────────────────────\u001b[0m\u001b[38;2;212;183;2m \u001b[0m\u001b[1;38;2;212;183;2mNew run\u001b[0m\u001b[38;2;212;183;2m \u001b[0m\u001b[38;2;212;183;2m───────────────────────────────────────────────────\u001b[0m\u001b[38;2;212;183;2m─╮\u001b[0m\n",
       "\u001b[38;2;212;183;2m│\u001b[0m                                                                                                                 \u001b[38;2;212;183;2m│\u001b[0m\n",
       "\u001b[38;2;212;183;2m│\u001b[0m \u001b[1mFind all Batman filming locations in the world, calculate the time to transfer via cargo plane to here (we're \u001b[0m  \u001b[38;2;212;183;2m│\u001b[0m\n",
       "\u001b[38;2;212;183;2m│\u001b[0m \u001b[1min Gotham, 40.7128° N, 74.0060° W).\u001b[0m                                                                             \u001b[38;2;212;183;2m│\u001b[0m\n",
       "\u001b[38;2;212;183;2m│\u001b[0m \u001b[1mAlso give me some supercar factories with the same cargo plane transfer time. You need at least 6 points in \u001b[0m    \u001b[38;2;212;183;2m│\u001b[0m\n",
       "\u001b[38;2;212;183;2m│\u001b[0m \u001b[1mtotal.\u001b[0m                                                                                                          \u001b[38;2;212;183;2m│\u001b[0m\n",
       "\u001b[38;2;212;183;2m│\u001b[0m \u001b[1mRepresent this as spatial map of the world, with the locations represented as scatter points with a color that \u001b[0m \u001b[38;2;212;183;2m│\u001b[0m\n",
       "\u001b[38;2;212;183;2m│\u001b[0m \u001b[1mdepends on the travel time, and save it to saved_map.png!\u001b[0m                                                       \u001b[38;2;212;183;2m│\u001b[0m\n",
       "\u001b[38;2;212;183;2m│\u001b[0m \u001b[1mNever try to process strings using code: when you have a string to read, just print it and you'll see it.\u001b[0m       \u001b[38;2;212;183;2m│\u001b[0m\n",
       "\u001b[38;2;212;183;2m│\u001b[0m                                                                                                                 \u001b[38;2;212;183;2m│\u001b[0m\n",
       "\u001b[38;2;212;183;2m╰─\u001b[0m\u001b[38;2;212;183;2m HfApiModel - deepseek-ai/DeepSeek-R1 \u001b[0m\u001b[38;2;212;183;2m─────────────────────────────────────────────────────────────────────────\u001b[0m\u001b[38;2;212;183;2m─╯\u001b[0m\n"
      ]
     },
     "metadata": {},
     "output_type": "display_data"
    },
    {
     "data": {
      "text/html": [
       "<pre style=\"white-space:pre;overflow-x:auto;line-height:normal;font-family:Menlo,'DejaVu Sans Mono',consolas,'Courier New',monospace\"><span style=\"color: #7f7f7f; text-decoration-color: #7f7f7f\">[Step 1: Duration 0.11 seconds| Input tokens: 1,382 | Output tokens: 1,142]</span>\n",
       "</pre>\n"
      ],
      "text/plain": [
       "\u001b[2m[Step 1: Duration 0.11 seconds| Input tokens: 1,382 | Output tokens: 1,142]\u001b[0m\n"
      ]
     },
     "metadata": {},
     "output_type": "display_data"
    },
    {
     "ename": "HfHubHTTPError",
     "evalue": "402 Client Error: Payment Required for url: https://router.huggingface.co/together/v1/chat/completions (Request ID: Root=1-67cfb084-2aa8f7fe5989232d408893b5;fcde101d-6090-4a14-975c-39f4fcbe2d25)\n\nYou have exceeded your monthly included credits for Inference Providers. Pay-as-you-go above your included PRO quota will be available soon.",
     "output_type": "error",
     "traceback": [
      "\u001b[0;31m---------------------------------------------------------------------------\u001b[0m",
      "\u001b[0;31mHTTPError\u001b[0m                                 Traceback (most recent call last)",
      "File \u001b[0;32m/opt/anaconda3/envs/myagent/lib/python3.12/site-packages/huggingface_hub/utils/_http.py:409\u001b[0m, in \u001b[0;36mhf_raise_for_status\u001b[0;34m(response, endpoint_name)\u001b[0m\n\u001b[1;32m    408\u001b[0m \u001b[38;5;28;01mtry\u001b[39;00m:\n\u001b[0;32m--> 409\u001b[0m     response\u001b[38;5;241m.\u001b[39mraise_for_status()\n\u001b[1;32m    410\u001b[0m \u001b[38;5;28;01mexcept\u001b[39;00m HTTPError \u001b[38;5;28;01mas\u001b[39;00m e:\n",
      "File \u001b[0;32m/opt/anaconda3/envs/myagent/lib/python3.12/site-packages/requests/models.py:1024\u001b[0m, in \u001b[0;36mResponse.raise_for_status\u001b[0;34m(self)\u001b[0m\n\u001b[1;32m   1023\u001b[0m \u001b[38;5;28;01mif\u001b[39;00m http_error_msg:\n\u001b[0;32m-> 1024\u001b[0m     \u001b[38;5;28;01mraise\u001b[39;00m HTTPError(http_error_msg, response\u001b[38;5;241m=\u001b[39m\u001b[38;5;28mself\u001b[39m)\n",
      "\u001b[0;31mHTTPError\u001b[0m: 402 Client Error: Payment Required for url: https://router.huggingface.co/together/v1/chat/completions",
      "\nThe above exception was the direct cause of the following exception:\n",
      "\u001b[0;31mHfHubHTTPError\u001b[0m                            Traceback (most recent call last)",
      "Cell \u001b[0;32mIn[69], line 1\u001b[0m\n\u001b[0;32m----> 1\u001b[0m manager_agent\u001b[38;5;241m.\u001b[39mrun(\u001b[38;5;124m\"\"\"\u001b[39m\n\u001b[1;32m      2\u001b[0m \u001b[38;5;124mFind all Batman filming locations in the world, calculate the time to transfer via cargo plane to here (we\u001b[39m\u001b[38;5;124m'\u001b[39m\u001b[38;5;124mre in Gotham, 40.7128° N, 74.0060° W).\u001b[39m\n\u001b[1;32m      3\u001b[0m \u001b[38;5;124mAlso give me some supercar factories with the same cargo plane transfer time. You need at least 6 points in total.\u001b[39m\n\u001b[1;32m      4\u001b[0m \u001b[38;5;124mRepresent this as spatial map of the world, with the locations represented as scatter points with a color that depends on the travel time, and save it to saved_map.png!\u001b[39m\n\u001b[1;32m      5\u001b[0m \u001b[38;5;124mNever try to process strings using code: when you have a string to read, just print it and you\u001b[39m\u001b[38;5;124m'\u001b[39m\u001b[38;5;124mll see it.\u001b[39m\n\u001b[1;32m      6\u001b[0m \u001b[38;5;124m\"\"\"\u001b[39m)\n",
      "File \u001b[0;32m/opt/anaconda3/envs/myagent/lib/python3.12/site-packages/smolagents/agents.py:322\u001b[0m, in \u001b[0;36mMultiStepAgent.run\u001b[0;34m(self, task, stream, reset, images, additional_args, max_steps)\u001b[0m\n\u001b[1;32m    320\u001b[0m     \u001b[38;5;28;01mreturn\u001b[39;00m \u001b[38;5;28mself\u001b[39m\u001b[38;5;241m.\u001b[39m_run(task\u001b[38;5;241m=\u001b[39m\u001b[38;5;28mself\u001b[39m\u001b[38;5;241m.\u001b[39mtask, max_steps\u001b[38;5;241m=\u001b[39mmax_steps, images\u001b[38;5;241m=\u001b[39mimages)\n\u001b[1;32m    321\u001b[0m \u001b[38;5;66;03m# Outputs are returned only at the end. We only look at the last step.\u001b[39;00m\n\u001b[0;32m--> 322\u001b[0m \u001b[38;5;28;01mreturn\u001b[39;00m deque(\u001b[38;5;28mself\u001b[39m\u001b[38;5;241m.\u001b[39m_run(task\u001b[38;5;241m=\u001b[39m\u001b[38;5;28mself\u001b[39m\u001b[38;5;241m.\u001b[39mtask, max_steps\u001b[38;5;241m=\u001b[39mmax_steps, images\u001b[38;5;241m=\u001b[39mimages), maxlen\u001b[38;5;241m=\u001b[39m\u001b[38;5;241m1\u001b[39m)[\u001b[38;5;241m0\u001b[39m]\n",
      "File \u001b[0;32m/opt/anaconda3/envs/myagent/lib/python3.12/site-packages/smolagents/agents.py:333\u001b[0m, in \u001b[0;36mMultiStepAgent._run\u001b[0;34m(self, task, max_steps, images)\u001b[0m\n\u001b[1;32m    331\u001b[0m memory_step \u001b[38;5;241m=\u001b[39m \u001b[38;5;28mself\u001b[39m\u001b[38;5;241m.\u001b[39m_create_memory_step(step_start_time, images)\n\u001b[1;32m    332\u001b[0m \u001b[38;5;28;01mtry\u001b[39;00m:\n\u001b[0;32m--> 333\u001b[0m     final_answer \u001b[38;5;241m=\u001b[39m \u001b[38;5;28mself\u001b[39m\u001b[38;5;241m.\u001b[39m_execute_step(task, memory_step)\n\u001b[1;32m    334\u001b[0m \u001b[38;5;28;01mexcept\u001b[39;00m AgentError \u001b[38;5;28;01mas\u001b[39;00m e:\n\u001b[1;32m    335\u001b[0m     memory_step\u001b[38;5;241m.\u001b[39merror \u001b[38;5;241m=\u001b[39m e\n",
      "File \u001b[0;32m/opt/anaconda3/envs/myagent/lib/python3.12/site-packages/smolagents/agents.py:351\u001b[0m, in \u001b[0;36mMultiStepAgent._execute_step\u001b[0;34m(self, task, memory_step)\u001b[0m\n\u001b[1;32m    349\u001b[0m \u001b[38;5;28;01mdef\u001b[39;00m \u001b[38;5;21m_execute_step\u001b[39m(\u001b[38;5;28mself\u001b[39m, task: \u001b[38;5;28mstr\u001b[39m, memory_step: ActionStep) \u001b[38;5;241m-\u001b[39m\u001b[38;5;241m>\u001b[39m Union[\u001b[38;5;28;01mNone\u001b[39;00m, Any]:\n\u001b[1;32m    350\u001b[0m     \u001b[38;5;28;01mif\u001b[39;00m \u001b[38;5;28mself\u001b[39m\u001b[38;5;241m.\u001b[39mplanning_interval \u001b[38;5;129;01mis\u001b[39;00m \u001b[38;5;129;01mnot\u001b[39;00m \u001b[38;5;28;01mNone\u001b[39;00m \u001b[38;5;129;01mand\u001b[39;00m \u001b[38;5;28mself\u001b[39m\u001b[38;5;241m.\u001b[39mstep_number \u001b[38;5;241m%\u001b[39m \u001b[38;5;28mself\u001b[39m\u001b[38;5;241m.\u001b[39mplanning_interval \u001b[38;5;241m==\u001b[39m \u001b[38;5;241m1\u001b[39m:\n\u001b[0;32m--> 351\u001b[0m         \u001b[38;5;28mself\u001b[39m\u001b[38;5;241m.\u001b[39mplanning_step(task, is_first_step\u001b[38;5;241m=\u001b[39m(\u001b[38;5;28mself\u001b[39m\u001b[38;5;241m.\u001b[39mstep_number \u001b[38;5;241m==\u001b[39m \u001b[38;5;241m1\u001b[39m), step\u001b[38;5;241m=\u001b[39m\u001b[38;5;28mself\u001b[39m\u001b[38;5;241m.\u001b[39mstep_number)\n\u001b[1;32m    352\u001b[0m     \u001b[38;5;28mself\u001b[39m\u001b[38;5;241m.\u001b[39mlogger\u001b[38;5;241m.\u001b[39mlog_rule(\u001b[38;5;124mf\u001b[39m\u001b[38;5;124m\"\u001b[39m\u001b[38;5;124mStep \u001b[39m\u001b[38;5;132;01m{\u001b[39;00m\u001b[38;5;28mself\u001b[39m\u001b[38;5;241m.\u001b[39mstep_number\u001b[38;5;132;01m}\u001b[39;00m\u001b[38;5;124m\"\u001b[39m, level\u001b[38;5;241m=\u001b[39mLogLevel\u001b[38;5;241m.\u001b[39mINFO)\n\u001b[1;32m    353\u001b[0m     final_answer \u001b[38;5;241m=\u001b[39m \u001b[38;5;28mself\u001b[39m\u001b[38;5;241m.\u001b[39mstep(memory_step)\n",
      "File \u001b[0;32m/opt/anaconda3/envs/myagent/lib/python3.12/site-packages/smolagents/agents.py:392\u001b[0m, in \u001b[0;36mMultiStepAgent.planning_step\u001b[0;34m(self, task, is_first_step, step)\u001b[0m\n\u001b[1;32m    390\u001b[0m \u001b[38;5;28;01mdef\u001b[39;00m \u001b[38;5;21mplanning_step\u001b[39m(\u001b[38;5;28mself\u001b[39m, task, is_first_step: \u001b[38;5;28mbool\u001b[39m, step: \u001b[38;5;28mint\u001b[39m) \u001b[38;5;241m-\u001b[39m\u001b[38;5;241m>\u001b[39m \u001b[38;5;28;01mNone\u001b[39;00m:\n\u001b[1;32m    391\u001b[0m     input_messages, facts_message, plan_message \u001b[38;5;241m=\u001b[39m (\n\u001b[0;32m--> 392\u001b[0m         \u001b[38;5;28mself\u001b[39m\u001b[38;5;241m.\u001b[39m_generate_initial_plan(task) \u001b[38;5;28;01mif\u001b[39;00m is_first_step \u001b[38;5;28;01melse\u001b[39;00m \u001b[38;5;28mself\u001b[39m\u001b[38;5;241m.\u001b[39m_generate_updated_plan(task, step)\n\u001b[1;32m    393\u001b[0m     )\n\u001b[1;32m    394\u001b[0m     \u001b[38;5;28mself\u001b[39m\u001b[38;5;241m.\u001b[39m_record_planning_step(input_messages, facts_message, plan_message, is_first_step)\n",
      "File \u001b[0;32m/opt/anaconda3/envs/myagent/lib/python3.12/site-packages/smolagents/agents.py:410\u001b[0m, in \u001b[0;36mMultiStepAgent._generate_initial_plan\u001b[0;34m(self, task)\u001b[0m\n\u001b[1;32m    396\u001b[0m \u001b[38;5;28;01mdef\u001b[39;00m \u001b[38;5;21m_generate_initial_plan\u001b[39m(\u001b[38;5;28mself\u001b[39m, task: \u001b[38;5;28mstr\u001b[39m) \u001b[38;5;241m-\u001b[39m\u001b[38;5;241m>\u001b[39m Tuple[ChatMessage, ChatMessage]:\n\u001b[1;32m    397\u001b[0m     input_messages \u001b[38;5;241m=\u001b[39m [\n\u001b[1;32m    398\u001b[0m         {\n\u001b[1;32m    399\u001b[0m             \u001b[38;5;124m\"\u001b[39m\u001b[38;5;124mrole\u001b[39m\u001b[38;5;124m\"\u001b[39m: MessageRole\u001b[38;5;241m.\u001b[39mUSER,\n\u001b[0;32m   (...)\u001b[0m\n\u001b[1;32m    408\u001b[0m         },\n\u001b[1;32m    409\u001b[0m     ]\n\u001b[0;32m--> 410\u001b[0m     facts_message \u001b[38;5;241m=\u001b[39m \u001b[38;5;28mself\u001b[39m\u001b[38;5;241m.\u001b[39mmodel(input_messages)\n\u001b[1;32m    412\u001b[0m     message_prompt_plan \u001b[38;5;241m=\u001b[39m {\n\u001b[1;32m    413\u001b[0m         \u001b[38;5;124m\"\u001b[39m\u001b[38;5;124mrole\u001b[39m\u001b[38;5;124m\"\u001b[39m: MessageRole\u001b[38;5;241m.\u001b[39mUSER,\n\u001b[1;32m    414\u001b[0m         \u001b[38;5;124m\"\u001b[39m\u001b[38;5;124mcontent\u001b[39m\u001b[38;5;124m\"\u001b[39m: [\n\u001b[0;32m   (...)\u001b[0m\n\u001b[1;32m    427\u001b[0m         ],\n\u001b[1;32m    428\u001b[0m     }\n\u001b[1;32m    429\u001b[0m     plan_message \u001b[38;5;241m=\u001b[39m \u001b[38;5;28mself\u001b[39m\u001b[38;5;241m.\u001b[39mmodel([message_prompt_plan], stop_sequences\u001b[38;5;241m=\u001b[39m[\u001b[38;5;124m\"\u001b[39m\u001b[38;5;124m<end_plan>\u001b[39m\u001b[38;5;124m\"\u001b[39m])\n",
      "File \u001b[0;32m/opt/anaconda3/envs/myagent/lib/python3.12/site-packages/smolagents/models.py:458\u001b[0m, in \u001b[0;36mHfApiModel.__call__\u001b[0;34m(self, messages, stop_sequences, grammar, tools_to_call_from, **kwargs)\u001b[0m\n\u001b[1;32m    441\u001b[0m \u001b[38;5;28;01mdef\u001b[39;00m \u001b[38;5;21m__call__\u001b[39m(\n\u001b[1;32m    442\u001b[0m     \u001b[38;5;28mself\u001b[39m,\n\u001b[1;32m    443\u001b[0m     messages: List[Dict[\u001b[38;5;28mstr\u001b[39m, \u001b[38;5;28mstr\u001b[39m]],\n\u001b[0;32m   (...)\u001b[0m\n\u001b[1;32m    447\u001b[0m     \u001b[38;5;241m*\u001b[39m\u001b[38;5;241m*\u001b[39mkwargs,\n\u001b[1;32m    448\u001b[0m ) \u001b[38;5;241m-\u001b[39m\u001b[38;5;241m>\u001b[39m ChatMessage:\n\u001b[1;32m    449\u001b[0m     completion_kwargs \u001b[38;5;241m=\u001b[39m \u001b[38;5;28mself\u001b[39m\u001b[38;5;241m.\u001b[39m_prepare_completion_kwargs(\n\u001b[1;32m    450\u001b[0m         messages\u001b[38;5;241m=\u001b[39mmessages,\n\u001b[1;32m    451\u001b[0m         stop_sequences\u001b[38;5;241m=\u001b[39mstop_sequences,\n\u001b[0;32m   (...)\u001b[0m\n\u001b[1;32m    456\u001b[0m         \u001b[38;5;241m*\u001b[39m\u001b[38;5;241m*\u001b[39mkwargs,\n\u001b[1;32m    457\u001b[0m     )\n\u001b[0;32m--> 458\u001b[0m     response \u001b[38;5;241m=\u001b[39m \u001b[38;5;28mself\u001b[39m\u001b[38;5;241m.\u001b[39mclient\u001b[38;5;241m.\u001b[39mchat_completion(\u001b[38;5;241m*\u001b[39m\u001b[38;5;241m*\u001b[39mcompletion_kwargs)\n\u001b[1;32m    460\u001b[0m     \u001b[38;5;28mself\u001b[39m\u001b[38;5;241m.\u001b[39mlast_input_token_count \u001b[38;5;241m=\u001b[39m response\u001b[38;5;241m.\u001b[39musage\u001b[38;5;241m.\u001b[39mprompt_tokens\n\u001b[1;32m    461\u001b[0m     \u001b[38;5;28mself\u001b[39m\u001b[38;5;241m.\u001b[39mlast_output_token_count \u001b[38;5;241m=\u001b[39m response\u001b[38;5;241m.\u001b[39musage\u001b[38;5;241m.\u001b[39mcompletion_tokens\n",
      "File \u001b[0;32m/opt/anaconda3/envs/myagent/lib/python3.12/site-packages/huggingface_hub/inference/_client.py:956\u001b[0m, in \u001b[0;36mInferenceClient.chat_completion\u001b[0;34m(self, messages, model, stream, frequency_penalty, logit_bias, logprobs, max_tokens, n, presence_penalty, response_format, seed, stop, stream_options, temperature, tool_choice, tool_prompt, tools, top_logprobs, top_p, extra_body)\u001b[0m\n\u001b[1;32m    928\u001b[0m parameters \u001b[38;5;241m=\u001b[39m {\n\u001b[1;32m    929\u001b[0m     \u001b[38;5;124m\"\u001b[39m\u001b[38;5;124mmodel\u001b[39m\u001b[38;5;124m\"\u001b[39m: payload_model,\n\u001b[1;32m    930\u001b[0m     \u001b[38;5;124m\"\u001b[39m\u001b[38;5;124mfrequency_penalty\u001b[39m\u001b[38;5;124m\"\u001b[39m: frequency_penalty,\n\u001b[0;32m   (...)\u001b[0m\n\u001b[1;32m    947\u001b[0m     \u001b[38;5;241m*\u001b[39m\u001b[38;5;241m*\u001b[39m(extra_body \u001b[38;5;129;01mor\u001b[39;00m {}),\n\u001b[1;32m    948\u001b[0m }\n\u001b[1;32m    949\u001b[0m request_parameters \u001b[38;5;241m=\u001b[39m provider_helper\u001b[38;5;241m.\u001b[39mprepare_request(\n\u001b[1;32m    950\u001b[0m     inputs\u001b[38;5;241m=\u001b[39mmessages,\n\u001b[1;32m    951\u001b[0m     parameters\u001b[38;5;241m=\u001b[39mparameters,\n\u001b[0;32m   (...)\u001b[0m\n\u001b[1;32m    954\u001b[0m     api_key\u001b[38;5;241m=\u001b[39m\u001b[38;5;28mself\u001b[39m\u001b[38;5;241m.\u001b[39mtoken,\n\u001b[1;32m    955\u001b[0m )\n\u001b[0;32m--> 956\u001b[0m data \u001b[38;5;241m=\u001b[39m \u001b[38;5;28mself\u001b[39m\u001b[38;5;241m.\u001b[39m_inner_post(request_parameters, stream\u001b[38;5;241m=\u001b[39mstream)\n\u001b[1;32m    958\u001b[0m \u001b[38;5;28;01mif\u001b[39;00m stream:\n\u001b[1;32m    959\u001b[0m     \u001b[38;5;28;01mreturn\u001b[39;00m _stream_chat_completion_response(data)  \u001b[38;5;66;03m# type: ignore[arg-type]\u001b[39;00m\n",
      "File \u001b[0;32m/opt/anaconda3/envs/myagent/lib/python3.12/site-packages/huggingface_hub/inference/_client.py:321\u001b[0m, in \u001b[0;36mInferenceClient._inner_post\u001b[0;34m(self, request_parameters, stream)\u001b[0m\n\u001b[1;32m    318\u001b[0m         \u001b[38;5;28;01mraise\u001b[39;00m InferenceTimeoutError(\u001b[38;5;124mf\u001b[39m\u001b[38;5;124m\"\u001b[39m\u001b[38;5;124mInference call timed out: \u001b[39m\u001b[38;5;132;01m{\u001b[39;00mrequest_parameters\u001b[38;5;241m.\u001b[39murl\u001b[38;5;132;01m}\u001b[39;00m\u001b[38;5;124m\"\u001b[39m) \u001b[38;5;28;01mfrom\u001b[39;00m \u001b[38;5;21;01merror\u001b[39;00m  \u001b[38;5;66;03m# type: ignore\u001b[39;00m\n\u001b[1;32m    320\u001b[0m \u001b[38;5;28;01mtry\u001b[39;00m:\n\u001b[0;32m--> 321\u001b[0m     hf_raise_for_status(response)\n\u001b[1;32m    322\u001b[0m     \u001b[38;5;28;01mreturn\u001b[39;00m response\u001b[38;5;241m.\u001b[39miter_lines() \u001b[38;5;28;01mif\u001b[39;00m stream \u001b[38;5;28;01melse\u001b[39;00m response\u001b[38;5;241m.\u001b[39mcontent\n\u001b[1;32m    323\u001b[0m \u001b[38;5;28;01mexcept\u001b[39;00m HTTPError \u001b[38;5;28;01mas\u001b[39;00m error:\n",
      "File \u001b[0;32m/opt/anaconda3/envs/myagent/lib/python3.12/site-packages/huggingface_hub/utils/_http.py:481\u001b[0m, in \u001b[0;36mhf_raise_for_status\u001b[0;34m(response, endpoint_name)\u001b[0m\n\u001b[1;32m    477\u001b[0m     \u001b[38;5;28;01mraise\u001b[39;00m _format(HfHubHTTPError, message, response) \u001b[38;5;28;01mfrom\u001b[39;00m \u001b[38;5;21;01me\u001b[39;00m\n\u001b[1;32m    479\u001b[0m \u001b[38;5;66;03m# Convert `HTTPError` into a `HfHubHTTPError` to display request information\u001b[39;00m\n\u001b[1;32m    480\u001b[0m \u001b[38;5;66;03m# as well (request id and/or server error message)\u001b[39;00m\n\u001b[0;32m--> 481\u001b[0m \u001b[38;5;28;01mraise\u001b[39;00m _format(HfHubHTTPError, \u001b[38;5;28mstr\u001b[39m(e), response) \u001b[38;5;28;01mfrom\u001b[39;00m \u001b[38;5;21;01me\u001b[39;00m\n",
      "\u001b[0;31mHfHubHTTPError\u001b[0m: 402 Client Error: Payment Required for url: https://router.huggingface.co/together/v1/chat/completions (Request ID: Root=1-67cfb084-2aa8f7fe5989232d408893b5;fcde101d-6090-4a14-975c-39f4fcbe2d25)\n\nYou have exceeded your monthly included credits for Inference Providers. Pay-as-you-go above your included PRO quota will be available soon."
     ]
    }
   ],
   "source": [
    "manager_agent.run(\"\"\"\n",
    "Find all Batman filming locations in the world, calculate the time to transfer via cargo plane to here (we're in Gotham, 40.7128° N, 74.0060° W).\n",
    "Also give me some supercar factories with the same cargo plane transfer time. You need at least 6 points in total.\n",
    "Represent this as spatial map of the world, with the locations represented as scatter points with a color that depends on the travel time, and save it to saved_map.png!\n",
    "Never try to process strings using code: when you have a string to read, just print it and you'll see it.\n",
    "\"\"\")"
   ]
  },
  {
   "cell_type": "markdown",
   "id": "39c2ffdd-6cbd-4f04-b823-39f57bc96c22",
   "metadata": {},
   "source": [
    "I don’t know how that went in your run, but in mine, the manager agent skilfully divided tasks given to the web agent in 1. Search for Batman filming locations, then 2. Find supercar factories, before aggregating the lists and plotting the map.\n",
    "\n",
    "Let’s see what the map looks like by inspecting it directly from the agent state:"
   ]
  },
  {
   "cell_type": "code",
   "execution_count": 64,
   "id": "b6ddc70c-a2db-410b-b8c6-d52f0a1ddc27",
   "metadata": {},
   "outputs": [
    {
     "ename": "KeyError",
     "evalue": "'fig'",
     "output_type": "error",
     "traceback": [
      "\u001b[0;31m---------------------------------------------------------------------------\u001b[0m",
      "\u001b[0;31mKeyError\u001b[0m                                  Traceback (most recent call last)",
      "Cell \u001b[0;32mIn[64], line 1\u001b[0m\n\u001b[0;32m----> 1\u001b[0m manager_agent\u001b[38;5;241m.\u001b[39mpython_executor\u001b[38;5;241m.\u001b[39mstate[\u001b[38;5;124m\"\u001b[39m\u001b[38;5;124mfig\u001b[39m\u001b[38;5;124m\"\u001b[39m]\n",
      "\u001b[0;31mKeyError\u001b[0m: 'fig'"
     ]
    }
   ],
   "source": [
    "manager_agent.python_executor.state[\"fig\"]"
   ]
  },
  {
   "cell_type": "code",
   "execution_count": null,
   "id": "8806df36-ec12-402c-b96e-76d45294b881",
   "metadata": {},
   "outputs": [],
   "source": []
  }
 ],
 "metadata": {
  "kernelspec": {
   "display_name": "Python 3 (ipykernel)",
   "language": "python",
   "name": "python3"
  },
  "language_info": {
   "codemirror_mode": {
    "name": "ipython",
    "version": 3
   },
   "file_extension": ".py",
   "mimetype": "text/x-python",
   "name": "python",
   "nbconvert_exporter": "python",
   "pygments_lexer": "ipython3",
   "version": "3.12.9"
  }
 },
 "nbformat": 4,
 "nbformat_minor": 5
}
