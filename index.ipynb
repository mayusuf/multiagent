{
 "cells": [
  {
   "cell_type": "markdown",
   "id": "389ea68a-898e-42b5-8daa-5768e9b236b1",
   "metadata": {},
   "source": [
    "The reception is approaching! With your help, Alfred is now nearly finished with the preparations.\n",
    "\n",
    "But now there's a problem: the Batmobile has disappeared. Alfred needs to find a replacement, and find it quickly.\n",
    "\n",
    "Fortunately, a few biopics have been done on Bruce Wayne's life, so maybe Alfred could get a car left behind on one of the movie set, and re-engineer it up to modern standards, which certainly would include a full self-driving option.\n",
    "\n",
    "But this could be anywhere in the filming locations around the world - which could be numerous.\n",
    "\n",
    "So Alfred wants your help. Could you build an agent able to solve this task?\n",
    "\n",
    "> 👉 Find all Batman filming locations in the world, calculate the time to transfer via boat to there, and represent them on a map, with a color varying by boat transfer time. Also represent some supercar factories with the same boat transfer time.\n",
    "\n",
    "Let's build this!"
   ]
  },
  {
   "cell_type": "code",
   "execution_count": 1,
   "id": "8385c7ba-9612-4d32-a1d3-8fd03dc88754",
   "metadata": {},
   "outputs": [],
   "source": [
    "!pip install 'smolagents[litellm]' matplotlib geopandas shapely kaleido -q"
   ]
  },
  {
   "cell_type": "code",
   "execution_count": 2,
   "id": "2e088463-8450-436d-b04a-fe5c65300ef1",
   "metadata": {},
   "outputs": [
    {
     "data": {
      "application/vnd.jupyter.widget-view+json": {
       "model_id": "a00a10546beb4fb3b47cae90a4b5e482",
       "version_major": 2,
       "version_minor": 0
      },
      "text/plain": [
       "VBox(children=(HTML(value='<center> <img\\nsrc=https://huggingface.co/front/assets/huggingface_logo-noborder.sv…"
      ]
     },
     "metadata": {},
     "output_type": "display_data"
    }
   ],
   "source": [
    "from huggingface_hub import notebook_login\n",
    "\n",
    "notebook_login()"
   ]
  },
  {
   "cell_type": "code",
   "execution_count": 3,
   "id": "4b986de4-82c2-47b1-9160-481e50807d78",
   "metadata": {},
   "outputs": [
    {
     "name": "stdout",
     "output_type": "stream",
     "text": [
      "22.82\n"
     ]
    }
   ],
   "source": [
    "# We first make a tool to get the cargo plane transfer time.\n",
    "import math\n",
    "from typing import Optional, Tuple\n",
    "\n",
    "from smolagents import tool\n",
    "\n",
    "\n",
    "@tool\n",
    "def calculate_cargo_travel_time(\n",
    "    origin_coords: Tuple[float, float],\n",
    "    destination_coords: Tuple[float, float],\n",
    "    cruising_speed_kmh: Optional[float] = 750.0,  # Average speed for cargo planes\n",
    ") -> float:\n",
    "    \"\"\"\n",
    "    Calculate the travel time for a cargo plane between two points on Earth using great-circle distance.\n",
    "\n",
    "    Args:\n",
    "        origin_coords: Tuple of (latitude, longitude) for the starting point\n",
    "        destination_coords: Tuple of (latitude, longitude) for the destination\n",
    "        cruising_speed_kmh: Optional cruising speed in km/h (defaults to 750 km/h for typical cargo planes)\n",
    "\n",
    "    Returns:\n",
    "        float: The estimated travel time in hours\n",
    "\n",
    "    Example:\n",
    "        >>> # Chicago (41.8781° N, 87.6298° W) to Sydney (33.8688° S, 151.2093° E)\n",
    "        >>> result = calculate_cargo_travel_time((41.8781, -87.6298), (-33.8688, 151.2093))\n",
    "    \"\"\"\n",
    "\n",
    "    def to_radians(degrees: float) -> float:\n",
    "        return degrees * (math.pi / 180)\n",
    "\n",
    "    # Extract coordinates\n",
    "    lat1, lon1 = map(to_radians, origin_coords)\n",
    "    lat2, lon2 = map(to_radians, destination_coords)\n",
    "\n",
    "    # Earth's radius in kilometers\n",
    "    EARTH_RADIUS_KM = 6371.0\n",
    "\n",
    "    # Calculate great-circle distance using the haversine formula\n",
    "    dlon = lon2 - lon1\n",
    "    dlat = lat2 - lat1\n",
    "\n",
    "    a = (\n",
    "        math.sin(dlat / 2) ** 2\n",
    "        + math.cos(lat1) * math.cos(lat2) * math.sin(dlon / 2) ** 2\n",
    "    )\n",
    "    c = 2 * math.asin(math.sqrt(a))\n",
    "    distance = EARTH_RADIUS_KM * c\n",
    "\n",
    "    # Add 10% to account for non-direct routes and air traffic controls\n",
    "    actual_distance = distance * 1.1\n",
    "\n",
    "    # Calculate flight time\n",
    "    # Add 1 hour for takeoff and landing procedures\n",
    "    flight_time = (actual_distance / cruising_speed_kmh) + 1.0\n",
    "\n",
    "    # Format the results\n",
    "    return round(flight_time, 2)\n",
    "\n",
    "\n",
    "print(calculate_cargo_travel_time((41.8781, -87.6298), (-33.8688, 151.2093)))"
   ]
  },
  {
   "cell_type": "markdown",
   "id": "1060d070-9c31-4b4e-aa43-fef26a07d8ce",
   "metadata": {},
   "source": [
    "For the model provider, we use Together AI, one of the new [inference providers on the Hub](https://huggingface.co/blog/inference-providers)!\n",
    "\n",
    "Regarding the GoogleSearchTool: this requires either having setup env variable `SERPAPI_API_KEY` and passing `provider=\"serpapi\"` or having `SERPER_API_KEY` and passing `provider=serper`.\n",
    "\n",
    "If you don't have any Serp API provider setup, you can use `DuckDuckGoSearchTool` but beware that it has a rate limit."
   ]
  },
  {
   "cell_type": "code",
   "execution_count": 4,
   "id": "aaaadc15-28ae-4795-84ec-6d62549cc6db",
   "metadata": {},
   "outputs": [],
   "source": [
    "import os\n",
    "from PIL import Image\n",
    "from smolagents import CodeAgent, GoogleSearchTool, HfApiModel, VisitWebpageTool\n",
    "\n",
    "\n",
    "model = HfApiModel(model_id=\"Qwen/Qwen2.5-Coder-32B-Instruct\", provider=\"together\")"
   ]
  },
  {
   "cell_type": "markdown",
   "id": "98883e35-ad73-4a98-b6b9-a8652792ff0d",
   "metadata": {},
   "source": [
    "We can start with creating a baseline, simple agent to give us a simple report."
   ]
  },
  {
   "cell_type": "code",
   "execution_count": 5,
   "id": "fc40fff1-b65a-461c-b25b-94a5feca1469",
   "metadata": {},
   "outputs": [],
   "source": [
    "task = \"\"\"Find all Batman filming locations in the world, calculate the time to transfer via cargo plane to here (we're in Gotham, 40.7128° N, 74.0060° W), and return them to me as a pandas dataframe.\n",
    "Also give me some supercar factories with the same cargo plane transfer time.\"\"\""
   ]
  },
  {
   "cell_type": "code",
   "execution_count": 7,
   "id": "0e265712-72eb-48a1-8369-7bf31540a9e0",
   "metadata": {},
   "outputs": [],
   "source": [
    "# from google.colab import userdata\n",
    "# import os\n",
    "# os.environ[\"SERPAPI_API_KEY\"] = userdata.get('SERPAPI_API_KEY')"
   ]
  },
  {
   "cell_type": "code",
   "execution_count": null,
   "id": "2865accf-d915-4c4d-ba42-18f6757ba177",
   "metadata": {},
   "outputs": [],
   "source": []
  }
 ],
 "metadata": {
  "kernelspec": {
   "display_name": "Python 3 (ipykernel)",
   "language": "python",
   "name": "python3"
  },
  "language_info": {
   "codemirror_mode": {
    "name": "ipython",
    "version": 3
   },
   "file_extension": ".py",
   "mimetype": "text/x-python",
   "name": "python",
   "nbconvert_exporter": "python",
   "pygments_lexer": "ipython3",
   "version": "3.12.9"
  }
 },
 "nbformat": 4,
 "nbformat_minor": 5
}
